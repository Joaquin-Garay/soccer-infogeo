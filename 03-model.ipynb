{
 "cells": [
  {
   "metadata": {},
   "cell_type": "markdown",
   "source": [
    "# Model implementation\n",
    "\n",
    "Information Geometry Soft Clustering for Sport Analytics\n",
    "\n",
    "Joaquin Garay"
   ],
   "id": "1d68bea2064769d3"
  },
  {
   "metadata": {
    "collapsed": true,
    "ExecuteTime": {
     "end_time": "2025-10-08T20:21:56.881891Z",
     "start_time": "2025-10-08T20:21:56.866514Z"
    }
   },
   "cell_type": "code",
   "source": [
    "%load_ext autoreload\n",
    "%autoreload 2\n",
    "\n",
    "import os\n",
    "import time\n",
    "import tqdm\n",
    "import numpy as np\n",
    "import pandas as pd\n",
    "\n",
    "import vis\n",
    "import softclustering as sc\n",
    "\n",
    "from sklearn.neighbors import LocalOutlierFactor\n",
    "import matplotlib.pyplot as plt\n",
    "import socceraction.spadl as spadl\n"
   ],
   "id": "initial_id",
   "outputs": [
    {
     "name": "stdout",
     "output_type": "stream",
     "text": [
      "The autoreload extension is already loaded. To reload it, use:\n",
      "  %reload_ext autoreload\n"
     ]
    }
   ],
   "execution_count": 124
  },
  {
   "metadata": {},
   "cell_type": "markdown",
   "source": "### Data Preparation",
   "id": "e4e0a9ff891dabc4"
  },
  {
   "metadata": {},
   "cell_type": "markdown",
   "source": "Concatenate actions of all games in one DataFrame.",
   "id": "228a4a3ac4e36d4a"
  },
  {
   "metadata": {
    "ExecuteTime": {
     "end_time": "2025-10-08T20:21:57.262298Z",
     "start_time": "2025-10-08T20:21:56.888968Z"
    }
   },
   "cell_type": "code",
   "source": [
    "datafolder = \"data\"\n",
    "fifa2018h5 = os.path.join(datafolder, \"spadl-fifa2018.h5\")\n",
    "games = pd.read_hdf(fifa2018h5, key=\"games\")\n",
    "with pd.HDFStore(fifa2018h5) as store:\n",
    "    actions = []  #list of DataFrames\n",
    "    for game in tqdm.tqdm(games.itertuples()):\n",
    "        game_action = store[f\"actions/game_{game.game_id}\"]\n",
    "        game_action = spadl.play_left_to_right(game_action, game.home_team_id)\n",
    "        game_action[\"is_home\"] = game_action[\"team_id\"] == game.home_team_id\n",
    "        actions.append(game_action)\n",
    "    actions = pd.concat(actions)\n",
    "    actions.drop(\"original_event_id\", axis=1, inplace=True)\n",
    "    actions = pd.merge(actions, spadl.config.actiontypes_df(), how=\"left\")"
   ],
   "id": "71934fdfa2402fa6",
   "outputs": [
    {
     "name": "stderr",
     "output_type": "stream",
     "text": [
      "64it [00:00, 192.33it/s]\n"
     ]
    }
   ],
   "execution_count": 125
  },
  {
   "metadata": {
    "ExecuteTime": {
     "end_time": "2025-10-08T20:21:57.346271Z",
     "start_time": "2025-10-08T20:21:57.273594Z"
    }
   },
   "cell_type": "code",
   "source": [
    "def consolidate(actions):\n",
    "    #actions.fillna(0, inplace=True)\n",
    "\n",
    "    #Consolidate corner_short and corner_crossed\n",
    "    corner_idx = actions.type_name.str.contains(\"corner\")\n",
    "    actions[\"type_name\"] = actions[\"type_name\"].mask(corner_idx, \"corner\")\n",
    "\n",
    "    #Consolidate freekick_short, freekick_crossed, and shot_freekick\n",
    "    freekick_idx = actions.type_name.str.contains(\"freekick\")\n",
    "    actions[\"type_name\"] = actions[\"type_name\"].mask(freekick_idx, \"freekick\")\n",
    "\n",
    "    #Consolidate keeper_claim, keeper_punch, keeper_save, keeper_pick_up\n",
    "    keeper_idx = actions.type_name.str.contains(\"keeper\")\n",
    "    actions[\"type_name\"] = actions[\"type_name\"].mask(keeper_idx, \"keeper_action\")\n",
    "\n",
    "    actions[\"start_x\"] = actions[\"start_x\"].mask(actions.type_name == \"shot_penalty\", 94.5)\n",
    "    actions[\"start_y\"] = actions[\"start_y\"].mask(actions.type_name == \"shot_penalty\", 34)\n",
    "\n",
    "    return actions\n",
    "\n",
    "\n",
    "actions = consolidate(actions)"
   ],
   "id": "533326ea9e5b5f1c",
   "outputs": [],
   "execution_count": 126
  },
  {
   "metadata": {
    "ExecuteTime": {
     "end_time": "2025-10-08T20:21:57.378679Z",
     "start_time": "2025-10-08T20:21:57.367192Z"
    }
   },
   "cell_type": "code",
   "source": [
    "#Actions of Team France matches.\n",
    "len(actions[actions[\"team_id\"] == 771])"
   ],
   "id": "1791e14d37fb5174",
   "outputs": [
    {
     "data": {
      "text/plain": [
       "6829"
      ]
     },
     "execution_count": 127,
     "metadata": {},
     "output_type": "execute_result"
    }
   ],
   "execution_count": 127
  },
  {
   "metadata": {
    "ExecuteTime": {
     "end_time": "2025-10-08T20:21:57.401936Z",
     "start_time": "2025-10-08T20:21:57.385316Z"
    }
   },
   "cell_type": "code",
   "source": "actions.groupby(\"type_name\").size()",
   "id": "4eb9f50ea571275d",
   "outputs": [
    {
     "data": {
      "text/plain": [
       "type_name\n",
       "bad_touch         1547\n",
       "clearance         2074\n",
       "corner             558\n",
       "cross             1305\n",
       "dribble          52731\n",
       "foul              1876\n",
       "freekick          1272\n",
       "goalkick           677\n",
       "interception      1681\n",
       "keeper_action      584\n",
       "pass             56438\n",
       "shot              1556\n",
       "shot_penalty        68\n",
       "tackle            1830\n",
       "take_on           2109\n",
       "throw_in          2178\n",
       "dtype: int64"
      ]
     },
     "execution_count": 128,
     "metadata": {},
     "output_type": "execute_result"
    }
   ],
   "execution_count": 128
  },
  {
   "metadata": {},
   "cell_type": "markdown",
   "source": [
    "As suggested in SoccerMix, add noise on the starting and ending locations, but only on those actions that we can visually note a predefined pattern.\n",
    "* *Add noise in both start and end locations*:\n",
    "    * Cross\n",
    "    * Shot\n",
    "    * Dribble\n",
    "    * Pass\n",
    "    * Keeper_action\n",
    "* *Only on start locations*:\n",
    "    * Clearance\n",
    "    * Goal kick\n",
    "* *Only on end locations*:\n",
    "    * Throw_in\n",
    "    * Corner\n",
    "    * Freekick\n",
    "    * Shot_penalty"
   ],
   "id": "f365f4a57e669f5c"
  },
  {
   "metadata": {
    "ExecuteTime": {
     "end_time": "2025-10-08T20:21:57.520531Z",
     "start_time": "2025-10-08T20:21:57.486848Z"
    }
   },
   "cell_type": "code",
   "source": [
    "def add_noise(actions):\n",
    "    # Start locations\n",
    "    start_list = [\"cross\", \"shot\", \"dribble\", \"pass\", \"keeper_action\", \"clearance\", \"goalkick\"]\n",
    "    mask = actions[\"type_name\"].isin(start_list)\n",
    "    noise = np.random.normal(0, 0.5, size=actions.loc[mask, [\"start_x\", \"start_y\"]].shape)\n",
    "    actions.loc[mask, [\"start_x\", \"start_y\"]] += noise\n",
    "\n",
    "    # End locations\n",
    "    end_list = [\"cross\", \"shot\", \"dribble\", \"pass\", \"keeper_action\", \"throw_in\", \"corner\", \"freekick\", \"shot_penalty\"]\n",
    "    mask = actions[\"type_name\"].isin(end_list)\n",
    "    noise = np.random.normal(0, 0.5, size=actions.loc[mask, [\"end_x\", \"end_y\"]].shape)\n",
    "    actions.loc[mask, [\"end_x\", \"end_y\"]] += noise\n",
    "\n",
    "    return actions\n",
    "\n",
    "\n",
    "actions = add_noise(actions)"
   ],
   "id": "9b595325cb6d6b7b",
   "outputs": [],
   "execution_count": 129
  },
  {
   "metadata": {
    "ExecuteTime": {
     "end_time": "2025-10-08T20:21:57.548624Z",
     "start_time": "2025-10-08T20:21:57.538468Z"
    }
   },
   "cell_type": "code",
   "source": [
    "# # display event locations with noise\n",
    "# corrected_actions = [\"cross\", \"shot\", \"keeper_action\", \"clearance\", \"goalkick\",\"corner\", \"freekick\", \"shot_penalty\"]\n",
    "# for actiontype in corrected_actions:\n",
    "#     actions[actions.type_name == actiontype].plot.scatter(\n",
    "#         x=\"start_x\",\n",
    "#         y=\"start_y\",\n",
    "#         title = f\"Start Location: {actiontype}\",\n",
    "#         figsize = (6,4)\n",
    "#     )\n",
    "#     plt.show()\n",
    "#     actions[actions.type_name == actiontype].plot.scatter(\n",
    "#         x=\"end_x\",\n",
    "#         y=\"end_y\",\n",
    "#         title = f\"End Location: {actiontype}\",\n",
    "#         figsize = (6,4)\n",
    "#     )\n",
    "#     plt.show()"
   ],
   "id": "96ef05afa181356c",
   "outputs": [],
   "execution_count": 130
  },
  {
   "metadata": {
    "ExecuteTime": {
     "end_time": "2025-10-08T20:21:58.703881Z",
     "start_time": "2025-10-08T20:21:57.566734Z"
    }
   },
   "cell_type": "code",
   "source": [
    "def remove_outliers(actions, verbose=False):\n",
    "    X = actions[[\"start_x\",\"start_y\",\"end_x\",\"end_y\"]].to_numpy(dtype=float)\n",
    "    inliers = LocalOutlierFactor(contamination=\"auto\").fit_predict(X)\n",
    "    if verbose:\n",
    "        print(f\"Remove {(inliers==-1).sum()} out of {X.shape[0]} datapoints.\")\n",
    "    return actions[inliers==1]\n",
    "\n",
    "actions = remove_outliers(actions,True)"
   ],
   "id": "26174dde29b6c0a9",
   "outputs": [
    {
     "name": "stdout",
     "output_type": "stream",
     "text": [
      "Remove 543 out of 128484 datapoints.\n"
     ]
    }
   ],
   "execution_count": 131
  },
  {
   "metadata": {},
   "cell_type": "markdown",
   "source": "### Features",
   "id": "2045eff5f67124b5"
  },
  {
   "metadata": {},
   "cell_type": "markdown",
   "source": [
    "Compute the angle of the direction of the action with respect with the x-axis (pitch's length) a\n",
    "$$\\tan \\theta = \\frac{y_{end} - y_{start}}{x_{end} - x_{start}}$$"
   ],
   "id": "8a99a2a13347dd0a"
  },
  {
   "metadata": {
    "ExecuteTime": {
     "end_time": "2025-10-08T20:21:58.748305Z",
     "start_time": "2025-10-08T20:21:58.715442Z"
    }
   },
   "cell_type": "code",
   "source": [
    "actions[\"angle\"] = np.arctan2(actions.end_y - actions.start_y, actions.end_x - actions.start_x)\n",
    "actions[\"cos_angle\"] = np.cos(actions[\"angle\"])\n",
    "actions[\"sin_angle\"] = np.sin(actions[\"angle\"])\n",
    "actions[[\"angle\", \"cos_angle\", \"sin_angle\"]].describe()"
   ],
   "id": "69c78aee6b06747",
   "outputs": [
    {
     "data": {
      "text/plain": [
       "               angle      cos_angle      sin_angle\n",
       "count  127941.000000  127941.000000  127941.000000\n",
       "mean       -0.007115       0.277671      -0.005023\n",
       "std         1.499529       0.680168       0.678420\n",
       "min        -3.141526      -1.000000      -1.000000\n",
       "25%        -1.094808      -0.270129      -0.663318\n",
       "50%         0.000000       0.472037       0.000000\n",
       "75%         1.063130       0.926809       0.646551\n",
       "max         3.141552       1.000000       1.000000"
      ],
      "text/html": [
       "<div>\n",
       "<style scoped>\n",
       "    .dataframe tbody tr th:only-of-type {\n",
       "        vertical-align: middle;\n",
       "    }\n",
       "\n",
       "    .dataframe tbody tr th {\n",
       "        vertical-align: top;\n",
       "    }\n",
       "\n",
       "    .dataframe thead th {\n",
       "        text-align: right;\n",
       "    }\n",
       "</style>\n",
       "<table border=\"1\" class=\"dataframe\">\n",
       "  <thead>\n",
       "    <tr style=\"text-align: right;\">\n",
       "      <th></th>\n",
       "      <th>angle</th>\n",
       "      <th>cos_angle</th>\n",
       "      <th>sin_angle</th>\n",
       "    </tr>\n",
       "  </thead>\n",
       "  <tbody>\n",
       "    <tr>\n",
       "      <th>count</th>\n",
       "      <td>127941.000000</td>\n",
       "      <td>127941.000000</td>\n",
       "      <td>127941.000000</td>\n",
       "    </tr>\n",
       "    <tr>\n",
       "      <th>mean</th>\n",
       "      <td>-0.007115</td>\n",
       "      <td>0.277671</td>\n",
       "      <td>-0.005023</td>\n",
       "    </tr>\n",
       "    <tr>\n",
       "      <th>std</th>\n",
       "      <td>1.499529</td>\n",
       "      <td>0.680168</td>\n",
       "      <td>0.678420</td>\n",
       "    </tr>\n",
       "    <tr>\n",
       "      <th>min</th>\n",
       "      <td>-3.141526</td>\n",
       "      <td>-1.000000</td>\n",
       "      <td>-1.000000</td>\n",
       "    </tr>\n",
       "    <tr>\n",
       "      <th>25%</th>\n",
       "      <td>-1.094808</td>\n",
       "      <td>-0.270129</td>\n",
       "      <td>-0.663318</td>\n",
       "    </tr>\n",
       "    <tr>\n",
       "      <th>50%</th>\n",
       "      <td>0.000000</td>\n",
       "      <td>0.472037</td>\n",
       "      <td>0.000000</td>\n",
       "    </tr>\n",
       "    <tr>\n",
       "      <th>75%</th>\n",
       "      <td>1.063130</td>\n",
       "      <td>0.926809</td>\n",
       "      <td>0.646551</td>\n",
       "    </tr>\n",
       "    <tr>\n",
       "      <th>max</th>\n",
       "      <td>3.141552</td>\n",
       "      <td>1.000000</td>\n",
       "      <td>1.000000</td>\n",
       "    </tr>\n",
       "  </tbody>\n",
       "</table>\n",
       "</div>"
      ]
     },
     "execution_count": 132,
     "metadata": {},
     "output_type": "execute_result"
    }
   ],
   "execution_count": 132
  },
  {
   "metadata": {},
   "cell_type": "markdown",
   "source": [
    "### First run\n",
    "\n",
    "Let's run a first toy implementation using throw-ins of team France."
   ],
   "id": "d5ac5fac97f7d247"
  },
  {
   "metadata": {
    "ExecuteTime": {
     "end_time": "2025-10-08T20:21:58.794798Z",
     "start_time": "2025-10-08T20:21:58.778562Z"
    }
   },
   "cell_type": "code",
   "source": [
    "mask = (actions[\"type_name\"]==\"dribble\") & (actions[\"team_id\"]==771)\n",
    "loc_data = actions[mask][[\"start_x\", \"start_y\"]]\n",
    "dir_data = actions[mask][[\"cos_angle\", \"sin_angle\"]]"
   ],
   "id": "2877a86b1aed5203",
   "outputs": [],
   "execution_count": 133
  },
  {
   "metadata": {
    "ExecuteTime": {
     "end_time": "2025-10-08T20:21:58.871760Z",
     "start_time": "2025-10-08T20:21:58.813200Z"
    }
   },
   "cell_type": "code",
   "source": [
    "loc_data.plot.scatter(\n",
    "        x=\"start_x\",\n",
    "        y=\"start_y\",\n",
    "        title = f\"Start Location\",\n",
    "        figsize = (6,4)\n",
    "    )\n",
    "plt.show()"
   ],
   "id": "101cdb47ff5e0db9",
   "outputs": [
    {
     "data": {
      "text/plain": [
       "<Figure size 600x400 with 1 Axes>"
      ],
      "image/png": "[encoded data removed]"
     },
     "metadata": {},
     "output_type": "display_data"
    }
   ],
   "execution_count": 134
  },
  {
   "metadata": {
    "ExecuteTime": {
     "end_time": "2025-10-08T20:21:59.759072Z",
     "start_time": "2025-10-08T20:21:58.878331Z"
    }
   },
   "cell_type": "code",
   "source": [
    "# Gaussian clusters\n",
    "k_gauss = 4\n",
    "all_results = []\n",
    "\n",
    "for init in [\"k-means++\", \"k-means\", \"random\", \"random_from_data\"]:\n",
    "    times = {}\n",
    "    results = {}\n",
    "    models = {}\n",
    "\n",
    "    for case in [\"classic\", \"bregman\"]:\n",
    "        loc_model = sc.MixtureModel(\n",
    "            [sc.MultivariateGaussian() for _ in range(k_gauss)],\n",
    "            init=init\n",
    "        )\n",
    "        start = time.time()\n",
    "        results[case] = loc_model.fit(loc_data, verbose=False, case=case)\n",
    "        times[case] = time.time() - start\n",
    "        models[case] = loc_model\n",
    "\n",
    "        all_results.append({\n",
    "            \"initialization\": init,\n",
    "            \"case\": case,\n",
    "            \"log_likelihood\": results[case][-1],\n",
    "            \"time_sec\": times[case],\n",
    "            \"ch_score\": sc.kl_ch_score(loc_data, models[case])\n",
    "        })\n",
    "\n",
    "loc_results = pd.DataFrame(all_results)\n",
    "loc_results"
   ],
   "id": "b462832fe28249fe",
   "outputs": [
    {
     "data": {
      "text/plain": [
       "     initialization     case  log_likelihood  time_sec  ch_score\n",
       "0         k-means++  classic       -8.760359  0.111542  0.044361\n",
       "1         k-means++  bregman       -8.760359  0.079531  0.044361\n",
       "2           k-means  classic       -8.688381  0.217940  0.050984\n",
       "3           k-means  bregman       -8.688381  0.301002  0.050984\n",
       "4            random  classic       -9.022387  0.008618  0.000008\n",
       "5            random  bregman       -9.022387  0.004677  0.000008\n",
       "6  random_from_data  classic       -8.777999  0.052995  0.040842\n",
       "7  random_from_data  bregman       -8.777999  0.056131  0.040842"
      ],
      "text/html": [
       "<div>\n",
       "<style scoped>\n",
       "    .dataframe tbody tr th:only-of-type {\n",
       "        vertical-align: middle;\n",
       "    }\n",
       "\n",
       "    .dataframe tbody tr th {\n",
       "        vertical-align: top;\n",
       "    }\n",
       "\n",
       "    .dataframe thead th {\n",
       "        text-align: right;\n",
       "    }\n",
       "</style>\n",
       "<table border=\"1\" class=\"dataframe\">\n",
       "  <thead>\n",
       "    <tr style=\"text-align: right;\">\n",
       "      <th></th>\n",
       "      <th>initialization</th>\n",
       "      <th>case</th>\n",
       "      <th>log_likelihood</th>\n",
       "      <th>time_sec</th>\n",
       "      <th>ch_score</th>\n",
       "    </tr>\n",
       "  </thead>\n",
       "  <tbody>\n",
       "    <tr>\n",
       "      <th>0</th>\n",
       "      <td>k-means++</td>\n",
       "      <td>classic</td>\n",
       "      <td>-8.760359</td>\n",
       "      <td>0.111542</td>\n",
       "      <td>0.044361</td>\n",
       "    </tr>\n",
       "    <tr>\n",
       "      <th>1</th>\n",
       "      <td>k-means++</td>\n",
       "      <td>bregman</td>\n",
       "      <td>-8.760359</td>\n",
       "      <td>0.079531</td>\n",
       "      <td>0.044361</td>\n",
       "    </tr>\n",
       "    <tr>\n",
       "      <th>2</th>\n",
       "      <td>k-means</td>\n",
       "      <td>classic</td>\n",
       "      <td>-8.688381</td>\n",
       "      <td>0.217940</td>\n",
       "      <td>0.050984</td>\n",
       "    </tr>\n",
       "    <tr>\n",
       "      <th>3</th>\n",
       "      <td>k-means</td>\n",
       "      <td>bregman</td>\n",
       "      <td>-8.688381</td>\n",
       "      <td>0.301002</td>\n",
       "      <td>0.050984</td>\n",
       "    </tr>\n",
       "    <tr>\n",
       "      <th>4</th>\n",
       "      <td>random</td>\n",
       "      <td>classic</td>\n",
       "      <td>-9.022387</td>\n",
       "      <td>0.008618</td>\n",
       "      <td>0.000008</td>\n",
       "    </tr>\n",
       "    <tr>\n",
       "      <th>5</th>\n",
       "      <td>random</td>\n",
       "      <td>bregman</td>\n",
       "      <td>-9.022387</td>\n",
       "      <td>0.004677</td>\n",
       "      <td>0.000008</td>\n",
       "    </tr>\n",
       "    <tr>\n",
       "      <th>6</th>\n",
       "      <td>random_from_data</td>\n",
       "      <td>classic</td>\n",
       "      <td>-8.777999</td>\n",
       "      <td>0.052995</td>\n",
       "      <td>0.040842</td>\n",
       "    </tr>\n",
       "    <tr>\n",
       "      <th>7</th>\n",
       "      <td>random_from_data</td>\n",
       "      <td>bregman</td>\n",
       "      <td>-8.777999</td>\n",
       "      <td>0.056131</td>\n",
       "      <td>0.040842</td>\n",
       "    </tr>\n",
       "  </tbody>\n",
       "</table>\n",
       "</div>"
      ]
     },
     "execution_count": 135,
     "metadata": {},
     "output_type": "execute_result"
    }
   ],
   "execution_count": 135
  },
  {
   "metadata": {
    "ExecuteTime": {
     "end_time": "2025-10-08T20:21:59.841973Z",
     "start_time": "2025-10-08T20:21:59.826611Z"
    }
   },
   "cell_type": "code",
   "source": [
    "for case in [\"classic\",\"bregman\"]:\n",
    "    print(f\"{models[case]}\\n\")"
   ],
   "id": "dc3c0b6c6cd588cc",
   "outputs": [
    {
     "name": "stdout",
     "output_type": "stream",
     "text": [
      "MixtureModel(n_components=4)\n",
      "  ├─ (0) w=0.179  MultivariateGaussian(d=2, mean=[61.417  4.358], cov=[[341.673  -1.051], [-1.051  8.178]])\n",
      "  ├─ (1) w=0.176  MultivariateGaussian(d=2, mean=[61.639 62.202], cov=[[359.566   5.865], [ 5.865 16.975]])\n",
      "  ├─ (2) w=0.544  MultivariateGaussian(d=2, mean=[43.119 31.731], cov=[[405.407 -53.46 ], [-53.46  235.047]])\n",
      "  └─ (3) w=0.101  MultivariateGaussian(d=2, mean=[81.011 34.454], cov=[[102.766   1.056], [  1.056 289.182]])\n",
      "\n",
      "MixtureModel(n_components=4)\n",
      "  ├─ (0) w=0.179  MultivariateGaussian(d=2, mean=[61.417  4.358], cov=[[341.673  -1.051], [-1.051  8.178]])\n",
      "  ├─ (1) w=0.176  MultivariateGaussian(d=2, mean=[61.639 62.202], cov=[[359.566   5.865], [ 5.865 16.975]])\n",
      "  ├─ (2) w=0.544  MultivariateGaussian(d=2, mean=[43.119 31.731], cov=[[405.407 -53.46 ], [-53.46  235.047]])\n",
      "  └─ (3) w=0.101  MultivariateGaussian(d=2, mean=[81.011 34.454], cov=[[102.766   1.056], [  1.056 289.182]])\n",
      "\n"
     ]
    }
   ],
   "execution_count": 136
  },
  {
   "metadata": {
    "ExecuteTime": {
     "end_time": "2025-10-08T20:21:59.922392Z",
     "start_time": "2025-10-08T20:21:59.875637Z"
    }
   },
   "cell_type": "code",
   "source": "vis.show_location_model(models[\"classic\"])",
   "id": "e44d25a5e20bfd85",
   "outputs": [
    {
     "data": {
      "text/plain": [
       "<Figure size 600x450 with 1 Axes>"
      ],
      "image/png": "[encoded data removed]"
     },
     "metadata": {},
     "output_type": "display_data"
    }
   ],
   "execution_count": 137
  },
  {
   "metadata": {
    "ExecuteTime": {
     "end_time": "2025-10-08T20:22:00.307408Z",
     "start_time": "2025-10-08T20:21:59.933613Z"
    }
   },
   "cell_type": "code",
   "source": [
    "# Von Mises clusters\n",
    "k_vm = 3\n",
    "all_results_vm = []\n",
    "\n",
    "\n",
    "for init in [\"k-means\", \"random\", \"random_from_data\",\"k-means++\"]:\n",
    "    times = {}\n",
    "    results = {}\n",
    "    models = {}\n",
    "\n",
    "    for case in [\"classic\", \"approximation\", \"bregman\"]:\n",
    "        dir_model = sc.MixtureModel(\n",
    "            [sc.VonMises() for _ in range(k_vm)],\n",
    "            init=init\n",
    "        )\n",
    "        start = time.time()\n",
    "        results[case] = dir_model.fit(dir_data, verbose=False, case=case)\n",
    "        times[case] = time.time() - start\n",
    "        models[case] = dir_model\n",
    "\n",
    "        all_results_vm.append({\n",
    "            \"initialization\": init,\n",
    "            \"case\": case,\n",
    "            \"log_likelihood\": results[case][-1],\n",
    "            \"time_sec\": times[case],\n",
    "            \"ch_score\": sc.kl_ch_score(dir_data, models[case])\n",
    "        })\n",
    "\n",
    "dir_results = pd.DataFrame(all_results_vm)\n",
    "dir_results\n"
   ],
   "id": "6f6b97de15e1de30",
   "outputs": [
    {
     "data": {
      "text/plain": [
       "      initialization           case  log_likelihood  time_sec  ch_score\n",
       "0            k-means        classic       -1.783064  0.132177  0.108301\n",
       "1            k-means  approximation       -1.784870  0.044840  0.137090\n",
       "2            k-means        bregman       -1.782939  0.044308  0.104584\n",
       "3             random        classic       -1.784862  0.005618  0.000026\n",
       "4             random  approximation       -1.784862  0.003444  0.000026\n",
       "5             random        bregman       -1.784862  0.003910  0.000026\n",
       "6   random_from_data        classic       -1.782319  0.028611  0.056626\n",
       "7   random_from_data  approximation       -1.783017  0.013414  0.097373\n",
       "8   random_from_data        bregman       -1.782422  0.012447  0.084044\n",
       "9          k-means++        classic       -1.783428  0.021746  0.025382\n",
       "10         k-means++  approximation       -1.785192  0.020201  0.101953\n",
       "11         k-means++        bregman       -1.784001  0.016516  0.072841"
      ],
      "text/html": [
       "<div>\n",
       "<style scoped>\n",
       "    .dataframe tbody tr th:only-of-type {\n",
       "        vertical-align: middle;\n",
       "    }\n",
       "\n",
       "    .dataframe tbody tr th {\n",
       "        vertical-align: top;\n",
       "    }\n",
       "\n",
       "    .dataframe thead th {\n",
       "        text-align: right;\n",
       "    }\n",
       "</style>\n",
       "<table border=\"1\" class=\"dataframe\">\n",
       "  <thead>\n",
       "    <tr style=\"text-align: right;\">\n",
       "      <th></th>\n",
       "      <th>initialization</th>\n",
       "      <th>case</th>\n",
       "      <th>log_likelihood</th>\n",
       "      <th>time_sec</th>\n",
       "      <th>ch_score</th>\n",
       "    </tr>\n",
       "  </thead>\n",
       "  <tbody>\n",
       "    <tr>\n",
       "      <th>0</th>\n",
       "      <td>k-means</td>\n",
       "      <td>classic</td>\n",
       "      <td>-1.783064</td>\n",
       "      <td>0.132177</td>\n",
       "      <td>0.108301</td>\n",
       "    </tr>\n",
       "    <tr>\n",
       "      <th>1</th>\n",
       "      <td>k-means</td>\n",
       "      <td>approximation</td>\n",
       "      <td>-1.784870</td>\n",
       "      <td>0.044840</td>\n",
       "      <td>0.137090</td>\n",
       "    </tr>\n",
       "    <tr>\n",
       "      <th>2</th>\n",
       "      <td>k-means</td>\n",
       "      <td>bregman</td>\n",
       "      <td>-1.782939</td>\n",
       "      <td>0.044308</td>\n",
       "      <td>0.104584</td>\n",
       "    </tr>\n",
       "    <tr>\n",
       "      <th>3</th>\n",
       "      <td>random</td>\n",
       "      <td>classic</td>\n",
       "      <td>-1.784862</td>\n",
       "      <td>0.005618</td>\n",
       "      <td>0.000026</td>\n",
       "    </tr>\n",
       "    <tr>\n",
       "      <th>4</th>\n",
       "      <td>random</td>\n",
       "      <td>approximation</td>\n",
       "      <td>-1.784862</td>\n",
       "      <td>0.003444</td>\n",
       "      <td>0.000026</td>\n",
       "    </tr>\n",
       "    <tr>\n",
       "      <th>5</th>\n",
       "      <td>random</td>\n",
       "      <td>bregman</td>\n",
       "      <td>-1.784862</td>\n",
       "      <td>0.003910</td>\n",
       "      <td>0.000026</td>\n",
       "    </tr>\n",
       "    <tr>\n",
       "      <th>6</th>\n",
       "      <td>random_from_data</td>\n",
       "      <td>classic</td>\n",
       "      <td>-1.782319</td>\n",
       "      <td>0.028611</td>\n",
       "      <td>0.056626</td>\n",
       "    </tr>\n",
       "    <tr>\n",
       "      <th>7</th>\n",
       "      <td>random_from_data</td>\n",
       "      <td>approximation</td>\n",
       "      <td>-1.783017</td>\n",
       "      <td>0.013414</td>\n",
       "      <td>0.097373</td>\n",
       "    </tr>\n",
       "    <tr>\n",
       "      <th>8</th>\n",
       "      <td>random_from_data</td>\n",
       "      <td>bregman</td>\n",
       "      <td>-1.782422</td>\n",
       "      <td>0.012447</td>\n",
       "      <td>0.084044</td>\n",
       "    </tr>\n",
       "    <tr>\n",
       "      <th>9</th>\n",
       "      <td>k-means++</td>\n",
       "      <td>classic</td>\n",
       "      <td>-1.783428</td>\n",
       "      <td>0.021746</td>\n",
       "      <td>0.025382</td>\n",
       "    </tr>\n",
       "    <tr>\n",
       "      <th>10</th>\n",
       "      <td>k-means++</td>\n",
       "      <td>approximation</td>\n",
       "      <td>-1.785192</td>\n",
       "      <td>0.020201</td>\n",
       "      <td>0.101953</td>\n",
       "    </tr>\n",
       "    <tr>\n",
       "      <th>11</th>\n",
       "      <td>k-means++</td>\n",
       "      <td>bregman</td>\n",
       "      <td>-1.784001</td>\n",
       "      <td>0.016516</td>\n",
       "      <td>0.072841</td>\n",
       "    </tr>\n",
       "  </tbody>\n",
       "</table>\n",
       "</div>"
      ]
     },
     "execution_count": 138,
     "metadata": {},
     "output_type": "execute_result"
    }
   ],
   "execution_count": 138
  },
  {
   "metadata": {
    "ExecuteTime": {
     "end_time": "2025-10-08T20:22:00.350021Z",
     "start_time": "2025-10-08T20:22:00.338859Z"
    }
   },
   "cell_type": "code",
   "source": [
    "for case in [\"classic\",\"approximation\",\"bregman\"]:\n",
    "    print(f\"{models[case]}\\n\")"
   ],
   "id": "9192aa6ab975c28e",
   "outputs": [
    {
     "name": "stdout",
     "output_type": "stream",
     "text": [
      "MixtureModel(n_components=3)\n",
      "  ├─ (0) w=0.440  VonMises(loc=-0.5 deg, kappa=0.687)\n",
      "  ├─ (1) w=0.459  VonMises(loc=-0.5 deg, kappa=0.687)\n",
      "  └─ (2) w=0.101  VonMises(loc=171.7 deg, kappa=1.681)\n",
      "\n",
      "MixtureModel(n_components=3)\n",
      "  ├─ (0) w=0.367  VonMises(loc=-58.9 deg, kappa=1.320)\n",
      "  ├─ (1) w=0.390  VonMises(loc=23.6 deg, kappa=1.930)\n",
      "  └─ (2) w=0.243  VonMises(loc=148.5 deg, kappa=1.395)\n",
      "\n",
      "MixtureModel(n_components=3)\n",
      "  ├─ (0) w=0.368  VonMises(loc=-52.3 deg, kappa=1.124)\n",
      "  ├─ (1) w=0.418  VonMises(loc=24.3 deg, kappa=1.435)\n",
      "  └─ (2) w=0.214  VonMises(loc=154.3 deg, kappa=1.263)\n",
      "\n"
     ]
    }
   ],
   "execution_count": 139
  },
  {
   "metadata": {},
   "cell_type": "markdown",
   "source": [
    "### Two layer scheme\n",
    "\n",
    "Running a Gaussian mixture model to get location clusters. Then, for each one of the location clusters, run a von Mises mixture model using again all dataset, but for this second step, each datapoint is weighted by the posteriors of the location mixture model."
   ],
   "id": "2cb6861372d8efe7"
  },
  {
   "metadata": {
    "ExecuteTime": {
     "end_time": "2025-10-08T20:35:40.862016Z",
     "start_time": "2025-10-08T20:35:40.342482Z"
    }
   },
   "cell_type": "code",
   "source": [
    "K_loc = 10\n",
    "K_dir = [1 for _ in range(K_loc)]\n",
    "init = \"k-means++\"\n",
    "loc_mixture = sc.MixtureModel(\n",
    "            [sc.MultivariateGaussian() for _ in range(K_loc)],\n",
    "            init=init\n",
    "        )\n",
    "dir_mixtures = [ sc.MixtureModel(\n",
    "                    [sc.VonMises() for _ in range(K_dir[j])],\n",
    "                    init=init\n",
    "                    )\n",
    "                 for j in range(K_loc)]\n",
    "\n",
    "model = sc.TwoLayerScheme(loc_mixture,\n",
    "                       dir_mixtures)\n",
    "\n",
    "model.fit(loc_data, dir_data)"
   ],
   "id": "d9adfe641996539a",
   "outputs": [],
   "execution_count": 158
  },
  {
   "metadata": {
    "ExecuteTime": {
     "end_time": "2025-10-08T20:35:43.131319Z",
     "start_time": "2025-10-08T20:35:43.090781Z"
    }
   },
   "cell_type": "code",
   "source": "model.bic_score(loc_data, dir_data)",
   "id": "e785cf845ccb09a3",
   "outputs": [
    {
     "data": {
      "text/plain": [
       "10625.870504444887"
      ]
     },
     "execution_count": 159,
     "metadata": {},
     "output_type": "execute_result"
    }
   ],
   "execution_count": 159
  },
  {
   "metadata": {
    "ExecuteTime": {
     "end_time": "2025-10-08T20:35:46.410191Z",
     "start_time": "2025-10-08T20:35:46.360452Z"
    }
   },
   "cell_type": "code",
   "source": "model.plot()",
   "id": "f85b22bc2be5164",
   "outputs": [
    {
     "data": {
      "text/plain": [
       "<Figure size 600x450 with 1 Axes>"
      ],
      "image/png": "[encoded data removed]"
     },
     "metadata": {},
     "output_type": "display_data"
    }
   ],
   "execution_count": 160
  },
  {
   "metadata": {},
   "cell_type": "markdown",
   "source": [
    "### One-shot Scheme\n",
    "\n"
   ],
   "id": "b08261a14dd7db60"
  },
  {
   "metadata": {
    "ExecuteTime": {
     "end_time": "2025-10-08T20:50:00.175200Z",
     "start_time": "2025-10-08T20:50:00.027066Z"
    }
   },
   "cell_type": "code",
   "source": [
    "oneshot_model = sc.OneShotScheme(n_clusters=10, alpha=1.7, beta=1.3, init=\"k-means++\")\n",
    "oneshot_model.fit(loc_data, dir_data)\n",
    "oneshot_model.bic_score(loc_data, dir_data)\n"
   ],
   "id": "8907558ed363d4cd",
   "outputs": [
    {
     "data": {
      "text/plain": [
       "61843.1705117995"
      ]
     },
     "execution_count": 175,
     "metadata": {},
     "output_type": "execute_result"
    }
   ],
   "execution_count": 175
  },
  {
   "metadata": {
    "ExecuteTime": {
     "end_time": "2025-10-08T20:49:09.446599Z",
     "start_time": "2025-10-08T20:49:09.397374Z"
    }
   },
   "cell_type": "code",
   "source": "oneshot_model.plot()",
   "id": "84849c34756e62d5",
   "outputs": [
    {
     "data": {
      "text/plain": [
       "<Figure size 600x450 with 1 Axes>"
      ],
      "image/png": "[encoded data removed]"
     },
     "metadata": {},
     "output_type": "display_data"
    }
   ],
   "execution_count": 174
  }
 ],
 "metadata": {
  "kernelspec": {
   "display_name": "Python 3",
   "language": "python",
   "name": "python3"
  },
  "language_info": {
   "codemirror_mode": {
    "name": "ipython",
    "version": 2
   },
   "file_extension": ".py",
   "mimetype": "text/x-python",
   "name": "python",
   "nbconvert_exporter": "python",
   "pygments_lexer": "ipython2",
   "version": "2.7.6"
  }
 },
 "nbformat": 4,
 "nbformat_minor": 5
}
