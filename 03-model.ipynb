{
 "cells": [
  {
   "metadata": {},
   "cell_type": "markdown",
   "source": [
    "# Model implementation\n",
    "\n",
    "Information Geometry Soft Clustering for Sport Analytics\n",
    "\n",
    "Joaquin Garay"
   ],
   "id": "1d68bea2064769d3"
  },
  {
   "metadata": {
    "collapsed": true,
    "ExecuteTime": {
     "end_time": "2025-08-01T01:25:38.619285Z",
     "start_time": "2025-08-01T01:25:38.602199Z"
    }
   },
   "cell_type": "code",
   "source": [
    "%load_ext autoreload\n",
    "%autoreload 2\n",
    "\n",
    "import os\n",
    "import time\n",
    "import tqdm\n",
    "import numpy as np\n",
    "import pandas as pd\n",
    "\n",
    "import vis\n",
    "import softclustering as sc\n",
    "\n",
    "from sklearn.neighbors import LocalOutlierFactor\n",
    "import matplotlib.pyplot as plt\n",
    "import socceraction.spadl as spadl\n"
   ],
   "id": "initial_id",
   "outputs": [
    {
     "name": "stdout",
     "output_type": "stream",
     "text": [
      "The autoreload extension is already loaded. To reload it, use:\n",
      "  %reload_ext autoreload\n"
     ]
    }
   ],
   "execution_count": 23
  },
  {
   "metadata": {},
   "cell_type": "markdown",
   "source": "### Data Preparation",
   "id": "e4e0a9ff891dabc4"
  },
  {
   "metadata": {},
   "cell_type": "markdown",
   "source": "Concatenate actions of all games in one DataFrame.",
   "id": "228a4a3ac4e36d4a"
  },
  {
   "metadata": {
    "ExecuteTime": {
     "end_time": "2025-08-01T01:25:39.047497Z",
     "start_time": "2025-08-01T01:25:38.627860Z"
    }
   },
   "cell_type": "code",
   "source": [
    "datafolder = \"data\"\n",
    "fifa2018h5 = os.path.join(datafolder, \"spadl-fifa2018.h5\")\n",
    "games = pd.read_hdf(fifa2018h5, key=\"games\")\n",
    "with pd.HDFStore(fifa2018h5) as store:\n",
    "    actions = []  #list of DataFrames\n",
    "    for game in tqdm.tqdm(games.itertuples()):\n",
    "        game_action = store[f\"actions/game_{game.game_id}\"]\n",
    "        game_action = spadl.play_left_to_right(game_action, game.home_team_id)\n",
    "        game_action[\"is_home\"] = game_action[\"team_id\"] == game.home_team_id\n",
    "        actions.append(game_action)\n",
    "    actions = pd.concat(actions)\n",
    "    actions.drop(\"original_event_id\", axis=1, inplace=True)\n",
    "    actions = pd.merge(actions, spadl.config.actiontypes_df(), how=\"left\")"
   ],
   "id": "71934fdfa2402fa6",
   "outputs": [
    {
     "name": "stderr",
     "output_type": "stream",
     "text": [
      "64it [00:00, 170.00it/s]\n"
     ]
    }
   ],
   "execution_count": 24
  },
  {
   "metadata": {
    "ExecuteTime": {
     "end_time": "2025-08-01T01:25:39.133241Z",
     "start_time": "2025-08-01T01:25:39.060357Z"
    }
   },
   "cell_type": "code",
   "source": [
    "def consolidate(actions):\n",
    "    #actions.fillna(0, inplace=True)\n",
    "\n",
    "    #Consolidate corner_short and corner_crossed\n",
    "    corner_idx = actions.type_name.str.contains(\"corner\")\n",
    "    actions[\"type_name\"] = actions[\"type_name\"].mask(corner_idx, \"corner\")\n",
    "\n",
    "    #Consolidate freekick_short, freekick_crossed, and shot_freekick\n",
    "    freekick_idx = actions.type_name.str.contains(\"freekick\")\n",
    "    actions[\"type_name\"] = actions[\"type_name\"].mask(freekick_idx, \"freekick\")\n",
    "\n",
    "    #Consolidate keeper_claim, keeper_punch, keeper_save, keeper_pick_up\n",
    "    keeper_idx = actions.type_name.str.contains(\"keeper\")\n",
    "    actions[\"type_name\"] = actions[\"type_name\"].mask(keeper_idx, \"keeper_action\")\n",
    "\n",
    "    actions[\"start_x\"] = actions[\"start_x\"].mask(actions.type_name == \"shot_penalty\", 94.5)\n",
    "    actions[\"start_y\"] = actions[\"start_y\"].mask(actions.type_name == \"shot_penalty\", 34)\n",
    "\n",
    "    return actions\n",
    "\n",
    "\n",
    "actions = consolidate(actions)"
   ],
   "id": "533326ea9e5b5f1c",
   "outputs": [],
   "execution_count": 25
  },
  {
   "metadata": {
    "ExecuteTime": {
     "end_time": "2025-08-01T01:25:39.160161Z",
     "start_time": "2025-08-01T01:25:39.146659Z"
    }
   },
   "cell_type": "code",
   "source": [
    "#Actions of Team France matches.\n",
    "len(actions[actions[\"team_id\"] == 771])"
   ],
   "id": "1791e14d37fb5174",
   "outputs": [
    {
     "data": {
      "text/plain": [
       "6829"
      ]
     },
     "execution_count": 26,
     "metadata": {},
     "output_type": "execute_result"
    }
   ],
   "execution_count": 26
  },
  {
   "metadata": {
    "ExecuteTime": {
     "end_time": "2025-08-01T01:25:39.190420Z",
     "start_time": "2025-08-01T01:25:39.173781Z"
    }
   },
   "cell_type": "code",
   "source": "actions.groupby(\"type_name\").size()",
   "id": "4eb9f50ea571275d",
   "outputs": [
    {
     "data": {
      "text/plain": [
       "type_name\n",
       "bad_touch         1547\n",
       "clearance         2074\n",
       "corner             558\n",
       "cross             1305\n",
       "dribble          52731\n",
       "foul              1876\n",
       "freekick          1272\n",
       "goalkick           677\n",
       "interception      1681\n",
       "keeper_action      584\n",
       "pass             56438\n",
       "shot              1556\n",
       "shot_penalty        68\n",
       "tackle            1830\n",
       "take_on           2109\n",
       "throw_in          2178\n",
       "dtype: int64"
      ]
     },
     "execution_count": 27,
     "metadata": {},
     "output_type": "execute_result"
    }
   ],
   "execution_count": 27
  },
  {
   "metadata": {},
   "cell_type": "markdown",
   "source": [
    "As suggested in SoccerMix, add noise on the starting and ending locations, but only on those actions that we can visually note a predefined pattern.\n",
    "* *Add noise in both start and end locations*:\n",
    "    * Cross\n",
    "    * Shot\n",
    "    * Keeper_action\n",
    "    * Dribble\n",
    "* *Only on start locations*:\n",
    "    * Clearance\n",
    "    * Goal kick\n",
    "* *Only on end locations*:\n",
    "    * Corner\n",
    "    * Freekick\n",
    "    * Shot_penalty"
   ],
   "id": "f365f4a57e669f5c"
  },
  {
   "metadata": {
    "ExecuteTime": {
     "end_time": "2025-08-01T01:25:39.256686Z",
     "start_time": "2025-08-01T01:25:39.224614Z"
    }
   },
   "cell_type": "code",
   "source": [
    "def add_noise(actions):\n",
    "    # Start locations\n",
    "    start_list = [\"cross\", \"shot\", \"keeper_action\", \"clearance\", \"goalkick\", \"dribble\"]\n",
    "    mask = actions[\"type_name\"].isin(start_list)\n",
    "    noise = np.random.normal(0, 0.5, size=actions.loc[mask, [\"start_x\", \"start_y\"]].shape)\n",
    "    actions.loc[mask, [\"start_x\", \"start_y\"]] += noise\n",
    "\n",
    "    # End locations\n",
    "    end_list = [\"cross\", \"shot\", \"keeper_action\", \"corner\", \"freekick\", \"shot_penalty\", \"dribble\"]\n",
    "    mask = actions[\"type_name\"].isin(end_list)\n",
    "    noise = np.random.normal(0, 0.5, size=actions.loc[mask, [\"end_x\", \"end_y\"]].shape)\n",
    "    actions.loc[mask, [\"end_x\", \"end_y\"]] += noise\n",
    "\n",
    "    return actions\n",
    "\n",
    "\n",
    "actions = add_noise(actions)"
   ],
   "id": "9b595325cb6d6b7b",
   "outputs": [],
   "execution_count": 28
  },
  {
   "metadata": {
    "ExecuteTime": {
     "end_time": "2025-08-01T01:25:39.287711Z",
     "start_time": "2025-08-01T01:25:39.276179Z"
    }
   },
   "cell_type": "code",
   "source": [
    "# # display event locations with noise\n",
    "# corrected_actions = [\"cross\", \"shot\", \"keeper_action\", \"clearance\", \"goalkick\",\"corner\", \"freekick\", \"shot_penalty\"]\n",
    "# for actiontype in corrected_actions:\n",
    "#     actions[actions.type_name == actiontype].plot.scatter(\n",
    "#         x=\"start_x\",\n",
    "#         y=\"start_y\",\n",
    "#         title = f\"Start Location: {actiontype}\",\n",
    "#         figsize = (6,4)\n",
    "#     )\n",
    "#     plt.show()\n",
    "#     actions[actions.type_name == actiontype].plot.scatter(\n",
    "#         x=\"end_x\",\n",
    "#         y=\"end_y\",\n",
    "#         title = f\"End Location: {actiontype}\",\n",
    "#         figsize = (6,4)\n",
    "#     )\n",
    "#     plt.show()"
   ],
   "id": "96ef05afa181356c",
   "outputs": [],
   "execution_count": 29
  },
  {
   "metadata": {
    "ExecuteTime": {
     "end_time": "2025-08-01T01:25:40.489168Z",
     "start_time": "2025-08-01T01:25:39.295494Z"
    }
   },
   "cell_type": "code",
   "source": [
    "def remove_outliers(actions, verbose=False):\n",
    "    X = actions[[\"start_x\",\"start_y\",\"end_x\",\"end_y\"]].to_numpy(dtype=float)\n",
    "    inliers = LocalOutlierFactor(contamination=\"auto\").fit_predict(X)\n",
    "    if verbose:\n",
    "        print(f\"Remove {(inliers==-1).sum()} out of {X.shape[0]} datapoints.\")\n",
    "    return actions[inliers==1]\n",
    "\n",
    "actions = remove_outliers(actions,True)"
   ],
   "id": "26174dde29b6c0a9",
   "outputs": [
    {
     "name": "stdout",
     "output_type": "stream",
     "text": [
      "Remove 567 out of 128484 datapoints.\n"
     ]
    }
   ],
   "execution_count": 30
  },
  {
   "metadata": {},
   "cell_type": "markdown",
   "source": "### Features",
   "id": "2045eff5f67124b5"
  },
  {
   "metadata": {},
   "cell_type": "markdown",
   "source": [
    "Compute the angle of the direction of the action with respect with the x-axis (pitch's length) a\n",
    "$$\\tan \\theta = \\frac{y_{end} - y_{start}}{x_{end} - x_{start}}$$"
   ],
   "id": "8a99a2a13347dd0a"
  },
  {
   "metadata": {
    "ExecuteTime": {
     "end_time": "2025-08-01T01:25:40.535811Z",
     "start_time": "2025-08-01T01:25:40.503337Z"
    }
   },
   "cell_type": "code",
   "source": [
    "actions[\"angle\"] = np.arctan2(actions.end_y - actions.start_y, actions.end_x - actions.start_x)\n",
    "actions[\"cos_angle\"] = np.cos(actions[\"angle\"])\n",
    "actions[\"sin_angle\"] = np.sin(actions[\"angle\"])\n",
    "actions[[\"angle\", \"cos_angle\", \"sin_angle\"]].describe()"
   ],
   "id": "69c78aee6b06747",
   "outputs": [
    {
     "data": {
      "text/plain": [
       "               angle      cos_angle      sin_angle\n",
       "count  127917.000000  127917.000000  127917.000000\n",
       "mean        0.007327       0.278564      -0.005591\n",
       "std         1.499046       0.680231       0.677985\n",
       "min        -3.141572      -1.000000      -1.000000\n",
       "25%        -1.081524      -0.268142      -0.665026\n",
       "50%         0.000000       0.471934       0.000000\n",
       "75%         1.077660       0.926947       0.647380\n",
       "max         3.141593       1.000000       1.000000"
      ],
      "text/html": [
       "<div>\n",
       "<style scoped>\n",
       "    .dataframe tbody tr th:only-of-type {\n",
       "        vertical-align: middle;\n",
       "    }\n",
       "\n",
       "    .dataframe tbody tr th {\n",
       "        vertical-align: top;\n",
       "    }\n",
       "\n",
       "    .dataframe thead th {\n",
       "        text-align: right;\n",
       "    }\n",
       "</style>\n",
       "<table border=\"1\" class=\"dataframe\">\n",
       "  <thead>\n",
       "    <tr style=\"text-align: right;\">\n",
       "      <th></th>\n",
       "      <th>angle</th>\n",
       "      <th>cos_angle</th>\n",
       "      <th>sin_angle</th>\n",
       "    </tr>\n",
       "  </thead>\n",
       "  <tbody>\n",
       "    <tr>\n",
       "      <th>count</th>\n",
       "      <td>127917.000000</td>\n",
       "      <td>127917.000000</td>\n",
       "      <td>127917.000000</td>\n",
       "    </tr>\n",
       "    <tr>\n",
       "      <th>mean</th>\n",
       "      <td>0.007327</td>\n",
       "      <td>0.278564</td>\n",
       "      <td>-0.005591</td>\n",
       "    </tr>\n",
       "    <tr>\n",
       "      <th>std</th>\n",
       "      <td>1.499046</td>\n",
       "      <td>0.680231</td>\n",
       "      <td>0.677985</td>\n",
       "    </tr>\n",
       "    <tr>\n",
       "      <th>min</th>\n",
       "      <td>-3.141572</td>\n",
       "      <td>-1.000000</td>\n",
       "      <td>-1.000000</td>\n",
       "    </tr>\n",
       "    <tr>\n",
       "      <th>25%</th>\n",
       "      <td>-1.081524</td>\n",
       "      <td>-0.268142</td>\n",
       "      <td>-0.665026</td>\n",
       "    </tr>\n",
       "    <tr>\n",
       "      <th>50%</th>\n",
       "      <td>0.000000</td>\n",
       "      <td>0.471934</td>\n",
       "      <td>0.000000</td>\n",
       "    </tr>\n",
       "    <tr>\n",
       "      <th>75%</th>\n",
       "      <td>1.077660</td>\n",
       "      <td>0.926947</td>\n",
       "      <td>0.647380</td>\n",
       "    </tr>\n",
       "    <tr>\n",
       "      <th>max</th>\n",
       "      <td>3.141593</td>\n",
       "      <td>1.000000</td>\n",
       "      <td>1.000000</td>\n",
       "    </tr>\n",
       "  </tbody>\n",
       "</table>\n",
       "</div>"
      ]
     },
     "execution_count": 31,
     "metadata": {},
     "output_type": "execute_result"
    }
   ],
   "execution_count": 31
  },
  {
   "metadata": {},
   "cell_type": "markdown",
   "source": [
    "### First run\n",
    "\n",
    "Let's run a first toy implementation using throw-ins of team France."
   ],
   "id": "d5ac5fac97f7d247"
  },
  {
   "metadata": {
    "ExecuteTime": {
     "end_time": "2025-08-01T01:25:40.589406Z",
     "start_time": "2025-08-01T01:25:40.568082Z"
    }
   },
   "cell_type": "code",
   "source": [
    "mask = (actions[\"type_name\"]==\"dribble\") & (actions[\"team_id\"]==771)\n",
    "loc_data = actions[mask][[\"start_x\", \"start_y\"]]\n",
    "dir_data = actions[mask][[\"cos_angle\", \"sin_angle\"]]"
   ],
   "id": "2877a86b1aed5203",
   "outputs": [],
   "execution_count": 32
  },
  {
   "metadata": {
    "ExecuteTime": {
     "end_time": "2025-08-01T01:25:40.683204Z",
     "start_time": "2025-08-01T01:25:40.607131Z"
    }
   },
   "cell_type": "code",
   "source": [
    "loc_data.plot.scatter(\n",
    "        x=\"start_x\",\n",
    "        y=\"start_y\",\n",
    "        title = f\"Start Location\",\n",
    "        figsize = (6,4)\n",
    "    )\n",
    "plt.show()"
   ],
   "id": "101cdb47ff5e0db9",
   "outputs": [
    {
     "data": {
      "text/plain": [
       "<Figure size 600x400 with 1 Axes>"
      ],
      "image/png": "[encoded data removed]"
     },
     "metadata": {},
     "output_type": "display_data"
    }
   ],
   "execution_count": 33
  },
  {
   "metadata": {
    "ExecuteTime": {
     "end_time": "2025-08-01T01:25:55.707213Z",
     "start_time": "2025-08-01T01:25:40.688553Z"
    }
   },
   "cell_type": "code",
   "source": [
    "#Gaussian clusters\n",
    "k_gauss = 7\n",
    "\n",
    "gauss_clusters = [sc.MultivariateGaussian() for j in range(k_gauss)]\n",
    "\n",
    "loc_em_model = sc.MixtureModel(gauss_clusters)\n",
    "loc_bregman_model = sc.MixtureModel(gauss_clusters)\n",
    "\n",
    "# Classic EM\n",
    "start = time.time()\n",
    "res_em = loc_em_model.fit_em_classic(loc_data, verbose=False)\n",
    "t_em = time.time() - start\n",
    "\n",
    "# Bregman EM\n",
    "start = time.time()\n",
    "res_bregman = loc_bregman_model.fit_em_bregman(loc_data, verbose=False)\n",
    "t_bregman = time.time() - start\n",
    "\n",
    "# Results\n",
    "print(f\"Final log-likelihoods:\\nEM: {res_em[-1]:.4f}\\nBregman: {res_bregman[-1]:.4f}\")\n",
    "print(f\"Timings:\\nEM: {t_em:.4f}s\\nBregman: {t_bregman:.4f}s\")"
   ],
   "id": "b462832fe28249fe",
   "outputs": [
    {
     "name": "stdout",
     "output_type": "stream",
     "text": [
      "Final log-likelihoods:\n",
      "EM: -457563.9556\n",
      "Bregman: -457563.9556\n",
      "Timings:\n",
      "EM: 8.4205s\n",
      "Bregman: 6.5831s\n"
     ]
    }
   ],
   "execution_count": 34
  },
  {
   "metadata": {
    "ExecuteTime": {
     "end_time": "2025-08-01T01:25:55.763256Z",
     "start_time": "2025-08-01T01:25:55.747176Z"
    }
   },
   "cell_type": "code",
   "source": [
    "#for model in [loc_em_model, loc_bregman_model]:\n",
    "#    print(f\"{model}\\n\")"
   ],
   "id": "dc3c0b6c6cd588cc",
   "outputs": [],
   "execution_count": 35
  },
  {
   "metadata": {
    "ExecuteTime": {
     "end_time": "2025-08-01T01:26:03.385289Z",
     "start_time": "2025-08-01T01:25:55.796268Z"
    }
   },
   "cell_type": "code",
   "source": [
    "#Von Mises Clusters\n",
    "k_vm = 3\n",
    "\n",
    "vm_clusters = [sc.VonMises() for _ in range(k_vm)]\n",
    "\n",
    "dir_em_model = sc.MixtureModel(vm_clusters)\n",
    "dir_proxy_model = sc.MixtureModel(vm_clusters)\n",
    "dir_bregman_model = sc.MixtureModel(vm_clusters)\n",
    "\n",
    "# Classic EM\n",
    "start = time.time()\n",
    "res_em = dir_em_model.fit_em_classic(dir_data, verbose=False)\n",
    "t_em = time.time() - start\n",
    "\n",
    "# Proxy EM for Von Mises\n",
    "start = time.time()\n",
    "res_proxy = dir_proxy_model.fit_em_vonmises_approx(dir_data, verbose=False)\n",
    "t_proxy = time.time() - start\n",
    "\n",
    "# Bregman EM\n",
    "start = time.time()\n",
    "res_bregman = dir_bregman_model.fit_em_bregman(dir_data, verbose=False)\n",
    "t_bregman = time.time() - start\n",
    "\n",
    "# Results\n",
    "print(f\"Final log-likelihoods:\\nEM: {res_em[-1]:.4f}\\nProxy: {res_proxy[-1]:.4f}\\nBregman: {res_bregman[-1]:.4f}\")\n",
    "print(f\"Timings:\\nEM: {t_em:.4f}s\\nProxy: {t_proxy:.4f}s\\nBregman: {t_bregman:.4f}s\")\n"
   ],
   "id": "6f6b97de15e1de30",
   "outputs": [
    {
     "name": "stdout",
     "output_type": "stream",
     "text": [
      "Final log-likelihoods:\n",
      "EM: -94034.2052\n",
      "Proxy: -93962.9924\n",
      "Bregman: -94043.4670\n",
      "Timings:\n",
      "EM: 3.4861s\n",
      "Proxy: 2.0402s\n",
      "Bregman: 2.0273s\n"
     ]
    }
   ],
   "execution_count": 36
  },
  {
   "metadata": {
    "ExecuteTime": {
     "end_time": "2025-08-01T01:26:03.544841Z",
     "start_time": "2025-08-01T01:26:03.527978Z"
    }
   },
   "cell_type": "code",
   "source": [
    "for model in [dir_em_model, dir_bregman_model, dir_proxy_model]:\n",
    "    print(f\"{model}\\n\")"
   ],
   "id": "9192aa6ab975c28e",
   "outputs": [
    {
     "name": "stdout",
     "output_type": "stream",
     "text": [
      "MixtureModel(n_clusters=3)\n",
      "  ├─ (0) w=0.461  VonMises(loc=-10.2º, kappa=0.973)\n",
      "  ├─ (1) w=0.288  VonMises(loc=60.0º, kappa=0.464)\n",
      "  └─ (2) w=0.250  VonMises(loc=-131.0º, kappa=0.515)\n",
      "\n",
      "MixtureModel(n_clusters=3)\n",
      "  ├─ (0) w=0.500  VonMises(loc=-10.2º, kappa=0.973)\n",
      "  ├─ (1) w=0.284  VonMises(loc=60.0º, kappa=0.464)\n",
      "  └─ (2) w=0.216  VonMises(loc=-131.0º, kappa=0.515)\n",
      "\n",
      "MixtureModel(n_clusters=3)\n",
      "  ├─ (0) w=0.079  VonMises(loc=-10.2º, kappa=0.973)\n",
      "  ├─ (1) w=0.165  VonMises(loc=60.0º, kappa=0.464)\n",
      "  └─ (2) w=0.756  VonMises(loc=-131.0º, kappa=0.515)\n",
      "\n"
     ]
    }
   ],
   "execution_count": 37
  },
  {
   "metadata": {
    "ExecuteTime": {
     "end_time": "2025-08-01T01:26:23.532504Z",
     "start_time": "2025-08-01T01:26:03.582563Z"
    }
   },
   "cell_type": "code",
   "source": [
    "K_loc = 7\n",
    "K_dir = 3\n",
    "results = {}\n",
    "\n",
    "choose = \"bregman\"\n",
    "start = time.time()\n",
    "results[choose] = sc.two_layer_scheme(loc_data, dir_data, K_loc, K_dir, choose=choose)\n",
    "run_time = time.time() - start\n",
    "\n",
    "print(f\"Running Time {choose} Model: {run_time:.4f}s\\n\")\n",
    "# print(f\"{results[choose][0]}\\n\")\n",
    "# for i, vmm in enumerate(results[choose][1]):\n",
    "#     print(f\"GMM Cluster {i}: \")\n",
    "#     print(f\"{vmm}\\n\")\n",
    "\n",
    "gmm, vmm = results[\"bregman\"]\n",
    "vis.show_all_models(gmm, vmm)"
   ],
   "id": "c630a9573d3f4bce",
   "outputs": [
    {
     "name": "stdout",
     "output_type": "stream",
     "text": [
      "Running Time bregman Model: 19.8771s\n",
      "\n"
     ]
    },
    {
     "data": {
      "text/plain": [
       "<Figure size 600x450 with 1 Axes>"
      ],
      "image/png": "[encoded data removed]"
     },
     "metadata": {},
     "output_type": "display_data"
    }
   ],
   "execution_count": 38
  },
  {
   "metadata": {
    "ExecuteTime": {
     "end_time": "2025-08-01T01:26:41.441440Z",
     "start_time": "2025-08-01T01:26:23.555934Z"
    }
   },
   "cell_type": "code",
   "source": [
    "choose = \"soccermix\"\n",
    "start = time.time()\n",
    "results[choose] = sc.two_layer_scheme(loc_data, dir_data, K_loc, K_dir, choose=choose)\n",
    "run_time = time.time() - start\n",
    "\n",
    "print(f\"Running Time {choose} Model: {run_time:.4f}s\\n\")\n",
    "# print(f\"{results[choose][0]}\\n\")\n",
    "# for i, vmm in enumerate(results[choose][1]):\n",
    "#     print(f\"GMM Cluster {i}: \")\n",
    "#     print(f\"{vmm}\\n\")\n",
    "\n",
    "gmm, vmm = results[choose]\n",
    "vis.show_all_models(gmm, vmm)"
   ],
   "id": "4fc0e58308a04be1",
   "outputs": [
    {
     "name": "stdout",
     "output_type": "stream",
     "text": [
      "Running Time soccermix Model: 17.7959s\n",
      "\n"
     ]
    },
    {
     "data": {
      "text/plain": [
       "<Figure size 600x450 with 1 Axes>"
      ],
      "image/png": "[encoded data removed]"
     },
     "metadata": {},
     "output_type": "display_data"
    }
   ],
   "execution_count": 39
  },
  {
   "metadata": {
    "ExecuteTime": {
     "end_time": "2025-08-01T01:27:15.323564Z",
     "start_time": "2025-08-01T01:26:41.517797Z"
    }
   },
   "cell_type": "code",
   "source": [
    "choose = \"classic\"\n",
    "start = time.time()\n",
    "results[choose] = sc.two_layer_scheme(loc_data, dir_data, K_loc, K_dir, choose=choose)\n",
    "run_time = time.time() - start\n",
    "\n",
    "print(f\"Running Time {choose} Model: {run_time:.4f}s\\n\")\n",
    "# print(f\"{results[choose][0]}\\n\")\n",
    "# for i, vmm in enumerate(results[choose][1]):\n",
    "#     print(f\"GMM Cluster {i}: \")\n",
    "#     print(f\"{vmm}\\n\")\n",
    "\n",
    "gmm, vmm = results[choose]\n",
    "vis.show_all_models(gmm, vmm)"
   ],
   "id": "58d57177b3f14919",
   "outputs": [
    {
     "name": "stdout",
     "output_type": "stream",
     "text": [
      "Running Time classic Model: 33.7364s\n",
      "\n"
     ]
    },
    {
     "data": {
      "text/plain": [
       "<Figure size 600x450 with 1 Axes>"
      ],
      "image/png": "[encoded data removed]"
     },
     "metadata": {},
     "output_type": "display_data"
    }
   ],
   "execution_count": 40
  },
  {
   "metadata": {
    "ExecuteTime": {
     "end_time": "2025-08-01T01:31:41.124919Z",
     "start_time": "2025-08-01T01:31:41.107383Z"
    }
   },
   "cell_type": "code",
   "source": [
    "gauss_1 = gmm.get_components()[0]\n",
    "gauss_2 = gmm.get_components()[4]\n",
    "\n",
    "print(gauss_1)\n",
    "print(gauss_2)\n",
    "\n",
    "mean_1, cov_1 = gauss_1.get_params()\n",
    "mean_2, cov_2 = gauss_2.get_params()\n",
    "gauss_1.divergence(mean_1, cov_1, mean_2, cov_2)"
   ],
   "id": "ed217d805aaa6248",
   "outputs": [
    {
     "name": "stdout",
     "output_type": "stream",
     "text": [
      "MultivariateGaussian(d=2, mean=[70.638 54.589], cov=[[266.572  -5.792], [-5.792 37.381]])\n",
      "MultivariateGaussian(d=2, mean=[41.735 43.198], cov=[[297.48  -40.724], [-40.724 111.912]])\n"
     ]
    },
    {
     "data": {
      "text/plain": [
       "3.964388893196123"
      ]
     },
     "execution_count": 50,
     "metadata": {},
     "output_type": "execute_result"
    }
   ],
   "execution_count": 50
  },
  {
   "metadata": {
    "ExecuteTime": {
     "end_time": "2025-08-01T01:27:15.413311Z",
     "start_time": "2025-07-31T20:00:34.096999Z"
    }
   },
   "cell_type": "code",
   "source": [
    "# Collect BIC and AIC results\n",
    "rows = []\n",
    "for key, value in results.items():\n",
    "    loc_model = value[0]\n",
    "    dir_models = value[1]\n",
    "\n",
    "    loc_bic = round(loc_model.bic(loc_data),0)\n",
    "    loc_aic = round(loc_model.aic(loc_data),0)\n",
    "    rows.append({\"Model\": key, \"Component\": \"loc_model\", \"BIC\": loc_bic, \"AIC\": loc_aic})\n",
    "\n",
    "    for i, dir_model in enumerate(dir_models):\n",
    "        dir_bic = round(dir_model.bic(dir_data),0)\n",
    "        dir_aic = round(dir_model.aic(dir_data),0)\n",
    "        rows.append({\"Model\": key, \"Component\": f\"dir_model_{i}\", \"BIC\": dir_bic, \"AIC\": dir_aic})\n",
    "\n",
    "# Create DataFrame\n",
    "scores_df = pd.DataFrame(rows)\n",
    "scores_df.groupby(\"Model\").sum()\n"
   ],
   "id": "62cc6e5643387f03",
   "outputs": [
    {
     "ename": "ValueError",
     "evalue": "Number of labels is 1. Valid values are 2 to n_samples - 1 (inclusive)",
     "output_type": "error",
     "traceback": [
      "\u001B[31m---------------------------------------------------------------------------\u001B[39m",
      "\u001B[31mValueError\u001B[39m                                Traceback (most recent call last)",
      "\u001B[36mCell\u001B[39m\u001B[36m \u001B[39m\u001B[32mIn[20]\u001B[39m\u001B[32m, line 17\u001B[39m\n\u001B[32m     15\u001B[39m dir_bic = \u001B[38;5;28mround\u001B[39m(dir_model.bic(dir_data),\u001B[32m0\u001B[39m)\n\u001B[32m     16\u001B[39m dir_aic = \u001B[38;5;28mround\u001B[39m(dir_model.aic(dir_data),\u001B[32m0\u001B[39m)\n\u001B[32m---> \u001B[39m\u001B[32m17\u001B[39m dir_ch = \u001B[38;5;28mround\u001B[39m(\u001B[43mdir_model\u001B[49m\u001B[43m.\u001B[49m\u001B[43mch_score\u001B[49m\u001B[43m(\u001B[49m\u001B[43mdir_data\u001B[49m\u001B[43m)\u001B[49m,\u001B[32m0\u001B[39m)\n\u001B[32m     18\u001B[39m dir_dv = \u001B[38;5;28mround\u001B[39m(dir_model.dv_score(dir_data),\u001B[32m0\u001B[39m)\n\u001B[32m     19\u001B[39m dir_sil = \u001B[38;5;28mround\u001B[39m(dir_model.silhouette_score(dir_data),\u001B[32m0\u001B[39m)\n",
      "\u001B[36mFile \u001B[39m\u001B[32m~/PycharmProjects/soccer-infogeo/softclustering.py:583\u001B[39m, in \u001B[36mMixtureModel.ch_score\u001B[39m\u001B[34m(self, X)\u001B[39m\n\u001B[32m    581\u001B[39m \u001B[38;5;28;01mdef\u001B[39;00m\u001B[38;5;250m \u001B[39m\u001B[34mch_score\u001B[39m(\u001B[38;5;28mself\u001B[39m, X):\n\u001B[32m    582\u001B[39m     X = np.asarray(X, dtype=\u001B[38;5;28mfloat\u001B[39m)\n\u001B[32m--> \u001B[39m\u001B[32m583\u001B[39m     \u001B[38;5;28;01mreturn\u001B[39;00m \u001B[43mcalinski_harabasz_score\u001B[49m\u001B[43m(\u001B[49m\u001B[43mX\u001B[49m\u001B[43m,\u001B[49m\u001B[43m \u001B[49m\u001B[38;5;28;43mself\u001B[39;49m\u001B[43m.\u001B[49m\u001B[43mhard_predict\u001B[49m\u001B[43m(\u001B[49m\u001B[43mX\u001B[49m\u001B[43m)\u001B[49m\u001B[43m)\u001B[49m\n",
      "\u001B[36mFile \u001B[39m\u001B[32m~/PycharmProjects/soccer-infogeo/.venv/lib/python3.11/site-packages/sklearn/utils/_param_validation.py:218\u001B[39m, in \u001B[36mvalidate_params.<locals>.decorator.<locals>.wrapper\u001B[39m\u001B[34m(*args, **kwargs)\u001B[39m\n\u001B[32m    212\u001B[39m \u001B[38;5;28;01mtry\u001B[39;00m:\n\u001B[32m    213\u001B[39m     \u001B[38;5;28;01mwith\u001B[39;00m config_context(\n\u001B[32m    214\u001B[39m         skip_parameter_validation=(\n\u001B[32m    215\u001B[39m             prefer_skip_nested_validation \u001B[38;5;129;01mor\u001B[39;00m global_skip_validation\n\u001B[32m    216\u001B[39m         )\n\u001B[32m    217\u001B[39m     ):\n\u001B[32m--> \u001B[39m\u001B[32m218\u001B[39m         \u001B[38;5;28;01mreturn\u001B[39;00m \u001B[43mfunc\u001B[49m\u001B[43m(\u001B[49m\u001B[43m*\u001B[49m\u001B[43margs\u001B[49m\u001B[43m,\u001B[49m\u001B[43m \u001B[49m\u001B[43m*\u001B[49m\u001B[43m*\u001B[49m\u001B[43mkwargs\u001B[49m\u001B[43m)\u001B[49m\n\u001B[32m    219\u001B[39m \u001B[38;5;28;01mexcept\u001B[39;00m InvalidParameterError \u001B[38;5;28;01mas\u001B[39;00m e:\n\u001B[32m    220\u001B[39m     \u001B[38;5;66;03m# When the function is just a wrapper around an estimator, we allow\u001B[39;00m\n\u001B[32m    221\u001B[39m     \u001B[38;5;66;03m# the function to delegate validation to the estimator, but we replace\u001B[39;00m\n\u001B[32m    222\u001B[39m     \u001B[38;5;66;03m# the name of the estimator by the name of the function in the error\u001B[39;00m\n\u001B[32m    223\u001B[39m     \u001B[38;5;66;03m# message to avoid confusion.\u001B[39;00m\n\u001B[32m    224\u001B[39m     msg = re.sub(\n\u001B[32m    225\u001B[39m         \u001B[33mr\u001B[39m\u001B[33m\"\u001B[39m\u001B[33mparameter of \u001B[39m\u001B[33m\\\u001B[39m\u001B[33mw+ must be\u001B[39m\u001B[33m\"\u001B[39m,\n\u001B[32m    226\u001B[39m         \u001B[33mf\u001B[39m\u001B[33m\"\u001B[39m\u001B[33mparameter of \u001B[39m\u001B[38;5;132;01m{\u001B[39;00mfunc.\u001B[34m__qualname__\u001B[39m\u001B[38;5;132;01m}\u001B[39;00m\u001B[33m must be\u001B[39m\u001B[33m\"\u001B[39m,\n\u001B[32m    227\u001B[39m         \u001B[38;5;28mstr\u001B[39m(e),\n\u001B[32m    228\u001B[39m     )\n",
      "\u001B[36mFile \u001B[39m\u001B[32m~/PycharmProjects/soccer-infogeo/.venv/lib/python3.11/site-packages/sklearn/metrics/cluster/_unsupervised.py:372\u001B[39m, in \u001B[36mcalinski_harabasz_score\u001B[39m\u001B[34m(X, labels)\u001B[39m\n\u001B[32m    369\u001B[39m n_samples, _ = X.shape\n\u001B[32m    370\u001B[39m n_labels = \u001B[38;5;28mlen\u001B[39m(le.classes_)\n\u001B[32m--> \u001B[39m\u001B[32m372\u001B[39m \u001B[43mcheck_number_of_labels\u001B[49m\u001B[43m(\u001B[49m\u001B[43mn_labels\u001B[49m\u001B[43m,\u001B[49m\u001B[43m \u001B[49m\u001B[43mn_samples\u001B[49m\u001B[43m)\u001B[49m\n\u001B[32m    374\u001B[39m extra_disp, intra_disp = \u001B[32m0.0\u001B[39m, \u001B[32m0.0\u001B[39m\n\u001B[32m    375\u001B[39m mean = np.mean(X, axis=\u001B[32m0\u001B[39m)\n",
      "\u001B[36mFile \u001B[39m\u001B[32m~/PycharmProjects/soccer-infogeo/.venv/lib/python3.11/site-packages/sklearn/metrics/cluster/_unsupervised.py:35\u001B[39m, in \u001B[36mcheck_number_of_labels\u001B[39m\u001B[34m(n_labels, n_samples)\u001B[39m\n\u001B[32m     24\u001B[39m \u001B[38;5;250m\u001B[39m\u001B[33;03m\"\"\"Check that number of labels are valid.\u001B[39;00m\n\u001B[32m     25\u001B[39m \n\u001B[32m     26\u001B[39m \u001B[33;03mParameters\u001B[39;00m\n\u001B[32m   (...)\u001B[39m\u001B[32m     32\u001B[39m \u001B[33;03m    Number of samples.\u001B[39;00m\n\u001B[32m     33\u001B[39m \u001B[33;03m\"\"\"\u001B[39;00m\n\u001B[32m     34\u001B[39m \u001B[38;5;28;01mif\u001B[39;00m \u001B[38;5;129;01mnot\u001B[39;00m \u001B[32m1\u001B[39m < n_labels < n_samples:\n\u001B[32m---> \u001B[39m\u001B[32m35\u001B[39m     \u001B[38;5;28;01mraise\u001B[39;00m \u001B[38;5;167;01mValueError\u001B[39;00m(\n\u001B[32m     36\u001B[39m         \u001B[33m\"\u001B[39m\u001B[33mNumber of labels is \u001B[39m\u001B[38;5;132;01m%d\u001B[39;00m\u001B[33m. Valid values are 2 to n_samples - 1 (inclusive)\u001B[39m\u001B[33m\"\u001B[39m\n\u001B[32m     37\u001B[39m         % n_labels\n\u001B[32m     38\u001B[39m     )\n",
      "\u001B[31mValueError\u001B[39m: Number of labels is 1. Valid values are 2 to n_samples - 1 (inclusive)"
     ]
    }
   ],
   "execution_count": 20
  },
  {
   "metadata": {
    "ExecuteTime": {
     "end_time": "2025-08-01T01:27:15.413663Z",
     "start_time": "2025-07-30T22:16:01.698463Z"
    }
   },
   "cell_type": "code",
   "source": "",
   "id": "532eea86201d66d",
   "outputs": [],
   "execution_count": null
  }
 ],
 "metadata": {
  "kernelspec": {
   "display_name": "Python 3",
   "language": "python",
   "name": "python3"
  },
  "language_info": {
   "codemirror_mode": {
    "name": "ipython",
    "version": 2
   },
   "file_extension": ".py",
   "mimetype": "text/x-python",
   "name": "python",
   "nbconvert_exporter": "python",
   "pygments_lexer": "ipython2",
   "version": "2.7.6"
  }
 },
 "nbformat": 4,
 "nbformat_minor": 5
}
