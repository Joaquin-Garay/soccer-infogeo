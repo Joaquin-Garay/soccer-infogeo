{
 "cells": [
  {
   "metadata": {},
   "cell_type": "markdown",
   "source": [
    "# Model implementation\n",
    "\n",
    "Information Geometry Soft Clustering for Sport Analytics\n",
    "\n",
    "Joaquin Garay"
   ],
   "id": "1d68bea2064769d3"
  },
  {
   "metadata": {
    "collapsed": true,
    "ExecuteTime": {
     "end_time": "2025-08-04T21:50:46.179166Z",
     "start_time": "2025-08-04T21:50:44.637410Z"
    }
   },
   "cell_type": "code",
   "source": [
    "%load_ext autoreload\n",
    "%autoreload 2\n",
    "\n",
    "import os\n",
    "import time\n",
    "import tqdm\n",
    "import numpy as np\n",
    "import pandas as pd\n",
    "\n",
    "import vis\n",
    "import softclustering as sc\n",
    "\n",
    "from sklearn.neighbors import LocalOutlierFactor\n",
    "import matplotlib.pyplot as plt\n",
    "import socceraction.spadl as spadl\n"
   ],
   "id": "initial_id",
   "outputs": [],
   "execution_count": 1
  },
  {
   "metadata": {},
   "cell_type": "markdown",
   "source": "### Data Preparation",
   "id": "e4e0a9ff891dabc4"
  },
  {
   "metadata": {},
   "cell_type": "markdown",
   "source": "Concatenate actions of all games in one DataFrame.",
   "id": "228a4a3ac4e36d4a"
  },
  {
   "metadata": {
    "ExecuteTime": {
     "end_time": "2025-08-04T21:50:46.585894Z",
     "start_time": "2025-08-04T21:50:46.183176Z"
    }
   },
   "cell_type": "code",
   "source": [
    "datafolder = \"data\"\n",
    "fifa2018h5 = os.path.join(datafolder, \"spadl-fifa2018.h5\")\n",
    "games = pd.read_hdf(fifa2018h5, key=\"games\")\n",
    "with pd.HDFStore(fifa2018h5) as store:\n",
    "    actions = []  #list of DataFrames\n",
    "    for game in tqdm.tqdm(games.itertuples()):\n",
    "        game_action = store[f\"actions/game_{game.game_id}\"]\n",
    "        game_action = spadl.play_left_to_right(game_action, game.home_team_id)\n",
    "        game_action[\"is_home\"] = game_action[\"team_id\"] == game.home_team_id\n",
    "        actions.append(game_action)\n",
    "    actions = pd.concat(actions)\n",
    "    actions.drop(\"original_event_id\", axis=1, inplace=True)\n",
    "    actions = pd.merge(actions, spadl.config.actiontypes_df(), how=\"left\")"
   ],
   "id": "71934fdfa2402fa6",
   "outputs": [
    {
     "name": "stderr",
     "output_type": "stream",
     "text": [
      "64it [00:00, 217.88it/s]\n"
     ]
    }
   ],
   "execution_count": 2
  },
  {
   "metadata": {
    "ExecuteTime": {
     "end_time": "2025-08-04T21:50:46.727307Z",
     "start_time": "2025-08-04T21:50:46.657074Z"
    }
   },
   "cell_type": "code",
   "source": [
    "def consolidate(actions):\n",
    "    #actions.fillna(0, inplace=True)\n",
    "\n",
    "    #Consolidate corner_short and corner_crossed\n",
    "    corner_idx = actions.type_name.str.contains(\"corner\")\n",
    "    actions[\"type_name\"] = actions[\"type_name\"].mask(corner_idx, \"corner\")\n",
    "\n",
    "    #Consolidate freekick_short, freekick_crossed, and shot_freekick\n",
    "    freekick_idx = actions.type_name.str.contains(\"freekick\")\n",
    "    actions[\"type_name\"] = actions[\"type_name\"].mask(freekick_idx, \"freekick\")\n",
    "\n",
    "    #Consolidate keeper_claim, keeper_punch, keeper_save, keeper_pick_up\n",
    "    keeper_idx = actions.type_name.str.contains(\"keeper\")\n",
    "    actions[\"type_name\"] = actions[\"type_name\"].mask(keeper_idx, \"keeper_action\")\n",
    "\n",
    "    actions[\"start_x\"] = actions[\"start_x\"].mask(actions.type_name == \"shot_penalty\", 94.5)\n",
    "    actions[\"start_y\"] = actions[\"start_y\"].mask(actions.type_name == \"shot_penalty\", 34)\n",
    "\n",
    "    return actions\n",
    "\n",
    "\n",
    "actions = consolidate(actions)"
   ],
   "id": "533326ea9e5b5f1c",
   "outputs": [],
   "execution_count": 3
  },
  {
   "metadata": {
    "ExecuteTime": {
     "end_time": "2025-08-04T21:50:46.746677Z",
     "start_time": "2025-08-04T21:50:46.734529Z"
    }
   },
   "cell_type": "code",
   "source": [
    "#Actions of Team France matches.\n",
    "len(actions[actions[\"team_id\"] == 771])"
   ],
   "id": "1791e14d37fb5174",
   "outputs": [
    {
     "data": {
      "text/plain": [
       "6829"
      ]
     },
     "execution_count": 4,
     "metadata": {},
     "output_type": "execute_result"
    }
   ],
   "execution_count": 4
  },
  {
   "metadata": {
    "ExecuteTime": {
     "end_time": "2025-08-04T21:50:46.823021Z",
     "start_time": "2025-08-04T21:50:46.805549Z"
    }
   },
   "cell_type": "code",
   "source": "actions.groupby(\"type_name\").size()",
   "id": "4eb9f50ea571275d",
   "outputs": [
    {
     "data": {
      "text/plain": [
       "type_name\n",
       "bad_touch         1547\n",
       "clearance         2074\n",
       "corner             558\n",
       "cross             1305\n",
       "dribble          52731\n",
       "foul              1876\n",
       "freekick          1272\n",
       "goalkick           677\n",
       "interception      1681\n",
       "keeper_action      584\n",
       "pass             56438\n",
       "shot              1556\n",
       "shot_penalty        68\n",
       "tackle            1830\n",
       "take_on           2109\n",
       "throw_in          2178\n",
       "dtype: int64"
      ]
     },
     "execution_count": 5,
     "metadata": {},
     "output_type": "execute_result"
    }
   ],
   "execution_count": 5
  },
  {
   "metadata": {},
   "cell_type": "markdown",
   "source": [
    "As suggested in SoccerMix, add noise on the starting and ending locations, but only on those actions that we can visually note a predefined pattern.\n",
    "* *Add noise in both start and end locations*:\n",
    "    * Cross\n",
    "    * Shot\n",
    "    * Keeper_action\n",
    "    * Dribble\n",
    "* *Only on start locations*:\n",
    "    * Clearance\n",
    "    * Goal kick\n",
    "* *Only on end locations*:\n",
    "    * Corner\n",
    "    * Freekick\n",
    "    * Shot_penalty"
   ],
   "id": "f365f4a57e669f5c"
  },
  {
   "metadata": {
    "ExecuteTime": {
     "end_time": "2025-08-04T21:50:46.878589Z",
     "start_time": "2025-08-04T21:50:46.849500Z"
    }
   },
   "cell_type": "code",
   "source": [
    "def add_noise(actions):\n",
    "    # Start locations\n",
    "    start_list = [\"cross\", \"shot\", \"keeper_action\", \"clearance\", \"goalkick\", \"dribble\"]\n",
    "    mask = actions[\"type_name\"].isin(start_list)\n",
    "    noise = np.random.normal(0, 0.5, size=actions.loc[mask, [\"start_x\", \"start_y\"]].shape)\n",
    "    actions.loc[mask, [\"start_x\", \"start_y\"]] += noise\n",
    "\n",
    "    # End locations\n",
    "    end_list = [\"cross\", \"shot\", \"keeper_action\", \"corner\", \"freekick\", \"shot_penalty\", \"dribble\"]\n",
    "    mask = actions[\"type_name\"].isin(end_list)\n",
    "    noise = np.random.normal(0, 0.5, size=actions.loc[mask, [\"end_x\", \"end_y\"]].shape)\n",
    "    actions.loc[mask, [\"end_x\", \"end_y\"]] += noise\n",
    "\n",
    "    return actions\n",
    "\n",
    "\n",
    "actions = add_noise(actions)"
   ],
   "id": "9b595325cb6d6b7b",
   "outputs": [],
   "execution_count": 6
  },
  {
   "metadata": {
    "ExecuteTime": {
     "end_time": "2025-08-04T21:50:46.906818Z",
     "start_time": "2025-08-04T21:50:46.896452Z"
    }
   },
   "cell_type": "code",
   "source": [
    "# # display event locations with noise\n",
    "# corrected_actions = [\"cross\", \"shot\", \"keeper_action\", \"clearance\", \"goalkick\",\"corner\", \"freekick\", \"shot_penalty\"]\n",
    "# for actiontype in corrected_actions:\n",
    "#     actions[actions.type_name == actiontype].plot.scatter(\n",
    "#         x=\"start_x\",\n",
    "#         y=\"start_y\",\n",
    "#         title = f\"Start Location: {actiontype}\",\n",
    "#         figsize = (6,4)\n",
    "#     )\n",
    "#     plt.show()\n",
    "#     actions[actions.type_name == actiontype].plot.scatter(\n",
    "#         x=\"end_x\",\n",
    "#         y=\"end_y\",\n",
    "#         title = f\"End Location: {actiontype}\",\n",
    "#         figsize = (6,4)\n",
    "#     )\n",
    "#     plt.show()"
   ],
   "id": "96ef05afa181356c",
   "outputs": [],
   "execution_count": 7
  },
  {
   "metadata": {
    "ExecuteTime": {
     "end_time": "2025-08-04T21:50:48.035894Z",
     "start_time": "2025-08-04T21:50:46.923164Z"
    }
   },
   "cell_type": "code",
   "source": [
    "def remove_outliers(actions, verbose=False):\n",
    "    X = actions[[\"start_x\",\"start_y\",\"end_x\",\"end_y\"]].to_numpy(dtype=float)\n",
    "    inliers = LocalOutlierFactor(contamination=\"auto\").fit_predict(X)\n",
    "    if verbose:\n",
    "        print(f\"Remove {(inliers==-1).sum()} out of {X.shape[0]} datapoints.\")\n",
    "    return actions[inliers==1]\n",
    "\n",
    "actions = remove_outliers(actions,True)"
   ],
   "id": "26174dde29b6c0a9",
   "outputs": [
    {
     "name": "stdout",
     "output_type": "stream",
     "text": [
      "Remove 573 out of 128484 datapoints.\n"
     ]
    }
   ],
   "execution_count": 8
  },
  {
   "metadata": {},
   "cell_type": "markdown",
   "source": "### Features",
   "id": "2045eff5f67124b5"
  },
  {
   "metadata": {},
   "cell_type": "markdown",
   "source": [
    "Compute the angle of the direction of the action with respect with the x-axis (pitch's length) a\n",
    "$$\\tan \\theta = \\frac{y_{end} - y_{start}}{x_{end} - x_{start}}$$"
   ],
   "id": "8a99a2a13347dd0a"
  },
  {
   "metadata": {
    "ExecuteTime": {
     "end_time": "2025-08-04T21:50:48.075675Z",
     "start_time": "2025-08-04T21:50:48.043838Z"
    }
   },
   "cell_type": "code",
   "source": [
    "actions[\"angle\"] = np.arctan2(actions.end_y - actions.start_y, actions.end_x - actions.start_x)\n",
    "actions[\"cos_angle\"] = np.cos(actions[\"angle\"])\n",
    "actions[\"sin_angle\"] = np.sin(actions[\"angle\"])\n",
    "actions[[\"angle\", \"cos_angle\", \"sin_angle\"]].describe()"
   ],
   "id": "69c78aee6b06747",
   "outputs": [
    {
     "data": {
      "text/plain": [
       "               angle      cos_angle      sin_angle\n",
       "count  127911.000000  127911.000000  127911.000000\n",
       "mean        0.008791       0.278368      -0.005052\n",
       "std         1.499794       0.680637       0.677663\n",
       "min        -3.141511      -1.000000      -1.000000\n",
       "25%        -1.082203      -0.268266      -0.661944\n",
       "50%         0.000000       0.471304       0.000000\n",
       "75%         1.078148       0.927224       0.646833\n",
       "max         3.141593       1.000000       1.000000"
      ],
      "text/html": [
       "<div>\n",
       "<style scoped>\n",
       "    .dataframe tbody tr th:only-of-type {\n",
       "        vertical-align: middle;\n",
       "    }\n",
       "\n",
       "    .dataframe tbody tr th {\n",
       "        vertical-align: top;\n",
       "    }\n",
       "\n",
       "    .dataframe thead th {\n",
       "        text-align: right;\n",
       "    }\n",
       "</style>\n",
       "<table border=\"1\" class=\"dataframe\">\n",
       "  <thead>\n",
       "    <tr style=\"text-align: right;\">\n",
       "      <th></th>\n",
       "      <th>angle</th>\n",
       "      <th>cos_angle</th>\n",
       "      <th>sin_angle</th>\n",
       "    </tr>\n",
       "  </thead>\n",
       "  <tbody>\n",
       "    <tr>\n",
       "      <th>count</th>\n",
       "      <td>127911.000000</td>\n",
       "      <td>127911.000000</td>\n",
       "      <td>127911.000000</td>\n",
       "    </tr>\n",
       "    <tr>\n",
       "      <th>mean</th>\n",
       "      <td>0.008791</td>\n",
       "      <td>0.278368</td>\n",
       "      <td>-0.005052</td>\n",
       "    </tr>\n",
       "    <tr>\n",
       "      <th>std</th>\n",
       "      <td>1.499794</td>\n",
       "      <td>0.680637</td>\n",
       "      <td>0.677663</td>\n",
       "    </tr>\n",
       "    <tr>\n",
       "      <th>min</th>\n",
       "      <td>-3.141511</td>\n",
       "      <td>-1.000000</td>\n",
       "      <td>-1.000000</td>\n",
       "    </tr>\n",
       "    <tr>\n",
       "      <th>25%</th>\n",
       "      <td>-1.082203</td>\n",
       "      <td>-0.268266</td>\n",
       "      <td>-0.661944</td>\n",
       "    </tr>\n",
       "    <tr>\n",
       "      <th>50%</th>\n",
       "      <td>0.000000</td>\n",
       "      <td>0.471304</td>\n",
       "      <td>0.000000</td>\n",
       "    </tr>\n",
       "    <tr>\n",
       "      <th>75%</th>\n",
       "      <td>1.078148</td>\n",
       "      <td>0.927224</td>\n",
       "      <td>0.646833</td>\n",
       "    </tr>\n",
       "    <tr>\n",
       "      <th>max</th>\n",
       "      <td>3.141593</td>\n",
       "      <td>1.000000</td>\n",
       "      <td>1.000000</td>\n",
       "    </tr>\n",
       "  </tbody>\n",
       "</table>\n",
       "</div>"
      ]
     },
     "execution_count": 9,
     "metadata": {},
     "output_type": "execute_result"
    }
   ],
   "execution_count": 9
  },
  {
   "metadata": {},
   "cell_type": "markdown",
   "source": [
    "### First run\n",
    "\n",
    "Let's run a first toy implementation using throw-ins of team France."
   ],
   "id": "d5ac5fac97f7d247"
  },
  {
   "metadata": {
    "ExecuteTime": {
     "end_time": "2025-08-04T21:50:48.115961Z",
     "start_time": "2025-08-04T21:50:48.099975Z"
    }
   },
   "cell_type": "code",
   "source": [
    "mask = (actions[\"type_name\"]==\"dribble\") & (actions[\"team_id\"]==771)\n",
    "loc_data = actions[mask][[\"start_x\", \"start_y\"]]\n",
    "dir_data = actions[mask][[\"cos_angle\", \"sin_angle\"]]"
   ],
   "id": "2877a86b1aed5203",
   "outputs": [],
   "execution_count": 10
  },
  {
   "metadata": {
    "ExecuteTime": {
     "end_time": "2025-08-04T21:50:48.325135Z",
     "start_time": "2025-08-04T21:50:48.133804Z"
    }
   },
   "cell_type": "code",
   "source": [
    "loc_data.plot.scatter(\n",
    "        x=\"start_x\",\n",
    "        y=\"start_y\",\n",
    "        title = f\"Start Location\",\n",
    "        figsize = (6,4)\n",
    "    )\n",
    "plt.show()"
   ],
   "id": "101cdb47ff5e0db9",
   "outputs": [
    {
     "data": {
      "text/plain": [
       "<Figure size 600x400 with 1 Axes>"
      ],
      "image/png": "[encoded data removed]"
     },
     "metadata": {},
     "output_type": "display_data"
    }
   ],
   "execution_count": 11
  },
  {
   "metadata": {
    "ExecuteTime": {
     "end_time": "2025-08-04T21:50:49.249994Z",
     "start_time": "2025-08-04T21:50:48.368582Z"
    }
   },
   "cell_type": "code",
   "source": [
    "#Gaussian clusters\n",
    "k_gauss = 7\n",
    "\n",
    "gauss_clusters = [sc.MultivariateGaussian() for j in range(k_gauss)]\n",
    "\n",
    "loc_em_model = sc.MixtureModel(gauss_clusters)\n",
    "loc_bregman_model = sc.MixtureModel(gauss_clusters)\n",
    "\n",
    "# Classic EM\n",
    "start = time.time()\n",
    "res_em = loc_em_model.fit_em_classic(loc_data, verbose=False)\n",
    "t_em = time.time() - start\n",
    "\n",
    "# Bregman EM\n",
    "start = time.time()\n",
    "res_bregman = loc_bregman_model.fit_em_bregman(loc_data, verbose=False)\n",
    "t_bregman = time.time() - start\n",
    "\n",
    "# Results\n",
    "print(f\"Final log-likelihoods:\\nEM: {res_em[-1]:.4f}\\nBregman: {res_bregman[-1]:.4f}\")\n",
    "print(f\"Timings:\\nEM: {t_em:.4f}s\\nBregman: {t_bregman:.4f}s\")\n",
    "print(f\"Calinski–Harabasz index:\\n  EM: {loc_em_model.kl_ch_score(loc_data):.4f}\\n\"\n",
    "      f\"  Bregman: {loc_bregman_model.kl_ch_score(loc_data):.4f}\")"
   ],
   "id": "b462832fe28249fe",
   "outputs": [
    {
     "name": "stdout",
     "output_type": "stream",
     "text": [
      "Final log-likelihoods:\n",
      "EM: -24481.7451\n",
      "Bregman: -24481.7451\n",
      "Timings:\n",
      "EM: 0.4791s\n",
      "Bregman: 0.3767s\n",
      "Calinski–Harabasz index:\n",
      "  EM: 1.0334\n",
      "  Bregman: 1.0334\n"
     ]
    }
   ],
   "execution_count": 12
  },
  {
   "metadata": {
    "ExecuteTime": {
     "end_time": "2025-08-04T21:50:49.285114Z",
     "start_time": "2025-08-04T21:50:49.269107Z"
    }
   },
   "cell_type": "code",
   "source": [
    "#for model in [loc_em_model, loc_bregman_model]:\n",
    "#    print(f\"{model}\\n\")"
   ],
   "id": "dc3c0b6c6cd588cc",
   "outputs": [],
   "execution_count": 13
  },
  {
   "metadata": {
    "ExecuteTime": {
     "end_time": "2025-08-04T21:50:50.018929Z",
     "start_time": "2025-08-04T21:50:49.310175Z"
    }
   },
   "cell_type": "code",
   "source": [
    "#Von Mises Clusters\n",
    "k_vm = 3\n",
    "\n",
    "vm_clusters = [sc.VonMises() for _ in range(k_vm)]\n",
    "\n",
    "dir_em_model = sc.MixtureModel(vm_clusters)\n",
    "dir_proxy_model = sc.MixtureModel(vm_clusters)\n",
    "dir_bregman_model = sc.MixtureModel(vm_clusters)\n",
    "\n",
    "# Classic EM\n",
    "start = time.time()\n",
    "res_em = dir_em_model.fit_em_classic(dir_data, verbose=False)\n",
    "t_em = time.time() - start\n",
    "\n",
    "# Proxy EM for Von Mises\n",
    "start = time.time()\n",
    "res_proxy = dir_proxy_model.fit_em_vonmises_approx(dir_data, verbose=False)\n",
    "t_proxy = time.time() - start\n",
    "\n",
    "# Bregman EM\n",
    "start = time.time()\n",
    "res_bregman = dir_bregman_model.fit_em_bregman(dir_data, verbose=False)\n",
    "t_bregman = time.time() - start\n",
    "\n",
    "# Results\n",
    "print(f\"Final log-likelihoods:\\nEM: {res_em[-1]:.4f}\\nProxy: {res_proxy[-1]:.4f}\\nBregman: {res_bregman[-1]:.4f}\")\n",
    "print(f\"Timings:\\nEM: {t_em:.4f}s\\nProxy: {t_proxy:.4f}s\\nBregman: {t_bregman:.4f}s\")\n",
    "print(f\"Calinski–Harabasz index:\\n\"\n",
    "      f\"  EM: {dir_em_model.kl_ch_score(loc_data):.4f}\\n\"\n",
    "      f\"  Bregman: {dir_bregman_model.kl_ch_score(loc_data):.4f}\\n\"\n",
    "      f\"  Proxy: {dir_proxy_model.kl_ch_score(loc_data):.4f}\")\n"
   ],
   "id": "6f6b97de15e1de30",
   "outputs": [
    {
     "name": "stdout",
     "output_type": "stream",
     "text": [
      "Final log-likelihoods:\n",
      "EM: -5033.1198\n",
      "Proxy: -5024.6355\n",
      "Bregman: -5033.4749\n",
      "Timings:\n",
      "EM: 0.4818s\n",
      "Proxy: 0.1003s\n",
      "Bregman: 0.1033s\n",
      "Calinski–Harabasz index:\n",
      "  EM: -0.0010\n",
      "  Bregman: -0.0010\n",
      "  Proxy: -0.0007\n"
     ]
    }
   ],
   "execution_count": 14
  },
  {
   "metadata": {
    "ExecuteTime": {
     "end_time": "2025-08-04T21:50:50.052592Z",
     "start_time": "2025-08-04T21:50:50.041192Z"
    }
   },
   "cell_type": "code",
   "source": [
    "for model in [dir_em_model, dir_bregman_model, dir_proxy_model]:\n",
    "    print(f\"{model}\\n\")"
   ],
   "id": "9192aa6ab975c28e",
   "outputs": [
    {
     "name": "stdout",
     "output_type": "stream",
     "text": [
      "MixtureModel(n_clusters=3)\n",
      "  ├─ (0) w=0.324  VonMises(loc=124.8º, kappa=0.625)\n",
      "  ├─ (1) w=0.299  VonMises(loc=-76.5º, kappa=0.665)\n",
      "  └─ (2) w=0.377  VonMises(loc=5.4º, kappa=1.493)\n",
      "\n",
      "MixtureModel(n_clusters=3)\n",
      "  ├─ (0) w=0.281  VonMises(loc=124.8º, kappa=0.625)\n",
      "  ├─ (1) w=0.277  VonMises(loc=-76.5º, kappa=0.665)\n",
      "  └─ (2) w=0.442  VonMises(loc=5.4º, kappa=1.493)\n",
      "\n",
      "MixtureModel(n_clusters=3)\n",
      "  ├─ (0) w=0.497  VonMises(loc=124.8º, kappa=0.625)\n",
      "  ├─ (1) w=0.459  VonMises(loc=-76.5º, kappa=0.665)\n",
      "  └─ (2) w=0.044  VonMises(loc=5.4º, kappa=1.493)\n",
      "\n"
     ]
    }
   ],
   "execution_count": 15
  },
  {
   "metadata": {
    "ExecuteTime": {
     "end_time": "2025-08-04T21:56:25.374497Z",
     "start_time": "2025-08-04T21:56:24.026200Z"
    }
   },
   "cell_type": "code",
   "source": [
    "K_loc = 7\n",
    "K_dir = 3\n",
    "results = {}\n",
    "\n",
    "choose = \"bregman\"\n",
    "start = time.time()\n",
    "results[choose] = sc.two_layer_scheme(loc_data, dir_data, K_loc, K_dir, choose=choose)\n",
    "run_time = time.time() - start\n",
    "\n",
    "print(f\"Running Time {choose} Model: {run_time:.4f}s\\n\")\n",
    "# print(f\"{results[choose][0]}\\n\")\n",
    "# for i, vmm in enumerate(results[choose][1]):\n",
    "#     print(f\"GMM Cluster {i}: \")\n",
    "#     print(f\"{vmm}\\n\")\n",
    "\n",
    "gmm, vmm = results[\"bregman\"]\n",
    "vis.show_all_models(gmm, vmm)"
   ],
   "id": "c630a9573d3f4bce",
   "outputs": [
    {
     "name": "stdout",
     "output_type": "stream",
     "text": [
      "Running Time bregman Model: 1.2935s\n",
      "\n"
     ]
    },
    {
     "data": {
      "text/plain": [
       "<Figure size 600x450 with 1 Axes>"
      ],
      "image/png": "[encoded data removed]"
     },
     "metadata": {},
     "output_type": "display_data"
    }
   ],
   "execution_count": 25
  },
  {
   "metadata": {
    "ExecuteTime": {
     "end_time": "2025-08-04T21:56:27.614031Z",
     "start_time": "2025-08-04T21:56:26.317634Z"
    }
   },
   "cell_type": "code",
   "source": [
    "choose = \"soccermix\"\n",
    "start = time.time()\n",
    "results[choose] = sc.two_layer_scheme(loc_data, dir_data, K_loc, K_dir, choose=choose)\n",
    "run_time = time.time() - start\n",
    "\n",
    "print(f\"Running Time {choose} Model: {run_time:.4f}s\\n\")\n",
    "# print(f\"{results[choose][0]}\\n\")\n",
    "# for i, vmm in enumerate(results[choose][1]):\n",
    "#     print(f\"GMM Cluster {i}: \")\n",
    "#     print(f\"{vmm}\\n\")\n",
    "\n",
    "gmm, vmm = results[choose]\n",
    "vis.show_all_models(gmm, vmm)"
   ],
   "id": "4fc0e58308a04be1",
   "outputs": [
    {
     "name": "stdout",
     "output_type": "stream",
     "text": [
      "Running Time soccermix Model: 1.2445s\n",
      "\n"
     ]
    },
    {
     "data": {
      "text/plain": [
       "<Figure size 600x450 with 1 Axes>"
      ],
      "image/png": "[encoded data removed]"
     },
     "metadata": {},
     "output_type": "display_data"
    }
   ],
   "execution_count": 26
  },
  {
   "metadata": {
    "ExecuteTime": {
     "end_time": "2025-08-04T21:56:33.451111Z",
     "start_time": "2025-08-04T21:56:28.563795Z"
    }
   },
   "cell_type": "code",
   "source": [
    "choose = \"classic\"\n",
    "start = time.time()\n",
    "results[choose] = sc.two_layer_scheme(loc_data, dir_data, K_loc, K_dir, choose=choose)\n",
    "run_time = time.time() - start\n",
    "\n",
    "print(f\"Running Time {choose} Model: {run_time:.4f}s\\n\")\n",
    "# print(f\"{results[choose][0]}\\n\")\n",
    "# for i, vmm in enumerate(results[choose][1]):\n",
    "#     print(f\"GMM Cluster {i}: \")\n",
    "#     print(f\"{vmm}\\n\")\n",
    "\n",
    "gmm, vmm = results[choose]\n",
    "vis.show_all_models(gmm, vmm)"
   ],
   "id": "58d57177b3f14919",
   "outputs": [
    {
     "name": "stdout",
     "output_type": "stream",
     "text": [
      "Running Time classic Model: 4.8407s\n",
      "\n"
     ]
    },
    {
     "data": {
      "text/plain": [
       "<Figure size 600x450 with 1 Axes>"
      ],
      "image/png": "[encoded data removed]"
     },
     "metadata": {},
     "output_type": "display_data"
    }
   ],
   "execution_count": 27
  },
  {
   "metadata": {
    "ExecuteTime": {
     "end_time": "2025-08-04T21:56:43.968709Z",
     "start_time": "2025-08-04T21:56:43.917253Z"
    }
   },
   "cell_type": "code",
   "source": [
    "rows = []\n",
    "for key, value in results.items():\n",
    "    loc_model = value[0]\n",
    "    dir_models = value[1]\n",
    "\n",
    "    loc_chi = round(loc_model.kl_ch_score(loc_data),4)\n",
    "    rows.append({\"Model\": key, \"Component\": \"loc_model\", \"CH Index\": loc_chi})\n",
    "\n",
    "    for i, dir_model in enumerate(dir_models):\n",
    "        dir_chi = round(dir_model.kl_ch_score(dir_data),4)\n",
    "        rows.append({\"Model\": key, \"Component\": f\"dir_model_{i}\", \"CH Index\": dir_chi})\n",
    "\n",
    "# Create DataFrame\n",
    "scores_df = pd.DataFrame(rows)\n",
    "scores_df.head(24)"
   ],
   "id": "ed217d805aaa6248",
   "outputs": [
    {
     "data": {
      "text/plain": [
       "        Model    Component  CH Index\n",
       "0     bregman    loc_model    1.0334\n",
       "1     bregman  dir_model_0    0.1887\n",
       "2     bregman  dir_model_1    0.2063\n",
       "3     bregman  dir_model_2    0.1381\n",
       "4     bregman  dir_model_3    0.1375\n",
       "5     bregman  dir_model_4    0.1787\n",
       "6     bregman  dir_model_5    0.2401\n",
       "7     bregman  dir_model_6    0.1712\n",
       "8   soccermix    loc_model    1.0334\n",
       "9   soccermix  dir_model_0    0.0632\n",
       "10  soccermix  dir_model_1    0.0634\n",
       "11  soccermix  dir_model_2    0.0736\n",
       "12  soccermix  dir_model_3    0.0660\n",
       "13  soccermix  dir_model_4    0.0814\n",
       "14  soccermix  dir_model_5    0.2409\n",
       "15  soccermix  dir_model_6    0.2381\n",
       "16    classic    loc_model    1.0334\n",
       "17    classic  dir_model_0    0.1964\n",
       "18    classic  dir_model_1    0.2124\n",
       "19    classic  dir_model_2    0.1634\n",
       "20    classic  dir_model_3    0.1453\n",
       "21    classic  dir_model_4    0.1795\n",
       "22    classic  dir_model_5    0.2401\n",
       "23    classic  dir_model_6    0.1898"
      ],
      "text/html": [
       "<div>\n",
       "<style scoped>\n",
       "    .dataframe tbody tr th:only-of-type {\n",
       "        vertical-align: middle;\n",
       "    }\n",
       "\n",
       "    .dataframe tbody tr th {\n",
       "        vertical-align: top;\n",
       "    }\n",
       "\n",
       "    .dataframe thead th {\n",
       "        text-align: right;\n",
       "    }\n",
       "</style>\n",
       "<table border=\"1\" class=\"dataframe\">\n",
       "  <thead>\n",
       "    <tr style=\"text-align: right;\">\n",
       "      <th></th>\n",
       "      <th>Model</th>\n",
       "      <th>Component</th>\n",
       "      <th>CH Index</th>\n",
       "    </tr>\n",
       "  </thead>\n",
       "  <tbody>\n",
       "    <tr>\n",
       "      <th>0</th>\n",
       "      <td>bregman</td>\n",
       "      <td>loc_model</td>\n",
       "      <td>1.0334</td>\n",
       "    </tr>\n",
       "    <tr>\n",
       "      <th>1</th>\n",
       "      <td>bregman</td>\n",
       "      <td>dir_model_0</td>\n",
       "      <td>0.1887</td>\n",
       "    </tr>\n",
       "    <tr>\n",
       "      <th>2</th>\n",
       "      <td>bregman</td>\n",
       "      <td>dir_model_1</td>\n",
       "      <td>0.2063</td>\n",
       "    </tr>\n",
       "    <tr>\n",
       "      <th>3</th>\n",
       "      <td>bregman</td>\n",
       "      <td>dir_model_2</td>\n",
       "      <td>0.1381</td>\n",
       "    </tr>\n",
       "    <tr>\n",
       "      <th>4</th>\n",
       "      <td>bregman</td>\n",
       "      <td>dir_model_3</td>\n",
       "      <td>0.1375</td>\n",
       "    </tr>\n",
       "    <tr>\n",
       "      <th>5</th>\n",
       "      <td>bregman</td>\n",
       "      <td>dir_model_4</td>\n",
       "      <td>0.1787</td>\n",
       "    </tr>\n",
       "    <tr>\n",
       "      <th>6</th>\n",
       "      <td>bregman</td>\n",
       "      <td>dir_model_5</td>\n",
       "      <td>0.2401</td>\n",
       "    </tr>\n",
       "    <tr>\n",
       "      <th>7</th>\n",
       "      <td>bregman</td>\n",
       "      <td>dir_model_6</td>\n",
       "      <td>0.1712</td>\n",
       "    </tr>\n",
       "    <tr>\n",
       "      <th>8</th>\n",
       "      <td>soccermix</td>\n",
       "      <td>loc_model</td>\n",
       "      <td>1.0334</td>\n",
       "    </tr>\n",
       "    <tr>\n",
       "      <th>9</th>\n",
       "      <td>soccermix</td>\n",
       "      <td>dir_model_0</td>\n",
       "      <td>0.0632</td>\n",
       "    </tr>\n",
       "    <tr>\n",
       "      <th>10</th>\n",
       "      <td>soccermix</td>\n",
       "      <td>dir_model_1</td>\n",
       "      <td>0.0634</td>\n",
       "    </tr>\n",
       "    <tr>\n",
       "      <th>11</th>\n",
       "      <td>soccermix</td>\n",
       "      <td>dir_model_2</td>\n",
       "      <td>0.0736</td>\n",
       "    </tr>\n",
       "    <tr>\n",
       "      <th>12</th>\n",
       "      <td>soccermix</td>\n",
       "      <td>dir_model_3</td>\n",
       "      <td>0.0660</td>\n",
       "    </tr>\n",
       "    <tr>\n",
       "      <th>13</th>\n",
       "      <td>soccermix</td>\n",
       "      <td>dir_model_4</td>\n",
       "      <td>0.0814</td>\n",
       "    </tr>\n",
       "    <tr>\n",
       "      <th>14</th>\n",
       "      <td>soccermix</td>\n",
       "      <td>dir_model_5</td>\n",
       "      <td>0.2409</td>\n",
       "    </tr>\n",
       "    <tr>\n",
       "      <th>15</th>\n",
       "      <td>soccermix</td>\n",
       "      <td>dir_model_6</td>\n",
       "      <td>0.2381</td>\n",
       "    </tr>\n",
       "    <tr>\n",
       "      <th>16</th>\n",
       "      <td>classic</td>\n",
       "      <td>loc_model</td>\n",
       "      <td>1.0334</td>\n",
       "    </tr>\n",
       "    <tr>\n",
       "      <th>17</th>\n",
       "      <td>classic</td>\n",
       "      <td>dir_model_0</td>\n",
       "      <td>0.1964</td>\n",
       "    </tr>\n",
       "    <tr>\n",
       "      <th>18</th>\n",
       "      <td>classic</td>\n",
       "      <td>dir_model_1</td>\n",
       "      <td>0.2124</td>\n",
       "    </tr>\n",
       "    <tr>\n",
       "      <th>19</th>\n",
       "      <td>classic</td>\n",
       "      <td>dir_model_2</td>\n",
       "      <td>0.1634</td>\n",
       "    </tr>\n",
       "    <tr>\n",
       "      <th>20</th>\n",
       "      <td>classic</td>\n",
       "      <td>dir_model_3</td>\n",
       "      <td>0.1453</td>\n",
       "    </tr>\n",
       "    <tr>\n",
       "      <th>21</th>\n",
       "      <td>classic</td>\n",
       "      <td>dir_model_4</td>\n",
       "      <td>0.1795</td>\n",
       "    </tr>\n",
       "    <tr>\n",
       "      <th>22</th>\n",
       "      <td>classic</td>\n",
       "      <td>dir_model_5</td>\n",
       "      <td>0.2401</td>\n",
       "    </tr>\n",
       "    <tr>\n",
       "      <th>23</th>\n",
       "      <td>classic</td>\n",
       "      <td>dir_model_6</td>\n",
       "      <td>0.1898</td>\n",
       "    </tr>\n",
       "  </tbody>\n",
       "</table>\n",
       "</div>"
      ]
     },
     "execution_count": 29,
     "metadata": {},
     "output_type": "execute_result"
    }
   ],
   "execution_count": 29
  },
  {
   "metadata": {
    "ExecuteTime": {
     "end_time": "2025-08-04T21:50:57.546747Z",
     "start_time": "2025-08-04T21:50:57.468409Z"
    }
   },
   "cell_type": "code",
   "source": [
    "# Collect BIC and AIC results\n",
    "rows = []\n",
    "for key, value in results.items():\n",
    "    loc_model = value[0]\n",
    "    dir_models = value[1]\n",
    "\n",
    "    loc_bic = round(loc_model.bic(loc_data),0)\n",
    "    loc_aic = round(loc_model.aic(loc_data),0)\n",
    "    rows.append({\"Model\": key, \"Component\": \"loc_model\", \"BIC\": loc_bic, \"AIC\": loc_aic})\n",
    "\n",
    "    for i, dir_model in enumerate(dir_models):\n",
    "        dir_bic = round(dir_model.bic(dir_data),0)\n",
    "        dir_aic = round(dir_model.aic(dir_data),0)\n",
    "        rows.append({\"Model\": key, \"Component\": f\"dir_model_{i}\", \"BIC\": dir_bic, \"AIC\": dir_aic})\n",
    "\n",
    "# Create DataFrame\n",
    "scores_df = pd.DataFrame(rows)\n",
    "scores_df.groupby(\"Model\").sum()\n"
   ],
   "id": "62cc6e5643387f03",
   "outputs": [
    {
     "data": {
      "text/plain": [
       "                                                   Component       BIC  \\\n",
       "Model                                                                    \n",
       "bregman    loc_modeldir_model_0dir_model_1dir_model_2dir_...  122063.0   \n",
       "classic    loc_modeldir_model_0dir_model_1dir_model_2dir_...  122129.0   \n",
       "soccermix  loc_modeldir_model_0dir_model_1dir_model_2dir_...  122042.0   \n",
       "\n",
       "                AIC  \n",
       "Model                \n",
       "bregman    121611.0  \n",
       "classic    121676.0  \n",
       "soccermix  121588.0  "
      ],
      "text/html": [
       "<div>\n",
       "<style scoped>\n",
       "    .dataframe tbody tr th:only-of-type {\n",
       "        vertical-align: middle;\n",
       "    }\n",
       "\n",
       "    .dataframe tbody tr th {\n",
       "        vertical-align: top;\n",
       "    }\n",
       "\n",
       "    .dataframe thead th {\n",
       "        text-align: right;\n",
       "    }\n",
       "</style>\n",
       "<table border=\"1\" class=\"dataframe\">\n",
       "  <thead>\n",
       "    <tr style=\"text-align: right;\">\n",
       "      <th></th>\n",
       "      <th>Component</th>\n",
       "      <th>BIC</th>\n",
       "      <th>AIC</th>\n",
       "    </tr>\n",
       "    <tr>\n",
       "      <th>Model</th>\n",
       "      <th></th>\n",
       "      <th></th>\n",
       "      <th></th>\n",
       "    </tr>\n",
       "  </thead>\n",
       "  <tbody>\n",
       "    <tr>\n",
       "      <th>bregman</th>\n",
       "      <td>loc_modeldir_model_0dir_model_1dir_model_2dir_...</td>\n",
       "      <td>122063.0</td>\n",
       "      <td>121611.0</td>\n",
       "    </tr>\n",
       "    <tr>\n",
       "      <th>classic</th>\n",
       "      <td>loc_modeldir_model_0dir_model_1dir_model_2dir_...</td>\n",
       "      <td>122129.0</td>\n",
       "      <td>121676.0</td>\n",
       "    </tr>\n",
       "    <tr>\n",
       "      <th>soccermix</th>\n",
       "      <td>loc_modeldir_model_0dir_model_1dir_model_2dir_...</td>\n",
       "      <td>122042.0</td>\n",
       "      <td>121588.0</td>\n",
       "    </tr>\n",
       "  </tbody>\n",
       "</table>\n",
       "</div>"
      ]
     },
     "execution_count": 20,
     "metadata": {},
     "output_type": "execute_result"
    }
   ],
   "execution_count": 20
  },
  {
   "metadata": {
    "ExecuteTime": {
     "end_time": "2025-08-04T21:50:57.615356Z",
     "start_time": "2025-08-04T21:50:57.611762Z"
    }
   },
   "cell_type": "code",
   "source": "",
   "id": "532eea86201d66d",
   "outputs": [],
   "execution_count": null
  }
 ],
 "metadata": {
  "kernelspec": {
   "display_name": "Python 3",
   "language": "python",
   "name": "python3"
  },
  "language_info": {
   "codemirror_mode": {
    "name": "ipython",
    "version": 2
   },
   "file_extension": ".py",
   "mimetype": "text/x-python",
   "name": "python",
   "nbconvert_exporter": "python",
   "pygments_lexer": "ipython2",
   "version": "2.7.6"
  }
 },
 "nbformat": 4,
 "nbformat_minor": 5
}
