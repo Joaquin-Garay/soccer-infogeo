{
 "cells": [
  {
   "metadata": {},
   "cell_type": "markdown",
   "source": [
    "# Model implementation\n",
    "\n",
    "Information Geometry Soft Clustering for Sport Analytics\n",
    "\n",
    "Joaquin Garay"
   ],
   "id": "1d68bea2064769d3"
  },
  {
   "metadata": {
    "collapsed": true,
    "ExecuteTime": {
     "end_time": "2025-07-29T19:51:10.131958Z",
     "start_time": "2025-07-29T19:51:09.002710Z"
    }
   },
   "cell_type": "code",
   "source": [
    "%load_ext autoreload\n",
    "%autoreload 2\n",
    "\n",
    "import os\n",
    "import time\n",
    "import tqdm\n",
    "import numpy as np\n",
    "import pandas as pd\n",
    "\n",
    "import vis\n",
    "import softclustering as sc\n",
    "\n",
    "from sklearn.neighbors import LocalOutlierFactor\n",
    "import matplotlib.pyplot as plt\n",
    "import socceraction.spadl as spadl\n"
   ],
   "id": "initial_id",
   "outputs": [
    {
     "name": "stdout",
     "output_type": "stream",
     "text": [
      "The autoreload extension is already loaded. To reload it, use:\n",
      "  %reload_ext autoreload\n"
     ]
    }
   ],
   "execution_count": 3
  },
  {
   "metadata": {},
   "cell_type": "markdown",
   "source": "### Data Preparation",
   "id": "e4e0a9ff891dabc4"
  },
  {
   "metadata": {},
   "cell_type": "markdown",
   "source": "Concatenate actions of all games in one DataFrame.",
   "id": "228a4a3ac4e36d4a"
  },
  {
   "metadata": {
    "ExecuteTime": {
     "end_time": "2025-07-29T19:51:10.544751Z",
     "start_time": "2025-07-29T19:51:10.136797Z"
    }
   },
   "cell_type": "code",
   "source": [
    "datafolder = \"data\"\n",
    "fifa2018h5 = os.path.join(datafolder, \"spadl-fifa2018.h5\")\n",
    "games = pd.read_hdf(fifa2018h5, key=\"games\")\n",
    "with pd.HDFStore(fifa2018h5) as store:\n",
    "    actions = []  #list of DataFrames\n",
    "    for game in tqdm.tqdm(games.itertuples()):\n",
    "        game_action = store[f\"actions/game_{game.game_id}\"]\n",
    "        game_action = spadl.play_left_to_right(game_action, game.home_team_id)\n",
    "        game_action[\"is_home\"] = game_action[\"team_id\"] == game.home_team_id\n",
    "        actions.append(game_action)\n",
    "    actions = pd.concat(actions)\n",
    "    actions.drop(\"original_event_id\", axis=1, inplace=True)\n",
    "    actions = pd.merge(actions, spadl.config.actiontypes_df(), how=\"left\")"
   ],
   "id": "71934fdfa2402fa6",
   "outputs": [
    {
     "name": "stderr",
     "output_type": "stream",
     "text": [
      "64it [00:00, 215.77it/s]\n"
     ]
    }
   ],
   "execution_count": 4
  },
  {
   "metadata": {
    "ExecuteTime": {
     "end_time": "2025-07-29T19:51:10.650622Z",
     "start_time": "2025-07-29T19:51:10.564027Z"
    }
   },
   "cell_type": "code",
   "source": [
    "def consolidate(actions):\n",
    "    #actions.fillna(0, inplace=True)\n",
    "\n",
    "    #Consolidate corner_short and corner_crossed\n",
    "    corner_idx = actions.type_name.str.contains(\"corner\")\n",
    "    actions[\"type_name\"] = actions[\"type_name\"].mask(corner_idx, \"corner\")\n",
    "\n",
    "    #Consolidate freekick_short, freekick_crossed, and shot_freekick\n",
    "    freekick_idx = actions.type_name.str.contains(\"freekick\")\n",
    "    actions[\"type_name\"] = actions[\"type_name\"].mask(freekick_idx, \"freekick\")\n",
    "\n",
    "    #Consolidate keeper_claim, keeper_punch, keeper_save, keeper_pick_up\n",
    "    keeper_idx = actions.type_name.str.contains(\"keeper\")\n",
    "    actions[\"type_name\"] = actions[\"type_name\"].mask(keeper_idx, \"keeper_action\")\n",
    "\n",
    "    actions[\"start_x\"] = actions[\"start_x\"].mask(actions.type_name == \"shot_penalty\", 94.5)\n",
    "    actions[\"start_y\"] = actions[\"start_y\"].mask(actions.type_name == \"shot_penalty\", 34)\n",
    "\n",
    "    return actions\n",
    "\n",
    "\n",
    "actions = consolidate(actions)"
   ],
   "id": "533326ea9e5b5f1c",
   "outputs": [],
   "execution_count": 5
  },
  {
   "metadata": {
    "ExecuteTime": {
     "end_time": "2025-07-29T19:51:10.671439Z",
     "start_time": "2025-07-29T19:51:10.658394Z"
    }
   },
   "cell_type": "code",
   "source": [
    "#Actions of Team France matches.\n",
    "len(actions[actions[\"team_id\"] == 771])"
   ],
   "id": "1791e14d37fb5174",
   "outputs": [
    {
     "data": {
      "text/plain": [
       "6829"
      ]
     },
     "execution_count": 6,
     "metadata": {},
     "output_type": "execute_result"
    }
   ],
   "execution_count": 6
  },
  {
   "metadata": {
    "ExecuteTime": {
     "end_time": "2025-07-29T19:51:10.696841Z",
     "start_time": "2025-07-29T19:51:10.680188Z"
    }
   },
   "cell_type": "code",
   "source": "actions.groupby(\"type_name\").size()",
   "id": "4eb9f50ea571275d",
   "outputs": [
    {
     "data": {
      "text/plain": [
       "type_name\n",
       "bad_touch         1547\n",
       "clearance         2074\n",
       "corner             558\n",
       "cross             1305\n",
       "dribble          52731\n",
       "foul              1876\n",
       "freekick          1272\n",
       "goalkick           677\n",
       "interception      1681\n",
       "keeper_action      584\n",
       "pass             56438\n",
       "shot              1556\n",
       "shot_penalty        68\n",
       "tackle            1830\n",
       "take_on           2109\n",
       "throw_in          2178\n",
       "dtype: int64"
      ]
     },
     "execution_count": 7,
     "metadata": {},
     "output_type": "execute_result"
    }
   ],
   "execution_count": 7
  },
  {
   "metadata": {},
   "cell_type": "markdown",
   "source": [
    "As suggested in SoccerMix, add noise on the starting and ending locations, but only on those actions that we can visually note a predefined pattern.\n",
    "* *Add noise in both start and end locations*:\n",
    "    * Cross\n",
    "    * Shot\n",
    "    * Keeper_action\n",
    "* *Only on start locations*:\n",
    "    * Clearance\n",
    "    * Goal kick\n",
    "* *Only on end locations*:\n",
    "    * Corner\n",
    "    * Freekick\n",
    "    * Shot_penalty"
   ],
   "id": "f365f4a57e669f5c"
  },
  {
   "metadata": {
    "ExecuteTime": {
     "end_time": "2025-07-29T19:51:10.743421Z",
     "start_time": "2025-07-29T19:51:10.723010Z"
    }
   },
   "cell_type": "code",
   "source": [
    "def add_noise(actions):\n",
    "    # Start locations\n",
    "    start_list = [\"cross\", \"shot\", \"keeper_action\", \"clearance\", \"goalkick\"]\n",
    "    mask = actions[\"type_name\"].isin(start_list)\n",
    "    noise = np.random.normal(0, 0.5, size=actions.loc[mask, [\"start_x\", \"start_y\"]].shape)\n",
    "    actions.loc[mask, [\"start_x\", \"start_y\"]] += noise\n",
    "\n",
    "    # End locations\n",
    "    end_list = [\"cross\", \"shot\", \"keeper_action\", \"corner\", \"freekick\", \"shot_penalty\"]\n",
    "    mask = actions[\"type_name\"].isin(end_list)\n",
    "    noise = np.random.normal(0, 0.5, size=actions.loc[mask, [\"end_x\", \"end_y\"]].shape)\n",
    "    actions.loc[mask, [\"end_x\", \"end_y\"]] += noise\n",
    "\n",
    "    return actions\n",
    "\n",
    "\n",
    "actions = add_noise(actions)"
   ],
   "id": "9b595325cb6d6b7b",
   "outputs": [],
   "execution_count": 8
  },
  {
   "metadata": {
    "ExecuteTime": {
     "end_time": "2025-07-29T19:51:10.781617Z",
     "start_time": "2025-07-29T19:51:10.771156Z"
    }
   },
   "cell_type": "code",
   "source": [
    "# # display event locations with noise\n",
    "# corrected_actions = [\"cross\", \"shot\", \"keeper_action\", \"clearance\", \"goalkick\",\"corner\", \"freekick\", \"shot_penalty\"]\n",
    "# for actiontype in corrected_actions:\n",
    "#     actions[actions.type_name == actiontype].plot.scatter(\n",
    "#         x=\"start_x\",\n",
    "#         y=\"start_y\",\n",
    "#         title = f\"Start Location: {actiontype}\",\n",
    "#         figsize = (6,4)\n",
    "#     )\n",
    "#     plt.show()\n",
    "#     actions[actions.type_name == actiontype].plot.scatter(\n",
    "#         x=\"end_x\",\n",
    "#         y=\"end_y\",\n",
    "#         title = f\"End Location: {actiontype}\",\n",
    "#         figsize = (6,4)\n",
    "#     )\n",
    "#     plt.show()"
   ],
   "id": "96ef05afa181356c",
   "outputs": [],
   "execution_count": 9
  },
  {
   "metadata": {
    "ExecuteTime": {
     "end_time": "2025-07-29T19:51:12.031569Z",
     "start_time": "2025-07-29T19:51:10.792614Z"
    }
   },
   "cell_type": "code",
   "source": [
    "def remove_outliers(actions, verbose=False):\n",
    "    X = actions[[\"start_x\",\"start_y\",\"end_x\",\"end_y\"]].to_numpy(dtype=float)\n",
    "    inliers = LocalOutlierFactor(contamination=\"auto\").fit_predict(X)\n",
    "    if verbose:\n",
    "        print(f\"Remove {(inliers==-1).sum()} out of {X.shape[0]} datapoints.\")\n",
    "    return actions[inliers==1]\n",
    "\n",
    "actions = remove_outliers(actions,True)"
   ],
   "id": "26174dde29b6c0a9",
   "outputs": [
    {
     "name": "stdout",
     "output_type": "stream",
     "text": [
      "Remove 637 out of 128484 datapoints.\n"
     ]
    }
   ],
   "execution_count": 10
  },
  {
   "metadata": {},
   "cell_type": "markdown",
   "source": "### Features",
   "id": "2045eff5f67124b5"
  },
  {
   "metadata": {},
   "cell_type": "markdown",
   "source": [
    "Compute the angle of the direction of the action with respect with the x-axis (pitch's length) a\n",
    "$$\\tan \\theta = \\frac{y_{end} - y_{start}}{x_{end} - x_{start}}$$"
   ],
   "id": "8a99a2a13347dd0a"
  },
  {
   "metadata": {
    "ExecuteTime": {
     "end_time": "2025-07-29T19:51:12.076425Z",
     "start_time": "2025-07-29T19:51:12.042435Z"
    }
   },
   "cell_type": "code",
   "source": [
    "actions[\"angle\"] = np.arctan2(actions.end_y - actions.start_y, actions.end_x - actions.start_x)\n",
    "actions[\"cos_angle\"] = np.cos(actions[\"angle\"])\n",
    "actions[\"sin_angle\"] = np.sin(actions[\"angle\"])\n",
    "actions[[\"angle\", \"cos_angle\", \"sin_angle\"]].describe()"
   ],
   "id": "69c78aee6b06747",
   "outputs": [
    {
     "data": {
      "text/plain": [
       "               angle      cos_angle      sin_angle\n",
       "count  127847.000000  127847.000000  127847.000000\n",
       "mean        0.060702       0.317358      -0.006073\n",
       "std         1.459602       0.676935       0.664088\n",
       "min        -3.134950      -1.000000      -1.000000\n",
       "25%        -0.969342      -0.169098      -0.647648\n",
       "50%         0.000000       0.532483       0.000000\n",
       "75%         1.064659       0.956041       0.624209\n",
       "max         3.141593       1.000000       1.000000"
      ],
      "text/html": [
       "<div>\n",
       "<style scoped>\n",
       "    .dataframe tbody tr th:only-of-type {\n",
       "        vertical-align: middle;\n",
       "    }\n",
       "\n",
       "    .dataframe tbody tr th {\n",
       "        vertical-align: top;\n",
       "    }\n",
       "\n",
       "    .dataframe thead th {\n",
       "        text-align: right;\n",
       "    }\n",
       "</style>\n",
       "<table border=\"1\" class=\"dataframe\">\n",
       "  <thead>\n",
       "    <tr style=\"text-align: right;\">\n",
       "      <th></th>\n",
       "      <th>angle</th>\n",
       "      <th>cos_angle</th>\n",
       "      <th>sin_angle</th>\n",
       "    </tr>\n",
       "  </thead>\n",
       "  <tbody>\n",
       "    <tr>\n",
       "      <th>count</th>\n",
       "      <td>127847.000000</td>\n",
       "      <td>127847.000000</td>\n",
       "      <td>127847.000000</td>\n",
       "    </tr>\n",
       "    <tr>\n",
       "      <th>mean</th>\n",
       "      <td>0.060702</td>\n",
       "      <td>0.317358</td>\n",
       "      <td>-0.006073</td>\n",
       "    </tr>\n",
       "    <tr>\n",
       "      <th>std</th>\n",
       "      <td>1.459602</td>\n",
       "      <td>0.676935</td>\n",
       "      <td>0.664088</td>\n",
       "    </tr>\n",
       "    <tr>\n",
       "      <th>min</th>\n",
       "      <td>-3.134950</td>\n",
       "      <td>-1.000000</td>\n",
       "      <td>-1.000000</td>\n",
       "    </tr>\n",
       "    <tr>\n",
       "      <th>25%</th>\n",
       "      <td>-0.969342</td>\n",
       "      <td>-0.169098</td>\n",
       "      <td>-0.647648</td>\n",
       "    </tr>\n",
       "    <tr>\n",
       "      <th>50%</th>\n",
       "      <td>0.000000</td>\n",
       "      <td>0.532483</td>\n",
       "      <td>0.000000</td>\n",
       "    </tr>\n",
       "    <tr>\n",
       "      <th>75%</th>\n",
       "      <td>1.064659</td>\n",
       "      <td>0.956041</td>\n",
       "      <td>0.624209</td>\n",
       "    </tr>\n",
       "    <tr>\n",
       "      <th>max</th>\n",
       "      <td>3.141593</td>\n",
       "      <td>1.000000</td>\n",
       "      <td>1.000000</td>\n",
       "    </tr>\n",
       "  </tbody>\n",
       "</table>\n",
       "</div>"
      ]
     },
     "execution_count": 11,
     "metadata": {},
     "output_type": "execute_result"
    }
   ],
   "execution_count": 11
  },
  {
   "metadata": {},
   "cell_type": "markdown",
   "source": [
    "### First run\n",
    "\n",
    "Let's run a first toy implementation using throw-ins of team France."
   ],
   "id": "d5ac5fac97f7d247"
  },
  {
   "metadata": {
    "ExecuteTime": {
     "end_time": "2025-07-29T19:51:12.123554Z",
     "start_time": "2025-07-29T19:51:12.102732Z"
    }
   },
   "cell_type": "code",
   "source": [
    "mask = (actions[\"type_name\"]==\"pass\") #& (actions[\"team_id\"]==771)\n",
    "loc_data = actions[mask][[\"start_x\", \"start_y\"]]\n",
    "dir_data = actions[mask][[\"cos_angle\", \"sin_angle\"]]"
   ],
   "id": "2877a86b1aed5203",
   "outputs": [],
   "execution_count": 12
  },
  {
   "metadata": {
    "ExecuteTime": {
     "end_time": "2025-07-29T19:51:12.297438Z",
     "start_time": "2025-07-29T19:51:12.142147Z"
    }
   },
   "cell_type": "code",
   "source": [
    "loc_data.plot.scatter(\n",
    "        x=\"start_x\",\n",
    "        y=\"start_y\",\n",
    "        title = f\"Start Location\",\n",
    "        figsize = (6,4)\n",
    "    )\n",
    "plt.show()"
   ],
   "id": "101cdb47ff5e0db9",
   "outputs": [
    {
     "data": {
      "text/plain": [
       "<Figure size 600x400 with 1 Axes>"
      ],
      "image/png": "[encoded data removed]"
     },
     "metadata": {},
     "output_type": "display_data"
    }
   ],
   "execution_count": 13
  },
  {
   "metadata": {
    "ExecuteTime": {
     "end_time": "2025-07-29T19:51:21.095081Z",
     "start_time": "2025-07-29T19:51:12.312119Z"
    }
   },
   "cell_type": "code",
   "source": [
    "#Gaussian clusters\n",
    "k_gauss = 4\n",
    "\n",
    "gauss_clusters = [sc.MultivariateGaussian() for j in range(k_gauss)]\n",
    "\n",
    "loc_em_model = sc.MixtureModel(gauss_clusters)\n",
    "loc_bregman_model = sc.MixtureModel(gauss_clusters)\n",
    "\n",
    "# Classic EM\n",
    "start = time.time()\n",
    "res_em = loc_em_model.fit_em_classic(loc_data, verbose=False)\n",
    "t_em = time.time() - start\n",
    "\n",
    "# Bregman EM\n",
    "start = time.time()\n",
    "res_bregman = loc_bregman_model.fit_em_bregman(loc_data, verbose=False)\n",
    "t_bregman = time.time() - start\n",
    "\n",
    "# Results\n",
    "print(f\"Final log-likelihoods:\\nEM: {res_em[-1]:.4f}\\nBregman: {res_bregman[-1]:.4f}\")\n",
    "print(f\"Timings:\\nEM: {t_em:.4f}s\\nBregman: {t_bregman:.4f}s\")"
   ],
   "id": "b462832fe28249fe",
   "outputs": [
    {
     "name": "stdout",
     "output_type": "stream",
     "text": [
      "Final log-likelihoods:\n",
      "EM: -491071.3980\n",
      "Bregman: -491071.3980\n",
      "Timings:\n",
      "EM: 4.1670s\n",
      "Bregman: 4.5889s\n"
     ]
    }
   ],
   "execution_count": 14
  },
  {
   "metadata": {
    "ExecuteTime": {
     "end_time": "2025-07-29T19:51:21.206397Z",
     "start_time": "2025-07-29T19:51:21.187079Z"
    }
   },
   "cell_type": "code",
   "source": [
    "for model in [loc_em_model, loc_bregman_model]:\n",
    "    print(f\"{model}\\n\")"
   ],
   "id": "dc3c0b6c6cd588cc",
   "outputs": [
    {
     "name": "stdout",
     "output_type": "stream",
     "text": [
      "MixtureModel(n_clusters=4)\n",
      "  ├─ (0) w=0.446  MultivariateGaussian(d=2, mean=[54.482 16.806], cov=[[397.046 -35.032], [-35.032 105.628]])\n",
      "  ├─ (1) w=0.402  MultivariateGaussian(d=2, mean=[52.941 48.45 ], cov=[[407.488  29.145], [29.145 82.595]])\n",
      "  ├─ (2) w=0.080  MultivariateGaussian(d=2, mean=[17.805 31.467], cov=[[ 69.823 -10.086], [-10.086 235.558]])\n",
      "  └─ (3) w=0.071  MultivariateGaussian(d=2, mean=[56.458 64.925], cov=[[423.437   0.301], [0.301 1.614]])\n",
      "\n",
      "MixtureModel(n_clusters=4)\n",
      "  ├─ (0) w=0.446  MultivariateGaussian(d=2, mean=[54.482 16.806], cov=[[397.046 -35.032], [-35.032 105.628]])\n",
      "  ├─ (1) w=0.402  MultivariateGaussian(d=2, mean=[52.941 48.45 ], cov=[[407.488  29.145], [29.145 82.595]])\n",
      "  ├─ (2) w=0.080  MultivariateGaussian(d=2, mean=[17.805 31.467], cov=[[ 69.823 -10.086], [-10.086 235.558]])\n",
      "  └─ (3) w=0.071  MultivariateGaussian(d=2, mean=[56.458 64.925], cov=[[423.437   0.301], [0.301 1.614]])\n",
      "\n"
     ]
    }
   ],
   "execution_count": 15
  },
  {
   "metadata": {
    "ExecuteTime": {
     "end_time": "2025-07-29T19:51:21.261422Z",
     "start_time": "2025-07-29T19:51:21.226353Z"
    }
   },
   "cell_type": "code",
   "source": "loc_em_model.get_posteriors(loc_data)",
   "id": "caa8d2b5f6f69ae7",
   "outputs": [
    {
     "data": {
      "text/plain": [
       "array([[4.31007910e-001, 5.68886598e-001, 1.05492107e-004,\n",
       "        1.60154616e-125],\n",
       "       [4.26406065e-001, 5.70254187e-001, 3.33974730e-003,\n",
       "        1.52437242e-125],\n",
       "       [9.79239205e-001, 1.64994865e-002, 4.26130858e-003,\n",
       "        3.09130463e-252],\n",
       "       ...,\n",
       "       [9.99973062e-001, 2.69380522e-005, 4.12050594e-020,\n",
       "        0.00000000e+000],\n",
       "       [9.88606187e-001, 1.13938131e-002, 6.27453449e-018,\n",
       "        6.52710205e-233],\n",
       "       [5.04356695e-001, 4.95571662e-001, 7.16427949e-005,\n",
       "        1.37929457e-132]])"
      ]
     },
     "execution_count": 16,
     "metadata": {},
     "output_type": "execute_result"
    }
   ],
   "execution_count": 16
  },
  {
   "metadata": {
    "ExecuteTime": {
     "end_time": "2025-07-29T19:51:29.814894Z",
     "start_time": "2025-07-29T19:51:21.368340Z"
    }
   },
   "cell_type": "code",
   "source": [
    "#Von Mises Clusters\n",
    "k_vm = 3\n",
    "\n",
    "vm_clusters = [sc.VonMises() for _ in range(k_vm)]\n",
    "\n",
    "dir_em_model = sc.MixtureModel(vm_clusters)\n",
    "dir_proxy_model = sc.MixtureModel(vm_clusters)\n",
    "dir_bregman_model = sc.MixtureModel(vm_clusters)\n",
    "\n",
    "# Classic EM\n",
    "start = time.time()\n",
    "res_em = dir_em_model.fit_em_classic(dir_data, verbose=False)\n",
    "t_em = time.time() - start\n",
    "\n",
    "# Proxy EM for Von Mises\n",
    "start = time.time()\n",
    "res_proxy = dir_proxy_model.fit_em_vonmises_approx(dir_data, verbose=False)\n",
    "t_proxy = time.time() - start\n",
    "\n",
    "# Bregman EM\n",
    "start = time.time()\n",
    "res_bregman = dir_bregman_model.fit_em_bregman(dir_data, verbose=False)\n",
    "t_bregman = time.time() - start\n",
    "\n",
    "# Results\n",
    "print(f\"Final log-likelihoods:\\nEM: {res_em[-1]:.4f}\\nProxy: {res_proxy[-1]:.4f}\\nBregman: {res_bregman[-1]:.4f}\")\n",
    "print(f\"Timings:\\nEM: {t_em:.4f}s\\nProxy: {t_proxy:.4f}s\\nBregman: {t_bregman:.4f}s\")\n"
   ],
   "id": "6f6b97de15e1de30",
   "outputs": [
    {
     "name": "stdout",
     "output_type": "stream",
     "text": [
      "Final log-likelihoods:\n",
      "EM: -100687.3022\n",
      "Proxy: -100514.3424\n",
      "Bregman: -100687.2864\n",
      "Timings:\n",
      "EM: 3.9722s\n",
      "Proxy: 2.1521s\n",
      "Bregman: 2.2930s\n"
     ]
    }
   ],
   "execution_count": 17
  },
  {
   "metadata": {
    "ExecuteTime": {
     "end_time": "2025-07-29T19:51:29.902413Z",
     "start_time": "2025-07-29T19:51:29.879787Z"
    }
   },
   "cell_type": "code",
   "source": [
    "for model in [dir_em_model, dir_bregman_model, dir_proxy_model]:\n",
    "    print(f\"{model}\\n\")"
   ],
   "id": "9192aa6ab975c28e",
   "outputs": [
    {
     "name": "stdout",
     "output_type": "stream",
     "text": [
      "MixtureModel(n_clusters=3)\n",
      "  ├─ (0) w=0.371  VonMises(loc=29.8º, kappa=1.179)\n",
      "  ├─ (1) w=0.307  VonMises(loc=-70.7º, kappa=1.314)\n",
      "  └─ (2) w=0.322  VonMises(loc=97.9º, kappa=0.442)\n",
      "\n",
      "MixtureModel(n_clusters=3)\n",
      "  ├─ (0) w=0.371  VonMises(loc=29.8º, kappa=1.179)\n",
      "  ├─ (1) w=0.307  VonMises(loc=-70.7º, kappa=1.314)\n",
      "  └─ (2) w=0.322  VonMises(loc=97.9º, kappa=0.442)\n",
      "\n",
      "MixtureModel(n_clusters=3)\n",
      "  ├─ (0) w=0.027  VonMises(loc=29.8º, kappa=1.179)\n",
      "  ├─ (1) w=0.057  VonMises(loc=-70.7º, kappa=1.314)\n",
      "  └─ (2) w=0.916  VonMises(loc=97.9º, kappa=0.442)\n",
      "\n"
     ]
    }
   ],
   "execution_count": 18
  },
  {
   "metadata": {
    "ExecuteTime": {
     "end_time": "2025-07-29T19:51:29.937079Z",
     "start_time": "2025-07-29T19:51:29.920572Z"
    }
   },
   "cell_type": "code",
   "source": "dir_bregman_model.get_weights()",
   "id": "40d4f3b63fc5810e",
   "outputs": [
    {
     "data": {
      "text/plain": [
       "array([0.37148491, 0.30653785, 0.32197724])"
      ]
     },
     "execution_count": 19,
     "metadata": {},
     "output_type": "execute_result"
    }
   ],
   "execution_count": 19
  },
  {
   "metadata": {
    "ExecuteTime": {
     "end_time": "2025-07-29T19:51:29.984019Z",
     "start_time": "2025-07-29T19:51:29.961097Z"
    }
   },
   "cell_type": "code",
   "source": "dir_bregman_model.get_posteriors(dir_data)",
   "id": "ad07be1b147bc8e9",
   "outputs": [
    {
     "data": {
      "text/plain": [
       "array([[0.16531505, 0.27262303, 0.56206192],\n",
       "       [0.12470611, 0.65292088, 0.22237301],\n",
       "       [0.23926117, 0.5939932 , 0.16674563],\n",
       "       ...,\n",
       "       [0.425091  , 0.06079984, 0.51410916],\n",
       "       [0.55203131, 0.23534496, 0.21262373],\n",
       "       [0.19124852, 0.19119877, 0.61755271]])"
      ]
     },
     "execution_count": 20,
     "metadata": {},
     "output_type": "execute_result"
    }
   ],
   "execution_count": 20
  },
  {
   "metadata": {
    "ExecuteTime": {
     "end_time": "2025-07-29T20:26:15.834283Z",
     "start_time": "2025-07-29T20:25:59.105802Z"
    }
   },
   "cell_type": "code",
   "source": [
    "K_loc = 4\n",
    "K_dir = 4\n",
    "choose = \"bregman\"\n",
    "start = time.time()\n",
    "gmm, vmm_list = sc.two_layer_scheme(loc_data, dir_data, K_loc, K_dir, choose=choose)\n",
    "run_time = time.time() - start\n",
    "print(f\"Running Time {choose} Model: {run_time:.4f}s\\n\")\n",
    "print(f\"{gmm}\\n\")\n",
    "for i, vmm in enumerate(vmm_list):\n",
    "    print(f\"GMM Cluster {i}: \")\n",
    "    print(f\"{vmm}\\n\")"
   ],
   "id": "c630a9573d3f4bce",
   "outputs": [
    {
     "name": "stdout",
     "output_type": "stream",
     "text": [
      "Running Time bregman Model: 16.7098s\n",
      "\n",
      "MixtureModel(n_clusters=4)\n",
      "  ├─ (0) w=0.446  MultivariateGaussian(d=2, mean=[54.482 16.806], cov=[[397.046 -35.032], [-35.032 105.628]])\n",
      "  ├─ (1) w=0.402  MultivariateGaussian(d=2, mean=[52.941 48.45 ], cov=[[407.488  29.145], [29.145 82.595]])\n",
      "  ├─ (2) w=0.080  MultivariateGaussian(d=2, mean=[17.805 31.467], cov=[[ 69.823 -10.086], [-10.086 235.558]])\n",
      "  └─ (3) w=0.071  MultivariateGaussian(d=2, mean=[56.458 64.925], cov=[[423.437   0.301], [0.301 1.614]])\n",
      "\n",
      "GMM Cluster 0: \n",
      "MixtureModel(n_clusters=4)\n",
      "  ├─ (0) w=0.227  VonMises(loc=5.2º, kappa=4.390)\n",
      "  ├─ (1) w=0.177  VonMises(loc=159.4º, kappa=3.034)\n",
      "  ├─ (2) w=0.355  VonMises(loc=84.8º, kappa=3.373)\n",
      "  └─ (3) w=0.241  VonMises(loc=-61.1º, kappa=3.105)\n",
      "\n",
      "GMM Cluster 1: \n",
      "MixtureModel(n_clusters=4)\n",
      "  ├─ (0) w=0.448  VonMises(loc=34.4º, kappa=1.909)\n",
      "  ├─ (1) w=0.224  VonMises(loc=-144.7º, kappa=1.484)\n",
      "  ├─ (2) w=0.094  VonMises(loc=-31.2º, kappa=1.089)\n",
      "  └─ (3) w=0.234  VonMises(loc=-82.1º, kappa=4.074)\n",
      "\n",
      "GMM Cluster 2: \n",
      "MixtureModel(n_clusters=4)\n",
      "  ├─ (0) w=0.255  VonMises(loc=-0.6º, kappa=11.971)\n",
      "  ├─ (1) w=0.193  VonMises(loc=142.7º, kappa=0.315)\n",
      "  ├─ (2) w=0.300  VonMises(loc=52.5º, kappa=3.260)\n",
      "  └─ (3) w=0.252  VonMises(loc=-57.4º, kappa=4.433)\n",
      "\n",
      "GMM Cluster 3: \n",
      "MixtureModel(n_clusters=4)\n",
      "  ├─ (0) w=0.110  VonMises(loc=0.3º, kappa=90.105)\n",
      "  ├─ (1) w=0.479  VonMises(loc=-129.3º, kappa=3.386)\n",
      "  ├─ (2) w=0.059  VonMises(loc=-177.3º, kappa=107.050)\n",
      "  └─ (3) w=0.352  VonMises(loc=-29.2º, kappa=2.656)\n",
      "\n"
     ]
    }
   ],
   "execution_count": 50
  },
  {
   "metadata": {
    "ExecuteTime": {
     "end_time": "2025-07-29T20:26:16.014516Z",
     "start_time": "2025-07-29T20:26:15.938245Z"
    }
   },
   "cell_type": "code",
   "source": "vis.show_all_models(gmm, vmm_list)",
   "id": "c90da86893a4366b",
   "outputs": [
    {
     "data": {
      "text/plain": [
       "<Figure size 600x450 with 1 Axes>"
      ],
      "image/png": "[encoded data removed]"
     },
     "metadata": {},
     "output_type": "display_data"
    }
   ],
   "execution_count": 51
  },
  {
   "metadata": {
    "ExecuteTime": {
     "end_time": "2025-07-29T20:20:37.793479Z",
     "start_time": "2025-07-29T20:20:22.396325Z"
    }
   },
   "cell_type": "code",
   "source": [
    "choose = \"soccermix\"\n",
    "start = time.time()\n",
    "gmm, vmm_list = sc.two_layer_scheme(loc_data, dir_data, K_loc, K_dir, choose=choose)\n",
    "run_time = time.time() - start\n",
    "print(f\"Running Time {choose} Model: {run_time:.4f}s\\n\")\n",
    "print(f\"{gmm}\\n\")\n",
    "for i, vmm in enumerate(vmm_list):\n",
    "    print(f\"GMM Cluster {i}: \")\n",
    "    print(f\"{vmm}\\n\")"
   ],
   "id": "4fc0e58308a04be1",
   "outputs": [
    {
     "name": "stdout",
     "output_type": "stream",
     "text": [
      "Running Time soccermix Model: 15.3782s\n",
      "\n",
      "MixtureModel(n_clusters=4)\n",
      "  ├─ (0) w=0.446  MultivariateGaussian(d=2, mean=[54.482 16.806], cov=[[397.046 -35.032], [-35.032 105.628]])\n",
      "  ├─ (1) w=0.402  MultivariateGaussian(d=2, mean=[52.941 48.45 ], cov=[[407.488  29.145], [29.145 82.595]])\n",
      "  ├─ (2) w=0.080  MultivariateGaussian(d=2, mean=[17.805 31.467], cov=[[ 69.823 -10.086], [-10.086 235.558]])\n",
      "  └─ (3) w=0.071  MultivariateGaussian(d=2, mean=[56.458 64.925], cov=[[423.437   0.301], [0.301 1.614]])\n",
      "\n",
      "GMM Cluster 0: \n",
      "MixtureModel(n_clusters=4)\n",
      "  ├─ (0) w=0.215  VonMises(loc=6.7º, kappa=7.600)\n",
      "  ├─ (1) w=0.321  VonMises(loc=141.0º, kappa=1.937)\n",
      "  ├─ (2) w=0.232  VonMises(loc=75.4º, kappa=6.680)\n",
      "  └─ (3) w=0.232  VonMises(loc=-59.5º, kappa=4.712)\n",
      "\n",
      "GMM Cluster 1: \n",
      "MixtureModel(n_clusters=4)\n",
      "  ├─ (0) w=0.205  VonMises(loc=52.7º, kappa=6.394)\n",
      "  ├─ (1) w=0.072  VonMises(loc=-85.6º, kappa=16.054)\n",
      "  ├─ (2) w=0.639  VonMises(loc=-87.0º, kappa=0.674)\n",
      "  └─ (3) w=0.085  VonMises(loc=-3.0º, kappa=10.855)\n",
      "\n",
      "GMM Cluster 2: \n",
      "MixtureModel(n_clusters=4)\n",
      "  ├─ (0) w=0.138  VonMises(loc=-0.8º, kappa=19.658)\n",
      "  ├─ (1) w=0.720  VonMises(loc=10.6º, kappa=0.925)\n",
      "  ├─ (2) w=0.055  VonMises(loc=63.7º, kappa=11.958)\n",
      "  └─ (3) w=0.087  VonMises(loc=-63.9º, kappa=12.721)\n",
      "\n",
      "GMM Cluster 3: \n",
      "MixtureModel(n_clusters=4)\n",
      "  ├─ (0) w=0.131  VonMises(loc=0.1º, kappa=50.739)\n",
      "  ├─ (1) w=0.253  VonMises(loc=-162.3º, kappa=9.685)\n",
      "  ├─ (2) w=0.245  VonMises(loc=-112.9º, kappa=8.475)\n",
      "  └─ (3) w=0.372  VonMises(loc=-35.7º, kappa=2.436)\n",
      "\n"
     ]
    }
   ],
   "execution_count": 46
  },
  {
   "metadata": {
    "ExecuteTime": {
     "end_time": "2025-07-29T20:25:47.032775Z",
     "start_time": "2025-07-29T20:25:46.925217Z"
    }
   },
   "cell_type": "code",
   "source": "vis.show_all_models(gmm, vmm_list)",
   "id": "3f995a02bfc6d7b8",
   "outputs": [
    {
     "data": {
      "text/plain": [
       "<Figure size 600x450 with 1 Axes>"
      ],
      "image/png": "[encoded data removed]"
     },
     "metadata": {},
     "output_type": "display_data"
    }
   ],
   "execution_count": 48
  }
 ],
 "metadata": {
  "kernelspec": {
   "display_name": "Python 3",
   "language": "python",
   "name": "python3"
  },
  "language_info": {
   "codemirror_mode": {
    "name": "ipython",
    "version": 2
   },
   "file_extension": ".py",
   "mimetype": "text/x-python",
   "name": "python",
   "nbconvert_exporter": "python",
   "pygments_lexer": "ipython2",
   "version": "2.7.6"
  }
 },
 "nbformat": 4,
 "nbformat_minor": 5
}
