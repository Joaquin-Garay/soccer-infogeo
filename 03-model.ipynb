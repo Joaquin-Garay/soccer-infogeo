{
 "cells": [
  {
   "metadata": {},
   "cell_type": "markdown",
   "source": [
    "# Model implementation\n",
    "\n",
    "Information Geometry Soft Clustering for Sport Analytics\n",
    "\n",
    "Joaquin Garay"
   ],
   "id": "1d68bea2064769d3"
  },
  {
   "metadata": {
    "collapsed": true,
    "ExecuteTime": {
     "end_time": "2025-07-30T16:08:12.124782Z",
     "start_time": "2025-07-30T16:08:09.219274Z"
    }
   },
   "cell_type": "code",
   "source": [
    "%load_ext autoreload\n",
    "%autoreload 2\n",
    "\n",
    "import os\n",
    "import time\n",
    "import tqdm\n",
    "import numpy as np\n",
    "import pandas as pd\n",
    "\n",
    "import vis\n",
    "import softclustering as sc\n",
    "\n",
    "from sklearn.neighbors import LocalOutlierFactor\n",
    "import matplotlib.pyplot as plt\n",
    "import socceraction.spadl as spadl\n"
   ],
   "id": "initial_id",
   "outputs": [],
   "execution_count": 1
  },
  {
   "metadata": {},
   "cell_type": "markdown",
   "source": "### Data Preparation",
   "id": "e4e0a9ff891dabc4"
  },
  {
   "metadata": {},
   "cell_type": "markdown",
   "source": "Concatenate actions of all games in one DataFrame.",
   "id": "228a4a3ac4e36d4a"
  },
  {
   "metadata": {
    "ExecuteTime": {
     "end_time": "2025-07-30T16:08:12.689949Z",
     "start_time": "2025-07-30T16:08:12.135095Z"
    }
   },
   "cell_type": "code",
   "source": [
    "datafolder = \"data\"\n",
    "fifa2018h5 = os.path.join(datafolder, \"spadl-fifa2018.h5\")\n",
    "games = pd.read_hdf(fifa2018h5, key=\"games\")\n",
    "with pd.HDFStore(fifa2018h5) as store:\n",
    "    actions = []  #list of DataFrames\n",
    "    for game in tqdm.tqdm(games.itertuples()):\n",
    "        game_action = store[f\"actions/game_{game.game_id}\"]\n",
    "        game_action = spadl.play_left_to_right(game_action, game.home_team_id)\n",
    "        game_action[\"is_home\"] = game_action[\"team_id\"] == game.home_team_id\n",
    "        actions.append(game_action)\n",
    "    actions = pd.concat(actions)\n",
    "    actions.drop(\"original_event_id\", axis=1, inplace=True)\n",
    "    actions = pd.merge(actions, spadl.config.actiontypes_df(), how=\"left\")"
   ],
   "id": "71934fdfa2402fa6",
   "outputs": [
    {
     "name": "stderr",
     "output_type": "stream",
     "text": [
      "64it [00:00, 180.88it/s]\n"
     ]
    }
   ],
   "execution_count": 2
  },
  {
   "metadata": {
    "ExecuteTime": {
     "end_time": "2025-07-30T16:08:12.831963Z",
     "start_time": "2025-07-30T16:08:12.756826Z"
    }
   },
   "cell_type": "code",
   "source": [
    "def consolidate(actions):\n",
    "    #actions.fillna(0, inplace=True)\n",
    "\n",
    "    #Consolidate corner_short and corner_crossed\n",
    "    corner_idx = actions.type_name.str.contains(\"corner\")\n",
    "    actions[\"type_name\"] = actions[\"type_name\"].mask(corner_idx, \"corner\")\n",
    "\n",
    "    #Consolidate freekick_short, freekick_crossed, and shot_freekick\n",
    "    freekick_idx = actions.type_name.str.contains(\"freekick\")\n",
    "    actions[\"type_name\"] = actions[\"type_name\"].mask(freekick_idx, \"freekick\")\n",
    "\n",
    "    #Consolidate keeper_claim, keeper_punch, keeper_save, keeper_pick_up\n",
    "    keeper_idx = actions.type_name.str.contains(\"keeper\")\n",
    "    actions[\"type_name\"] = actions[\"type_name\"].mask(keeper_idx, \"keeper_action\")\n",
    "\n",
    "    actions[\"start_x\"] = actions[\"start_x\"].mask(actions.type_name == \"shot_penalty\", 94.5)\n",
    "    actions[\"start_y\"] = actions[\"start_y\"].mask(actions.type_name == \"shot_penalty\", 34)\n",
    "\n",
    "    return actions\n",
    "\n",
    "\n",
    "actions = consolidate(actions)"
   ],
   "id": "533326ea9e5b5f1c",
   "outputs": [],
   "execution_count": 3
  },
  {
   "metadata": {
    "ExecuteTime": {
     "end_time": "2025-07-30T16:08:12.852362Z",
     "start_time": "2025-07-30T16:08:12.839530Z"
    }
   },
   "cell_type": "code",
   "source": [
    "#Actions of Team France matches.\n",
    "len(actions[actions[\"team_id\"] == 771])"
   ],
   "id": "1791e14d37fb5174",
   "outputs": [
    {
     "data": {
      "text/plain": [
       "6829"
      ]
     },
     "execution_count": 4,
     "metadata": {},
     "output_type": "execute_result"
    }
   ],
   "execution_count": 4
  },
  {
   "metadata": {
    "ExecuteTime": {
     "end_time": "2025-07-30T16:08:12.878660Z",
     "start_time": "2025-07-30T16:08:12.861591Z"
    }
   },
   "cell_type": "code",
   "source": "actions.groupby(\"type_name\").size()",
   "id": "4eb9f50ea571275d",
   "outputs": [
    {
     "data": {
      "text/plain": [
       "type_name\n",
       "bad_touch         1547\n",
       "clearance         2074\n",
       "corner             558\n",
       "cross             1305\n",
       "dribble          52731\n",
       "foul              1876\n",
       "freekick          1272\n",
       "goalkick           677\n",
       "interception      1681\n",
       "keeper_action      584\n",
       "pass             56438\n",
       "shot              1556\n",
       "shot_penalty        68\n",
       "tackle            1830\n",
       "take_on           2109\n",
       "throw_in          2178\n",
       "dtype: int64"
      ]
     },
     "execution_count": 5,
     "metadata": {},
     "output_type": "execute_result"
    }
   ],
   "execution_count": 5
  },
  {
   "metadata": {},
   "cell_type": "markdown",
   "source": [
    "As suggested in SoccerMix, add noise on the starting and ending locations, but only on those actions that we can visually note a predefined pattern.\n",
    "* *Add noise in both start and end locations*:\n",
    "    * Cross\n",
    "    * Shot\n",
    "    * Keeper_action\n",
    "* *Only on start locations*:\n",
    "    * Clearance\n",
    "    * Goal kick\n",
    "* *Only on end locations*:\n",
    "    * Corner\n",
    "    * Freekick\n",
    "    * Shot_penalty"
   ],
   "id": "f365f4a57e669f5c"
  },
  {
   "metadata": {
    "ExecuteTime": {
     "end_time": "2025-07-30T16:08:12.935165Z",
     "start_time": "2025-07-30T16:08:12.909392Z"
    }
   },
   "cell_type": "code",
   "source": [
    "def add_noise(actions):\n",
    "    # Start locations\n",
    "    start_list = [\"cross\", \"shot\", \"keeper_action\", \"clearance\", \"goalkick\"]\n",
    "    mask = actions[\"type_name\"].isin(start_list)\n",
    "    noise = np.random.normal(0, 0.5, size=actions.loc[mask, [\"start_x\", \"start_y\"]].shape)\n",
    "    actions.loc[mask, [\"start_x\", \"start_y\"]] += noise\n",
    "\n",
    "    # End locations\n",
    "    end_list = [\"cross\", \"shot\", \"keeper_action\", \"corner\", \"freekick\", \"shot_penalty\"]\n",
    "    mask = actions[\"type_name\"].isin(end_list)\n",
    "    noise = np.random.normal(0, 0.5, size=actions.loc[mask, [\"end_x\", \"end_y\"]].shape)\n",
    "    actions.loc[mask, [\"end_x\", \"end_y\"]] += noise\n",
    "\n",
    "    return actions\n",
    "\n",
    "\n",
    "actions = add_noise(actions)"
   ],
   "id": "9b595325cb6d6b7b",
   "outputs": [],
   "execution_count": 6
  },
  {
   "metadata": {
    "ExecuteTime": {
     "end_time": "2025-07-30T16:08:12.964876Z",
     "start_time": "2025-07-30T16:08:12.954002Z"
    }
   },
   "cell_type": "code",
   "source": [
    "# # display event locations with noise\n",
    "# corrected_actions = [\"cross\", \"shot\", \"keeper_action\", \"clearance\", \"goalkick\",\"corner\", \"freekick\", \"shot_penalty\"]\n",
    "# for actiontype in corrected_actions:\n",
    "#     actions[actions.type_name == actiontype].plot.scatter(\n",
    "#         x=\"start_x\",\n",
    "#         y=\"start_y\",\n",
    "#         title = f\"Start Location: {actiontype}\",\n",
    "#         figsize = (6,4)\n",
    "#     )\n",
    "#     plt.show()\n",
    "#     actions[actions.type_name == actiontype].plot.scatter(\n",
    "#         x=\"end_x\",\n",
    "#         y=\"end_y\",\n",
    "#         title = f\"End Location: {actiontype}\",\n",
    "#         figsize = (6,4)\n",
    "#     )\n",
    "#     plt.show()"
   ],
   "id": "96ef05afa181356c",
   "outputs": [],
   "execution_count": 7
  },
  {
   "metadata": {
    "ExecuteTime": {
     "end_time": "2025-07-30T16:08:14.184047Z",
     "start_time": "2025-07-30T16:08:12.984505Z"
    }
   },
   "cell_type": "code",
   "source": [
    "def remove_outliers(actions, verbose=False):\n",
    "    X = actions[[\"start_x\",\"start_y\",\"end_x\",\"end_y\"]].to_numpy(dtype=float)\n",
    "    inliers = LocalOutlierFactor(contamination=\"auto\").fit_predict(X)\n",
    "    if verbose:\n",
    "        print(f\"Remove {(inliers==-1).sum()} out of {X.shape[0]} datapoints.\")\n",
    "    return actions[inliers==1]\n",
    "\n",
    "actions = remove_outliers(actions,True)"
   ],
   "id": "26174dde29b6c0a9",
   "outputs": [
    {
     "name": "stdout",
     "output_type": "stream",
     "text": [
      "Remove 640 out of 128484 datapoints.\n"
     ]
    }
   ],
   "execution_count": 8
  },
  {
   "metadata": {},
   "cell_type": "markdown",
   "source": "### Features",
   "id": "2045eff5f67124b5"
  },
  {
   "metadata": {},
   "cell_type": "markdown",
   "source": [
    "Compute the angle of the direction of the action with respect with the x-axis (pitch's length) a\n",
    "$$\\tan \\theta = \\frac{y_{end} - y_{start}}{x_{end} - x_{start}}$$"
   ],
   "id": "8a99a2a13347dd0a"
  },
  {
   "metadata": {
    "ExecuteTime": {
     "end_time": "2025-07-30T16:08:14.227402Z",
     "start_time": "2025-07-30T16:08:14.192600Z"
    }
   },
   "cell_type": "code",
   "source": [
    "actions[\"angle\"] = np.arctan2(actions.end_y - actions.start_y, actions.end_x - actions.start_x)\n",
    "actions[\"cos_angle\"] = np.cos(actions[\"angle\"])\n",
    "actions[\"sin_angle\"] = np.sin(actions[\"angle\"])\n",
    "actions[[\"angle\", \"cos_angle\", \"sin_angle\"]].describe()"
   ],
   "id": "69c78aee6b06747",
   "outputs": [
    {
     "data": {
      "text/plain": [
       "               angle      cos_angle      sin_angle\n",
       "count  127844.000000  127844.000000  127844.000000\n",
       "mean        0.061681       0.317571      -0.005922\n",
       "std         1.459133       0.676655       0.664273\n",
       "min        -3.137941      -1.000000      -1.000000\n",
       "25%        -0.969342      -0.169098      -0.647648\n",
       "50%         0.000000       0.532483       0.000000\n",
       "75%         1.064659       0.956027       0.624695\n",
       "max         3.141593       1.000000       1.000000"
      ],
      "text/html": [
       "<div>\n",
       "<style scoped>\n",
       "    .dataframe tbody tr th:only-of-type {\n",
       "        vertical-align: middle;\n",
       "    }\n",
       "\n",
       "    .dataframe tbody tr th {\n",
       "        vertical-align: top;\n",
       "    }\n",
       "\n",
       "    .dataframe thead th {\n",
       "        text-align: right;\n",
       "    }\n",
       "</style>\n",
       "<table border=\"1\" class=\"dataframe\">\n",
       "  <thead>\n",
       "    <tr style=\"text-align: right;\">\n",
       "      <th></th>\n",
       "      <th>angle</th>\n",
       "      <th>cos_angle</th>\n",
       "      <th>sin_angle</th>\n",
       "    </tr>\n",
       "  </thead>\n",
       "  <tbody>\n",
       "    <tr>\n",
       "      <th>count</th>\n",
       "      <td>127844.000000</td>\n",
       "      <td>127844.000000</td>\n",
       "      <td>127844.000000</td>\n",
       "    </tr>\n",
       "    <tr>\n",
       "      <th>mean</th>\n",
       "      <td>0.061681</td>\n",
       "      <td>0.317571</td>\n",
       "      <td>-0.005922</td>\n",
       "    </tr>\n",
       "    <tr>\n",
       "      <th>std</th>\n",
       "      <td>1.459133</td>\n",
       "      <td>0.676655</td>\n",
       "      <td>0.664273</td>\n",
       "    </tr>\n",
       "    <tr>\n",
       "      <th>min</th>\n",
       "      <td>-3.137941</td>\n",
       "      <td>-1.000000</td>\n",
       "      <td>-1.000000</td>\n",
       "    </tr>\n",
       "    <tr>\n",
       "      <th>25%</th>\n",
       "      <td>-0.969342</td>\n",
       "      <td>-0.169098</td>\n",
       "      <td>-0.647648</td>\n",
       "    </tr>\n",
       "    <tr>\n",
       "      <th>50%</th>\n",
       "      <td>0.000000</td>\n",
       "      <td>0.532483</td>\n",
       "      <td>0.000000</td>\n",
       "    </tr>\n",
       "    <tr>\n",
       "      <th>75%</th>\n",
       "      <td>1.064659</td>\n",
       "      <td>0.956027</td>\n",
       "      <td>0.624695</td>\n",
       "    </tr>\n",
       "    <tr>\n",
       "      <th>max</th>\n",
       "      <td>3.141593</td>\n",
       "      <td>1.000000</td>\n",
       "      <td>1.000000</td>\n",
       "    </tr>\n",
       "  </tbody>\n",
       "</table>\n",
       "</div>"
      ]
     },
     "execution_count": 9,
     "metadata": {},
     "output_type": "execute_result"
    }
   ],
   "execution_count": 9
  },
  {
   "metadata": {},
   "cell_type": "markdown",
   "source": [
    "### First run\n",
    "\n",
    "Let's run a first toy implementation using throw-ins of team France."
   ],
   "id": "d5ac5fac97f7d247"
  },
  {
   "metadata": {
    "ExecuteTime": {
     "end_time": "2025-07-30T16:08:14.260118Z",
     "start_time": "2025-07-30T16:08:14.238616Z"
    }
   },
   "cell_type": "code",
   "source": [
    "mask = (actions[\"type_name\"]==\"pass\") #& (actions[\"team_id\"]==771)\n",
    "loc_data = actions[mask][[\"start_x\", \"start_y\"]]\n",
    "dir_data = actions[mask][[\"cos_angle\", \"sin_angle\"]]"
   ],
   "id": "2877a86b1aed5203",
   "outputs": [],
   "execution_count": 10
  },
  {
   "metadata": {
    "ExecuteTime": {
     "end_time": "2025-07-30T16:08:14.492241Z",
     "start_time": "2025-07-30T16:08:14.279036Z"
    }
   },
   "cell_type": "code",
   "source": [
    "loc_data.plot.scatter(\n",
    "        x=\"start_x\",\n",
    "        y=\"start_y\",\n",
    "        title = f\"Start Location\",\n",
    "        figsize = (6,4)\n",
    "    )\n",
    "plt.show()"
   ],
   "id": "101cdb47ff5e0db9",
   "outputs": [
    {
     "data": {
      "text/plain": [
       "<Figure size 600x400 with 1 Axes>"
      ],
      "image/png": "[encoded data removed]"
     },
     "metadata": {},
     "output_type": "display_data"
    }
   ],
   "execution_count": 11
  },
  {
   "metadata": {
    "ExecuteTime": {
     "end_time": "2025-07-30T16:08:24.397774Z",
     "start_time": "2025-07-30T16:08:14.591017Z"
    }
   },
   "cell_type": "code",
   "source": [
    "#Gaussian clusters\n",
    "k_gauss = 4\n",
    "\n",
    "gauss_clusters = [sc.MultivariateGaussian() for j in range(k_gauss)]\n",
    "\n",
    "loc_em_model = sc.MixtureModel(gauss_clusters)\n",
    "loc_bregman_model = sc.MixtureModel(gauss_clusters)\n",
    "\n",
    "# Classic EM\n",
    "start = time.time()\n",
    "res_em = loc_em_model.fit_em_classic(loc_data, verbose=False)\n",
    "t_em = time.time() - start\n",
    "\n",
    "# Bregman EM\n",
    "start = time.time()\n",
    "res_bregman = loc_bregman_model.fit_em_bregman(loc_data, verbose=False)\n",
    "t_bregman = time.time() - start\n",
    "\n",
    "# Results\n",
    "print(f\"Final log-likelihoods:\\nEM: {res_em[-1]:.4f}\\nBregman: {res_bregman[-1]:.4f}\")\n",
    "print(f\"Timings:\\nEM: {t_em:.4f}s\\nBregman: {t_bregman:.4f}s\")"
   ],
   "id": "b462832fe28249fe",
   "outputs": [
    {
     "name": "stdout",
     "output_type": "stream",
     "text": [
      "Final log-likelihoods:\n",
      "EM: -490940.9416\n",
      "Bregman: -490940.9416\n",
      "Timings:\n",
      "EM: 5.2648s\n",
      "Bregman: 4.5141s\n"
     ]
    }
   ],
   "execution_count": 12
  },
  {
   "metadata": {
    "ExecuteTime": {
     "end_time": "2025-07-30T16:08:24.492343Z",
     "start_time": "2025-07-30T16:08:24.467731Z"
    }
   },
   "cell_type": "code",
   "source": [
    "for model in [loc_em_model, loc_bregman_model]:\n",
    "    print(f\"{model}\\n\")"
   ],
   "id": "dc3c0b6c6cd588cc",
   "outputs": [
    {
     "name": "stdout",
     "output_type": "stream",
     "text": [
      "MixtureModel(n_clusters=4)\n",
      "  ├─ (0) w=0.396  MultivariateGaussian(d=2, mean=[52.943 20.318], cov=[[403.151 -33.344], [-33.344  89.531]])\n",
      "  ├─ (1) w=0.075  MultivariateGaussian(d=2, mean=[17.432 33.775], cov=[[66.082 -2.985], [ -2.985 231.479]])\n",
      "  ├─ (2) w=0.452  MultivariateGaussian(d=2, mean=[53.985 51.605], cov=[[407.834  28.994], [28.994 96.454]])\n",
      "  └─ (3) w=0.077  MultivariateGaussian(d=2, mean=[57.204  3.196], cov=[[414.951  -1.361], [-1.361  2.016]])\n",
      "\n",
      "MixtureModel(n_clusters=4)\n",
      "  ├─ (0) w=0.396  MultivariateGaussian(d=2, mean=[52.943 20.318], cov=[[403.151 -33.344], [-33.344  89.531]])\n",
      "  ├─ (1) w=0.075  MultivariateGaussian(d=2, mean=[17.432 33.775], cov=[[66.082 -2.985], [ -2.985 231.479]])\n",
      "  ├─ (2) w=0.452  MultivariateGaussian(d=2, mean=[53.985 51.605], cov=[[407.834  28.994], [28.994 96.454]])\n",
      "  └─ (3) w=0.077  MultivariateGaussian(d=2, mean=[57.204  3.196], cov=[[414.951  -1.361], [-1.361  2.016]])\n",
      "\n"
     ]
    }
   ],
   "execution_count": 13
  },
  {
   "metadata": {
    "ExecuteTime": {
     "end_time": "2025-07-30T16:08:24.566791Z",
     "start_time": "2025-07-30T16:08:24.525357Z"
    }
   },
   "cell_type": "code",
   "source": "loc_em_model.get_posteriors(loc_data)",
   "id": "caa8d2b5f6f69ae7",
   "outputs": [
    {
     "data": {
      "text/plain": [
       "array([[5.79958419e-001, 5.89325546e-005, 4.19982648e-001,\n",
       "        1.48594539e-105],\n",
       "       [5.84127772e-001, 2.28834682e-003, 4.13583881e-001,\n",
       "        1.86398981e-105],\n",
       "       [9.86024229e-001, 2.21517887e-003, 1.17605924e-002,\n",
       "        2.33681173e-037],\n",
       "       ...,\n",
       "       [9.99945946e-001, 1.45988996e-021, 5.23221295e-005,\n",
       "        1.73167900e-006],\n",
       "       [9.90546107e-001, 3.35354442e-019, 9.45389290e-003,\n",
       "        8.28075230e-045],\n",
       "       [6.48352421e-001, 3.68415723e-005, 3.51610737e-001,\n",
       "        6.34757649e-100]])"
      ]
     },
     "execution_count": 14,
     "metadata": {},
     "output_type": "execute_result"
    }
   ],
   "execution_count": 14
  },
  {
   "metadata": {
    "ExecuteTime": {
     "end_time": "2025-07-30T16:08:33.117127Z",
     "start_time": "2025-07-30T16:08:24.642087Z"
    }
   },
   "cell_type": "code",
   "source": [
    "#Von Mises Clusters\n",
    "k_vm = 3\n",
    "\n",
    "vm_clusters = [sc.VonMises() for _ in range(k_vm)]\n",
    "\n",
    "dir_em_model = sc.MixtureModel(vm_clusters)\n",
    "dir_proxy_model = sc.MixtureModel(vm_clusters)\n",
    "dir_bregman_model = sc.MixtureModel(vm_clusters)\n",
    "\n",
    "# Classic EM\n",
    "start = time.time()\n",
    "res_em = dir_em_model.fit_em_classic(dir_data, verbose=False)\n",
    "t_em = time.time() - start\n",
    "\n",
    "# Proxy EM for Von Mises\n",
    "start = time.time()\n",
    "res_proxy = dir_proxy_model.fit_em_vonmises_approx(dir_data, verbose=False)\n",
    "t_proxy = time.time() - start\n",
    "\n",
    "# Bregman EM\n",
    "start = time.time()\n",
    "res_bregman = dir_bregman_model.fit_em_bregman(dir_data, verbose=False)\n",
    "t_bregman = time.time() - start\n",
    "\n",
    "# Results\n",
    "print(f\"Final log-likelihoods:\\nEM: {res_em[-1]:.4f}\\nProxy: {res_proxy[-1]:.4f}\\nBregman: {res_bregman[-1]:.4f}\")\n",
    "print(f\"Timings:\\nEM: {t_em:.4f}s\\nProxy: {t_proxy:.4f}s\\nBregman: {t_bregman:.4f}s\")\n"
   ],
   "id": "6f6b97de15e1de30",
   "outputs": [
    {
     "name": "stdout",
     "output_type": "stream",
     "text": [
      "Final log-likelihoods:\n",
      "EM: -100686.5554\n",
      "Proxy: -100503.4153\n",
      "Bregman: -100686.5400\n",
      "Timings:\n",
      "EM: 3.9928s\n",
      "Proxy: 2.2331s\n",
      "Bregman: 2.2318s\n"
     ]
    }
   ],
   "execution_count": 15
  },
  {
   "metadata": {
    "ExecuteTime": {
     "end_time": "2025-07-30T16:08:33.182336Z",
     "start_time": "2025-07-30T16:08:33.168200Z"
    }
   },
   "cell_type": "code",
   "source": [
    "for model in [dir_em_model, dir_bregman_model, dir_proxy_model]:\n",
    "    print(f\"{model}\\n\")"
   ],
   "id": "9192aa6ab975c28e",
   "outputs": [
    {
     "name": "stdout",
     "output_type": "stream",
     "text": [
      "MixtureModel(n_clusters=3)\n",
      "  ├─ (0) w=0.349  VonMises(loc=28.4º, kappa=1.191)\n",
      "  ├─ (1) w=0.315  VonMises(loc=-71.1º, kappa=1.264)\n",
      "  └─ (2) w=0.336  VonMises(loc=91.3º, kappa=0.477)\n",
      "\n",
      "MixtureModel(n_clusters=3)\n",
      "  ├─ (0) w=0.349  VonMises(loc=28.4º, kappa=1.191)\n",
      "  ├─ (1) w=0.315  VonMises(loc=-71.1º, kappa=1.264)\n",
      "  └─ (2) w=0.336  VonMises(loc=91.3º, kappa=0.477)\n",
      "\n",
      "MixtureModel(n_clusters=3)\n",
      "  ├─ (0) w=0.033  VonMises(loc=28.4º, kappa=1.191)\n",
      "  ├─ (1) w=0.089  VonMises(loc=-71.1º, kappa=1.264)\n",
      "  └─ (2) w=0.878  VonMises(loc=91.3º, kappa=0.477)\n",
      "\n"
     ]
    }
   ],
   "execution_count": 16
  },
  {
   "metadata": {
    "ExecuteTime": {
     "end_time": "2025-07-30T16:08:33.220861Z",
     "start_time": "2025-07-30T16:08:33.203581Z"
    }
   },
   "cell_type": "code",
   "source": "dir_bregman_model.get_weights()",
   "id": "40d4f3b63fc5810e",
   "outputs": [
    {
     "data": {
      "text/plain": [
       "array([0.34864189, 0.31496433, 0.33639378])"
      ]
     },
     "execution_count": 17,
     "metadata": {},
     "output_type": "execute_result"
    }
   ],
   "execution_count": 17
  },
  {
   "metadata": {
    "ExecuteTime": {
     "end_time": "2025-07-30T16:08:33.309655Z",
     "start_time": "2025-07-30T16:08:33.271831Z"
    }
   },
   "cell_type": "code",
   "source": "dir_bregman_model.get_posteriors(dir_data)",
   "id": "ad07be1b147bc8e9",
   "outputs": [
    {
     "data": {
      "text/plain": [
       "array([[0.15134191, 0.2944633 , 0.55419479],\n",
       "       [0.11761027, 0.66365366, 0.21873607],\n",
       "       [0.23041612, 0.59705714, 0.17252674],\n",
       "       ...,\n",
       "       [0.38602701, 0.06721753, 0.54675546],\n",
       "       [0.5266193 , 0.24213059, 0.23125011],\n",
       "       [0.17439483, 0.20925182, 0.61635334]])"
      ]
     },
     "execution_count": 18,
     "metadata": {},
     "output_type": "execute_result"
    }
   ],
   "execution_count": 18
  },
  {
   "metadata": {
    "ExecuteTime": {
     "end_time": "2025-07-30T16:08:49.124532Z",
     "start_time": "2025-07-30T16:08:33.361528Z"
    }
   },
   "cell_type": "code",
   "source": [
    "K_loc = 4\n",
    "K_dir = 4\n",
    "results = {}\n",
    "\n",
    "choose = \"bregman\"\n",
    "start = time.time()\n",
    "results[choose] = sc.two_layer_scheme(loc_data, dir_data, K_loc, K_dir, choose=choose)\n",
    "run_time = time.time() - start\n",
    "\n",
    "print(f\"Running Time {choose} Model: {run_time:.4f}s\\n\")\n",
    "# print(f\"{results[choose][0]}\\n\")\n",
    "# for i, vmm in enumerate(results[choose][1]):\n",
    "#     print(f\"GMM Cluster {i}: \")\n",
    "#     print(f\"{vmm}\\n\")\n",
    "\n",
    "gmm, vmm = results[\"bregman\"]\n",
    "vis.show_all_models(gmm, vmm)"
   ],
   "id": "c630a9573d3f4bce",
   "outputs": [
    {
     "name": "stdout",
     "output_type": "stream",
     "text": [
      "Running Time bregman Model: 15.6648s\n",
      "\n"
     ]
    },
    {
     "data": {
      "text/plain": [
       "<Figure size 600x450 with 1 Axes>"
      ],
      "image/png": "[encoded data removed]"
     },
     "metadata": {},
     "output_type": "display_data"
    }
   ],
   "execution_count": 19
  },
  {
   "metadata": {
    "ExecuteTime": {
     "end_time": "2025-07-30T16:09:03.641069Z",
     "start_time": "2025-07-30T16:08:49.235783Z"
    }
   },
   "cell_type": "code",
   "source": [
    "choose = \"soccermix\"\n",
    "start = time.time()\n",
    "results[choose] = sc.two_layer_scheme(loc_data, dir_data, K_loc, K_dir, choose=choose)\n",
    "run_time = time.time() - start\n",
    "\n",
    "print(f\"Running Time {choose} Model: {run_time:.4f}s\\n\")\n",
    "# print(f\"{results[choose][0]}\\n\")\n",
    "# for i, vmm in enumerate(results[choose][1]):\n",
    "#     print(f\"GMM Cluster {i}: \")\n",
    "#     print(f\"{vmm}\\n\")\n",
    "\n",
    "gmm, vmm = results[choose]\n",
    "vis.show_all_models(gmm, vmm)"
   ],
   "id": "4fc0e58308a04be1",
   "outputs": [
    {
     "name": "stdout",
     "output_type": "stream",
     "text": [
      "Running Time soccermix Model: 14.3338s\n",
      "\n"
     ]
    },
    {
     "data": {
      "text/plain": [
       "<Figure size 600x450 with 1 Axes>"
      ],
      "image/png": "[encoded data removed]"
     },
     "metadata": {},
     "output_type": "display_data"
    }
   ],
   "execution_count": 20
  },
  {
   "metadata": {
    "ExecuteTime": {
     "end_time": "2025-07-30T16:09:35.777148Z",
     "start_time": "2025-07-30T16:09:03.663520Z"
    }
   },
   "cell_type": "code",
   "source": [
    "choose = \"classic\"\n",
    "start = time.time()\n",
    "results[choose] = sc.two_layer_scheme(loc_data, dir_data, K_loc, K_dir, choose=choose)\n",
    "run_time = time.time() - start\n",
    "\n",
    "print(f\"Running Time {choose} Model: {run_time:.4f}s\\n\")\n",
    "# print(f\"{results[choose][0]}\\n\")\n",
    "# for i, vmm in enumerate(results[choose][1]):\n",
    "#     print(f\"GMM Cluster {i}: \")\n",
    "#     print(f\"{vmm}\\n\")\n",
    "\n",
    "gmm, vmm = results[choose]\n",
    "vis.show_all_models(gmm, vmm)"
   ],
   "id": "58d57177b3f14919",
   "outputs": [
    {
     "name": "stdout",
     "output_type": "stream",
     "text": [
      "Running Time classic Model: 32.0406s\n",
      "\n"
     ]
    },
    {
     "data": {
      "text/plain": [
       "<Figure size 600x450 with 1 Axes>"
      ],
      "image/png": "[encoded data removed]"
     },
     "metadata": {},
     "output_type": "display_data"
    }
   ],
   "execution_count": 21
  },
  {
   "metadata": {
    "ExecuteTime": {
     "end_time": "2025-07-30T16:19:59.705140Z",
     "start_time": "2025-07-30T16:19:59.222571Z"
    }
   },
   "cell_type": "code",
   "source": [
    "# Collect BIC and AIC results\n",
    "rows = []\n",
    "for key, value in results.items():\n",
    "    loc_model = value[0]\n",
    "    dir_models = value[1]\n",
    "\n",
    "    loc_bic = loc_model.bic(loc_data).round(0)\n",
    "    loc_aic = loc_model.aic(loc_data).round(0)\n",
    "    rows.append({\"Model\": key, \"Component\": \"loc_model\", \"BIC\": loc_bic, \"AIC\": loc_aic})\n",
    "\n",
    "    for i, vmm in enumerate(dir_models):\n",
    "        dir_bic = vmm.bic(dir_data).round(0)\n",
    "        dir_aic = vmm.aic(dir_data).round(0)\n",
    "        rows.append({\"Model\": key, \"Component\": f\"dir_model_{i}\", \"BIC\": dir_bic, \"AIC\": dir_aic})\n",
    "\n",
    "# Create DataFrame\n",
    "bic_df = pd.DataFrame(rows)\n",
    "bic_df.groupby(\"Model\").sum()\n"
   ],
   "id": "62cc6e5643387f03",
   "outputs": [
    {
     "data": {
      "text/plain": [
       "                                                       Component        BIC  \\\n",
       "Model                                                                         \n",
       "bregman    loc_modeldir_model_0dir_model_1dir_model_2dir_model_3  1886975.0   \n",
       "classic    loc_modeldir_model_0dir_model_1dir_model_2dir_model_3  1886973.0   \n",
       "soccermix  loc_modeldir_model_0dir_model_1dir_model_2dir_model_3  1895060.0   \n",
       "\n",
       "                 AIC  \n",
       "Model                 \n",
       "bregman    1886555.0  \n",
       "classic    1886552.0  \n",
       "soccermix  1894640.0  "
      ],
      "text/html": [
       "<div>\n",
       "<style scoped>\n",
       "    .dataframe tbody tr th:only-of-type {\n",
       "        vertical-align: middle;\n",
       "    }\n",
       "\n",
       "    .dataframe tbody tr th {\n",
       "        vertical-align: top;\n",
       "    }\n",
       "\n",
       "    .dataframe thead th {\n",
       "        text-align: right;\n",
       "    }\n",
       "</style>\n",
       "<table border=\"1\" class=\"dataframe\">\n",
       "  <thead>\n",
       "    <tr style=\"text-align: right;\">\n",
       "      <th></th>\n",
       "      <th>Component</th>\n",
       "      <th>BIC</th>\n",
       "      <th>AIC</th>\n",
       "    </tr>\n",
       "    <tr>\n",
       "      <th>Model</th>\n",
       "      <th></th>\n",
       "      <th></th>\n",
       "      <th></th>\n",
       "    </tr>\n",
       "  </thead>\n",
       "  <tbody>\n",
       "    <tr>\n",
       "      <th>bregman</th>\n",
       "      <td>loc_modeldir_model_0dir_model_1dir_model_2dir_model_3</td>\n",
       "      <td>1886975.0</td>\n",
       "      <td>1886555.0</td>\n",
       "    </tr>\n",
       "    <tr>\n",
       "      <th>classic</th>\n",
       "      <td>loc_modeldir_model_0dir_model_1dir_model_2dir_model_3</td>\n",
       "      <td>1886973.0</td>\n",
       "      <td>1886552.0</td>\n",
       "    </tr>\n",
       "    <tr>\n",
       "      <th>soccermix</th>\n",
       "      <td>loc_modeldir_model_0dir_model_1dir_model_2dir_model_3</td>\n",
       "      <td>1895060.0</td>\n",
       "      <td>1894640.0</td>\n",
       "    </tr>\n",
       "  </tbody>\n",
       "</table>\n",
       "</div>"
      ]
     },
     "execution_count": 24,
     "metadata": {},
     "output_type": "execute_result"
    }
   ],
   "execution_count": 24
  },
  {
   "metadata": {
    "ExecuteTime": {
     "end_time": "2025-07-30T16:09:37.072703Z",
     "start_time": "2025-07-30T16:09:37.061451Z"
    }
   },
   "cell_type": "code",
   "source": "",
   "id": "53661b02b52ce14b",
   "outputs": [],
   "execution_count": null
  }
 ],
 "metadata": {
  "kernelspec": {
   "display_name": "Python 3",
   "language": "python",
   "name": "python3"
  },
  "language_info": {
   "codemirror_mode": {
    "name": "ipython",
    "version": 2
   },
   "file_extension": ".py",
   "mimetype": "text/x-python",
   "name": "python",
   "nbconvert_exporter": "python",
   "pygments_lexer": "ipython2",
   "version": "2.7.6"
  }
 },
 "nbformat": 4,
 "nbformat_minor": 5
}
