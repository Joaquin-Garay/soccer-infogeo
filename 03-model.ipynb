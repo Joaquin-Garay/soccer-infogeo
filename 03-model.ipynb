{
 "cells": [
  {
   "metadata": {},
   "cell_type": "markdown",
   "source": [
    "# Model implementation\n",
    "\n",
    "Information Geometry Soft Clustering for Sport Analytics\n",
    "\n",
    "Joaquin Garay"
   ],
   "id": "1d68bea2064769d3"
  },
  {
   "metadata": {
    "collapsed": true,
    "ExecuteTime": {
     "end_time": "2025-08-05T18:39:22.622157Z",
     "start_time": "2025-08-05T18:39:22.606008Z"
    }
   },
   "cell_type": "code",
   "source": [
    "%load_ext autoreload\n",
    "%autoreload 2\n",
    "\n",
    "import os\n",
    "import time\n",
    "import tqdm\n",
    "import numpy as np\n",
    "import pandas as pd\n",
    "\n",
    "import vis\n",
    "import softclustering as sc\n",
    "\n",
    "from sklearn.neighbors import LocalOutlierFactor\n",
    "import matplotlib.pyplot as plt\n",
    "import socceraction.spadl as spadl\n"
   ],
   "id": "initial_id",
   "outputs": [
    {
     "name": "stdout",
     "output_type": "stream",
     "text": [
      "The autoreload extension is already loaded. To reload it, use:\n",
      "  %reload_ext autoreload\n"
     ]
    }
   ],
   "execution_count": 113
  },
  {
   "metadata": {},
   "cell_type": "markdown",
   "source": "### Data Preparation",
   "id": "e4e0a9ff891dabc4"
  },
  {
   "metadata": {},
   "cell_type": "markdown",
   "source": "Concatenate actions of all games in one DataFrame.",
   "id": "228a4a3ac4e36d4a"
  },
  {
   "metadata": {
    "ExecuteTime": {
     "end_time": "2025-08-05T18:39:22.974471Z",
     "start_time": "2025-08-05T18:39:22.626615Z"
    }
   },
   "cell_type": "code",
   "source": [
    "datafolder = \"data\"\n",
    "fifa2018h5 = os.path.join(datafolder, \"spadl-fifa2018.h5\")\n",
    "games = pd.read_hdf(fifa2018h5, key=\"games\")\n",
    "with pd.HDFStore(fifa2018h5) as store:\n",
    "    actions = []  #list of DataFrames\n",
    "    for game in tqdm.tqdm(games.itertuples()):\n",
    "        game_action = store[f\"actions/game_{game.game_id}\"]\n",
    "        game_action = spadl.play_left_to_right(game_action, game.home_team_id)\n",
    "        game_action[\"is_home\"] = game_action[\"team_id\"] == game.home_team_id\n",
    "        actions.append(game_action)\n",
    "    actions = pd.concat(actions)\n",
    "    actions.drop(\"original_event_id\", axis=1, inplace=True)\n",
    "    actions = pd.merge(actions, spadl.config.actiontypes_df(), how=\"left\")"
   ],
   "id": "71934fdfa2402fa6",
   "outputs": [
    {
     "name": "stderr",
     "output_type": "stream",
     "text": [
      "64it [00:00, 209.29it/s]\n"
     ]
    }
   ],
   "execution_count": 114
  },
  {
   "metadata": {
    "ExecuteTime": {
     "end_time": "2025-08-05T18:39:23.058533Z",
     "start_time": "2025-08-05T18:39:22.987438Z"
    }
   },
   "cell_type": "code",
   "source": [
    "def consolidate(actions):\n",
    "    #actions.fillna(0, inplace=True)\n",
    "\n",
    "    #Consolidate corner_short and corner_crossed\n",
    "    corner_idx = actions.type_name.str.contains(\"corner\")\n",
    "    actions[\"type_name\"] = actions[\"type_name\"].mask(corner_idx, \"corner\")\n",
    "\n",
    "    #Consolidate freekick_short, freekick_crossed, and shot_freekick\n",
    "    freekick_idx = actions.type_name.str.contains(\"freekick\")\n",
    "    actions[\"type_name\"] = actions[\"type_name\"].mask(freekick_idx, \"freekick\")\n",
    "\n",
    "    #Consolidate keeper_claim, keeper_punch, keeper_save, keeper_pick_up\n",
    "    keeper_idx = actions.type_name.str.contains(\"keeper\")\n",
    "    actions[\"type_name\"] = actions[\"type_name\"].mask(keeper_idx, \"keeper_action\")\n",
    "\n",
    "    actions[\"start_x\"] = actions[\"start_x\"].mask(actions.type_name == \"shot_penalty\", 94.5)\n",
    "    actions[\"start_y\"] = actions[\"start_y\"].mask(actions.type_name == \"shot_penalty\", 34)\n",
    "\n",
    "    return actions\n",
    "\n",
    "\n",
    "actions = consolidate(actions)"
   ],
   "id": "533326ea9e5b5f1c",
   "outputs": [],
   "execution_count": 115
  },
  {
   "metadata": {
    "ExecuteTime": {
     "end_time": "2025-08-05T18:39:23.082835Z",
     "start_time": "2025-08-05T18:39:23.071437Z"
    }
   },
   "cell_type": "code",
   "source": [
    "#Actions of Team France matches.\n",
    "len(actions[actions[\"team_id\"] == 771])"
   ],
   "id": "1791e14d37fb5174",
   "outputs": [
    {
     "data": {
      "text/plain": [
       "6829"
      ]
     },
     "execution_count": 116,
     "metadata": {},
     "output_type": "execute_result"
    }
   ],
   "execution_count": 116
  },
  {
   "metadata": {
    "ExecuteTime": {
     "end_time": "2025-08-05T18:39:23.111378Z",
     "start_time": "2025-08-05T18:39:23.095782Z"
    }
   },
   "cell_type": "code",
   "source": "actions.groupby(\"type_name\").size()",
   "id": "4eb9f50ea571275d",
   "outputs": [
    {
     "data": {
      "text/plain": [
       "type_name\n",
       "bad_touch         1547\n",
       "clearance         2074\n",
       "corner             558\n",
       "cross             1305\n",
       "dribble          52731\n",
       "foul              1876\n",
       "freekick          1272\n",
       "goalkick           677\n",
       "interception      1681\n",
       "keeper_action      584\n",
       "pass             56438\n",
       "shot              1556\n",
       "shot_penalty        68\n",
       "tackle            1830\n",
       "take_on           2109\n",
       "throw_in          2178\n",
       "dtype: int64"
      ]
     },
     "execution_count": 117,
     "metadata": {},
     "output_type": "execute_result"
    }
   ],
   "execution_count": 117
  },
  {
   "metadata": {},
   "cell_type": "markdown",
   "source": [
    "As suggested in SoccerMix, add noise on the starting and ending locations, but only on those actions that we can visually note a predefined pattern.\n",
    "* *Add noise in both start and end locations*:\n",
    "    * Cross\n",
    "    * Shot\n",
    "    * Dribble\n",
    "    * Pass\n",
    "    * Keeper_action\n",
    "* *Only on start locations*:\n",
    "    * Clearance\n",
    "    * Goal kick\n",
    "* *Only on end locations*:\n",
    "    * Throw_in\n",
    "    * Corner\n",
    "    * Freekick\n",
    "    * Shot_penalty"
   ],
   "id": "f365f4a57e669f5c"
  },
  {
   "metadata": {
    "ExecuteTime": {
     "end_time": "2025-08-05T18:39:23.175731Z",
     "start_time": "2025-08-05T18:39:23.142680Z"
    }
   },
   "cell_type": "code",
   "source": [
    "def add_noise(actions):\n",
    "    # Start locations\n",
    "    start_list = [\"cross\", \"shot\", \"dribble\", \"pass\", \"keeper_action\", \"clearance\", \"goalkick\"]\n",
    "    mask = actions[\"type_name\"].isin(start_list)\n",
    "    noise = np.random.normal(0, 0.5, size=actions.loc[mask, [\"start_x\", \"start_y\"]].shape)\n",
    "    actions.loc[mask, [\"start_x\", \"start_y\"]] += noise\n",
    "\n",
    "    # End locations\n",
    "    end_list = [\"cross\", \"shot\", \"dribble\", \"pass\", \"keeper_action\", \"throw_in\", \"corner\", \"freekick\", \"shot_penalty\"]\n",
    "    mask = actions[\"type_name\"].isin(end_list)\n",
    "    noise = np.random.normal(0, 0.5, size=actions.loc[mask, [\"end_x\", \"end_y\"]].shape)\n",
    "    actions.loc[mask, [\"end_x\", \"end_y\"]] += noise\n",
    "\n",
    "    return actions\n",
    "\n",
    "\n",
    "actions = add_noise(actions)"
   ],
   "id": "9b595325cb6d6b7b",
   "outputs": [],
   "execution_count": 118
  },
  {
   "metadata": {
    "ExecuteTime": {
     "end_time": "2025-08-05T18:39:23.206047Z",
     "start_time": "2025-08-05T18:39:23.194898Z"
    }
   },
   "cell_type": "code",
   "source": [
    "# # display event locations with noise\n",
    "# corrected_actions = [\"cross\", \"shot\", \"keeper_action\", \"clearance\", \"goalkick\",\"corner\", \"freekick\", \"shot_penalty\"]\n",
    "# for actiontype in corrected_actions:\n",
    "#     actions[actions.type_name == actiontype].plot.scatter(\n",
    "#         x=\"start_x\",\n",
    "#         y=\"start_y\",\n",
    "#         title = f\"Start Location: {actiontype}\",\n",
    "#         figsize = (6,4)\n",
    "#     )\n",
    "#     plt.show()\n",
    "#     actions[actions.type_name == actiontype].plot.scatter(\n",
    "#         x=\"end_x\",\n",
    "#         y=\"end_y\",\n",
    "#         title = f\"End Location: {actiontype}\",\n",
    "#         figsize = (6,4)\n",
    "#     )\n",
    "#     plt.show()"
   ],
   "id": "96ef05afa181356c",
   "outputs": [],
   "execution_count": 119
  },
  {
   "metadata": {
    "ExecuteTime": {
     "end_time": "2025-08-05T18:39:24.341554Z",
     "start_time": "2025-08-05T18:39:23.215755Z"
    }
   },
   "cell_type": "code",
   "source": [
    "def remove_outliers(actions, verbose=False):\n",
    "    X = actions[[\"start_x\",\"start_y\",\"end_x\",\"end_y\"]].to_numpy(dtype=float)\n",
    "    inliers = LocalOutlierFactor(contamination=\"auto\").fit_predict(X)\n",
    "    if verbose:\n",
    "        print(f\"Remove {(inliers==-1).sum()} out of {X.shape[0]} datapoints.\")\n",
    "    return actions[inliers==1]\n",
    "\n",
    "actions = remove_outliers(actions,True)"
   ],
   "id": "26174dde29b6c0a9",
   "outputs": [
    {
     "name": "stdout",
     "output_type": "stream",
     "text": [
      "Remove 571 out of 128484 datapoints.\n"
     ]
    }
   ],
   "execution_count": 120
  },
  {
   "metadata": {},
   "cell_type": "markdown",
   "source": "### Features",
   "id": "2045eff5f67124b5"
  },
  {
   "metadata": {},
   "cell_type": "markdown",
   "source": [
    "Compute the angle of the direction of the action with respect with the x-axis (pitch's length) a\n",
    "$$\\tan \\theta = \\frac{y_{end} - y_{start}}{x_{end} - x_{start}}$$"
   ],
   "id": "8a99a2a13347dd0a"
  },
  {
   "metadata": {
    "ExecuteTime": {
     "end_time": "2025-08-05T18:39:24.384980Z",
     "start_time": "2025-08-05T18:39:24.354339Z"
    }
   },
   "cell_type": "code",
   "source": [
    "actions[\"angle\"] = np.arctan2(actions.end_y - actions.start_y, actions.end_x - actions.start_x)\n",
    "actions[\"cos_angle\"] = np.cos(actions[\"angle\"])\n",
    "actions[\"sin_angle\"] = np.sin(actions[\"angle\"])\n",
    "actions[[\"angle\", \"cos_angle\", \"sin_angle\"]].describe()"
   ],
   "id": "69c78aee6b06747",
   "outputs": [
    {
     "data": {
      "text/plain": [
       "               angle      cos_angle      sin_angle\n",
       "count  127913.000000  127913.000000  127913.000000\n",
       "mean       -0.011584       0.276929      -0.005617\n",
       "std         1.500941       0.680832       0.678051\n",
       "min        -3.141429      -1.000000      -1.000000\n",
       "25%        -1.099060      -0.270678      -0.663749\n",
       "50%         0.000000       0.472414       0.000000\n",
       "75%         1.059650       0.925114       0.643643\n",
       "max         3.141482       1.000000       1.000000"
      ],
      "text/html": [
       "<div>\n",
       "<style scoped>\n",
       "    .dataframe tbody tr th:only-of-type {\n",
       "        vertical-align: middle;\n",
       "    }\n",
       "\n",
       "    .dataframe tbody tr th {\n",
       "        vertical-align: top;\n",
       "    }\n",
       "\n",
       "    .dataframe thead th {\n",
       "        text-align: right;\n",
       "    }\n",
       "</style>\n",
       "<table border=\"1\" class=\"dataframe\">\n",
       "  <thead>\n",
       "    <tr style=\"text-align: right;\">\n",
       "      <th></th>\n",
       "      <th>angle</th>\n",
       "      <th>cos_angle</th>\n",
       "      <th>sin_angle</th>\n",
       "    </tr>\n",
       "  </thead>\n",
       "  <tbody>\n",
       "    <tr>\n",
       "      <th>count</th>\n",
       "      <td>127913.000000</td>\n",
       "      <td>127913.000000</td>\n",
       "      <td>127913.000000</td>\n",
       "    </tr>\n",
       "    <tr>\n",
       "      <th>mean</th>\n",
       "      <td>-0.011584</td>\n",
       "      <td>0.276929</td>\n",
       "      <td>-0.005617</td>\n",
       "    </tr>\n",
       "    <tr>\n",
       "      <th>std</th>\n",
       "      <td>1.500941</td>\n",
       "      <td>0.680832</td>\n",
       "      <td>0.678051</td>\n",
       "    </tr>\n",
       "    <tr>\n",
       "      <th>min</th>\n",
       "      <td>-3.141429</td>\n",
       "      <td>-1.000000</td>\n",
       "      <td>-1.000000</td>\n",
       "    </tr>\n",
       "    <tr>\n",
       "      <th>25%</th>\n",
       "      <td>-1.099060</td>\n",
       "      <td>-0.270678</td>\n",
       "      <td>-0.663749</td>\n",
       "    </tr>\n",
       "    <tr>\n",
       "      <th>50%</th>\n",
       "      <td>0.000000</td>\n",
       "      <td>0.472414</td>\n",
       "      <td>0.000000</td>\n",
       "    </tr>\n",
       "    <tr>\n",
       "      <th>75%</th>\n",
       "      <td>1.059650</td>\n",
       "      <td>0.925114</td>\n",
       "      <td>0.643643</td>\n",
       "    </tr>\n",
       "    <tr>\n",
       "      <th>max</th>\n",
       "      <td>3.141482</td>\n",
       "      <td>1.000000</td>\n",
       "      <td>1.000000</td>\n",
       "    </tr>\n",
       "  </tbody>\n",
       "</table>\n",
       "</div>"
      ]
     },
     "execution_count": 121,
     "metadata": {},
     "output_type": "execute_result"
    }
   ],
   "execution_count": 121
  },
  {
   "metadata": {},
   "cell_type": "markdown",
   "source": [
    "### First run\n",
    "\n",
    "Let's run a first toy implementation using throw-ins of team France."
   ],
   "id": "d5ac5fac97f7d247"
  },
  {
   "metadata": {
    "ExecuteTime": {
     "end_time": "2025-08-05T18:39:24.429510Z",
     "start_time": "2025-08-05T18:39:24.413199Z"
    }
   },
   "cell_type": "code",
   "source": [
    "mask = (actions[\"type_name\"]==\"dribble\") & (actions[\"team_id\"]==771)\n",
    "loc_data = actions[mask][[\"start_x\", \"start_y\"]]\n",
    "dir_data = actions[mask][[\"cos_angle\", \"sin_angle\"]]"
   ],
   "id": "2877a86b1aed5203",
   "outputs": [],
   "execution_count": 122
  },
  {
   "metadata": {
    "ExecuteTime": {
     "end_time": "2025-08-05T18:39:24.504108Z",
     "start_time": "2025-08-05T18:39:24.447769Z"
    }
   },
   "cell_type": "code",
   "source": [
    "loc_data.plot.scatter(\n",
    "        x=\"start_x\",\n",
    "        y=\"start_y\",\n",
    "        title = f\"Start Location\",\n",
    "        figsize = (6,4)\n",
    "    )\n",
    "plt.show()"
   ],
   "id": "101cdb47ff5e0db9",
   "outputs": [
    {
     "data": {
      "text/plain": [
       "<Figure size 600x400 with 1 Axes>"
      ],
      "image/png": "[encoded data removed]"
     },
     "metadata": {},
     "output_type": "display_data"
    }
   ],
   "execution_count": 123
  },
  {
   "metadata": {
    "ExecuteTime": {
     "end_time": "2025-08-05T18:39:25.370797Z",
     "start_time": "2025-08-05T18:39:24.520266Z"
    }
   },
   "cell_type": "code",
   "source": [
    "#Gaussian clusters\n",
    "k_gauss = 7\n",
    "\n",
    "gauss_clusters = [sc.MultivariateGaussian() for j in range(k_gauss)]\n",
    "\n",
    "loc_em_model = sc.MixtureModel(gauss_clusters)\n",
    "loc_bregman_model = sc.MixtureModel(gauss_clusters)\n",
    "\n",
    "# Classic EM\n",
    "start = time.time()\n",
    "res_em = loc_em_model.fit_em_classic(loc_data, verbose=False)\n",
    "t_em = time.time() - start\n",
    "\n",
    "# Bregman EM\n",
    "start = time.time()\n",
    "res_bregman = loc_bregman_model.fit_em_bregman(loc_data, verbose=False)\n",
    "t_bregman = time.time() - start\n",
    "\n",
    "# Results\n",
    "print(f\"Final log-likelihoods:\\nEM: {res_em[-1]:.4f}\\nBregman: {res_bregman[-1]:.4f}\")\n",
    "print(f\"Timings:\\nEM: {t_em:.4f}s\\nBregman: {t_bregman:.4f}s\")\n",
    "print(f\"Calinski–Harabasz index:\\n  EM: {loc_em_model.kl_ch_score(loc_data):.4f}\\n\"\n",
    "      f\"  Bregman: {loc_bregman_model.kl_ch_score(loc_data):.4f}\")"
   ],
   "id": "b462832fe28249fe",
   "outputs": [
    {
     "name": "stdout",
     "output_type": "stream",
     "text": [
      "Final log-likelihoods:\n",
      "EM: -25469.3357\n",
      "Bregman: -25469.3357\n",
      "Timings:\n",
      "EM: 0.4335s\n",
      "Bregman: 0.3891s\n",
      "Calinski–Harabasz index:\n",
      "  EM: 0.8101\n",
      "  Bregman: 0.8101\n"
     ]
    }
   ],
   "execution_count": 124
  },
  {
   "metadata": {
    "ExecuteTime": {
     "end_time": "2025-08-05T21:03:18.618496Z",
     "start_time": "2025-08-05T21:03:18.588387Z"
    }
   },
   "cell_type": "code",
   "source": [
    "for model in [loc_em_model, loc_bregman_model]:\n",
    "    print(f\"{model}\\n\")"
   ],
   "id": "dc3c0b6c6cd588cc",
   "outputs": [
    {
     "name": "stdout",
     "output_type": "stream",
     "text": [
      "MixtureModel(n_clusters=7)\n",
      "  ├─ (0) w=0.100  MultivariateGaussian(d=2, mean=[58.101  7.219], cov=[[458.183  18.242], [18.242  9.012]])\n",
      "  ├─ (1) w=0.022  MultivariateGaussian(d=2, mean=[ 5.126 36.062], cov=[[5.711 0.199], [ 0.199 34.482]])\n",
      "  ├─ (2) w=0.099  MultivariateGaussian(d=2, mean=[62.18  65.238], cov=[[331.206   4.218], [4.218 1.622]])\n",
      "  ├─ (3) w=0.299  MultivariateGaussian(d=2, mean=[51.432 20.334], cov=[[477.236  -6.572], [-6.572 57.708]])\n",
      "  ├─ (4) w=0.092  MultivariateGaussian(d=2, mean=[76.682 55.251], cov=[[163.258 -17.135], [-17.135  37.073]])\n",
      "  ├─ (5) w=0.106  MultivariateGaussian(d=2, mean=[64.013  2.377], cov=[[270.281   0.288], [0.288 1.176]])\n",
      "  └─ (6) w=0.281  MultivariateGaussian(d=2, mean=[43.259 46.253], cov=[[335.109 -37.246], [-37.246  86.77 ]])\n",
      "\n",
      "MixtureModel(n_clusters=7)\n",
      "  ├─ (0) w=0.100  MultivariateGaussian(d=2, mean=[58.101  7.219], cov=[[458.183  18.242], [18.242  9.012]])\n",
      "  ├─ (1) w=0.022  MultivariateGaussian(d=2, mean=[ 5.126 36.062], cov=[[5.711 0.199], [ 0.199 34.482]])\n",
      "  ├─ (2) w=0.099  MultivariateGaussian(d=2, mean=[62.18  65.238], cov=[[331.206   4.218], [4.218 1.622]])\n",
      "  ├─ (3) w=0.299  MultivariateGaussian(d=2, mean=[51.432 20.334], cov=[[477.236  -6.572], [-6.572 57.708]])\n",
      "  ├─ (4) w=0.092  MultivariateGaussian(d=2, mean=[76.682 55.251], cov=[[163.258 -17.135], [-17.135  37.073]])\n",
      "  ├─ (5) w=0.106  MultivariateGaussian(d=2, mean=[64.013  2.377], cov=[[270.281   0.288], [0.288 1.176]])\n",
      "  └─ (6) w=0.281  MultivariateGaussian(d=2, mean=[43.259 46.253], cov=[[335.109 -37.246], [-37.246  86.77 ]])\n",
      "\n"
     ]
    }
   ],
   "execution_count": 137
  },
  {
   "metadata": {
    "ExecuteTime": {
     "end_time": "2025-08-05T18:39:26.189014Z",
     "start_time": "2025-08-05T18:39:25.462496Z"
    }
   },
   "cell_type": "code",
   "source": [
    "#Von Mises Clusters\n",
    "k_vm = 3\n",
    "\n",
    "vm_clusters = [sc.VonMises() for _ in range(k_vm)]\n",
    "\n",
    "dir_em_model = sc.MixtureModel(vm_clusters)\n",
    "dir_proxy_model = sc.MixtureModel(vm_clusters)\n",
    "dir_bregman_model = sc.MixtureModel(vm_clusters)\n",
    "\n",
    "# Classic EM\n",
    "start = time.time()\n",
    "res_em = dir_em_model.fit_em_classic(dir_data, verbose=False)\n",
    "t_em = time.time() - start\n",
    "\n",
    "# Proxy EM for Von Mises\n",
    "start = time.time()\n",
    "res_proxy = dir_proxy_model.fit_em_vonmises_approx(dir_data, verbose=False)\n",
    "t_proxy = time.time() - start\n",
    "\n",
    "# Bregman EM\n",
    "start = time.time()\n",
    "res_bregman = dir_bregman_model.fit_em_bregman(dir_data, verbose=False)\n",
    "t_bregman = time.time() - start\n",
    "\n",
    "# Results\n",
    "print(f\"Final log-likelihoods:\\nEM: {res_em[-1]:.4f}\\nProxy: {res_proxy[-1]:.4f}\\nBregman: {res_bregman[-1]:.4f}\")\n",
    "print(f\"Timings:\\nEM: {t_em:.4f}s\\nProxy: {t_proxy:.4f}s\\nBregman: {t_bregman:.4f}s\")\n",
    "print(f\"Calinski–Harabasz index:\\n\"\n",
    "      f\"  EM: {dir_em_model.kl_ch_score(loc_data):.4f}\\n\"\n",
    "      f\"  Bregman: {dir_bregman_model.kl_ch_score(loc_data):.4f}\\n\"\n",
    "      f\"  Proxy: {dir_proxy_model.kl_ch_score(loc_data):.4f}\")\n"
   ],
   "id": "6f6b97de15e1de30",
   "outputs": [
    {
     "name": "stdout",
     "output_type": "stream",
     "text": [
      "Final log-likelihoods:\n",
      "EM: -7272.9066\n",
      "Proxy: -5493.2872\n",
      "Bregman: -7445.1939\n",
      "Timings:\n",
      "EM: 0.5108s\n",
      "Proxy: 0.0983s\n",
      "Bregman: 0.1020s\n",
      "Calinski–Harabasz index:\n",
      "  EM: -0.0013\n",
      "  Bregman: -0.0012\n",
      "  Proxy: -0.0003\n"
     ]
    }
   ],
   "execution_count": 126
  },
  {
   "metadata": {
    "ExecuteTime": {
     "end_time": "2025-08-05T18:39:26.213709Z",
     "start_time": "2025-08-05T18:39:26.202911Z"
    }
   },
   "cell_type": "code",
   "source": [
    "for model in [dir_em_model, dir_bregman_model, dir_proxy_model]:\n",
    "    print(f\"{model}\\n\")"
   ],
   "id": "9192aa6ab975c28e",
   "outputs": [
    {
     "name": "stdout",
     "output_type": "stream",
     "text": [
      "MixtureModel(n_clusters=3)\n",
      "  ├─ (0) w=0.478  VonMises(loc=8.2º, kappa=1.254)\n",
      "  ├─ (1) w=0.222  VonMises(loc=-73.0º, kappa=0.878)\n",
      "  └─ (2) w=0.300  VonMises(loc=134.3º, kappa=0.764)\n",
      "\n",
      "MixtureModel(n_clusters=3)\n",
      "  ├─ (0) w=0.518  VonMises(loc=8.2º, kappa=1.254)\n",
      "  ├─ (1) w=0.237  VonMises(loc=-73.0º, kappa=0.878)\n",
      "  └─ (2) w=0.245  VonMises(loc=134.3º, kappa=0.764)\n",
      "\n",
      "MixtureModel(n_clusters=3)\n",
      "  ├─ (0) w=0.049  VonMises(loc=8.2º, kappa=1.254)\n",
      "  ├─ (1) w=0.017  VonMises(loc=-73.0º, kappa=0.878)\n",
      "  └─ (2) w=0.934  VonMises(loc=134.3º, kappa=0.764)\n",
      "\n"
     ]
    }
   ],
   "execution_count": 127
  },
  {
   "metadata": {},
   "cell_type": "markdown",
   "source": [
    "### Two layer scheme\n",
    "\n",
    "Running a Gaussian mixture model to get location clusters. Then, for each one of the location clusters, run a von Mises mixture model using again all dataset, but for this second step, each datapoint is weighted by the posteriors of the location mixture model."
   ],
   "id": "2cb6861372d8efe7"
  },
  {
   "metadata": {
    "ExecuteTime": {
     "end_time": "2025-08-05T18:39:27.518036Z",
     "start_time": "2025-08-05T18:39:26.227994Z"
    }
   },
   "cell_type": "code",
   "source": [
    "K_loc = 7\n",
    "K_dir = 3\n",
    "results = {}\n",
    "\n",
    "choose = \"bregman\"\n",
    "start = time.time()\n",
    "results[choose] = sc.two_layer_scheme(loc_data, dir_data, K_loc, K_dir, choose=choose)\n",
    "run_time = time.time() - start\n",
    "\n",
    "print(f\"Running Time {choose} Model: {run_time:.4f}s\\n\")\n",
    "# print(f\"{results[choose][0]}\\n\")\n",
    "# for i, vmm in enumerate(results[choose][1]):\n",
    "#     print(f\"GMM Cluster {i}: \")\n",
    "#     print(f\"{vmm}\\n\")\n",
    "\n",
    "gmm, vmm = results[\"bregman\"]\n",
    "vis.show_all_models(gmm, vmm)"
   ],
   "id": "c630a9573d3f4bce",
   "outputs": [
    {
     "name": "stdout",
     "output_type": "stream",
     "text": [
      "Running Time bregman Model: 1.2454s\n",
      "\n"
     ]
    },
    {
     "data": {
      "text/plain": [
       "<Figure size 600x450 with 1 Axes>"
      ],
      "image/png": "[encoded data removed]"
     },
     "metadata": {},
     "output_type": "display_data"
    }
   ],
   "execution_count": 128
  },
  {
   "metadata": {
    "ExecuteTime": {
     "end_time": "2025-08-05T18:40:17.961310Z",
     "start_time": "2025-08-05T18:40:17.945181Z"
    }
   },
   "cell_type": "code",
   "source": "vmm[2]",
   "id": "59f7c3c612aeb521",
   "outputs": [
    {
     "data": {
      "text/plain": [
       "MixtureModel(n_clusters=3)\n",
       "  ├─ (0) w=0.260  VonMises(loc=-0.9º, kappa=11.358)\n",
       "  ├─ (1) w=0.641  VonMises(loc=-78.3º, kappa=0.563)\n",
       "  └─ (2) w=0.099  VonMises(loc=177.1º, kappa=25.246)"
      ]
     },
     "execution_count": 136,
     "metadata": {},
     "output_type": "execute_result"
    }
   ],
   "execution_count": 136
  },
  {
   "metadata": {
    "ExecuteTime": {
     "end_time": "2025-08-05T18:39:28.728759Z",
     "start_time": "2025-08-05T18:39:27.557731Z"
    }
   },
   "cell_type": "code",
   "source": [
    "choose = \"soccermix\"\n",
    "start = time.time()\n",
    "results[choose] = sc.two_layer_scheme(loc_data, dir_data, K_loc, K_dir, choose=choose)\n",
    "run_time = time.time() - start\n",
    "\n",
    "print(f\"Running Time {choose} Model: {run_time:.4f}s\\n\")\n",
    "# print(f\"{results[choose][0]}\\n\")\n",
    "# for i, vmm in enumerate(results[choose][1]):\n",
    "#     print(f\"GMM Cluster {i}: \")\n",
    "#     print(f\"{vmm}\\n\")\n",
    "\n",
    "gmm, vmm = results[choose]\n",
    "vis.show_all_models(gmm, vmm)"
   ],
   "id": "4fc0e58308a04be1",
   "outputs": [
    {
     "name": "stdout",
     "output_type": "stream",
     "text": [
      "Running Time soccermix Model: 1.1262s\n",
      "\n"
     ]
    },
    {
     "data": {
      "text/plain": [
       "<Figure size 600x450 with 1 Axes>"
      ],
      "image/png": "[encoded data removed]"
     },
     "metadata": {},
     "output_type": "display_data"
    }
   ],
   "execution_count": 130
  },
  {
   "metadata": {
    "ExecuteTime": {
     "end_time": "2025-08-05T18:39:33.244606Z",
     "start_time": "2025-08-05T18:39:28.743183Z"
    }
   },
   "cell_type": "code",
   "source": [
    "choose = \"classic\"\n",
    "start = time.time()\n",
    "results[choose] = sc.two_layer_scheme(loc_data, dir_data, K_loc, K_dir, choose=choose)\n",
    "run_time = time.time() - start\n",
    "\n",
    "print(f\"Running Time {choose} Model: {run_time:.4f}s\\n\")\n",
    "# print(f\"{results[choose][0]}\\n\")\n",
    "# for i, vmm in enumerate(results[choose][1]):\n",
    "#     print(f\"GMM Cluster {i}: \")\n",
    "#     print(f\"{vmm}\\n\")\n",
    "\n",
    "gmm, vmm = results[choose]\n",
    "vis.show_all_models(gmm, vmm)"
   ],
   "id": "58d57177b3f14919",
   "outputs": [
    {
     "name": "stdout",
     "output_type": "stream",
     "text": [
      "Running Time classic Model: 4.4604s\n",
      "\n"
     ]
    },
    {
     "data": {
      "text/plain": [
       "<Figure size 600x450 with 1 Axes>"
      ],
      "image/png": "[encoded data removed]"
     },
     "metadata": {},
     "output_type": "display_data"
    }
   ],
   "execution_count": 131
  },
  {
   "metadata": {
    "ExecuteTime": {
     "end_time": "2025-08-05T18:39:33.292027Z",
     "start_time": "2025-08-05T18:39:33.257841Z"
    }
   },
   "cell_type": "code",
   "source": [
    "rows = []\n",
    "for key, value in results.items():\n",
    "    loc_model = value[0]\n",
    "    dir_models = value[1]\n",
    "\n",
    "    loc_chi = round(loc_model.kl_ch_score(loc_data),4)\n",
    "    rows.append({\"Model\": key, \"Component\": \"loc_model\", \"CH Index\": loc_chi})\n",
    "\n",
    "    for i, dir_model in enumerate(dir_models):\n",
    "        dir_chi = round(dir_model.kl_ch_score(dir_data),4)\n",
    "        rows.append({\"Model\": key, \"Component\": f\"dir_model_{i}\", \"CH Index\": dir_chi})\n",
    "\n",
    "# Create DataFrame\n",
    "scores_df = pd.DataFrame(rows)\n",
    "scores_df.groupby(\"Model\").sum()"
   ],
   "id": "ed217d805aaa6248",
   "outputs": [
    {
     "data": {
      "text/plain": [
       "                                                   Component  CH Index\n",
       "Model                                                                 \n",
       "bregman    loc_modeldir_model_0dir_model_1dir_model_2dir_...    1.3752\n",
       "classic    loc_modeldir_model_0dir_model_1dir_model_2dir_...    1.4429\n",
       "soccermix  loc_modeldir_model_0dir_model_1dir_model_2dir_...    1.3288"
      ],
      "text/html": [
       "<div>\n",
       "<style scoped>\n",
       "    .dataframe tbody tr th:only-of-type {\n",
       "        vertical-align: middle;\n",
       "    }\n",
       "\n",
       "    .dataframe tbody tr th {\n",
       "        vertical-align: top;\n",
       "    }\n",
       "\n",
       "    .dataframe thead th {\n",
       "        text-align: right;\n",
       "    }\n",
       "</style>\n",
       "<table border=\"1\" class=\"dataframe\">\n",
       "  <thead>\n",
       "    <tr style=\"text-align: right;\">\n",
       "      <th></th>\n",
       "      <th>Component</th>\n",
       "      <th>CH Index</th>\n",
       "    </tr>\n",
       "    <tr>\n",
       "      <th>Model</th>\n",
       "      <th></th>\n",
       "      <th></th>\n",
       "    </tr>\n",
       "  </thead>\n",
       "  <tbody>\n",
       "    <tr>\n",
       "      <th>bregman</th>\n",
       "      <td>loc_modeldir_model_0dir_model_1dir_model_2dir_...</td>\n",
       "      <td>1.3752</td>\n",
       "    </tr>\n",
       "    <tr>\n",
       "      <th>classic</th>\n",
       "      <td>loc_modeldir_model_0dir_model_1dir_model_2dir_...</td>\n",
       "      <td>1.4429</td>\n",
       "    </tr>\n",
       "    <tr>\n",
       "      <th>soccermix</th>\n",
       "      <td>loc_modeldir_model_0dir_model_1dir_model_2dir_...</td>\n",
       "      <td>1.3288</td>\n",
       "    </tr>\n",
       "  </tbody>\n",
       "</table>\n",
       "</div>"
      ]
     },
     "execution_count": 132,
     "metadata": {},
     "output_type": "execute_result"
    }
   ],
   "execution_count": 132
  },
  {
   "metadata": {
    "ExecuteTime": {
     "end_time": "2025-08-05T18:39:33.508254Z",
     "start_time": "2025-08-05T18:39:33.437101Z"
    }
   },
   "cell_type": "code",
   "source": [
    "# Collect BIC and AIC results\n",
    "rows = []\n",
    "for key, value in results.items():\n",
    "    loc_model = value[0]\n",
    "    dir_models = value[1]\n",
    "\n",
    "    loc_bic = round(loc_model.bic_score(loc_data),0)\n",
    "    loc_aic = round(loc_model.aic_score(loc_data),0)\n",
    "    rows.append({\"Model\": key, \"Component\": \"loc_model\", \"BIC\": loc_bic, \"AIC\": loc_aic})\n",
    "\n",
    "    for i, dir_model in enumerate(dir_models):\n",
    "        dir_bic = round(dir_model.bic_score(dir_data),0)\n",
    "        dir_aic = round(dir_model.aic_score(dir_data),0)\n",
    "        rows.append({\"Model\": key, \"Component\": f\"dir_model_{i}\", \"BIC\": dir_bic, \"AIC\": dir_aic})\n",
    "\n",
    "# Create DataFrame\n",
    "scores_df = pd.DataFrame(rows)\n",
    "scores_df.groupby(\"Model\").sum()\n"
   ],
   "id": "62cc6e5643387f03",
   "outputs": [
    {
     "data": {
      "text/plain": [
       "                                                   Component       BIC  \\\n",
       "Model                                                                    \n",
       "bregman    loc_modeldir_model_0dir_model_1dir_model_2dir_...  123362.0   \n",
       "classic    loc_modeldir_model_0dir_model_1dir_model_2dir_...  123175.0   \n",
       "soccermix  loc_modeldir_model_0dir_model_1dir_model_2dir_...  123463.0   \n",
       "\n",
       "                AIC  \n",
       "Model                \n",
       "bregman    122911.0  \n",
       "classic    122726.0  \n",
       "soccermix  123012.0  "
      ],
      "text/html": [
       "<div>\n",
       "<style scoped>\n",
       "    .dataframe tbody tr th:only-of-type {\n",
       "        vertical-align: middle;\n",
       "    }\n",
       "\n",
       "    .dataframe tbody tr th {\n",
       "        vertical-align: top;\n",
       "    }\n",
       "\n",
       "    .dataframe thead th {\n",
       "        text-align: right;\n",
       "    }\n",
       "</style>\n",
       "<table border=\"1\" class=\"dataframe\">\n",
       "  <thead>\n",
       "    <tr style=\"text-align: right;\">\n",
       "      <th></th>\n",
       "      <th>Component</th>\n",
       "      <th>BIC</th>\n",
       "      <th>AIC</th>\n",
       "    </tr>\n",
       "    <tr>\n",
       "      <th>Model</th>\n",
       "      <th></th>\n",
       "      <th></th>\n",
       "      <th></th>\n",
       "    </tr>\n",
       "  </thead>\n",
       "  <tbody>\n",
       "    <tr>\n",
       "      <th>bregman</th>\n",
       "      <td>loc_modeldir_model_0dir_model_1dir_model_2dir_...</td>\n",
       "      <td>123362.0</td>\n",
       "      <td>122911.0</td>\n",
       "    </tr>\n",
       "    <tr>\n",
       "      <th>classic</th>\n",
       "      <td>loc_modeldir_model_0dir_model_1dir_model_2dir_...</td>\n",
       "      <td>123175.0</td>\n",
       "      <td>122726.0</td>\n",
       "    </tr>\n",
       "    <tr>\n",
       "      <th>soccermix</th>\n",
       "      <td>loc_modeldir_model_0dir_model_1dir_model_2dir_...</td>\n",
       "      <td>123463.0</td>\n",
       "      <td>123012.0</td>\n",
       "    </tr>\n",
       "  </tbody>\n",
       "</table>\n",
       "</div>"
      ]
     },
     "execution_count": 133,
     "metadata": {},
     "output_type": "execute_result"
    }
   ],
   "execution_count": 133
  },
  {
   "metadata": {
    "ExecuteTime": {
     "end_time": "2025-08-05T18:39:33.584535Z",
     "start_time": "2025-08-05T18:39:33.581959Z"
    }
   },
   "cell_type": "code",
   "source": "",
   "id": "532eea86201d66d",
   "outputs": [],
   "execution_count": null
  }
 ],
 "metadata": {
  "kernelspec": {
   "display_name": "Python 3",
   "language": "python",
   "name": "python3"
  },
  "language_info": {
   "codemirror_mode": {
    "name": "ipython",
    "version": 2
   },
   "file_extension": ".py",
   "mimetype": "text/x-python",
   "name": "python",
   "nbconvert_exporter": "python",
   "pygments_lexer": "ipython2",
   "version": "2.7.6"
  }
 },
 "nbformat": 4,
 "nbformat_minor": 5
}
