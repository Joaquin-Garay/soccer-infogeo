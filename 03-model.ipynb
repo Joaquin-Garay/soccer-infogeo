{
 "cells": [
  {
   "metadata": {},
   "cell_type": "markdown",
   "source": [
    "# Model implementation\n",
    "\n",
    "Information Geometry Soft Clustering for Sport Analytics\n",
    "\n",
    "Joaquin Garay"
   ],
   "id": "1d68bea2064769d3"
  },
  {
   "metadata": {
    "collapsed": true,
    "ExecuteTime": {
     "end_time": "2025-09-28T16:45:24.893344Z",
     "start_time": "2025-09-28T16:45:24.873257Z"
    }
   },
   "cell_type": "code",
   "source": [
    "%load_ext autoreload\n",
    "%autoreload 2\n",
    "\n",
    "import os\n",
    "import time\n",
    "import tqdm\n",
    "import numpy as np\n",
    "import pandas as pd\n",
    "\n",
    "import vis\n",
    "import softclustering as sc\n",
    "\n",
    "from sklearn.neighbors import LocalOutlierFactor\n",
    "import matplotlib.pyplot as plt\n",
    "import socceraction.spadl as spadl\n"
   ],
   "id": "initial_id",
   "outputs": [
    {
     "name": "stdout",
     "output_type": "stream",
     "text": [
      "The autoreload extension is already loaded. To reload it, use:\n",
      "  %reload_ext autoreload\n"
     ]
    }
   ],
   "execution_count": 21
  },
  {
   "metadata": {},
   "cell_type": "markdown",
   "source": "### Data Preparation",
   "id": "e4e0a9ff891dabc4"
  },
  {
   "metadata": {},
   "cell_type": "markdown",
   "source": "Concatenate actions of all games in one DataFrame.",
   "id": "228a4a3ac4e36d4a"
  },
  {
   "metadata": {
    "ExecuteTime": {
     "end_time": "2025-09-28T16:45:25.265348Z",
     "start_time": "2025-09-28T16:45:24.911348Z"
    }
   },
   "cell_type": "code",
   "source": [
    "datafolder = \"data\"\n",
    "fifa2018h5 = os.path.join(datafolder, \"spadl-fifa2018.h5\")\n",
    "games = pd.read_hdf(fifa2018h5, key=\"games\")\n",
    "with pd.HDFStore(fifa2018h5) as store:\n",
    "    actions = []  #list of DataFrames\n",
    "    for game in tqdm.tqdm(games.itertuples()):\n",
    "        game_action = store[f\"actions/game_{game.game_id}\"]\n",
    "        game_action = spadl.play_left_to_right(game_action, game.home_team_id)\n",
    "        game_action[\"is_home\"] = game_action[\"team_id\"] == game.home_team_id\n",
    "        actions.append(game_action)\n",
    "    actions = pd.concat(actions)\n",
    "    actions.drop(\"original_event_id\", axis=1, inplace=True)\n",
    "    actions = pd.merge(actions, spadl.config.actiontypes_df(), how=\"left\")"
   ],
   "id": "71934fdfa2402fa6",
   "outputs": [
    {
     "name": "stderr",
     "output_type": "stream",
     "text": [
      "64it [00:00, 205.73it/s]\n"
     ]
    }
   ],
   "execution_count": 22
  },
  {
   "metadata": {
    "ExecuteTime": {
     "end_time": "2025-09-28T16:45:25.337604Z",
     "start_time": "2025-09-28T16:45:25.268034Z"
    }
   },
   "cell_type": "code",
   "source": [
    "def consolidate(actions):\n",
    "    #actions.fillna(0, inplace=True)\n",
    "\n",
    "    #Consolidate corner_short and corner_crossed\n",
    "    corner_idx = actions.type_name.str.contains(\"corner\")\n",
    "    actions[\"type_name\"] = actions[\"type_name\"].mask(corner_idx, \"corner\")\n",
    "\n",
    "    #Consolidate freekick_short, freekick_crossed, and shot_freekick\n",
    "    freekick_idx = actions.type_name.str.contains(\"freekick\")\n",
    "    actions[\"type_name\"] = actions[\"type_name\"].mask(freekick_idx, \"freekick\")\n",
    "\n",
    "    #Consolidate keeper_claim, keeper_punch, keeper_save, keeper_pick_up\n",
    "    keeper_idx = actions.type_name.str.contains(\"keeper\")\n",
    "    actions[\"type_name\"] = actions[\"type_name\"].mask(keeper_idx, \"keeper_action\")\n",
    "\n",
    "    actions[\"start_x\"] = actions[\"start_x\"].mask(actions.type_name == \"shot_penalty\", 94.5)\n",
    "    actions[\"start_y\"] = actions[\"start_y\"].mask(actions.type_name == \"shot_penalty\", 34)\n",
    "\n",
    "    return actions\n",
    "\n",
    "\n",
    "actions = consolidate(actions)"
   ],
   "id": "533326ea9e5b5f1c",
   "outputs": [],
   "execution_count": 23
  },
  {
   "metadata": {
    "ExecuteTime": {
     "end_time": "2025-09-28T16:45:25.361173Z",
     "start_time": "2025-09-28T16:45:25.349178Z"
    }
   },
   "cell_type": "code",
   "source": [
    "#Actions of Team France matches.\n",
    "len(actions[actions[\"team_id\"] == 771])"
   ],
   "id": "1791e14d37fb5174",
   "outputs": [
    {
     "data": {
      "text/plain": [
       "6829"
      ]
     },
     "execution_count": 24,
     "metadata": {},
     "output_type": "execute_result"
    }
   ],
   "execution_count": 24
  },
  {
   "metadata": {
    "ExecuteTime": {
     "end_time": "2025-09-28T16:45:25.389346Z",
     "start_time": "2025-09-28T16:45:25.372557Z"
    }
   },
   "cell_type": "code",
   "source": "actions.groupby(\"type_name\").size()",
   "id": "4eb9f50ea571275d",
   "outputs": [
    {
     "data": {
      "text/plain": [
       "type_name\n",
       "bad_touch         1547\n",
       "clearance         2074\n",
       "corner             558\n",
       "cross             1305\n",
       "dribble          52731\n",
       "foul              1876\n",
       "freekick          1272\n",
       "goalkick           677\n",
       "interception      1681\n",
       "keeper_action      584\n",
       "pass             56438\n",
       "shot              1556\n",
       "shot_penalty        68\n",
       "tackle            1830\n",
       "take_on           2109\n",
       "throw_in          2178\n",
       "dtype: int64"
      ]
     },
     "execution_count": 25,
     "metadata": {},
     "output_type": "execute_result"
    }
   ],
   "execution_count": 25
  },
  {
   "metadata": {},
   "cell_type": "markdown",
   "source": [
    "As suggested in SoccerMix, add noise on the starting and ending locations, but only on those actions that we can visually note a predefined pattern.\n",
    "* *Add noise in both start and end locations*:\n",
    "    * Cross\n",
    "    * Shot\n",
    "    * Dribble\n",
    "    * Pass\n",
    "    * Keeper_action\n",
    "* *Only on start locations*:\n",
    "    * Clearance\n",
    "    * Goal kick\n",
    "* *Only on end locations*:\n",
    "    * Throw_in\n",
    "    * Corner\n",
    "    * Freekick\n",
    "    * Shot_penalty"
   ],
   "id": "f365f4a57e669f5c"
  },
  {
   "metadata": {
    "ExecuteTime": {
     "end_time": "2025-09-28T16:45:25.450976Z",
     "start_time": "2025-09-28T16:45:25.417907Z"
    }
   },
   "cell_type": "code",
   "source": [
    "def add_noise(actions):\n",
    "    # Start locations\n",
    "    start_list = [\"cross\", \"shot\", \"dribble\", \"pass\", \"keeper_action\", \"clearance\", \"goalkick\"]\n",
    "    mask = actions[\"type_name\"].isin(start_list)\n",
    "    noise = np.random.normal(0, 0.5, size=actions.loc[mask, [\"start_x\", \"start_y\"]].shape)\n",
    "    actions.loc[mask, [\"start_x\", \"start_y\"]] += noise\n",
    "\n",
    "    # End locations\n",
    "    end_list = [\"cross\", \"shot\", \"dribble\", \"pass\", \"keeper_action\", \"throw_in\", \"corner\", \"freekick\", \"shot_penalty\"]\n",
    "    mask = actions[\"type_name\"].isin(end_list)\n",
    "    noise = np.random.normal(0, 0.5, size=actions.loc[mask, [\"end_x\", \"end_y\"]].shape)\n",
    "    actions.loc[mask, [\"end_x\", \"end_y\"]] += noise\n",
    "\n",
    "    return actions\n",
    "\n",
    "\n",
    "actions = add_noise(actions)"
   ],
   "id": "9b595325cb6d6b7b",
   "outputs": [],
   "execution_count": 26
  },
  {
   "metadata": {
    "ExecuteTime": {
     "end_time": "2025-09-28T16:45:25.481759Z",
     "start_time": "2025-09-28T16:45:25.470518Z"
    }
   },
   "cell_type": "code",
   "source": [
    "# # display event locations with noise\n",
    "# corrected_actions = [\"cross\", \"shot\", \"keeper_action\", \"clearance\", \"goalkick\",\"corner\", \"freekick\", \"shot_penalty\"]\n",
    "# for actiontype in corrected_actions:\n",
    "#     actions[actions.type_name == actiontype].plot.scatter(\n",
    "#         x=\"start_x\",\n",
    "#         y=\"start_y\",\n",
    "#         title = f\"Start Location: {actiontype}\",\n",
    "#         figsize = (6,4)\n",
    "#     )\n",
    "#     plt.show()\n",
    "#     actions[actions.type_name == actiontype].plot.scatter(\n",
    "#         x=\"end_x\",\n",
    "#         y=\"end_y\",\n",
    "#         title = f\"End Location: {actiontype}\",\n",
    "#         figsize = (6,4)\n",
    "#     )\n",
    "#     plt.show()"
   ],
   "id": "96ef05afa181356c",
   "outputs": [],
   "execution_count": 27
  },
  {
   "metadata": {
    "ExecuteTime": {
     "end_time": "2025-09-28T16:45:26.637955Z",
     "start_time": "2025-09-28T16:45:25.486958Z"
    }
   },
   "cell_type": "code",
   "source": [
    "def remove_outliers(actions, verbose=False):\n",
    "    X = actions[[\"start_x\",\"start_y\",\"end_x\",\"end_y\"]].to_numpy(dtype=float)\n",
    "    inliers = LocalOutlierFactor(contamination=\"auto\").fit_predict(X)\n",
    "    if verbose:\n",
    "        print(f\"Remove {(inliers==-1).sum()} out of {X.shape[0]} datapoints.\")\n",
    "    return actions[inliers==1]\n",
    "\n",
    "actions = remove_outliers(actions,True)"
   ],
   "id": "26174dde29b6c0a9",
   "outputs": [
    {
     "name": "stdout",
     "output_type": "stream",
     "text": [
      "Remove 560 out of 128484 datapoints.\n"
     ]
    }
   ],
   "execution_count": 28
  },
  {
   "metadata": {},
   "cell_type": "markdown",
   "source": "### Features",
   "id": "2045eff5f67124b5"
  },
  {
   "metadata": {},
   "cell_type": "markdown",
   "source": [
    "Compute the angle of the direction of the action with respect with the x-axis (pitch's length) a\n",
    "$$\\tan \\theta = \\frac{y_{end} - y_{start}}{x_{end} - x_{start}}$$"
   ],
   "id": "8a99a2a13347dd0a"
  },
  {
   "metadata": {
    "ExecuteTime": {
     "end_time": "2025-09-28T16:45:26.686098Z",
     "start_time": "2025-09-28T16:45:26.650761Z"
    }
   },
   "cell_type": "code",
   "source": [
    "actions[\"angle\"] = np.arctan2(actions.end_y - actions.start_y, actions.end_x - actions.start_x)\n",
    "actions[\"cos_angle\"] = np.cos(actions[\"angle\"])\n",
    "actions[\"sin_angle\"] = np.sin(actions[\"angle\"])\n",
    "actions[[\"angle\", \"cos_angle\", \"sin_angle\"]].describe()"
   ],
   "id": "69c78aee6b06747",
   "outputs": [
    {
     "data": {
      "text/plain": [
       "               angle      cos_angle      sin_angle\n",
       "count  127924.000000  127924.000000  127924.000000\n",
       "mean       -0.012143       0.276368      -0.005796\n",
       "std         1.501657       0.680744       0.678367\n",
       "min        -3.141487      -1.000000      -1.000000\n",
       "25%        -1.100518      -0.269111      -0.663152\n",
       "50%         0.000000       0.470214       0.000000\n",
       "75%         1.063148       0.925711       0.645374\n",
       "max         3.141573       1.000000       1.000000"
      ],
      "text/html": [
       "<div>\n",
       "<style scoped>\n",
       "    .dataframe tbody tr th:only-of-type {\n",
       "        vertical-align: middle;\n",
       "    }\n",
       "\n",
       "    .dataframe tbody tr th {\n",
       "        vertical-align: top;\n",
       "    }\n",
       "\n",
       "    .dataframe thead th {\n",
       "        text-align: right;\n",
       "    }\n",
       "</style>\n",
       "<table border=\"1\" class=\"dataframe\">\n",
       "  <thead>\n",
       "    <tr style=\"text-align: right;\">\n",
       "      <th></th>\n",
       "      <th>angle</th>\n",
       "      <th>cos_angle</th>\n",
       "      <th>sin_angle</th>\n",
       "    </tr>\n",
       "  </thead>\n",
       "  <tbody>\n",
       "    <tr>\n",
       "      <th>count</th>\n",
       "      <td>127924.000000</td>\n",
       "      <td>127924.000000</td>\n",
       "      <td>127924.000000</td>\n",
       "    </tr>\n",
       "    <tr>\n",
       "      <th>mean</th>\n",
       "      <td>-0.012143</td>\n",
       "      <td>0.276368</td>\n",
       "      <td>-0.005796</td>\n",
       "    </tr>\n",
       "    <tr>\n",
       "      <th>std</th>\n",
       "      <td>1.501657</td>\n",
       "      <td>0.680744</td>\n",
       "      <td>0.678367</td>\n",
       "    </tr>\n",
       "    <tr>\n",
       "      <th>min</th>\n",
       "      <td>-3.141487</td>\n",
       "      <td>-1.000000</td>\n",
       "      <td>-1.000000</td>\n",
       "    </tr>\n",
       "    <tr>\n",
       "      <th>25%</th>\n",
       "      <td>-1.100518</td>\n",
       "      <td>-0.269111</td>\n",
       "      <td>-0.663152</td>\n",
       "    </tr>\n",
       "    <tr>\n",
       "      <th>50%</th>\n",
       "      <td>0.000000</td>\n",
       "      <td>0.470214</td>\n",
       "      <td>0.000000</td>\n",
       "    </tr>\n",
       "    <tr>\n",
       "      <th>75%</th>\n",
       "      <td>1.063148</td>\n",
       "      <td>0.925711</td>\n",
       "      <td>0.645374</td>\n",
       "    </tr>\n",
       "    <tr>\n",
       "      <th>max</th>\n",
       "      <td>3.141573</td>\n",
       "      <td>1.000000</td>\n",
       "      <td>1.000000</td>\n",
       "    </tr>\n",
       "  </tbody>\n",
       "</table>\n",
       "</div>"
      ]
     },
     "execution_count": 29,
     "metadata": {},
     "output_type": "execute_result"
    }
   ],
   "execution_count": 29
  },
  {
   "metadata": {},
   "cell_type": "markdown",
   "source": [
    "### First run\n",
    "\n",
    "Let's run a first toy implementation using throw-ins of team France."
   ],
   "id": "d5ac5fac97f7d247"
  },
  {
   "metadata": {
    "ExecuteTime": {
     "end_time": "2025-09-28T16:45:26.731303Z",
     "start_time": "2025-09-28T16:45:26.714431Z"
    }
   },
   "cell_type": "code",
   "source": [
    "mask = (actions[\"type_name\"]==\"dribble\") & (actions[\"team_id\"]==771)\n",
    "loc_data = actions[mask][[\"start_x\", \"start_y\"]]\n",
    "dir_data = actions[mask][[\"cos_angle\", \"sin_angle\"]]"
   ],
   "id": "2877a86b1aed5203",
   "outputs": [],
   "execution_count": 30
  },
  {
   "metadata": {
    "ExecuteTime": {
     "end_time": "2025-09-28T16:45:26.809243Z",
     "start_time": "2025-09-28T16:45:26.751282Z"
    }
   },
   "cell_type": "code",
   "source": [
    "loc_data.plot.scatter(\n",
    "        x=\"start_x\",\n",
    "        y=\"start_y\",\n",
    "        title = f\"Start Location\",\n",
    "        figsize = (6,4)\n",
    "    )\n",
    "plt.show()"
   ],
   "id": "101cdb47ff5e0db9",
   "outputs": [
    {
     "data": {
      "text/plain": [
       "<Figure size 600x400 with 1 Axes>"
      ],
      "image/png": "[encoded data removed]"
     },
     "metadata": {},
     "output_type": "display_data"
    }
   ],
   "execution_count": 31
  },
  {
   "metadata": {
    "ExecuteTime": {
     "end_time": "2025-09-28T16:45:27.925979Z",
     "start_time": "2025-09-28T16:45:26.817261Z"
    }
   },
   "cell_type": "code",
   "source": [
    "# Gaussian clusters\n",
    "k_gauss = 4\n",
    "all_results = []\n",
    "\n",
    "for init in [\"k-means++\", \"k-means\", \"random\", \"random_from_data\"]:\n",
    "    times = {}\n",
    "    results = {}\n",
    "    models = {}\n",
    "\n",
    "    for case in [\"classic\", \"bregman\"]:\n",
    "        loc_model = sc.MixtureModel(\n",
    "            [sc.MultivariateGaussian() for _ in range(k_gauss)],\n",
    "            init=init\n",
    "        )\n",
    "        start = time.time()\n",
    "        results[case] = loc_model.fit(loc_data, verbose=False, case=case)\n",
    "        times[case] = time.time() - start\n",
    "        models[case] = loc_model\n",
    "\n",
    "        all_results.append({\n",
    "            \"initialization\": init,\n",
    "            \"case\": case,\n",
    "            \"log_likelihood\": results[case][-1],\n",
    "            \"time_sec\": times[case],\n",
    "            \"ch_score\": sc.kl_ch_score(loc_data, models[case])\n",
    "        })\n",
    "\n",
    "loc_results = pd.DataFrame(all_results)\n",
    "loc_results"
   ],
   "id": "b462832fe28249fe",
   "outputs": [
    {
     "data": {
      "text/plain": [
       "     initialization     case  log_likelihood  time_sec  ch_score\n",
       "0         k-means++  classic       -8.759152  0.114188  0.044280\n",
       "1         k-means++  bregman       -8.759152  0.197888  0.044280\n",
       "2           k-means  classic       -8.692729  0.239736  0.050968\n",
       "3           k-means  bregman       -8.692729  0.422468  0.050968\n",
       "4            random  classic       -9.021726  0.003901  0.000003\n",
       "5            random  bregman       -9.021726  0.006462  0.000003\n",
       "6  random_from_data  classic       -8.775532  0.057567  0.043565\n",
       "7  random_from_data  bregman       -8.775532  0.032341  0.043565"
      ],
      "text/html": [
       "<div>\n",
       "<style scoped>\n",
       "    .dataframe tbody tr th:only-of-type {\n",
       "        vertical-align: middle;\n",
       "    }\n",
       "\n",
       "    .dataframe tbody tr th {\n",
       "        vertical-align: top;\n",
       "    }\n",
       "\n",
       "    .dataframe thead th {\n",
       "        text-align: right;\n",
       "    }\n",
       "</style>\n",
       "<table border=\"1\" class=\"dataframe\">\n",
       "  <thead>\n",
       "    <tr style=\"text-align: right;\">\n",
       "      <th></th>\n",
       "      <th>initialization</th>\n",
       "      <th>case</th>\n",
       "      <th>log_likelihood</th>\n",
       "      <th>time_sec</th>\n",
       "      <th>ch_score</th>\n",
       "    </tr>\n",
       "  </thead>\n",
       "  <tbody>\n",
       "    <tr>\n",
       "      <th>0</th>\n",
       "      <td>k-means++</td>\n",
       "      <td>classic</td>\n",
       "      <td>-8.759152</td>\n",
       "      <td>0.114188</td>\n",
       "      <td>0.044280</td>\n",
       "    </tr>\n",
       "    <tr>\n",
       "      <th>1</th>\n",
       "      <td>k-means++</td>\n",
       "      <td>bregman</td>\n",
       "      <td>-8.759152</td>\n",
       "      <td>0.197888</td>\n",
       "      <td>0.044280</td>\n",
       "    </tr>\n",
       "    <tr>\n",
       "      <th>2</th>\n",
       "      <td>k-means</td>\n",
       "      <td>classic</td>\n",
       "      <td>-8.692729</td>\n",
       "      <td>0.239736</td>\n",
       "      <td>0.050968</td>\n",
       "    </tr>\n",
       "    <tr>\n",
       "      <th>3</th>\n",
       "      <td>k-means</td>\n",
       "      <td>bregman</td>\n",
       "      <td>-8.692729</td>\n",
       "      <td>0.422468</td>\n",
       "      <td>0.050968</td>\n",
       "    </tr>\n",
       "    <tr>\n",
       "      <th>4</th>\n",
       "      <td>random</td>\n",
       "      <td>classic</td>\n",
       "      <td>-9.021726</td>\n",
       "      <td>0.003901</td>\n",
       "      <td>0.000003</td>\n",
       "    </tr>\n",
       "    <tr>\n",
       "      <th>5</th>\n",
       "      <td>random</td>\n",
       "      <td>bregman</td>\n",
       "      <td>-9.021726</td>\n",
       "      <td>0.006462</td>\n",
       "      <td>0.000003</td>\n",
       "    </tr>\n",
       "    <tr>\n",
       "      <th>6</th>\n",
       "      <td>random_from_data</td>\n",
       "      <td>classic</td>\n",
       "      <td>-8.775532</td>\n",
       "      <td>0.057567</td>\n",
       "      <td>0.043565</td>\n",
       "    </tr>\n",
       "    <tr>\n",
       "      <th>7</th>\n",
       "      <td>random_from_data</td>\n",
       "      <td>bregman</td>\n",
       "      <td>-8.775532</td>\n",
       "      <td>0.032341</td>\n",
       "      <td>0.043565</td>\n",
       "    </tr>\n",
       "  </tbody>\n",
       "</table>\n",
       "</div>"
      ]
     },
     "execution_count": 32,
     "metadata": {},
     "output_type": "execute_result"
    }
   ],
   "execution_count": 32
  },
  {
   "metadata": {
    "ExecuteTime": {
     "end_time": "2025-09-28T16:45:28.067946Z",
     "start_time": "2025-09-28T16:45:28.046073Z"
    }
   },
   "cell_type": "code",
   "source": [
    "for case in [\"classic\",\"bregman\"]:\n",
    "    print(f\"{models[case]}\\n\")"
   ],
   "id": "dc3c0b6c6cd588cc",
   "outputs": [
    {
     "name": "stdout",
     "output_type": "stream",
     "text": [
      "MixtureModel(n_components=4)\n",
      "  ├─ (0) w=0.433  MultivariateGaussian(d=2, mean=[48.21  45.918], cov=[[564.394  60.764], [ 60.764 118.265]])\n",
      "  ├─ (1) w=0.102  MultivariateGaussian(d=2, mean=[61.692 65.103], cov=[[353.726   4.051], [4.051 1.958]])\n",
      "  ├─ (2) w=0.324  MultivariateGaussian(d=2, mean=[48.385 11.788], cov=[[355.26  -54.297], [-54.297  73.197]])\n",
      "  └─ (3) w=0.140  MultivariateGaussian(d=2, mean=[75.242 14.833], cov=[[169.707 -19.254], [-19.254  97.414]])\n",
      "\n",
      "MixtureModel(n_components=4)\n",
      "  ├─ (0) w=0.433  MultivariateGaussian(d=2, mean=[48.21  45.918], cov=[[564.394  60.764], [ 60.764 118.265]])\n",
      "  ├─ (1) w=0.102  MultivariateGaussian(d=2, mean=[61.692 65.103], cov=[[353.726   4.051], [4.051 1.958]])\n",
      "  ├─ (2) w=0.324  MultivariateGaussian(d=2, mean=[48.385 11.788], cov=[[355.26  -54.297], [-54.297  73.197]])\n",
      "  └─ (3) w=0.140  MultivariateGaussian(d=2, mean=[75.242 14.833], cov=[[169.707 -19.254], [-19.254  97.414]])\n",
      "\n"
     ]
    }
   ],
   "execution_count": 33
  },
  {
   "metadata": {
    "ExecuteTime": {
     "end_time": "2025-09-28T16:45:28.169218Z",
     "start_time": "2025-09-28T16:45:28.106794Z"
    }
   },
   "cell_type": "code",
   "source": "vis.show_location_model(models[\"classic\"])",
   "id": "e44d25a5e20bfd85",
   "outputs": [
    {
     "data": {
      "text/plain": [
       "<Figure size 600x450 with 1 Axes>"
      ],
      "image/png": "[encoded data removed]"
     },
     "metadata": {},
     "output_type": "display_data"
    }
   ],
   "execution_count": 34
  },
  {
   "metadata": {
    "ExecuteTime": {
     "end_time": "2025-09-28T16:45:28.529143Z",
     "start_time": "2025-09-28T16:45:28.198528Z"
    }
   },
   "cell_type": "code",
   "source": [
    "# Von Mises clusters\n",
    "k_vm = 3\n",
    "all_results_vm = []\n",
    "\n",
    "\n",
    "for init in [\"k-means\", \"random\", \"random_from_data\",\"k-means++\"]:\n",
    "    times = {}\n",
    "    results = {}\n",
    "    models = {}\n",
    "\n",
    "    for case in [\"classic\", \"approximation\", \"bregman\"]:\n",
    "        dir_model = sc.MixtureModel(\n",
    "            [sc.VonMises() for _ in range(k_vm)],\n",
    "            init=init\n",
    "        )\n",
    "        start = time.time()\n",
    "        results[case] = dir_model.fit(dir_data, verbose=False, case=case)\n",
    "        times[case] = time.time() - start\n",
    "        models[case] = dir_model\n",
    "\n",
    "        all_results_vm.append({\n",
    "            \"initialization\": init,\n",
    "            \"case\": case,\n",
    "            \"log_likelihood\": results[case][-1],\n",
    "            \"time_sec\": times[case],\n",
    "            \"ch_score\": sc.kl_ch_score(dir_data, models[case])\n",
    "        })\n",
    "\n",
    "dir_results = pd.DataFrame(all_results_vm)\n",
    "dir_results\n"
   ],
   "id": "6f6b97de15e1de30",
   "outputs": [
    {
     "data": {
      "text/plain": [
       "      initialization           case  log_likelihood  time_sec  ch_score\n",
       "0            k-means        classic       -1.782993  0.074442  0.110558\n",
       "1            k-means  approximation       -1.785098  0.048050  0.141737\n",
       "2            k-means        bregman       -1.782797  0.042519  0.105324\n",
       "3             random        classic       -1.785360  0.005541  0.000011\n",
       "4             random  approximation       -1.785360  0.003181  0.000011\n",
       "5             random        bregman       -1.785360  0.003197  0.000011\n",
       "6   random_from_data        classic       -1.783805  0.048830  0.014271\n",
       "7   random_from_data  approximation       -1.782706  0.014552  0.093574\n",
       "8   random_from_data        bregman       -1.781950  0.011793  0.089168\n",
       "9          k-means++        classic       -1.783519  0.019229  0.028200\n",
       "10         k-means++  approximation       -1.785418  0.019552  0.089963\n",
       "11         k-means++        bregman       -1.784290  0.015603  0.065751"
      ],
      "text/html": [
       "<div>\n",
       "<style scoped>\n",
       "    .dataframe tbody tr th:only-of-type {\n",
       "        vertical-align: middle;\n",
       "    }\n",
       "\n",
       "    .dataframe tbody tr th {\n",
       "        vertical-align: top;\n",
       "    }\n",
       "\n",
       "    .dataframe thead th {\n",
       "        text-align: right;\n",
       "    }\n",
       "</style>\n",
       "<table border=\"1\" class=\"dataframe\">\n",
       "  <thead>\n",
       "    <tr style=\"text-align: right;\">\n",
       "      <th></th>\n",
       "      <th>initialization</th>\n",
       "      <th>case</th>\n",
       "      <th>log_likelihood</th>\n",
       "      <th>time_sec</th>\n",
       "      <th>ch_score</th>\n",
       "    </tr>\n",
       "  </thead>\n",
       "  <tbody>\n",
       "    <tr>\n",
       "      <th>0</th>\n",
       "      <td>k-means</td>\n",
       "      <td>classic</td>\n",
       "      <td>-1.782993</td>\n",
       "      <td>0.074442</td>\n",
       "      <td>0.110558</td>\n",
       "    </tr>\n",
       "    <tr>\n",
       "      <th>1</th>\n",
       "      <td>k-means</td>\n",
       "      <td>approximation</td>\n",
       "      <td>-1.785098</td>\n",
       "      <td>0.048050</td>\n",
       "      <td>0.141737</td>\n",
       "    </tr>\n",
       "    <tr>\n",
       "      <th>2</th>\n",
       "      <td>k-means</td>\n",
       "      <td>bregman</td>\n",
       "      <td>-1.782797</td>\n",
       "      <td>0.042519</td>\n",
       "      <td>0.105324</td>\n",
       "    </tr>\n",
       "    <tr>\n",
       "      <th>3</th>\n",
       "      <td>random</td>\n",
       "      <td>classic</td>\n",
       "      <td>-1.785360</td>\n",
       "      <td>0.005541</td>\n",
       "      <td>0.000011</td>\n",
       "    </tr>\n",
       "    <tr>\n",
       "      <th>4</th>\n",
       "      <td>random</td>\n",
       "      <td>approximation</td>\n",
       "      <td>-1.785360</td>\n",
       "      <td>0.003181</td>\n",
       "      <td>0.000011</td>\n",
       "    </tr>\n",
       "    <tr>\n",
       "      <th>5</th>\n",
       "      <td>random</td>\n",
       "      <td>bregman</td>\n",
       "      <td>-1.785360</td>\n",
       "      <td>0.003197</td>\n",
       "      <td>0.000011</td>\n",
       "    </tr>\n",
       "    <tr>\n",
       "      <th>6</th>\n",
       "      <td>random_from_data</td>\n",
       "      <td>classic</td>\n",
       "      <td>-1.783805</td>\n",
       "      <td>0.048830</td>\n",
       "      <td>0.014271</td>\n",
       "    </tr>\n",
       "    <tr>\n",
       "      <th>7</th>\n",
       "      <td>random_from_data</td>\n",
       "      <td>approximation</td>\n",
       "      <td>-1.782706</td>\n",
       "      <td>0.014552</td>\n",
       "      <td>0.093574</td>\n",
       "    </tr>\n",
       "    <tr>\n",
       "      <th>8</th>\n",
       "      <td>random_from_data</td>\n",
       "      <td>bregman</td>\n",
       "      <td>-1.781950</td>\n",
       "      <td>0.011793</td>\n",
       "      <td>0.089168</td>\n",
       "    </tr>\n",
       "    <tr>\n",
       "      <th>9</th>\n",
       "      <td>k-means++</td>\n",
       "      <td>classic</td>\n",
       "      <td>-1.783519</td>\n",
       "      <td>0.019229</td>\n",
       "      <td>0.028200</td>\n",
       "    </tr>\n",
       "    <tr>\n",
       "      <th>10</th>\n",
       "      <td>k-means++</td>\n",
       "      <td>approximation</td>\n",
       "      <td>-1.785418</td>\n",
       "      <td>0.019552</td>\n",
       "      <td>0.089963</td>\n",
       "    </tr>\n",
       "    <tr>\n",
       "      <th>11</th>\n",
       "      <td>k-means++</td>\n",
       "      <td>bregman</td>\n",
       "      <td>-1.784290</td>\n",
       "      <td>0.015603</td>\n",
       "      <td>0.065751</td>\n",
       "    </tr>\n",
       "  </tbody>\n",
       "</table>\n",
       "</div>"
      ]
     },
     "execution_count": 35,
     "metadata": {},
     "output_type": "execute_result"
    }
   ],
   "execution_count": 35
  },
  {
   "metadata": {
    "ExecuteTime": {
     "end_time": "2025-09-28T16:45:28.564200Z",
     "start_time": "2025-09-28T16:45:28.552355Z"
    }
   },
   "cell_type": "code",
   "source": [
    "for case in [\"classic\",\"approximation\",\"bregman\"]:\n",
    "    print(f\"{models[case]}\\n\")"
   ],
   "id": "9192aa6ab975c28e",
   "outputs": [
    {
     "name": "stdout",
     "output_type": "stream",
     "text": [
      "MixtureModel(n_components=3)\n",
      "  ├─ (0) w=0.493  VonMises(loc=0.1 deg, kappa=0.694)\n",
      "  ├─ (1) w=0.409  VonMises(loc=0.1 deg, kappa=0.694)\n",
      "  └─ (2) w=0.099  VonMises(loc=176.1 deg, kappa=1.928)\n",
      "\n",
      "MixtureModel(n_components=3)\n",
      "  ├─ (0) w=0.464  VonMises(loc=-23.1 deg, kappa=1.606)\n",
      "  ├─ (1) w=0.307  VonMises(loc=61.7 deg, kappa=1.363)\n",
      "  └─ (2) w=0.229  VonMises(loc=-164.2 deg, kappa=1.259)\n",
      "\n",
      "MixtureModel(n_components=3)\n",
      "  ├─ (0) w=0.471  VonMises(loc=-22.8 deg, kappa=1.332)\n",
      "  ├─ (1) w=0.322  VonMises(loc=55.2 deg, kappa=1.091)\n",
      "  └─ (2) w=0.207  VonMises(loc=-168.5 deg, kappa=1.139)\n",
      "\n"
     ]
    }
   ],
   "execution_count": 36
  },
  {
   "metadata": {},
   "cell_type": "markdown",
   "source": [
    "### Two layer scheme\n",
    "\n",
    "Running a Gaussian mixture model to get location clusters. Then, for each one of the location clusters, run a von Mises mixture model using again all dataset, but for this second step, each datapoint is weighted by the posteriors of the location mixture model."
   ],
   "id": "2cb6861372d8efe7"
  },
  {
   "metadata": {
    "ExecuteTime": {
     "end_time": "2025-09-28T16:45:32.398847Z",
     "start_time": "2025-09-28T16:45:28.589958Z"
    }
   },
   "cell_type": "code",
   "source": [
    "K_loc = 4\n",
    "K_dir = [2,3,4,2]\n",
    "init = \"k-means++\"\n",
    "loc_mixture = sc.MixtureModel(\n",
    "            [sc.MultivariateGaussian() for _ in range(K_loc)],\n",
    "            init=init\n",
    "        )\n",
    "dir_mixtures = [ sc.MixtureModel(\n",
    "                    [sc.VonMises() for _ in range(K_dir[j])],\n",
    "                    init=init\n",
    "                    )\n",
    "                 for j in range(K_loc)]\n",
    "\n",
    "model = sc.TwoLayerScheme(loc_mixture,\n",
    "                       dir_mixtures)\n",
    "\n",
    "model.fit(loc_data, dir_data)"
   ],
   "id": "d9adfe641996539a",
   "outputs": [],
   "execution_count": 37
  },
  {
   "metadata": {
    "ExecuteTime": {
     "end_time": "2025-09-28T16:45:32.425759Z",
     "start_time": "2025-09-28T16:45:32.405255Z"
    }
   },
   "cell_type": "code",
   "source": "model.bic_score(loc_data, dir_data)",
   "id": "e785cf845ccb09a3",
   "outputs": [
    {
     "data": {
      "text/plain": [
       "10344.668158647166"
      ]
     },
     "execution_count": 38,
     "metadata": {},
     "output_type": "execute_result"
    }
   ],
   "execution_count": 38
  },
  {
   "metadata": {
    "ExecuteTime": {
     "end_time": "2025-09-28T16:45:32.560951Z",
     "start_time": "2025-09-28T16:45:32.511678Z"
    }
   },
   "cell_type": "code",
   "source": "model.plot()",
   "id": "f85b22bc2be5164",
   "outputs": [
    {
     "data": {
      "text/plain": [
       "<Figure size 600x450 with 1 Axes>"
      ],
      "image/png": "[encoded data removed]"
     },
     "metadata": {},
     "output_type": "display_data"
    }
   ],
   "execution_count": 39
  },
  {
   "metadata": {},
   "cell_type": "markdown",
   "source": [
    "### One-shot Scheme\n",
    "\n"
   ],
   "id": "b08261a14dd7db60"
  },
  {
   "metadata": {
    "ExecuteTime": {
     "end_time": "2025-09-28T16:49:03.374609Z",
     "start_time": "2025-09-28T16:49:03.122282Z"
    }
   },
   "cell_type": "code",
   "source": [
    "oneshot_model = sc.OneShotScheme(n_clusters=4, alpha=0.7, beta=0.3, init=\"k-means\")\n",
    "oneshot_model.fit(loc_data, dir_data)\n",
    "oneshot_model.bic_score(loc_data, dir_data)"
   ],
   "id": "8907558ed363d4cd",
   "outputs": [
    {
     "data": {
      "text/plain": [
       "38724.47585553303"
      ]
     },
     "execution_count": 56,
     "metadata": {},
     "output_type": "execute_result"
    }
   ],
   "execution_count": 56
  },
  {
   "metadata": {
    "ExecuteTime": {
     "end_time": "2025-09-28T16:48:57.457355Z",
     "start_time": "2025-09-28T16:48:57.412437Z"
    }
   },
   "cell_type": "code",
   "source": "oneshot_model.plot()",
   "id": "84849c34756e62d5",
   "outputs": [
    {
     "data": {
      "text/plain": [
       "<Figure size 600x450 with 1 Axes>"
      ],
      "image/png": "[encoded data removed]"
     },
     "metadata": {},
     "output_type": "display_data"
    }
   ],
   "execution_count": 55
  }
 ],
 "metadata": {
  "kernelspec": {
   "display_name": "Python 3",
   "language": "python",
   "name": "python3"
  },
  "language_info": {
   "codemirror_mode": {
    "name": "ipython",
    "version": 2
   },
   "file_extension": ".py",
   "mimetype": "text/x-python",
   "name": "python",
   "nbconvert_exporter": "python",
   "pygments_lexer": "ipython2",
   "version": "2.7.6"
  }
 },
 "nbformat": 4,
 "nbformat_minor": 5
}
