{
 "cells": [
  {
   "cell_type": "code",
   "id": "initial_id",
   "metadata": {
    "collapsed": true,
    "ExecuteTime": {
     "end_time": "2025-07-25T20:30:09.526829Z",
     "start_time": "2025-07-25T20:30:09.500367Z"
    }
   },
   "source": [
    "%load_ext autoreload\n",
    "%autoreload 2\n",
    "\n",
    "import os\n",
    "import tqdm\n",
    "import numpy as np\n",
    "import pandas as pd\n",
    "import softclustering as sc\n",
    "import matplotlib.pyplot as plt\n",
    "import socceraction.spadl as spadl\n"
   ],
   "outputs": [
    {
     "name": "stdout",
     "output_type": "stream",
     "text": [
      "The autoreload extension is already loaded. To reload it, use:\n",
      "  %reload_ext autoreload\n"
     ]
    }
   ],
   "execution_count": 27
  },
  {
   "metadata": {},
   "cell_type": "markdown",
   "source": "",
   "id": "e4e0a9ff891dabc4"
  },
  {
   "metadata": {},
   "cell_type": "markdown",
   "source": "Concatenate actions of all games in one DataFrame.",
   "id": "228a4a3ac4e36d4a"
  },
  {
   "metadata": {
    "ExecuteTime": {
     "end_time": "2025-07-25T20:30:09.981794Z",
     "start_time": "2025-07-25T20:30:09.530735Z"
    }
   },
   "cell_type": "code",
   "source": [
    "datafolder = \"data\"\n",
    "fifa2018h5 = os.path.join(datafolder, \"spadl-fifa2018.h5\")\n",
    "games = pd.read_hdf(fifa2018h5, key=\"games\")\n",
    "with pd.HDFStore(fifa2018h5) as store:\n",
    "    actions = []  #list of DataFrames\n",
    "    for game in tqdm.tqdm(games.itertuples()):\n",
    "        game_action = store[f\"actions/game_{game.game_id}\"]\n",
    "        game_action = spadl.play_left_to_right(game_action, game.home_team_id)\n",
    "        game_action[\"is_home\"] = game_action[\"team_id\"] == game.home_team_id\n",
    "        actions.append(game_action)\n",
    "    actions = pd.concat(actions)\n",
    "    actions.drop(\"original_event_id\", axis=1, inplace=True)\n",
    "    actions = pd.merge(actions, spadl.config.actiontypes_df(), how=\"left\")"
   ],
   "id": "71934fdfa2402fa6",
   "outputs": [
    {
     "name": "stderr",
     "output_type": "stream",
     "text": [
      "64it [00:00, 155.61it/s]\n"
     ]
    }
   ],
   "execution_count": 28
  },
  {
   "metadata": {
    "ExecuteTime": {
     "end_time": "2025-07-25T20:30:10.058684Z",
     "start_time": "2025-07-25T20:30:09.990632Z"
    }
   },
   "cell_type": "code",
   "source": [
    "def consolidate(actions):\n",
    "    #actions.fillna(0, inplace=True)\n",
    "\n",
    "    #Consolidate corner_short and corner_crossed\n",
    "    corner_idx = actions.type_name.str.contains(\"corner\")\n",
    "    actions[\"type_name\"] = actions[\"type_name\"].mask(corner_idx, \"corner\")\n",
    "\n",
    "    #Consolidate freekick_short, freekick_crossed, and shot_freekick\n",
    "    freekick_idx = actions.type_name.str.contains(\"freekick\")\n",
    "    actions[\"type_name\"] = actions[\"type_name\"].mask(freekick_idx, \"freekick\")\n",
    "\n",
    "    #Consolidate keeper_claim, keeper_punch, keeper_save, keeper_pick_up\n",
    "    keeper_idx = actions.type_name.str.contains(\"keeper\")\n",
    "    actions[\"type_name\"] = actions[\"type_name\"].mask(keeper_idx, \"keeper_action\")\n",
    "\n",
    "    actions[\"start_x\"] = actions[\"start_x\"].mask(actions.type_name == \"shot_penalty\", 94.5)\n",
    "    actions[\"start_y\"] = actions[\"start_y\"].mask(actions.type_name == \"shot_penalty\", 34)\n",
    "\n",
    "    return actions\n",
    "\n",
    "\n",
    "actions = consolidate(actions)"
   ],
   "id": "533326ea9e5b5f1c",
   "outputs": [],
   "execution_count": 29
  },
  {
   "metadata": {
    "ExecuteTime": {
     "end_time": "2025-07-25T20:30:10.080465Z",
     "start_time": "2025-07-25T20:30:10.068756Z"
    }
   },
   "cell_type": "code",
   "source": [
    "#Actions of Team France matches.\n",
    "len(actions[actions[\"team_id\"] == 771])"
   ],
   "id": "1791e14d37fb5174",
   "outputs": [
    {
     "data": {
      "text/plain": [
       "6829"
      ]
     },
     "execution_count": 30,
     "metadata": {},
     "output_type": "execute_result"
    }
   ],
   "execution_count": 30
  },
  {
   "metadata": {
    "ExecuteTime": {
     "end_time": "2025-07-25T20:30:10.105584Z",
     "start_time": "2025-07-25T20:30:10.089909Z"
    }
   },
   "cell_type": "code",
   "source": "actions.groupby(\"type_name\").size()",
   "id": "4eb9f50ea571275d",
   "outputs": [
    {
     "data": {
      "text/plain": [
       "type_name\n",
       "bad_touch         1547\n",
       "clearance         2074\n",
       "corner             558\n",
       "cross             1305\n",
       "dribble          52731\n",
       "foul              1876\n",
       "freekick          1272\n",
       "goalkick           677\n",
       "interception      1681\n",
       "keeper_action      584\n",
       "pass             56438\n",
       "shot              1556\n",
       "shot_penalty        68\n",
       "tackle            1830\n",
       "take_on           2109\n",
       "throw_in          2178\n",
       "dtype: int64"
      ]
     },
     "execution_count": 31,
     "metadata": {},
     "output_type": "execute_result"
    }
   ],
   "execution_count": 31
  },
  {
   "metadata": {},
   "cell_type": "markdown",
   "source": [
    "As suggested in SoccerMix, add noise on the starting and ending locations, but only on those actions that we can visually note a predefined pattern.\n",
    "* *Add noise in both start and end locations*:\n",
    "    * Cross\n",
    "    * Shot\n",
    "    * Keeper_action\n",
    "* *Only on start locations*:\n",
    "    * Clearance\n",
    "    * Goal kick\n",
    "* *Only on end locations*:\n",
    "    * Corner\n",
    "    * Freekick\n",
    "    * Shot_penalty"
   ],
   "id": "f365f4a57e669f5c"
  },
  {
   "metadata": {
    "ExecuteTime": {
     "end_time": "2025-07-25T20:30:10.153972Z",
     "start_time": "2025-07-25T20:30:10.131440Z"
    }
   },
   "cell_type": "code",
   "source": [
    "def add_noise(actions):\n",
    "    # Start locations\n",
    "    start_list = [\"cross\", \"shot\", \"keeper_action\", \"clearance\", \"goalkick\"]\n",
    "    mask = actions[\"type_name\"].isin(start_list)\n",
    "    noise = np.random.normal(0, 0.5, size=actions.loc[mask, [\"start_x\", \"start_y\"]].shape)\n",
    "    actions.loc[mask, [\"start_x\", \"start_y\"]] += noise\n",
    "\n",
    "    # End locations\n",
    "    end_list = [\"cross\", \"shot\", \"keeper_action\", \"corner\", \"freekick\", \"shot_penalty\"]\n",
    "    mask = actions[\"type_name\"].isin(end_list)\n",
    "    noise = np.random.normal(0, 0.5, size=actions.loc[mask, [\"end_x\", \"end_y\"]].shape)\n",
    "    actions.loc[mask, [\"end_x\", \"end_y\"]] += noise\n",
    "\n",
    "    return actions\n",
    "\n",
    "\n",
    "actions = add_noise(actions)"
   ],
   "id": "9b595325cb6d6b7b",
   "outputs": [],
   "execution_count": 32
  },
  {
   "metadata": {
    "ExecuteTime": {
     "end_time": "2025-07-25T20:30:10.183001Z",
     "start_time": "2025-07-25T20:30:10.172631Z"
    }
   },
   "cell_type": "code",
   "source": [
    "# # display event locations with noise\n",
    "# corrected_actions = [\"cross\", \"shot\", \"keeper_action\", \"clearance\", \"goalkick\",\"corner\", \"freekick\", \"shot_penalty\"]\n",
    "# for actiontype in corrected_actions:\n",
    "#     actions[actions.type_name == actiontype].plot.scatter(\n",
    "#         x=\"start_x\",\n",
    "#         y=\"start_y\",\n",
    "#         title = f\"Start Location: {actiontype}\",\n",
    "#         figsize = (6,4)\n",
    "#     )\n",
    "#     plt.show()\n",
    "#     actions[actions.type_name == actiontype].plot.scatter(\n",
    "#         x=\"end_x\",\n",
    "#         y=\"end_y\",\n",
    "#         title = f\"End Location: {actiontype}\",\n",
    "#         figsize = (6,4)\n",
    "#     )\n",
    "#     plt.show()"
   ],
   "id": "96ef05afa181356c",
   "outputs": [],
   "execution_count": 33
  },
  {
   "metadata": {},
   "cell_type": "markdown",
   "source": [
    "Compute the angle of the direction of the action with respect with the x-axis (pitch's length) a\n",
    "$$\\tan \\theta = \\frac{y_{end} - y_{start}}{x_{end} - x_{start}}$$"
   ],
   "id": "8a99a2a13347dd0a"
  },
  {
   "metadata": {
    "ExecuteTime": {
     "end_time": "2025-07-25T20:30:10.233257Z",
     "start_time": "2025-07-25T20:30:10.199189Z"
    }
   },
   "cell_type": "code",
   "source": [
    "actions[\"angle\"] = np.arctan2(actions.end_y - actions.start_y, actions.end_x - actions.start_x)\n",
    "actions[\"cos_angle\"] = np.cos(actions[\"angle\"])\n",
    "actions[\"sin_angle\"] = np.sin(actions[\"angle\"])\n",
    "actions[[\"angle\", \"cos_angle\", \"sin_angle\"]].describe()"
   ],
   "id": "69c78aee6b06747",
   "outputs": [
    {
     "data": {
      "text/plain": [
       "               angle      cos_angle      sin_angle\n",
       "count  128484.000000  128484.000000  128484.000000\n",
       "mean        0.061743       0.313585      -0.005970\n",
       "std         1.464672       0.678448       0.664337\n",
       "min        -3.140397      -1.000000      -1.000000\n",
       "25%        -0.969342      -0.183971      -0.647648\n",
       "50%         0.000000       0.525493       0.000000\n",
       "75%         1.076271       0.954427       0.624695\n",
       "max         3.141593       1.000000       1.000000"
      ],
      "text/html": [
       "<div>\n",
       "<style scoped>\n",
       "    .dataframe tbody tr th:only-of-type {\n",
       "        vertical-align: middle;\n",
       "    }\n",
       "\n",
       "    .dataframe tbody tr th {\n",
       "        vertical-align: top;\n",
       "    }\n",
       "\n",
       "    .dataframe thead th {\n",
       "        text-align: right;\n",
       "    }\n",
       "</style>\n",
       "<table border=\"1\" class=\"dataframe\">\n",
       "  <thead>\n",
       "    <tr style=\"text-align: right;\">\n",
       "      <th></th>\n",
       "      <th>angle</th>\n",
       "      <th>cos_angle</th>\n",
       "      <th>sin_angle</th>\n",
       "    </tr>\n",
       "  </thead>\n",
       "  <tbody>\n",
       "    <tr>\n",
       "      <th>count</th>\n",
       "      <td>128484.000000</td>\n",
       "      <td>128484.000000</td>\n",
       "      <td>128484.000000</td>\n",
       "    </tr>\n",
       "    <tr>\n",
       "      <th>mean</th>\n",
       "      <td>0.061743</td>\n",
       "      <td>0.313585</td>\n",
       "      <td>-0.005970</td>\n",
       "    </tr>\n",
       "    <tr>\n",
       "      <th>std</th>\n",
       "      <td>1.464672</td>\n",
       "      <td>0.678448</td>\n",
       "      <td>0.664337</td>\n",
       "    </tr>\n",
       "    <tr>\n",
       "      <th>min</th>\n",
       "      <td>-3.140397</td>\n",
       "      <td>-1.000000</td>\n",
       "      <td>-1.000000</td>\n",
       "    </tr>\n",
       "    <tr>\n",
       "      <th>25%</th>\n",
       "      <td>-0.969342</td>\n",
       "      <td>-0.183971</td>\n",
       "      <td>-0.647648</td>\n",
       "    </tr>\n",
       "    <tr>\n",
       "      <th>50%</th>\n",
       "      <td>0.000000</td>\n",
       "      <td>0.525493</td>\n",
       "      <td>0.000000</td>\n",
       "    </tr>\n",
       "    <tr>\n",
       "      <th>75%</th>\n",
       "      <td>1.076271</td>\n",
       "      <td>0.954427</td>\n",
       "      <td>0.624695</td>\n",
       "    </tr>\n",
       "    <tr>\n",
       "      <th>max</th>\n",
       "      <td>3.141593</td>\n",
       "      <td>1.000000</td>\n",
       "      <td>1.000000</td>\n",
       "    </tr>\n",
       "  </tbody>\n",
       "</table>\n",
       "</div>"
      ]
     },
     "execution_count": 34,
     "metadata": {},
     "output_type": "execute_result"
    }
   ],
   "execution_count": 34
  },
  {
   "metadata": {
    "ExecuteTime": {
     "end_time": "2025-07-25T20:30:10.278274Z",
     "start_time": "2025-07-25T20:30:10.260203Z"
    }
   },
   "cell_type": "code",
   "source": [
    "mask = (actions[\"type_name\"]==\"throw_in\") & (actions[\"team_id\"]==771)\n",
    "data_loc = actions[mask][[\"start_x\", \"start_y\"]]\n",
    "data_loc.describe()"
   ],
   "id": "2877a86b1aed5203",
   "outputs": [
    {
     "data": {
      "text/plain": [
       "          start_x     start_y\n",
       "count  116.000000  116.000000\n",
       "mean    60.918103   38.030172\n",
       "std     26.507723   33.145853\n",
       "min      9.187500    0.425000\n",
       "25%     38.937500    0.425000\n",
       "50%     64.750000   66.725000\n",
       "75%     85.531250   67.575000\n",
       "max    101.937500   67.575000"
      ],
      "text/html": [
       "<div>\n",
       "<style scoped>\n",
       "    .dataframe tbody tr th:only-of-type {\n",
       "        vertical-align: middle;\n",
       "    }\n",
       "\n",
       "    .dataframe tbody tr th {\n",
       "        vertical-align: top;\n",
       "    }\n",
       "\n",
       "    .dataframe thead th {\n",
       "        text-align: right;\n",
       "    }\n",
       "</style>\n",
       "<table border=\"1\" class=\"dataframe\">\n",
       "  <thead>\n",
       "    <tr style=\"text-align: right;\">\n",
       "      <th></th>\n",
       "      <th>start_x</th>\n",
       "      <th>start_y</th>\n",
       "    </tr>\n",
       "  </thead>\n",
       "  <tbody>\n",
       "    <tr>\n",
       "      <th>count</th>\n",
       "      <td>116.000000</td>\n",
       "      <td>116.000000</td>\n",
       "    </tr>\n",
       "    <tr>\n",
       "      <th>mean</th>\n",
       "      <td>60.918103</td>\n",
       "      <td>38.030172</td>\n",
       "    </tr>\n",
       "    <tr>\n",
       "      <th>std</th>\n",
       "      <td>26.507723</td>\n",
       "      <td>33.145853</td>\n",
       "    </tr>\n",
       "    <tr>\n",
       "      <th>min</th>\n",
       "      <td>9.187500</td>\n",
       "      <td>0.425000</td>\n",
       "    </tr>\n",
       "    <tr>\n",
       "      <th>25%</th>\n",
       "      <td>38.937500</td>\n",
       "      <td>0.425000</td>\n",
       "    </tr>\n",
       "    <tr>\n",
       "      <th>50%</th>\n",
       "      <td>64.750000</td>\n",
       "      <td>66.725000</td>\n",
       "    </tr>\n",
       "    <tr>\n",
       "      <th>75%</th>\n",
       "      <td>85.531250</td>\n",
       "      <td>67.575000</td>\n",
       "    </tr>\n",
       "    <tr>\n",
       "      <th>max</th>\n",
       "      <td>101.937500</td>\n",
       "      <td>67.575000</td>\n",
       "    </tr>\n",
       "  </tbody>\n",
       "</table>\n",
       "</div>"
      ]
     },
     "execution_count": 35,
     "metadata": {},
     "output_type": "execute_result"
    }
   ],
   "execution_count": 35
  },
  {
   "metadata": {
    "ExecuteTime": {
     "end_time": "2025-07-25T20:37:11.510565Z",
     "start_time": "2025-07-25T20:37:11.301745Z"
    }
   },
   "cell_type": "code",
   "source": [
    "k_gauss = 6\n",
    "gauss_clusters = [sc.MultivariateGaussian() for j in range(k_gauss)]\n",
    "loc_em_model = sc.MixtureModel(gauss_clusters)\n",
    "loc_bregman_model = sc.MixtureModel(gauss_clusters)\n",
    "_ = loc_em_model.fit_em_classic(data_loc, verbose=False)\n",
    "_ = loc_bregman_model.fit_em_bregman(data_loc, verbose=False)\n",
    "\n",
    "for i in range(k_gauss):\n",
    "    print(f\"Cluster {i+1}.\\n Classical EM model\")\n",
    "    print(loc_em_model.components[i])\n",
    "    print(f\" Bregman EM model\")\n",
    "    print(loc_bregman_model.components[i])\n",
    "    print(\"\")"
   ],
   "id": "b462832fe28249fe",
   "outputs": [
    {
     "name": "stdout",
     "output_type": "stream",
     "text": [
      "Cluster 1.\n",
      " Classical EM model\n",
      "MultivariateGaussian(d=2, mean=[20.79851757  1.275     ], cov=[[3.22870946e+01 0.00000000e+00]\n",
      " [0.00000000e+00 9.99999556e-10]])\n",
      " Bregman EM model\n",
      "MultivariateGaussian(d=2, mean=[20.79851757  1.275     ], cov=[[3.22870946e+01 0.00000000e+00]\n",
      " [0.00000000e+00 9.99999556e-10]])\n",
      "\n",
      "Cluster 2.\n",
      " Classical EM model\n",
      "MultivariateGaussian(d=2, mean=[56.52770319 67.05891077], cov=[[60.89060947 -2.50906618]\n",
      " [-2.50906618  0.17232775]])\n",
      " Bregman EM model\n",
      "MultivariateGaussian(d=2, mean=[56.52770319 67.05891077], cov=[[60.89060947 -2.50906618]\n",
      " [-2.50906618  0.17232775]])\n",
      "\n",
      "Cluster 3.\n",
      " Classical EM model\n",
      "MultivariateGaussian(d=2, mean=[64.98333333  0.425     ], cov=[[6.78174462e+02 0.00000000e+00]\n",
      " [0.00000000e+00 1.00000006e-09]])\n",
      " Bregman EM model\n",
      "MultivariateGaussian(d=2, mean=[64.98333333  0.425     ], cov=[[6.78174462e+02 0.00000000e+00]\n",
      " [0.00000000e+00 1.00000006e-09]])\n",
      "\n",
      "Cluster 4.\n",
      " Classical EM model\n",
      "MultivariateGaussian(d=2, mean=[83.35255752 67.439553  ], cov=[[94.31317171 -0.65660458]\n",
      " [-0.65660458  0.09678406]])\n",
      " Bregman EM model\n",
      "MultivariateGaussian(d=2, mean=[83.35255752 67.439553  ], cov=[[94.31317171 -0.65660458]\n",
      " [-0.65660458  0.09678406]])\n",
      "\n",
      "Cluster 5.\n",
      " Classical EM model\n",
      "MultivariateGaussian(d=2, mean=[25.77454388 67.10292548], cov=[[106.56115203  -1.34938545]\n",
      " [ -1.34938545   0.17840899]])\n",
      " Bregman EM model\n",
      "MultivariateGaussian(d=2, mean=[25.77454388 67.10292548], cov=[[106.56115203  -1.34938545]\n",
      " [ -1.34938545   0.17840899]])\n",
      "\n",
      "Cluster 6.\n",
      " Classical EM model\n",
      "MultivariateGaussian(d=2, mean=[64.65820654  1.275     ], cov=[[ 3.52130206e+02 -1.42108547e-14]\n",
      " [-1.42108547e-14  9.99999778e-10]])\n",
      " Bregman EM model\n",
      "MultivariateGaussian(d=2, mean=[64.65820654  1.275     ], cov=[[ 3.52130206e+02 -1.42108547e-14]\n",
      " [-1.42108547e-14  9.99999778e-10]])\n",
      "\n"
     ]
    }
   ],
   "execution_count": 56
  },
  {
   "metadata": {
    "ExecuteTime": {
     "end_time": "2025-07-25T20:46:36.663822Z",
     "start_time": "2025-07-25T20:46:35.808097Z"
    }
   },
   "cell_type": "code",
   "source": [
    "import time\n",
    "\n",
    "data_dir = actions[mask][[\"cos_angle\", \"sin_angle\"]].to_numpy()\n",
    "k_vm = 4\n",
    "\n",
    "# Create three fresh sets of VonMises components (must be different instances)\n",
    "vm_clusters_1 = [sc.VonMises() for _ in range(k_vm)]\n",
    "vm_clusters_2 = [sc.VonMises() for _ in range(k_vm)]\n",
    "vm_clusters_3 = [sc.VonMises() for _ in range(k_vm)]\n",
    "\n",
    "# Initialize mixture models\n",
    "dir_em_model = sc.MixtureModel(vm_clusters_1)\n",
    "dir_proxy_model = sc.MixtureModel(vm_clusters_2)\n",
    "dir_bregman_model = sc.MixtureModel(vm_clusters_3)\n",
    "\n",
    "# Classic EM\n",
    "start = time.time()\n",
    "res_em = dir_em_model.fit_em_classic(data_dir, verbose=False)\n",
    "t_em = time.time() - start\n",
    "\n",
    "# Proxy EM for Von Mises\n",
    "start = time.time()\n",
    "res_proxy = dir_proxy_model.fit_em_vonmises_approx(data_dir, verbose=False)\n",
    "t_proxy = time.time() - start\n",
    "\n",
    "# Bregman EM (only if implemented!)\n",
    "start = time.time()\n",
    "res_bregman = dir_bregman_model.fit_em_bregman(data_dir, verbose=False)\n",
    "t_bregman = time.time() - start\n",
    "\n",
    "# Results\n",
    "print(f\"Final log-likelihoods:\\nEM: {res_em[-1]:.4f}\\nProxy: {res_proxy[-1]:.4f}\\nBregman: {res_bregman[-1]:.4f}\")\n",
    "print(f\"Timings:\\nEM: {t_em:.4f}s\\nProxy: {t_proxy:.4f}s\\nBregman: {t_bregman:.4f}s\")\n"
   ],
   "id": "6f6b97de15e1de30",
   "outputs": [
    {
     "name": "stdout",
     "output_type": "stream",
     "text": [
      "Final log-likelihoods:\n",
      "EM: -182.8626\n",
      "Proxy: -183.0771\n",
      "Bregman: -182.8626\n",
      "Timings:\n",
      "EM: 0.7876s\n",
      "Proxy: 0.0205s\n",
      "Bregman: 0.0332s\n"
     ]
    }
   ],
   "execution_count": 64
  },
  {
   "metadata": {
    "ExecuteTime": {
     "end_time": "2025-07-25T20:43:39.148878Z",
     "start_time": "2025-07-25T20:43:39.135692Z"
    }
   },
   "cell_type": "code",
   "source": [
    "for i in range(k_vm):\n",
    "    print(f\"Cluster {i+1}.\\n Classical EM model\")\n",
    "    print(dir_em_model.components[i])\n",
    "    print(f\" EM with approximation model\")\n",
    "    print(dir_proxy_model.components[i])\n",
    "    print(f\" Bregman EM model\")\n",
    "    print(dir_bregman_model.components[i])\n",
    "    print(\"\")"
   ],
   "id": "9192aa6ab975c28e",
   "outputs": [
    {
     "name": "stdout",
     "output_type": "stream",
     "text": [
      "Cluster 1.\n",
      " Classical EM model\n",
      "VonMises(loc=-5.7º, kappa=12.692)\n",
      " EM with approximation model\n",
      "VonMises(loc=-5.7º, kappa=12.692)\n",
      " Bregman EM model\n",
      "VonMises(loc=-5.7º, kappa=12.692)\n",
      "\n",
      "Cluster 2.\n",
      " Classical EM model\n",
      "VonMises(loc=173.4º, kappa=12.948)\n",
      " EM with approximation model\n",
      "VonMises(loc=173.4º, kappa=12.948)\n",
      " Bregman EM model\n",
      "VonMises(loc=173.4º, kappa=12.948)\n",
      "\n",
      "Cluster 3.\n",
      " Classical EM model\n",
      "VonMises(loc=-103.3º, kappa=4.191)\n",
      " EM with approximation model\n",
      "VonMises(loc=-103.3º, kappa=4.191)\n",
      " Bregman EM model\n",
      "VonMises(loc=-103.3º, kappa=4.191)\n",
      "\n",
      "Cluster 4.\n",
      " Classical EM model\n",
      "VonMises(loc=93.3º, kappa=2.296)\n",
      " EM with approximation model\n",
      "VonMises(loc=93.3º, kappa=2.296)\n",
      " Bregman EM model\n",
      "VonMises(loc=93.3º, kappa=2.296)\n",
      "\n"
     ]
    }
   ],
   "execution_count": 62
  }
 ],
 "metadata": {
  "kernelspec": {
   "display_name": "Python 3",
   "language": "python",
   "name": "python3"
  },
  "language_info": {
   "codemirror_mode": {
    "name": "ipython",
    "version": 2
   },
   "file_extension": ".py",
   "mimetype": "text/x-python",
   "name": "python",
   "nbconvert_exporter": "python",
   "pygments_lexer": "ipython2",
   "version": "2.7.6"
  }
 },
 "nbformat": 4,
 "nbformat_minor": 5
}
