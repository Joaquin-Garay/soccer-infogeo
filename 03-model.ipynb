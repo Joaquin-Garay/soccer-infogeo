{
 "cells": [
  {
   "metadata": {},
   "cell_type": "markdown",
   "source": [
    "# Model implementation\n",
    "\n",
    "Information Geometry Soft Clustering for Sport Analytics\n",
    "\n",
    "Joaquin Garay"
   ],
   "id": "1d68bea2064769d3"
  },
  {
   "metadata": {
    "collapsed": true,
    "ExecuteTime": {
     "end_time": "2025-09-28T02:02:42.615652Z",
     "start_time": "2025-09-28T02:02:42.593765Z"
    }
   },
   "cell_type": "code",
   "source": [
    "%load_ext autoreload\n",
    "%autoreload 2\n",
    "\n",
    "import os\n",
    "import time\n",
    "import tqdm\n",
    "import numpy as np\n",
    "import pandas as pd\n",
    "\n",
    "import vis\n",
    "import utils\n",
    "import softclustering as sc\n",
    "import clusteringmodels as cm\n",
    "\n",
    "from sklearn.neighbors import LocalOutlierFactor\n",
    "import matplotlib.pyplot as plt\n",
    "import socceraction.spadl as spadl\n"
   ],
   "id": "initial_id",
   "outputs": [
    {
     "name": "stdout",
     "output_type": "stream",
     "text": [
      "The autoreload extension is already loaded. To reload it, use:\n",
      "  %reload_ext autoreload\n"
     ]
    }
   ],
   "execution_count": 136
  },
  {
   "metadata": {},
   "cell_type": "markdown",
   "source": "### Data Preparation",
   "id": "e4e0a9ff891dabc4"
  },
  {
   "metadata": {},
   "cell_type": "markdown",
   "source": "Concatenate actions of all games in one DataFrame.",
   "id": "228a4a3ac4e36d4a"
  },
  {
   "metadata": {
    "ExecuteTime": {
     "end_time": "2025-09-28T02:02:42.969062Z",
     "start_time": "2025-09-28T02:02:42.620567Z"
    }
   },
   "cell_type": "code",
   "source": [
    "datafolder = \"data\"\n",
    "fifa2018h5 = os.path.join(datafolder, \"spadl-fifa2018.h5\")\n",
    "games = pd.read_hdf(fifa2018h5, key=\"games\")\n",
    "with pd.HDFStore(fifa2018h5) as store:\n",
    "    actions = []  #list of DataFrames\n",
    "    for game in tqdm.tqdm(games.itertuples()):\n",
    "        game_action = store[f\"actions/game_{game.game_id}\"]\n",
    "        game_action = spadl.play_left_to_right(game_action, game.home_team_id)\n",
    "        game_action[\"is_home\"] = game_action[\"team_id\"] == game.home_team_id\n",
    "        actions.append(game_action)\n",
    "    actions = pd.concat(actions)\n",
    "    actions.drop(\"original_event_id\", axis=1, inplace=True)\n",
    "    actions = pd.merge(actions, spadl.config.actiontypes_df(), how=\"left\")"
   ],
   "id": "71934fdfa2402fa6",
   "outputs": [
    {
     "name": "stderr",
     "output_type": "stream",
     "text": [
      "64it [00:00, 208.02it/s]\n"
     ]
    }
   ],
   "execution_count": 137
  },
  {
   "metadata": {
    "ExecuteTime": {
     "end_time": "2025-09-28T02:02:43.061868Z",
     "start_time": "2025-09-28T02:02:42.988936Z"
    }
   },
   "cell_type": "code",
   "source": [
    "def consolidate(actions):\n",
    "    #actions.fillna(0, inplace=True)\n",
    "\n",
    "    #Consolidate corner_short and corner_crossed\n",
    "    corner_idx = actions.type_name.str.contains(\"corner\")\n",
    "    actions[\"type_name\"] = actions[\"type_name\"].mask(corner_idx, \"corner\")\n",
    "\n",
    "    #Consolidate freekick_short, freekick_crossed, and shot_freekick\n",
    "    freekick_idx = actions.type_name.str.contains(\"freekick\")\n",
    "    actions[\"type_name\"] = actions[\"type_name\"].mask(freekick_idx, \"freekick\")\n",
    "\n",
    "    #Consolidate keeper_claim, keeper_punch, keeper_save, keeper_pick_up\n",
    "    keeper_idx = actions.type_name.str.contains(\"keeper\")\n",
    "    actions[\"type_name\"] = actions[\"type_name\"].mask(keeper_idx, \"keeper_action\")\n",
    "\n",
    "    actions[\"start_x\"] = actions[\"start_x\"].mask(actions.type_name == \"shot_penalty\", 94.5)\n",
    "    actions[\"start_y\"] = actions[\"start_y\"].mask(actions.type_name == \"shot_penalty\", 34)\n",
    "\n",
    "    return actions\n",
    "\n",
    "\n",
    "actions = consolidate(actions)"
   ],
   "id": "533326ea9e5b5f1c",
   "outputs": [],
   "execution_count": 138
  },
  {
   "metadata": {
    "ExecuteTime": {
     "end_time": "2025-09-28T02:02:43.078534Z",
     "start_time": "2025-09-28T02:02:43.065876Z"
    }
   },
   "cell_type": "code",
   "source": [
    "#Actions of Team France matches.\n",
    "len(actions[actions[\"team_id\"] == 771])"
   ],
   "id": "1791e14d37fb5174",
   "outputs": [
    {
     "data": {
      "text/plain": [
       "6829"
      ]
     },
     "execution_count": 139,
     "metadata": {},
     "output_type": "execute_result"
    }
   ],
   "execution_count": 139
  },
  {
   "metadata": {
    "ExecuteTime": {
     "end_time": "2025-09-28T02:02:43.106629Z",
     "start_time": "2025-09-28T02:02:43.090002Z"
    }
   },
   "cell_type": "code",
   "source": "actions.groupby(\"type_name\").size()",
   "id": "4eb9f50ea571275d",
   "outputs": [
    {
     "data": {
      "text/plain": [
       "type_name\n",
       "bad_touch         1547\n",
       "clearance         2074\n",
       "corner             558\n",
       "cross             1305\n",
       "dribble          52731\n",
       "foul              1876\n",
       "freekick          1272\n",
       "goalkick           677\n",
       "interception      1681\n",
       "keeper_action      584\n",
       "pass             56438\n",
       "shot              1556\n",
       "shot_penalty        68\n",
       "tackle            1830\n",
       "take_on           2109\n",
       "throw_in          2178\n",
       "dtype: int64"
      ]
     },
     "execution_count": 140,
     "metadata": {},
     "output_type": "execute_result"
    }
   ],
   "execution_count": 140
  },
  {
   "metadata": {},
   "cell_type": "markdown",
   "source": [
    "As suggested in SoccerMix, add noise on the starting and ending locations, but only on those actions that we can visually note a predefined pattern.\n",
    "* *Add noise in both start and end locations*:\n",
    "    * Cross\n",
    "    * Shot\n",
    "    * Dribble\n",
    "    * Pass\n",
    "    * Keeper_action\n",
    "* *Only on start locations*:\n",
    "    * Clearance\n",
    "    * Goal kick\n",
    "* *Only on end locations*:\n",
    "    * Throw_in\n",
    "    * Corner\n",
    "    * Freekick\n",
    "    * Shot_penalty"
   ],
   "id": "f365f4a57e669f5c"
  },
  {
   "metadata": {
    "ExecuteTime": {
     "end_time": "2025-09-28T02:02:43.172762Z",
     "start_time": "2025-09-28T02:02:43.137039Z"
    }
   },
   "cell_type": "code",
   "source": [
    "def add_noise(actions):\n",
    "    # Start locations\n",
    "    start_list = [\"cross\", \"shot\", \"dribble\", \"pass\", \"keeper_action\", \"clearance\", \"goalkick\"]\n",
    "    mask = actions[\"type_name\"].isin(start_list)\n",
    "    noise = np.random.normal(0, 0.5, size=actions.loc[mask, [\"start_x\", \"start_y\"]].shape)\n",
    "    actions.loc[mask, [\"start_x\", \"start_y\"]] += noise\n",
    "\n",
    "    # End locations\n",
    "    end_list = [\"cross\", \"shot\", \"dribble\", \"pass\", \"keeper_action\", \"throw_in\", \"corner\", \"freekick\", \"shot_penalty\"]\n",
    "    mask = actions[\"type_name\"].isin(end_list)\n",
    "    noise = np.random.normal(0, 0.5, size=actions.loc[mask, [\"end_x\", \"end_y\"]].shape)\n",
    "    actions.loc[mask, [\"end_x\", \"end_y\"]] += noise\n",
    "\n",
    "    return actions\n",
    "\n",
    "\n",
    "actions = add_noise(actions)"
   ],
   "id": "9b595325cb6d6b7b",
   "outputs": [],
   "execution_count": 141
  },
  {
   "metadata": {
    "ExecuteTime": {
     "end_time": "2025-09-28T02:02:43.203766Z",
     "start_time": "2025-09-28T02:02:43.192626Z"
    }
   },
   "cell_type": "code",
   "source": [
    "# # display event locations with noise\n",
    "# corrected_actions = [\"cross\", \"shot\", \"keeper_action\", \"clearance\", \"goalkick\",\"corner\", \"freekick\", \"shot_penalty\"]\n",
    "# for actiontype in corrected_actions:\n",
    "#     actions[actions.type_name == actiontype].plot.scatter(\n",
    "#         x=\"start_x\",\n",
    "#         y=\"start_y\",\n",
    "#         title = f\"Start Location: {actiontype}\",\n",
    "#         figsize = (6,4)\n",
    "#     )\n",
    "#     plt.show()\n",
    "#     actions[actions.type_name == actiontype].plot.scatter(\n",
    "#         x=\"end_x\",\n",
    "#         y=\"end_y\",\n",
    "#         title = f\"End Location: {actiontype}\",\n",
    "#         figsize = (6,4)\n",
    "#     )\n",
    "#     plt.show()"
   ],
   "id": "96ef05afa181356c",
   "outputs": [],
   "execution_count": 142
  },
  {
   "metadata": {
    "ExecuteTime": {
     "end_time": "2025-09-28T02:02:44.328065Z",
     "start_time": "2025-09-28T02:02:43.221238Z"
    }
   },
   "cell_type": "code",
   "source": [
    "def remove_outliers(actions, verbose=False):\n",
    "    X = actions[[\"start_x\",\"start_y\",\"end_x\",\"end_y\"]].to_numpy(dtype=float)\n",
    "    inliers = LocalOutlierFactor(contamination=\"auto\").fit_predict(X)\n",
    "    if verbose:\n",
    "        print(f\"Remove {(inliers==-1).sum()} out of {X.shape[0]} datapoints.\")\n",
    "    return actions[inliers==1]\n",
    "\n",
    "actions = remove_outliers(actions,True)"
   ],
   "id": "26174dde29b6c0a9",
   "outputs": [
    {
     "name": "stdout",
     "output_type": "stream",
     "text": [
      "Remove 529 out of 128484 datapoints.\n"
     ]
    }
   ],
   "execution_count": 143
  },
  {
   "metadata": {},
   "cell_type": "markdown",
   "source": "### Features",
   "id": "2045eff5f67124b5"
  },
  {
   "metadata": {},
   "cell_type": "markdown",
   "source": [
    "Compute the angle of the direction of the action with respect with the x-axis (pitch's length) a\n",
    "$$\\tan \\theta = \\frac{y_{end} - y_{start}}{x_{end} - x_{start}}$$"
   ],
   "id": "8a99a2a13347dd0a"
  },
  {
   "metadata": {
    "ExecuteTime": {
     "end_time": "2025-09-28T02:02:44.371621Z",
     "start_time": "2025-09-28T02:02:44.339186Z"
    }
   },
   "cell_type": "code",
   "source": [
    "actions[\"angle\"] = np.arctan2(actions.end_y - actions.start_y, actions.end_x - actions.start_x)\n",
    "actions[\"cos_angle\"] = np.cos(actions[\"angle\"])\n",
    "actions[\"sin_angle\"] = np.sin(actions[\"angle\"])\n",
    "actions[[\"angle\", \"cos_angle\", \"sin_angle\"]].describe()"
   ],
   "id": "69c78aee6b06747",
   "outputs": [
    {
     "data": {
      "text/plain": [
       "               angle      cos_angle      sin_angle\n",
       "count  127955.000000  127955.000000  127955.000000\n",
       "mean       -0.012852       0.276744      -0.006088\n",
       "std         1.501033       0.680489       0.678467\n",
       "min        -3.141496      -1.000000      -1.000000\n",
       "25%        -1.101380      -0.268718      -0.664519\n",
       "50%         0.000000       0.470298       0.000000\n",
       "75%         1.060829       0.925656       0.645030\n",
       "max         3.141347       1.000000       1.000000"
      ],
      "text/html": [
       "<div>\n",
       "<style scoped>\n",
       "    .dataframe tbody tr th:only-of-type {\n",
       "        vertical-align: middle;\n",
       "    }\n",
       "\n",
       "    .dataframe tbody tr th {\n",
       "        vertical-align: top;\n",
       "    }\n",
       "\n",
       "    .dataframe thead th {\n",
       "        text-align: right;\n",
       "    }\n",
       "</style>\n",
       "<table border=\"1\" class=\"dataframe\">\n",
       "  <thead>\n",
       "    <tr style=\"text-align: right;\">\n",
       "      <th></th>\n",
       "      <th>angle</th>\n",
       "      <th>cos_angle</th>\n",
       "      <th>sin_angle</th>\n",
       "    </tr>\n",
       "  </thead>\n",
       "  <tbody>\n",
       "    <tr>\n",
       "      <th>count</th>\n",
       "      <td>127955.000000</td>\n",
       "      <td>127955.000000</td>\n",
       "      <td>127955.000000</td>\n",
       "    </tr>\n",
       "    <tr>\n",
       "      <th>mean</th>\n",
       "      <td>-0.012852</td>\n",
       "      <td>0.276744</td>\n",
       "      <td>-0.006088</td>\n",
       "    </tr>\n",
       "    <tr>\n",
       "      <th>std</th>\n",
       "      <td>1.501033</td>\n",
       "      <td>0.680489</td>\n",
       "      <td>0.678467</td>\n",
       "    </tr>\n",
       "    <tr>\n",
       "      <th>min</th>\n",
       "      <td>-3.141496</td>\n",
       "      <td>-1.000000</td>\n",
       "      <td>-1.000000</td>\n",
       "    </tr>\n",
       "    <tr>\n",
       "      <th>25%</th>\n",
       "      <td>-1.101380</td>\n",
       "      <td>-0.268718</td>\n",
       "      <td>-0.664519</td>\n",
       "    </tr>\n",
       "    <tr>\n",
       "      <th>50%</th>\n",
       "      <td>0.000000</td>\n",
       "      <td>0.470298</td>\n",
       "      <td>0.000000</td>\n",
       "    </tr>\n",
       "    <tr>\n",
       "      <th>75%</th>\n",
       "      <td>1.060829</td>\n",
       "      <td>0.925656</td>\n",
       "      <td>0.645030</td>\n",
       "    </tr>\n",
       "    <tr>\n",
       "      <th>max</th>\n",
       "      <td>3.141347</td>\n",
       "      <td>1.000000</td>\n",
       "      <td>1.000000</td>\n",
       "    </tr>\n",
       "  </tbody>\n",
       "</table>\n",
       "</div>"
      ]
     },
     "execution_count": 144,
     "metadata": {},
     "output_type": "execute_result"
    }
   ],
   "execution_count": 144
  },
  {
   "metadata": {},
   "cell_type": "markdown",
   "source": [
    "### First run\n",
    "\n",
    "Let's run a first toy implementation using throw-ins of team France."
   ],
   "id": "d5ac5fac97f7d247"
  },
  {
   "metadata": {
    "ExecuteTime": {
     "end_time": "2025-09-28T02:02:44.417534Z",
     "start_time": "2025-09-28T02:02:44.401506Z"
    }
   },
   "cell_type": "code",
   "source": [
    "mask = (actions[\"type_name\"]==\"dribble\") & (actions[\"team_id\"]==771)\n",
    "loc_data = actions[mask][[\"start_x\", \"start_y\"]]\n",
    "dir_data = actions[mask][[\"cos_angle\", \"sin_angle\"]]"
   ],
   "id": "2877a86b1aed5203",
   "outputs": [],
   "execution_count": 145
  },
  {
   "metadata": {
    "ExecuteTime": {
     "end_time": "2025-09-28T02:02:44.494016Z",
     "start_time": "2025-09-28T02:02:44.436693Z"
    }
   },
   "cell_type": "code",
   "source": [
    "loc_data.plot.scatter(\n",
    "        x=\"start_x\",\n",
    "        y=\"start_y\",\n",
    "        title = f\"Start Location\",\n",
    "        figsize = (6,4)\n",
    "    )\n",
    "plt.show()"
   ],
   "id": "101cdb47ff5e0db9",
   "outputs": [
    {
     "data": {
      "text/plain": [
       "<Figure size 600x400 with 1 Axes>"
      ],
      "image/png": "[encoded data removed]"
     },
     "metadata": {},
     "output_type": "display_data"
    }
   ],
   "execution_count": 146
  },
  {
   "metadata": {
    "ExecuteTime": {
     "end_time": "2025-09-28T02:02:45.583699Z",
     "start_time": "2025-09-28T02:02:44.500102Z"
    }
   },
   "cell_type": "code",
   "source": [
    "# Gaussian clusters\n",
    "k_gauss = 4\n",
    "all_results = []\n",
    "\n",
    "for init in [\"k-means++\", \"k-means\", \"random\", \"random_from_data\"]:\n",
    "    times = {}\n",
    "    results = {}\n",
    "    models = {}\n",
    "\n",
    "    for case in [\"classic\", \"bregman\"]:\n",
    "        loc_model = sc.MixtureModel(\n",
    "            [sc.MultivariateGaussian() for _ in range(k_gauss)],\n",
    "            init=init\n",
    "        )\n",
    "        start = time.time()\n",
    "        results[case] = loc_model.fit(loc_data, verbose=False, case=case)\n",
    "        times[case] = time.time() - start\n",
    "        models[case] = loc_model\n",
    "\n",
    "        all_results.append({\n",
    "            \"initialization\": init,\n",
    "            \"case\": case,\n",
    "            \"log_likelihood\": results[case][-1],\n",
    "            \"time_sec\": times[case],\n",
    "            \"ch_score\": sc.kl_ch_score(loc_data, models[case])\n",
    "        })\n",
    "\n",
    "loc_results = pd.DataFrame(all_results)\n",
    "loc_results"
   ],
   "id": "b462832fe28249fe",
   "outputs": [
    {
     "data": {
      "text/plain": [
       "     initialization     case  log_likelihood  time_sec  ch_score\n",
       "0         k-means++  classic       -8.769640  0.133687  0.042304\n",
       "1         k-means++  bregman       -8.769640  0.108239  0.042304\n",
       "2           k-means  classic       -8.689388  0.248853  0.051052\n",
       "3           k-means  bregman       -8.689388  0.269676  0.051052\n",
       "4            random  classic       -9.021217  0.010815  0.000007\n",
       "5            random  bregman       -9.021217  0.005588  0.000007\n",
       "6  random_from_data  classic       -8.689373  0.118636  0.051068\n",
       "7  random_from_data  bregman       -8.689373  0.161299  0.051068"
      ],
      "text/html": [
       "<div>\n",
       "<style scoped>\n",
       "    .dataframe tbody tr th:only-of-type {\n",
       "        vertical-align: middle;\n",
       "    }\n",
       "\n",
       "    .dataframe tbody tr th {\n",
       "        vertical-align: top;\n",
       "    }\n",
       "\n",
       "    .dataframe thead th {\n",
       "        text-align: right;\n",
       "    }\n",
       "</style>\n",
       "<table border=\"1\" class=\"dataframe\">\n",
       "  <thead>\n",
       "    <tr style=\"text-align: right;\">\n",
       "      <th></th>\n",
       "      <th>initialization</th>\n",
       "      <th>case</th>\n",
       "      <th>log_likelihood</th>\n",
       "      <th>time_sec</th>\n",
       "      <th>ch_score</th>\n",
       "    </tr>\n",
       "  </thead>\n",
       "  <tbody>\n",
       "    <tr>\n",
       "      <th>0</th>\n",
       "      <td>k-means++</td>\n",
       "      <td>classic</td>\n",
       "      <td>-8.769640</td>\n",
       "      <td>0.133687</td>\n",
       "      <td>0.042304</td>\n",
       "    </tr>\n",
       "    <tr>\n",
       "      <th>1</th>\n",
       "      <td>k-means++</td>\n",
       "      <td>bregman</td>\n",
       "      <td>-8.769640</td>\n",
       "      <td>0.108239</td>\n",
       "      <td>0.042304</td>\n",
       "    </tr>\n",
       "    <tr>\n",
       "      <th>2</th>\n",
       "      <td>k-means</td>\n",
       "      <td>classic</td>\n",
       "      <td>-8.689388</td>\n",
       "      <td>0.248853</td>\n",
       "      <td>0.051052</td>\n",
       "    </tr>\n",
       "    <tr>\n",
       "      <th>3</th>\n",
       "      <td>k-means</td>\n",
       "      <td>bregman</td>\n",
       "      <td>-8.689388</td>\n",
       "      <td>0.269676</td>\n",
       "      <td>0.051052</td>\n",
       "    </tr>\n",
       "    <tr>\n",
       "      <th>4</th>\n",
       "      <td>random</td>\n",
       "      <td>classic</td>\n",
       "      <td>-9.021217</td>\n",
       "      <td>0.010815</td>\n",
       "      <td>0.000007</td>\n",
       "    </tr>\n",
       "    <tr>\n",
       "      <th>5</th>\n",
       "      <td>random</td>\n",
       "      <td>bregman</td>\n",
       "      <td>-9.021217</td>\n",
       "      <td>0.005588</td>\n",
       "      <td>0.000007</td>\n",
       "    </tr>\n",
       "    <tr>\n",
       "      <th>6</th>\n",
       "      <td>random_from_data</td>\n",
       "      <td>classic</td>\n",
       "      <td>-8.689373</td>\n",
       "      <td>0.118636</td>\n",
       "      <td>0.051068</td>\n",
       "    </tr>\n",
       "    <tr>\n",
       "      <th>7</th>\n",
       "      <td>random_from_data</td>\n",
       "      <td>bregman</td>\n",
       "      <td>-8.689373</td>\n",
       "      <td>0.161299</td>\n",
       "      <td>0.051068</td>\n",
       "    </tr>\n",
       "  </tbody>\n",
       "</table>\n",
       "</div>"
      ]
     },
     "execution_count": 147,
     "metadata": {},
     "output_type": "execute_result"
    }
   ],
   "execution_count": 147
  },
  {
   "metadata": {
    "ExecuteTime": {
     "end_time": "2025-09-28T02:02:45.662120Z",
     "start_time": "2025-09-28T02:02:45.644991Z"
    }
   },
   "cell_type": "code",
   "source": [
    "for case in [\"classic\",\"bregman\"]:\n",
    "    print(f\"{models[case]}\\n\")"
   ],
   "id": "dc3c0b6c6cd588cc",
   "outputs": [
    {
     "name": "stdout",
     "output_type": "stream",
     "text": [
      "MixtureModel(n_components=4)\n",
      "  ├─ (0) w=0.390  MultivariateGaussian(d=2, mean=[49.162 47.748], cov=[[581.228  51.4  ], [51.4   92.814]])\n",
      "  ├─ (1) w=0.104  MultivariateGaussian(d=2, mean=[61.78  65.152], cov=[[346.823   4.449], [4.449 1.965]])\n",
      "  ├─ (2) w=0.389  MultivariateGaussian(d=2, mean=[53.358 17.603], cov=[[483.542 -29.776], [-29.776  76.228]])\n",
      "  └─ (3) w=0.118  MultivariateGaussian(d=2, mean=[61.005  2.624], cov=[[347.1    -1.393], [-1.393  1.321]])\n",
      "\n",
      "MixtureModel(n_components=4)\n",
      "  ├─ (0) w=0.390  MultivariateGaussian(d=2, mean=[49.162 47.748], cov=[[581.228  51.4  ], [51.4   92.814]])\n",
      "  ├─ (1) w=0.104  MultivariateGaussian(d=2, mean=[61.78  65.152], cov=[[346.823   4.449], [4.449 1.965]])\n",
      "  ├─ (2) w=0.389  MultivariateGaussian(d=2, mean=[53.358 17.603], cov=[[483.542 -29.776], [-29.776  76.228]])\n",
      "  └─ (3) w=0.118  MultivariateGaussian(d=2, mean=[61.005  2.624], cov=[[347.1    -1.393], [-1.393  1.321]])\n",
      "\n"
     ]
    }
   ],
   "execution_count": 148
  },
  {
   "metadata": {
    "ExecuteTime": {
     "end_time": "2025-09-28T02:02:45.760729Z",
     "start_time": "2025-09-28T02:02:45.709563Z"
    }
   },
   "cell_type": "code",
   "source": "vis.show_location_model(models[\"classic\"])",
   "id": "e44d25a5e20bfd85",
   "outputs": [
    {
     "data": {
      "text/plain": [
       "<Figure size 600x450 with 1 Axes>"
      ],
      "image/png": "[encoded data removed]"
     },
     "metadata": {},
     "output_type": "display_data"
    }
   ],
   "execution_count": 149
  },
  {
   "metadata": {
    "ExecuteTime": {
     "end_time": "2025-09-28T02:02:46.133097Z",
     "start_time": "2025-09-28T02:02:45.771269Z"
    }
   },
   "cell_type": "code",
   "source": [
    "# Von Mises clusters\n",
    "k_vm = 3\n",
    "all_results_vm = []\n",
    "\n",
    "\n",
    "for init in [\"k-means\", \"random\", \"random_from_data\",\"k-means++\"]:\n",
    "    times = {}\n",
    "    results = {}\n",
    "    models = {}\n",
    "\n",
    "    for case in [\"classic\", \"approximation\", \"bregman\"]:\n",
    "        dir_model = sc.MixtureModel(\n",
    "            [sc.VonMises() for _ in range(k_vm)],\n",
    "            init=init\n",
    "        )\n",
    "        start = time.time()\n",
    "        results[case] = dir_model.fit(dir_data, verbose=False, case=case)\n",
    "        times[case] = time.time() - start\n",
    "        models[case] = dir_model\n",
    "\n",
    "        all_results_vm.append({\n",
    "            \"initialization\": init,\n",
    "            \"case\": case,\n",
    "            \"log_likelihood\": results[case][-1],\n",
    "            \"time_sec\": times[case],\n",
    "            \"ch_score\": sc.kl_ch_score(dir_data, models[case])\n",
    "        })\n",
    "\n",
    "dir_results = pd.DataFrame(all_results_vm)\n",
    "dir_results\n"
   ],
   "id": "6f6b97de15e1de30",
   "outputs": [
    {
     "data": {
      "text/plain": [
       "      initialization           case  log_likelihood  time_sec  ch_score\n",
       "0            k-means        classic       -1.780903  0.128012  0.100233\n",
       "1            k-means  approximation       -1.783679  0.041464  0.137175\n",
       "2            k-means        bregman       -1.780789  0.041395  0.096966\n",
       "3             random        classic       -1.781819  0.005365  0.000009\n",
       "4             random  approximation       -1.781819  0.003027  0.000009\n",
       "5             random        bregman       -1.781819  0.002996  0.000009\n",
       "6   random_from_data        classic       -1.780669  0.030460  0.020045\n",
       "7   random_from_data  approximation       -1.784009  0.015361  0.128183\n",
       "8   random_from_data        bregman       -1.781242  0.013874  0.088395\n",
       "9          k-means++        classic       -1.780132  0.020926  0.026648\n",
       "10         k-means++  approximation       -1.782556  0.018222  0.102385\n",
       "11         k-means++        bregman       -1.781101  0.014924  0.079212"
      ],
      "text/html": [
       "<div>\n",
       "<style scoped>\n",
       "    .dataframe tbody tr th:only-of-type {\n",
       "        vertical-align: middle;\n",
       "    }\n",
       "\n",
       "    .dataframe tbody tr th {\n",
       "        vertical-align: top;\n",
       "    }\n",
       "\n",
       "    .dataframe thead th {\n",
       "        text-align: right;\n",
       "    }\n",
       "</style>\n",
       "<table border=\"1\" class=\"dataframe\">\n",
       "  <thead>\n",
       "    <tr style=\"text-align: right;\">\n",
       "      <th></th>\n",
       "      <th>initialization</th>\n",
       "      <th>case</th>\n",
       "      <th>log_likelihood</th>\n",
       "      <th>time_sec</th>\n",
       "      <th>ch_score</th>\n",
       "    </tr>\n",
       "  </thead>\n",
       "  <tbody>\n",
       "    <tr>\n",
       "      <th>0</th>\n",
       "      <td>k-means</td>\n",
       "      <td>classic</td>\n",
       "      <td>-1.780903</td>\n",
       "      <td>0.128012</td>\n",
       "      <td>0.100233</td>\n",
       "    </tr>\n",
       "    <tr>\n",
       "      <th>1</th>\n",
       "      <td>k-means</td>\n",
       "      <td>approximation</td>\n",
       "      <td>-1.783679</td>\n",
       "      <td>0.041464</td>\n",
       "      <td>0.137175</td>\n",
       "    </tr>\n",
       "    <tr>\n",
       "      <th>2</th>\n",
       "      <td>k-means</td>\n",
       "      <td>bregman</td>\n",
       "      <td>-1.780789</td>\n",
       "      <td>0.041395</td>\n",
       "      <td>0.096966</td>\n",
       "    </tr>\n",
       "    <tr>\n",
       "      <th>3</th>\n",
       "      <td>random</td>\n",
       "      <td>classic</td>\n",
       "      <td>-1.781819</td>\n",
       "      <td>0.005365</td>\n",
       "      <td>0.000009</td>\n",
       "    </tr>\n",
       "    <tr>\n",
       "      <th>4</th>\n",
       "      <td>random</td>\n",
       "      <td>approximation</td>\n",
       "      <td>-1.781819</td>\n",
       "      <td>0.003027</td>\n",
       "      <td>0.000009</td>\n",
       "    </tr>\n",
       "    <tr>\n",
       "      <th>5</th>\n",
       "      <td>random</td>\n",
       "      <td>bregman</td>\n",
       "      <td>-1.781819</td>\n",
       "      <td>0.002996</td>\n",
       "      <td>0.000009</td>\n",
       "    </tr>\n",
       "    <tr>\n",
       "      <th>6</th>\n",
       "      <td>random_from_data</td>\n",
       "      <td>classic</td>\n",
       "      <td>-1.780669</td>\n",
       "      <td>0.030460</td>\n",
       "      <td>0.020045</td>\n",
       "    </tr>\n",
       "    <tr>\n",
       "      <th>7</th>\n",
       "      <td>random_from_data</td>\n",
       "      <td>approximation</td>\n",
       "      <td>-1.784009</td>\n",
       "      <td>0.015361</td>\n",
       "      <td>0.128183</td>\n",
       "    </tr>\n",
       "    <tr>\n",
       "      <th>8</th>\n",
       "      <td>random_from_data</td>\n",
       "      <td>bregman</td>\n",
       "      <td>-1.781242</td>\n",
       "      <td>0.013874</td>\n",
       "      <td>0.088395</td>\n",
       "    </tr>\n",
       "    <tr>\n",
       "      <th>9</th>\n",
       "      <td>k-means++</td>\n",
       "      <td>classic</td>\n",
       "      <td>-1.780132</td>\n",
       "      <td>0.020926</td>\n",
       "      <td>0.026648</td>\n",
       "    </tr>\n",
       "    <tr>\n",
       "      <th>10</th>\n",
       "      <td>k-means++</td>\n",
       "      <td>approximation</td>\n",
       "      <td>-1.782556</td>\n",
       "      <td>0.018222</td>\n",
       "      <td>0.102385</td>\n",
       "    </tr>\n",
       "    <tr>\n",
       "      <th>11</th>\n",
       "      <td>k-means++</td>\n",
       "      <td>bregman</td>\n",
       "      <td>-1.781101</td>\n",
       "      <td>0.014924</td>\n",
       "      <td>0.079212</td>\n",
       "    </tr>\n",
       "  </tbody>\n",
       "</table>\n",
       "</div>"
      ]
     },
     "execution_count": 150,
     "metadata": {},
     "output_type": "execute_result"
    }
   ],
   "execution_count": 150
  },
  {
   "metadata": {
    "ExecuteTime": {
     "end_time": "2025-09-28T02:02:46.176109Z",
     "start_time": "2025-09-28T02:02:46.164823Z"
    }
   },
   "cell_type": "code",
   "source": [
    "for case in [\"classic\",\"approximation\",\"bregman\"]:\n",
    "    print(f\"{models[case]}\\n\")"
   ],
   "id": "9192aa6ab975c28e",
   "outputs": [
    {
     "name": "stdout",
     "output_type": "stream",
     "text": [
      "MixtureModel(n_components=3)\n",
      "  ├─ (0) w=0.483  VonMises(loc=1.3 deg, kappa=0.659)\n",
      "  ├─ (1) w=0.448  VonMises(loc=1.3 deg, kappa=0.659)\n",
      "  └─ (2) w=0.069  VonMises(loc=-179.8 deg, kappa=2.955)\n",
      "\n",
      "MixtureModel(n_components=3)\n",
      "  ├─ (0) w=0.469  VonMises(loc=-35.1 deg, kappa=1.463)\n",
      "  ├─ (1) w=0.382  VonMises(loc=55.0 deg, kappa=1.393)\n",
      "  └─ (2) w=0.149  VonMises(loc=-173.3 deg, kappa=2.539)\n",
      "\n",
      "MixtureModel(n_components=3)\n",
      "  ├─ (0) w=0.453  VonMises(loc=-32.9 deg, kappa=1.328)\n",
      "  ├─ (1) w=0.383  VonMises(loc=49.7 deg, kappa=1.229)\n",
      "  └─ (2) w=0.164  VonMises(loc=-174.1 deg, kappa=1.714)\n",
      "\n"
     ]
    }
   ],
   "execution_count": 151
  },
  {
   "metadata": {},
   "cell_type": "markdown",
   "source": [
    "### Two layer scheme\n",
    "\n",
    "Running a Gaussian mixture model to get location clusters. Then, for each one of the location clusters, run a von Mises mixture model using again all dataset, but for this second step, each datapoint is weighted by the posteriors of the location mixture model."
   ],
   "id": "2cb6861372d8efe7"
  },
  {
   "metadata": {
    "ExecuteTime": {
     "end_time": "2025-09-28T02:02:48.351686Z",
     "start_time": "2025-09-28T02:02:46.195848Z"
    }
   },
   "cell_type": "code",
   "source": [
    "K_loc = 4\n",
    "K_dir = [2,3,4,2]\n",
    "init = \"k-means++\"\n",
    "loc_mixture = sc.MixtureModel(\n",
    "            [sc.MultivariateGaussian() for _ in range(K_loc)],\n",
    "            init=init\n",
    "        )\n",
    "dir_mixtures = [ sc.MixtureModel(\n",
    "                    [sc.VonMises() for _ in range(K_dir[j])],\n",
    "                    init=init\n",
    "                    )\n",
    "                 for j in range(K_loc)]\n",
    "\n",
    "model = sc.TwoLayerScheme(loc_mixture,\n",
    "                       dir_mixtures)\n",
    "\n",
    "model.fit(loc_data, dir_data)"
   ],
   "id": "d9adfe641996539a",
   "outputs": [],
   "execution_count": 152
  },
  {
   "metadata": {
    "ExecuteTime": {
     "end_time": "2025-09-28T02:02:48.375861Z",
     "start_time": "2025-09-28T02:02:48.356522Z"
    }
   },
   "cell_type": "code",
   "source": "model.bic_score(loc_data, dir_data)",
   "id": "e785cf845ccb09a3",
   "outputs": [
    {
     "data": {
      "text/plain": [
       "10327.767563640902"
      ]
     },
     "execution_count": 153,
     "metadata": {},
     "output_type": "execute_result"
    }
   ],
   "execution_count": 153
  },
  {
   "metadata": {
    "ExecuteTime": {
     "end_time": "2025-09-28T02:02:48.600119Z",
     "start_time": "2025-09-28T02:02:48.521502Z"
    }
   },
   "cell_type": "code",
   "source": "model.plot()",
   "id": "f85b22bc2be5164",
   "outputs": [
    {
     "data": {
      "text/plain": [
       "<Figure size 600x450 with 1 Axes>"
      ],
      "image/png": "[encoded data removed]"
     },
     "metadata": {},
     "output_type": "display_data"
    }
   ],
   "execution_count": 154
  },
  {
   "metadata": {},
   "cell_type": "markdown",
   "source": [
    "### One-shot Scheme\n",
    "\n"
   ],
   "id": "b08261a14dd7db60"
  },
  {
   "metadata": {
    "ExecuteTime": {
     "end_time": "2025-09-28T02:02:48.731485Z",
     "start_time": "2025-09-28T02:02:48.623389Z"
    }
   },
   "cell_type": "code",
   "source": [
    "oneshot_model = cm.OneShotScheme(n_clusters=10, alpha=0.5, beta=0.5)\n",
    "oneshot_model.fit(loc_data, dir_data)\n",
    "oneshot_model.bic_score(loc_data, dir_data)"
   ],
   "id": "8907558ed363d4cd",
   "outputs": [
    {
     "data": {
      "text/plain": [
       "31170.916923293506"
      ]
     },
     "execution_count": 155,
     "metadata": {},
     "output_type": "execute_result"
    }
   ],
   "execution_count": 155
  },
  {
   "metadata": {
    "ExecuteTime": {
     "end_time": "2025-09-28T02:02:48.875257Z",
     "start_time": "2025-09-28T02:02:48.820483Z"
    }
   },
   "cell_type": "code",
   "source": "oneshot_model.plot()",
   "id": "84849c34756e62d5",
   "outputs": [
    {
     "data": {
      "text/plain": [
       "<Figure size 600x450 with 1 Axes>"
      ],
      "image/png": "[encoded data removed]"
     },
     "metadata": {},
     "output_type": "display_data"
    }
   ],
   "execution_count": 156
  }
 ],
 "metadata": {
  "kernelspec": {
   "display_name": "Python 3",
   "language": "python",
   "name": "python3"
  },
  "language_info": {
   "codemirror_mode": {
    "name": "ipython",
    "version": 2
   },
   "file_extension": ".py",
   "mimetype": "text/x-python",
   "name": "python",
   "nbconvert_exporter": "python",
   "pygments_lexer": "ipython2",
   "version": "2.7.6"
  }
 },
 "nbformat": 4,
 "nbformat_minor": 5
}
