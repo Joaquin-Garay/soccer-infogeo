{
 "cells": [
  {
   "cell_type": "code",
   "id": "initial_id",
   "metadata": {
    "collapsed": true,
    "ExecuteTime": {
     "end_time": "2025-10-23T23:29:19.135430Z",
     "start_time": "2025-10-23T23:29:19.114578Z"
    }
   },
   "source": [
    "%load_ext autoreload\n",
    "%autoreload 2\n",
    "\n",
    "import os\n",
    "from time import time\n",
    "from tqdm import tqdm\n",
    "import numpy as np\n",
    "import pandas as pd\n",
    "import matplotlib.pyplot as plt\n",
    "\n",
    "from causallearn.search.ConstraintBased.PC import pc\n",
    "from causallearn.utils.GraphUtils import GraphUtils\n",
    "from causallearn.utils.cit import CIT\n",
    "\n",
    "import vis\n",
    "import softclustering as sc\n",
    "import socceraction.spadl as spadl"
   ],
   "outputs": [
    {
     "name": "stdout",
     "output_type": "stream",
     "text": [
      "The autoreload extension is already loaded. To reload it, use:\n",
      "  %reload_ext autoreload\n"
     ]
    }
   ],
   "execution_count": 16
  },
  {
   "metadata": {
    "ExecuteTime": {
     "end_time": "2025-10-23T23:29:22.365606Z",
     "start_time": "2025-10-23T23:29:20.717195Z"
    }
   },
   "cell_type": "code",
   "source": [
    "datafolder = \"data\"\n",
    "fifa2018h5 = os.path.join(datafolder, \"spadl-fifa2018.h5\")\n",
    "games = pd.read_hdf(fifa2018h5, key=\"games\")\n",
    "with pd.HDFStore(fifa2018h5) as store:\n",
    "    actions = []  #list of DataFrames\n",
    "    for game in tqdm(games.itertuples()):\n",
    "        game_action = store[f\"actions/game_{game.game_id}\"]\n",
    "        game_action = spadl.play_left_to_right(game_action, game.home_team_id)\n",
    "        game_action[\"is_home\"] = game_action[\"team_id\"] == game.home_team_id\n",
    "        actions.append(game_action)\n",
    "    actions = pd.concat(actions)\n",
    "    actions.drop(\"original_event_id\", axis=1, inplace=True)\n",
    "    actions = pd.merge(actions, spadl.config.actiontypes_df(), how=\"left\")\n",
    "    actions = sc.consolidate(actions)\n",
    "    actions = sc.add_noise(actions)\n",
    "    actions = sc.remove_outliers(actions, True)\n",
    "    actions[\"angle\"] = np.arctan2(actions.end_y - actions.start_y, actions.end_x - actions.start_x)\n",
    "    actions[\"cos_angle\"] = np.cos(actions[\"angle\"])\n",
    "    actions[\"sin_angle\"] = np.sin(actions[\"angle\"])"
   ],
   "id": "6af1b4aae97d131e",
   "outputs": [
    {
     "name": "stderr",
     "output_type": "stream",
     "text": [
      "\n",
      "0it [00:00, ?it/s]\u001B[A\n",
      "21it [00:00, 202.16it/s]\u001B[A\n",
      "64it [00:00, 209.98it/s]\u001B[A\n"
     ]
    },
    {
     "name": "stdout",
     "output_type": "stream",
     "text": [
      "Remove 536 out of 128484 datapoints.\n"
     ]
    }
   ],
   "execution_count": 17
  },
  {
   "metadata": {
    "ExecuteTime": {
     "end_time": "2025-10-23T23:46:26.607917Z",
     "start_time": "2025-10-23T23:46:05.455568Z"
    }
   },
   "cell_type": "code",
   "source": [
    "no_dir_action_types = set(actions[actions[\"angle\"] == 0.0][\"type_name\"])\n",
    "action_types = set(actions[\"type_name\"]) - no_dir_action_types - {\"shot_penalty\"}\n",
    "\n",
    "for action in [\"pass\"]:\n",
    "    print(f\"Processing {action}...\\n\")\n",
    "    mask = (actions[\"type_name\"]==action) & (actions[\"team_id\"]==771)\n",
    "    columns = [\"start_x\", \"start_y\",\"cos_angle\", \"sin_angle\"]\n",
    "    #columns = [\"start_x\", \"start_y\",\"angle\"]\n",
    "    data = actions[mask][columns]\n",
    "    cg = pc(data.to_numpy(),\n",
    "                alpha=0.05,\n",
    "                indep_test=\"fastkci\",\n",
    "                kernelX='Gaussian',\n",
    "                kernelY='Gaussian',\n",
    "                est_width='empirical',\n",
    "            )\n",
    "    pyd = GraphUtils.to_pydot(cg.G, labels=columns)\n",
    "    pyd.write_pdf(f'plots/DAG_aatest_{action}.pdf')"
   ],
   "id": "9099dd8a4c15603b",
   "outputs": [
    {
     "name": "stdout",
     "output_type": "stream",
     "text": [
      "Processing pass...\n",
      "\n"
     ]
    },
    {
     "name": "stderr",
     "output_type": "stream",
     "text": [
      "\n",
      "  0%|          | 0/4 [00:00<?, ?it/s]\u001B[A\n",
      "  0%|          | 0/4 [00:00<?, ?it/s]\u001B[A\n",
      "Depth=0, working on node 0:  25%|██▌       | 1/4 [00:00<00:00, 928.56it/s]\u001B[A\n",
      "Depth=0, working on node 0:  50%|█████     | 2/4 [00:03<00:03,  1.63s/it] \u001B[A\n",
      "Depth=0, working on node 1:  50%|█████     | 2/4 [00:03<00:03,  1.63s/it]\u001B[A\n",
      "Depth=0, working on node 1:  75%|███████▌  | 3/4 [00:04<00:01,  1.29s/it]\u001B[A\n",
      "Depth=0, working on node 2:  75%|███████▌  | 3/4 [00:04<00:01,  1.29s/it]\u001B[A\n",
      "Depth=0, working on node 2: 100%|██████████| 4/4 [00:04<00:00,  1.05it/s]\u001B[A\n",
      "Depth=0, working on node 3: 100%|██████████| 4/4 [00:04<00:00,  1.05it/s]\u001B[A\n",
      "Depth=0, working on node 3: 100%|██████████| 4/4 [00:04<00:00,  1.05it/s]\u001B[A\n",
      "Depth=0, working on node 3:   0%|          | 0/4 [00:00<?, ?it/s]        \u001B[A\n",
      "Depth=1, working on node 0:  25%|██▌       | 1/4 [00:00<00:00, 1510.92it/s]\u001B[A\n",
      "Depth=1, working on node 1:  50%|█████     | 2/4 [00:00<00:00, 1469.62it/s]\u001B[A\n",
      "Depth=1, working on node 1:  75%|███████▌  | 3/4 [00:01<00:00,  1.86it/s]  \u001B[A\n",
      "Depth=1, working on node 2:  75%|███████▌  | 3/4 [00:01<00:00,  1.86it/s]\u001B[A\n",
      "Depth=1, working on node 2: 100%|██████████| 4/4 [00:10<00:00,  3.19s/it]\u001B[A\n",
      "Depth=1, working on node 3: 100%|██████████| 4/4 [00:10<00:00,  3.19s/it]\u001B[A\n",
      "Depth=1, working on node 3: 100%|██████████| 4/4 [00:10<00:00,  3.19s/it]\u001B[A\n",
      "Depth=1, working on node 3:   0%|          | 0/4 [00:00<?, ?it/s]        \u001B[A\n",
      "Depth=2, working on node 0:  25%|██▌       | 1/4 [00:00<00:00, 1372.03it/s]\u001B[A\n",
      "Depth=2, working on node 1:  50%|█████     | 2/4 [00:00<00:00, 1597.53it/s]\u001B[A\n",
      "Depth=2, working on node 2:  75%|███████▌  | 3/4 [00:00<00:00, 1578.98it/s]\u001B[A\n",
      "Depth=2, working on node 2: 100%|██████████| 4/4 [00:06<00:00,  1.55s/it]  \u001B[A\n",
      "Depth=2, working on node 3: 100%|██████████| 4/4 [00:06<00:00,  1.55s/it]\u001B[A\n",
      "Depth=2, working on node 3: 100%|██████████| 4/4 [00:06<00:00,  1.55s/it]\u001B[A\n"
     ]
    }
   ],
   "execution_count": 20
  },
  {
   "metadata": {
    "ExecuteTime": {
     "end_time": "2025-10-23T23:48:41.014669Z",
     "start_time": "2025-10-23T23:47:27.005765Z"
    }
   },
   "cell_type": "code",
   "source": [
    "no_dir_action_types = set(actions[actions[\"angle\"] == 0.0][\"type_name\"])\n",
    "action_types = set(actions[\"type_name\"]) - no_dir_action_types - {\"shot_penalty\"}\n",
    "\n",
    "for action in action_types:\n",
    "    print(f\"Processing {action}...\\n\")\n",
    "    mask = (actions[\"type_name\"]==action) & (actions[\"team_id\"]==771)\n",
    "    columns = [\"start_x\", \"start_y\",\"cos_angle\", \"sin_angle\"]\n",
    "    #columns = [\"start_x\", \"start_y\",\"angle\"]\n",
    "    data = actions[mask][columns]\n",
    "    cg = pc(data.to_numpy(),\n",
    "                alpha=0.05,\n",
    "                indep_test=\"fastkci\",\n",
    "                kernelX='Gaussian',\n",
    "                kernelY='Gaussian',\n",
    "                est_width='empirical',\n",
    "            )\n",
    "    pyd = GraphUtils.to_pydot(cg.G, labels=columns)\n",
    "    pyd.write_pdf(f'plots/DAG2_{action}.pdf')"
   ],
   "id": "621bdc677ed02bbd",
   "outputs": [
    {
     "name": "stdout",
     "output_type": "stream",
     "text": [
      "Processing corner...\n",
      "\n"
     ]
    },
    {
     "name": "stderr",
     "output_type": "stream",
     "text": [
      "\n",
      "  0%|          | 0/4 [00:00<?, ?it/s]\u001B[A\n",
      "  0%|          | 0/4 [00:00<?, ?it/s]\u001B[A\n",
      "Depth=0, working on node 0:  25%|██▌       | 1/4 [00:00<00:00, 1406.54it/s]\u001B[A/Users/jgv/PycharmProjects/soccer-infogeo/.venv/lib/python3.11/site-packages/causallearn/utils/FastKCI/FastKCI.py:470: RuntimeWarning: Precision loss occurred in moment calculation due to catastrophic cancellation. This occurs when the data are nearly identical. Results may be unreliable.\n",
      "  data = stats.zscore(data, ddof=1, axis=0)\n",
      "/Users/jgv/PycharmProjects/soccer-infogeo/.venv/lib/python3.11/site-packages/causallearn/utils/FastKCI/FastKCI.py:470: RuntimeWarning: Precision loss occurred in moment calculation due to catastrophic cancellation. This occurs when the data are nearly identical. Results may be unreliable.\n",
      "  data = stats.zscore(data, ddof=1, axis=0)\n",
      "/Users/jgv/PycharmProjects/soccer-infogeo/.venv/lib/python3.11/site-packages/causallearn/utils/FastKCI/FastKCI.py:470: RuntimeWarning: Precision loss occurred in moment calculation due to catastrophic cancellation. This occurs when the data are nearly identical. Results may be unreliable.\n",
      "  data = stats.zscore(data, ddof=1, axis=0)\n",
      "/Users/jgv/PycharmProjects/soccer-infogeo/.venv/lib/python3.11/site-packages/causallearn/utils/FastKCI/FastKCI.py:470: RuntimeWarning: Precision loss occurred in moment calculation due to catastrophic cancellation. This occurs when the data are nearly identical. Results may be unreliable.\n",
      "  data = stats.zscore(data, ddof=1, axis=0)\n",
      "/Users/jgv/PycharmProjects/soccer-infogeo/.venv/lib/python3.11/site-packages/causallearn/utils/FastKCI/FastKCI.py:470: RuntimeWarning: Precision loss occurred in moment calculation due to catastrophic cancellation. This occurs when the data are nearly identical. Results may be unreliable.\n",
      "  data = stats.zscore(data, ddof=1, axis=0)\n",
      "/Users/jgv/PycharmProjects/soccer-infogeo/.venv/lib/python3.11/site-packages/causallearn/utils/FastKCI/FastKCI.py:470: RuntimeWarning: Precision loss occurred in moment calculation due to catastrophic cancellation. This occurs when the data are nearly identical. Results may be unreliable.\n",
      "  data = stats.zscore(data, ddof=1, axis=0)\n",
      "/Users/jgv/PycharmProjects/soccer-infogeo/.venv/lib/python3.11/site-packages/causallearn/utils/FastKCI/FastKCI.py:470: RuntimeWarning: Precision loss occurred in moment calculation due to catastrophic cancellation. This occurs when the data are nearly identical. Results may be unreliable.\n",
      "  data = stats.zscore(data, ddof=1, axis=0)\n",
      "/Users/jgv/PycharmProjects/soccer-infogeo/.venv/lib/python3.11/site-packages/causallearn/utils/FastKCI/FastKCI.py:470: RuntimeWarning: Precision loss occurred in moment calculation due to catastrophic cancellation. This occurs when the data are nearly identical. Results may be unreliable.\n",
      "  data = stats.zscore(data, ddof=1, axis=0)\n",
      "/Users/jgv/PycharmProjects/soccer-infogeo/.venv/lib/python3.11/site-packages/causallearn/utils/FastKCI/FastKCI.py:470: RuntimeWarning: Precision loss occurred in moment calculation due to catastrophic cancellation. This occurs when the data are nearly identical. Results may be unreliable.\n",
      "  data = stats.zscore(data, ddof=1, axis=0)\n",
      "/Users/jgv/PycharmProjects/soccer-infogeo/.venv/lib/python3.11/site-packages/causallearn/utils/FastKCI/FastKCI.py:470: RuntimeWarning: Precision loss occurred in moment calculation due to catastrophic cancellation. This occurs when the data are nearly identical. Results may be unreliable.\n",
      "  data = stats.zscore(data, ddof=1, axis=0)\n",
      "/Users/jgv/PycharmProjects/soccer-infogeo/.venv/lib/python3.11/site-packages/causallearn/utils/FastKCI/FastKCI.py:470: RuntimeWarning: Precision loss occurred in moment calculation due to catastrophic cancellation. This occurs when the data are nearly identical. Results may be unreliable.\n",
      "  data = stats.zscore(data, ddof=1, axis=0)\n",
      "/Users/jgv/PycharmProjects/soccer-infogeo/.venv/lib/python3.11/site-packages/causallearn/utils/FastKCI/FastKCI.py:470: RuntimeWarning: Precision loss occurred in moment calculation due to catastrophic cancellation. This occurs when the data are nearly identical. Results may be unreliable.\n",
      "  data = stats.zscore(data, ddof=1, axis=0)\n",
      "/Users/jgv/PycharmProjects/soccer-infogeo/.venv/lib/python3.11/site-packages/causallearn/utils/FastKCI/FastKCI.py:470: RuntimeWarning: Precision loss occurred in moment calculation due to catastrophic cancellation. This occurs when the data are nearly identical. Results may be unreliable.\n",
      "  data = stats.zscore(data, ddof=1, axis=0)\n",
      "/Users/jgv/PycharmProjects/soccer-infogeo/.venv/lib/python3.11/site-packages/causallearn/utils/FastKCI/FastKCI.py:470: RuntimeWarning: Precision loss occurred in moment calculation due to catastrophic cancellation. This occurs when the data are nearly identical. Results may be unreliable.\n",
      "  data = stats.zscore(data, ddof=1, axis=0)\n",
      "/Users/jgv/PycharmProjects/soccer-infogeo/.venv/lib/python3.11/site-packages/causallearn/utils/FastKCI/FastKCI.py:470: RuntimeWarning: Precision loss occurred in moment calculation due to catastrophic cancellation. This occurs when the data are nearly identical. Results may be unreliable.\n",
      "  data = stats.zscore(data, ddof=1, axis=0)\n",
      "/Users/jgv/PycharmProjects/soccer-infogeo/.venv/lib/python3.11/site-packages/causallearn/utils/FastKCI/FastKCI.py:470: RuntimeWarning: Precision loss occurred in moment calculation due to catastrophic cancellation. This occurs when the data are nearly identical. Results may be unreliable.\n",
      "  data = stats.zscore(data, ddof=1, axis=0)\n",
      "/Users/jgv/PycharmProjects/soccer-infogeo/.venv/lib/python3.11/site-packages/causallearn/utils/FastKCI/FastKCI.py:470: RuntimeWarning: Precision loss occurred in moment calculation due to catastrophic cancellation. This occurs when the data are nearly identical. Results may be unreliable.\n",
      "  data = stats.zscore(data, ddof=1, axis=0)\n",
      "/Users/jgv/PycharmProjects/soccer-infogeo/.venv/lib/python3.11/site-packages/causallearn/utils/FastKCI/FastKCI.py:470: RuntimeWarning: Precision loss occurred in moment calculation due to catastrophic cancellation. This occurs when the data are nearly identical. Results may be unreliable.\n",
      "  data = stats.zscore(data, ddof=1, axis=0)\n",
      "/Users/jgv/PycharmProjects/soccer-infogeo/.venv/lib/python3.11/site-packages/causallearn/utils/FastKCI/FastKCI.py:470: RuntimeWarning: Precision loss occurred in moment calculation due to catastrophic cancellation. This occurs when the data are nearly identical. Results may be unreliable.\n",
      "  data = stats.zscore(data, ddof=1, axis=0)\n",
      "/Users/jgv/PycharmProjects/soccer-infogeo/.venv/lib/python3.11/site-packages/causallearn/utils/FastKCI/FastKCI.py:470: RuntimeWarning: Precision loss occurred in moment calculation due to catastrophic cancellation. This occurs when the data are nearly identical. Results may be unreliable.\n",
      "  data = stats.zscore(data, ddof=1, axis=0)\n",
      "/Users/jgv/PycharmProjects/soccer-infogeo/.venv/lib/python3.11/site-packages/causallearn/utils/FastKCI/FastKCI.py:470: RuntimeWarning: Precision loss occurred in moment calculation due to catastrophic cancellation. This occurs when the data are nearly identical. Results may be unreliable.\n",
      "  data = stats.zscore(data, ddof=1, axis=0)\n",
      "/Users/jgv/PycharmProjects/soccer-infogeo/.venv/lib/python3.11/site-packages/causallearn/utils/FastKCI/FastKCI.py:470: RuntimeWarning: Precision loss occurred in moment calculation due to catastrophic cancellation. This occurs when the data are nearly identical. Results may be unreliable.\n",
      "  data = stats.zscore(data, ddof=1, axis=0)\n",
      "/Users/jgv/PycharmProjects/soccer-infogeo/.venv/lib/python3.11/site-packages/causallearn/utils/FastKCI/FastKCI.py:470: RuntimeWarning: Precision loss occurred in moment calculation due to catastrophic cancellation. This occurs when the data are nearly identical. Results may be unreliable.\n",
      "  data = stats.zscore(data, ddof=1, axis=0)\n",
      "/Users/jgv/PycharmProjects/soccer-infogeo/.venv/lib/python3.11/site-packages/causallearn/utils/FastKCI/FastKCI.py:470: RuntimeWarning: Precision loss occurred in moment calculation due to catastrophic cancellation. This occurs when the data are nearly identical. Results may be unreliable.\n",
      "  data = stats.zscore(data, ddof=1, axis=0)\n",
      "/Users/jgv/PycharmProjects/soccer-infogeo/.venv/lib/python3.11/site-packages/causallearn/utils/FastKCI/FastKCI.py:470: RuntimeWarning: Precision loss occurred in moment calculation due to catastrophic cancellation. This occurs when the data are nearly identical. Results may be unreliable.\n",
      "  data = stats.zscore(data, ddof=1, axis=0)\n",
      "\n",
      "Depth=0, working on node 0:  50%|█████     | 2/4 [00:00<00:00,  2.70it/s]  \u001B[A\n",
      "Depth=0, working on node 1:  50%|█████     | 2/4 [00:00<00:00,  2.70it/s]\u001B[A/Users/jgv/PycharmProjects/soccer-infogeo/.venv/lib/python3.11/site-packages/causallearn/utils/FastKCI/FastKCI.py:470: RuntimeWarning: Precision loss occurred in moment calculation due to catastrophic cancellation. This occurs when the data are nearly identical. Results may be unreliable.\n",
      "  data = stats.zscore(data, ddof=1, axis=0)\n",
      "/Users/jgv/PycharmProjects/soccer-infogeo/.venv/lib/python3.11/site-packages/causallearn/utils/FastKCI/FastKCI.py:470: RuntimeWarning: Precision loss occurred in moment calculation due to catastrophic cancellation. This occurs when the data are nearly identical. Results may be unreliable.\n",
      "  data = stats.zscore(data, ddof=1, axis=0)\n",
      "/Users/jgv/PycharmProjects/soccer-infogeo/.venv/lib/python3.11/site-packages/causallearn/utils/FastKCI/FastKCI.py:470: RuntimeWarning: Precision loss occurred in moment calculation due to catastrophic cancellation. This occurs when the data are nearly identical. Results may be unreliable.\n",
      "  data = stats.zscore(data, ddof=1, axis=0)\n",
      "/Users/jgv/PycharmProjects/soccer-infogeo/.venv/lib/python3.11/site-packages/causallearn/utils/FastKCI/FastKCI.py:470: RuntimeWarning: Precision loss occurred in moment calculation due to catastrophic cancellation. This occurs when the data are nearly identical. Results may be unreliable.\n",
      "  data = stats.zscore(data, ddof=1, axis=0)\n",
      "/Users/jgv/PycharmProjects/soccer-infogeo/.venv/lib/python3.11/site-packages/causallearn/utils/FastKCI/FastKCI.py:470: RuntimeWarning: Precision loss occurred in moment calculation due to catastrophic cancellation. This occurs when the data are nearly identical. Results may be unreliable.\n",
      "  data = stats.zscore(data, ddof=1, axis=0)\n",
      "/Users/jgv/PycharmProjects/soccer-infogeo/.venv/lib/python3.11/site-packages/causallearn/utils/FastKCI/FastKCI.py:470: RuntimeWarning: Precision loss occurred in moment calculation due to catastrophic cancellation. This occurs when the data are nearly identical. Results may be unreliable.\n",
      "  data = stats.zscore(data, ddof=1, axis=0)\n",
      "/Users/jgv/PycharmProjects/soccer-infogeo/.venv/lib/python3.11/site-packages/causallearn/utils/FastKCI/FastKCI.py:470: RuntimeWarning: Precision loss occurred in moment calculation due to catastrophic cancellation. This occurs when the data are nearly identical. Results may be unreliable.\n",
      "  data = stats.zscore(data, ddof=1, axis=0)\n",
      "/Users/jgv/PycharmProjects/soccer-infogeo/.venv/lib/python3.11/site-packages/causallearn/utils/FastKCI/FastKCI.py:470: RuntimeWarning: Precision loss occurred in moment calculation due to catastrophic cancellation. This occurs when the data are nearly identical. Results may be unreliable.\n",
      "  data = stats.zscore(data, ddof=1, axis=0)\n",
      "/Users/jgv/PycharmProjects/soccer-infogeo/.venv/lib/python3.11/site-packages/causallearn/utils/FastKCI/FastKCI.py:470: RuntimeWarning: Precision loss occurred in moment calculation due to catastrophic cancellation. This occurs when the data are nearly identical. Results may be unreliable.\n",
      "  data = stats.zscore(data, ddof=1, axis=0)\n",
      "/Users/jgv/PycharmProjects/soccer-infogeo/.venv/lib/python3.11/site-packages/causallearn/utils/FastKCI/FastKCI.py:470: RuntimeWarning: Precision loss occurred in moment calculation due to catastrophic cancellation. This occurs when the data are nearly identical. Results may be unreliable.\n",
      "  data = stats.zscore(data, ddof=1, axis=0)\n",
      "/Users/jgv/PycharmProjects/soccer-infogeo/.venv/lib/python3.11/site-packages/causallearn/utils/FastKCI/FastKCI.py:470: RuntimeWarning: Precision loss occurred in moment calculation due to catastrophic cancellation. This occurs when the data are nearly identical. Results may be unreliable.\n",
      "  data = stats.zscore(data, ddof=1, axis=0)\n",
      "/Users/jgv/PycharmProjects/soccer-infogeo/.venv/lib/python3.11/site-packages/causallearn/utils/FastKCI/FastKCI.py:470: RuntimeWarning: Precision loss occurred in moment calculation due to catastrophic cancellation. This occurs when the data are nearly identical. Results may be unreliable.\n",
      "  data = stats.zscore(data, ddof=1, axis=0)\n",
      "/Users/jgv/PycharmProjects/soccer-infogeo/.venv/lib/python3.11/site-packages/causallearn/utils/FastKCI/FastKCI.py:470: RuntimeWarning: Precision loss occurred in moment calculation due to catastrophic cancellation. This occurs when the data are nearly identical. Results may be unreliable.\n",
      "  data = stats.zscore(data, ddof=1, axis=0)\n",
      "/Users/jgv/PycharmProjects/soccer-infogeo/.venv/lib/python3.11/site-packages/causallearn/utils/FastKCI/FastKCI.py:470: RuntimeWarning: Precision loss occurred in moment calculation due to catastrophic cancellation. This occurs when the data are nearly identical. Results may be unreliable.\n",
      "  data = stats.zscore(data, ddof=1, axis=0)\n",
      "/Users/jgv/PycharmProjects/soccer-infogeo/.venv/lib/python3.11/site-packages/causallearn/utils/FastKCI/FastKCI.py:470: RuntimeWarning: Precision loss occurred in moment calculation due to catastrophic cancellation. This occurs when the data are nearly identical. Results may be unreliable.\n",
      "  data = stats.zscore(data, ddof=1, axis=0)\n",
      "\n",
      "Depth=0, working on node 2:  75%|███████▌  | 3/4 [00:00<00:00,  2.70it/s]\u001B[A\n",
      "Depth=0, working on node 2: 100%|██████████| 4/4 [00:00<00:00,  5.32it/s]\u001B[A\n",
      "Depth=0, working on node 3: 100%|██████████| 4/4 [00:00<00:00,  5.32it/s]\u001B[A\n",
      "Depth=0, working on node 3: 100%|██████████| 4/4 [00:00<00:00,  4.63it/s]\u001B[A\n"
     ]
    },
    {
     "name": "stdout",
     "output_type": "stream",
     "text": [
      "Processing pass...\n",
      "\n"
     ]
    },
    {
     "name": "stderr",
     "output_type": "stream",
     "text": [
      "\n",
      "  0%|          | 0/4 [00:00<?, ?it/s]\u001B[A\n",
      "  0%|          | 0/4 [00:00<?, ?it/s]\u001B[A\n",
      "Depth=0, working on node 0:  25%|██▌       | 1/4 [00:00<00:00, 1003.18it/s]\u001B[A\n",
      "Depth=0, working on node 0:  50%|█████     | 2/4 [00:01<00:01,  1.12it/s]  \u001B[A\n",
      "Depth=0, working on node 1:  50%|█████     | 2/4 [00:01<00:01,  1.12it/s]\u001B[A\n",
      "Depth=0, working on node 1:  75%|███████▌  | 3/4 [00:03<00:01,  1.11s/it]\u001B[A\n",
      "Depth=0, working on node 2:  75%|███████▌  | 3/4 [00:03<00:01,  1.11s/it]\u001B[A\n",
      "Depth=0, working on node 2: 100%|██████████| 4/4 [00:03<00:00,  1.18it/s]\u001B[A\n",
      "Depth=0, working on node 3: 100%|██████████| 4/4 [00:03<00:00,  1.18it/s]\u001B[A\n",
      "Depth=0, working on node 3: 100%|██████████| 4/4 [00:03<00:00,  1.18it/s]\u001B[A\n",
      "Depth=0, working on node 3:   0%|          | 0/4 [00:00<?, ?it/s]        \u001B[A\n",
      "Depth=1, working on node 0:  25%|██▌       | 1/4 [00:00<00:00, 1248.30it/s]\u001B[A\n",
      "Depth=1, working on node 0:  50%|█████     | 2/4 [00:03<00:03,  1.81s/it]  \u001B[A\n",
      "Depth=1, working on node 1:  50%|█████     | 2/4 [00:03<00:03,  1.81s/it]\u001B[A\n",
      "Depth=1, working on node 1:  75%|███████▌  | 3/4 [00:11<00:04,  4.29s/it]\u001B[A\n",
      "Depth=1, working on node 2:  75%|███████▌  | 3/4 [00:11<00:04,  4.29s/it]\u001B[A\n",
      "Depth=1, working on node 2: 100%|██████████| 4/4 [00:16<00:00,  4.56s/it]\u001B[A\n",
      "Depth=1, working on node 3: 100%|██████████| 4/4 [00:16<00:00,  4.56s/it]\u001B[A\n",
      "Depth=1, working on node 3: 100%|██████████| 4/4 [00:16<00:00,  4.56s/it]\u001B[A\n",
      "Depth=1, working on node 3:   0%|          | 0/4 [00:00<?, ?it/s]        \u001B[A\n",
      "Depth=2, working on node 0:  25%|██▌       | 1/4 [00:00<00:00, 1447.31it/s]\u001B[A\n",
      "Depth=2, working on node 1:  50%|█████     | 2/4 [00:00<00:00, 1249.98it/s]\u001B[A\n",
      "Depth=2, working on node 1:  75%|███████▌  | 3/4 [00:05<00:01,  1.70s/it]  \u001B[A\n",
      "Depth=2, working on node 2:  75%|███████▌  | 3/4 [00:05<00:01,  1.70s/it]\u001B[A\n",
      "Depth=2, working on node 2: 100%|██████████| 4/4 [00:08<00:00,  2.25s/it]\u001B[A\n",
      "Depth=2, working on node 3: 100%|██████████| 4/4 [00:08<00:00,  2.25s/it]\u001B[A\n",
      "Depth=2, working on node 3: 100%|██████████| 4/4 [00:08<00:00,  2.13s/it]\u001B[A\n"
     ]
    },
    {
     "name": "stdout",
     "output_type": "stream",
     "text": [
      "Processing freekick...\n",
      "\n"
     ]
    },
    {
     "name": "stderr",
     "output_type": "stream",
     "text": [
      "\n",
      "  0%|          | 0/4 [00:00<?, ?it/s]\u001B[A\n",
      "  0%|          | 0/4 [00:00<?, ?it/s]\u001B[A\n",
      "Depth=0, working on node 0:  25%|██▌       | 1/4 [00:00<00:00, 1201.81it/s]\u001B[A/Users/jgv/PycharmProjects/soccer-infogeo/.venv/lib/python3.11/site-packages/causallearn/utils/FastKCI/FastKCI.py:470: RuntimeWarning: Precision loss occurred in moment calculation due to catastrophic cancellation. This occurs when the data are nearly identical. Results may be unreliable.\n",
      "  data = stats.zscore(data, ddof=1, axis=0)\n",
      "\n",
      "Depth=0, working on node 0:  50%|█████     | 2/4 [00:00<00:00,  6.79it/s]  \u001B[A\n",
      "Depth=0, working on node 1:  50%|█████     | 2/4 [00:00<00:00,  6.79it/s]\u001B[A\n",
      "Depth=0, working on node 1:  75%|███████▌  | 3/4 [00:00<00:00,  6.55it/s]\u001B[A\n",
      "Depth=0, working on node 2:  75%|███████▌  | 3/4 [00:00<00:00,  6.55it/s]\u001B[A\n",
      "Depth=0, working on node 2: 100%|██████████| 4/4 [00:00<00:00,  7.52it/s]\u001B[A\n",
      "Depth=0, working on node 3: 100%|██████████| 4/4 [00:00<00:00,  7.52it/s]\u001B[A\n",
      "Depth=0, working on node 3: 100%|██████████| 4/4 [00:00<00:00,  7.52it/s]\u001B[A\n",
      "Depth=0, working on node 3:   0%|          | 0/4 [00:00<?, ?it/s]        \u001B[A\n",
      "Depth=1, working on node 0:  25%|██▌       | 1/4 [00:00<00:00, 1475.31it/s]\u001B[A\n",
      "Depth=1, working on node 0:  50%|█████     | 2/4 [00:00<00:00, 16.00it/s]  \u001B[A\n",
      "Depth=1, working on node 1:  50%|█████     | 2/4 [00:00<00:00, 16.00it/s]\u001B[A\n",
      "Depth=1, working on node 2:  75%|███████▌  | 3/4 [00:00<00:00, 16.00it/s]\u001B[A\n",
      "Depth=1, working on node 3: 100%|██████████| 4/4 [00:00<00:00, 16.00it/s]\u001B[A\n",
      "Depth=1, working on node 3: 100%|██████████| 4/4 [00:00<00:00,  9.45it/s]\u001B[A\n"
     ]
    },
    {
     "name": "stdout",
     "output_type": "stream",
     "text": [
      "Processing goalkick...\n",
      "\n"
     ]
    },
    {
     "name": "stderr",
     "output_type": "stream",
     "text": [
      "\n",
      "  0%|          | 0/4 [00:00<?, ?it/s]\u001B[A\n",
      "  0%|          | 0/4 [00:00<?, ?it/s]\u001B[A\n",
      "Depth=0, working on node 0:  25%|██▌       | 1/4 [00:00<00:00, 1228.20it/s]\u001B[A\n",
      "Depth=0, working on node 0:  50%|█████     | 2/4 [00:00<00:00,  9.46it/s]  \u001B[A\n",
      "Depth=0, working on node 1:  50%|█████     | 2/4 [00:00<00:00,  9.46it/s]\u001B[A\n",
      "Depth=0, working on node 1:  75%|███████▌  | 3/4 [00:00<00:00,  8.87it/s]\u001B[A\n",
      "Depth=0, working on node 2:  75%|███████▌  | 3/4 [00:00<00:00,  8.87it/s]\u001B[A\n",
      "Depth=0, working on node 3: 100%|██████████| 4/4 [00:00<00:00,  8.87it/s]\u001B[A\n",
      "Depth=0, working on node 3: 100%|██████████| 4/4 [00:00<00:00,  8.87it/s]\u001B[A\n",
      "Depth=0, working on node 3:   0%|          | 0/4 [00:00<?, ?it/s]        \u001B[A\n",
      "Depth=1, working on node 0:  25%|██▌       | 1/4 [00:00<00:00, 1148.18it/s]\u001B[A\n",
      "Depth=1, working on node 1:  50%|█████     | 2/4 [00:00<00:00, 1301.97it/s]\u001B[A\n",
      "Depth=1, working on node 2:  75%|███████▌  | 3/4 [00:00<00:00, 1343.32it/s]\u001B[A\n",
      "Depth=1, working on node 3: 100%|██████████| 4/4 [00:00<00:00, 52.62it/s]  \u001B[A\n",
      "Depth=1, working on node 3: 100%|██████████| 4/4 [00:00<00:00, 51.96it/s]\u001B[A\n"
     ]
    },
    {
     "name": "stdout",
     "output_type": "stream",
     "text": [
      "Processing cross...\n",
      "\n"
     ]
    },
    {
     "name": "stderr",
     "output_type": "stream",
     "text": [
      "\n",
      "  0%|          | 0/4 [00:00<?, ?it/s]\u001B[A\n",
      "  0%|          | 0/4 [00:00<?, ?it/s]\u001B[A\n",
      "Depth=0, working on node 0:  25%|██▌       | 1/4 [00:00<00:00, 1297.34it/s]\u001B[A\n",
      "Depth=0, working on node 0:  50%|█████     | 2/4 [00:00<00:00,  9.95it/s]  \u001B[A\n",
      "Depth=0, working on node 1:  50%|█████     | 2/4 [00:00<00:00,  9.95it/s]\u001B[A\n",
      "Depth=0, working on node 1:  75%|███████▌  | 3/4 [00:00<00:00,  9.11it/s]\u001B[A\n",
      "Depth=0, working on node 2:  75%|███████▌  | 3/4 [00:00<00:00,  9.11it/s]\u001B[A\n",
      "Depth=0, working on node 3: 100%|██████████| 4/4 [00:00<00:00,  9.11it/s]\u001B[A\n",
      "Depth=0, working on node 3: 100%|██████████| 4/4 [00:00<00:00,  9.11it/s]\u001B[A\n",
      "Depth=0, working on node 3:   0%|          | 0/4 [00:00<?, ?it/s]        \u001B[A\n",
      "Depth=1, working on node 0:  25%|██▌       | 1/4 [00:00<00:00, 1142.86it/s]\u001B[A\n",
      "Depth=1, working on node 1:  50%|█████     | 2/4 [00:00<00:00, 22.52it/s]  \u001B[A\n",
      "Depth=1, working on node 1:  75%|███████▌  | 3/4 [00:00<00:00, 10.89it/s]\u001B[A\n",
      "Depth=1, working on node 2:  75%|███████▌  | 3/4 [00:00<00:00, 10.89it/s]\u001B[A\n",
      "Depth=1, working on node 3: 100%|██████████| 4/4 [00:00<00:00, 10.89it/s]\u001B[A\n",
      "Depth=1, working on node 3: 100%|██████████| 4/4 [00:00<00:00, 14.37it/s]\u001B[A\n"
     ]
    },
    {
     "name": "stdout",
     "output_type": "stream",
     "text": [
      "Processing keeper_action...\n",
      "\n"
     ]
    },
    {
     "name": "stderr",
     "output_type": "stream",
     "text": [
      "\n",
      "  0%|          | 0/4 [00:00<?, ?it/s]\u001B[A\n",
      "  0%|          | 0/4 [00:00<?, ?it/s]\u001B[A\n",
      "Depth=0, working on node 0:  25%|██▌       | 1/4 [00:00<00:00, 1276.03it/s]\u001B[A\n",
      "Depth=0, working on node 0:  50%|█████     | 2/4 [00:00<00:00, 12.27it/s]  \u001B[A\n",
      "Depth=0, working on node 1:  50%|█████     | 2/4 [00:00<00:00, 12.27it/s]\u001B[A\n",
      "Depth=0, working on node 2:  75%|███████▌  | 3/4 [00:00<00:00, 12.27it/s]\u001B[A\n",
      "Depth=0, working on node 2: 100%|██████████| 4/4 [00:00<00:00, 13.03it/s]\u001B[A\n",
      "Depth=0, working on node 3: 100%|██████████| 4/4 [00:00<00:00, 13.03it/s]\u001B[A\n",
      "Depth=0, working on node 3: 100%|██████████| 4/4 [00:00<00:00, 13.03it/s]\u001B[A\n",
      "Depth=0, working on node 3:   0%|          | 0/4 [00:00<?, ?it/s]        \u001B[A\n",
      "Depth=1, working on node 0:  25%|██▌       | 1/4 [00:00<00:00, 1385.17it/s]\u001B[A\n",
      "Depth=1, working on node 1:  50%|█████     | 2/4 [00:00<00:00, 1436.90it/s]\u001B[A\n",
      "Depth=1, working on node 2:  75%|███████▌  | 3/4 [00:00<00:00, 1512.19it/s]\u001B[A\n",
      "Depth=1, working on node 3: 100%|██████████| 4/4 [00:00<00:00, 1523.82it/s]\u001B[A\n",
      "Depth=1, working on node 3: 100%|██████████| 4/4 [00:00<00:00, 18.43it/s]  \u001B[A\n"
     ]
    },
    {
     "name": "stdout",
     "output_type": "stream",
     "text": [
      "Processing throw_in...\n",
      "\n"
     ]
    },
    {
     "name": "stderr",
     "output_type": "stream",
     "text": [
      "\n",
      "  0%|          | 0/4 [00:00<?, ?it/s]\u001B[A\n",
      "  0%|          | 0/4 [00:00<?, ?it/s]\u001B[A\n",
      "Depth=0, working on node 0:  25%|██▌       | 1/4 [00:00<00:00, 1239.45it/s]\u001B[A/Users/jgv/PycharmProjects/soccer-infogeo/.venv/lib/python3.11/site-packages/causallearn/utils/FastKCI/FastKCI.py:470: RuntimeWarning: Precision loss occurred in moment calculation due to catastrophic cancellation. This occurs when the data are nearly identical. Results may be unreliable.\n",
      "  data = stats.zscore(data, ddof=1, axis=0)\n",
      "\n",
      "Depth=0, working on node 0:  50%|█████     | 2/4 [00:00<00:00,  8.19it/s]  \u001B[A\n",
      "Depth=0, working on node 1:  50%|█████     | 2/4 [00:00<00:00,  8.19it/s]\u001B[A\n",
      "Depth=0, working on node 1:  75%|███████▌  | 3/4 [00:00<00:00,  7.81it/s]\u001B[A\n",
      "Depth=0, working on node 2:  75%|███████▌  | 3/4 [00:00<00:00,  7.81it/s]\u001B[A\n",
      "Depth=0, working on node 2: 100%|██████████| 4/4 [00:00<00:00,  8.32it/s]\u001B[A\n",
      "Depth=0, working on node 3: 100%|██████████| 4/4 [00:00<00:00,  8.32it/s]\u001B[A\n",
      "Depth=0, working on node 3: 100%|██████████| 4/4 [00:00<00:00,  8.32it/s]\u001B[A\n",
      "Depth=0, working on node 3:   0%|          | 0/4 [00:00<?, ?it/s]        \u001B[A\n",
      "Depth=1, working on node 0:  25%|██▌       | 1/4 [00:00<00:00, 1054.91it/s]\u001B[A\n",
      "Depth=1, working on node 1:  50%|█████     | 2/4 [00:00<00:00, 1208.56it/s]\u001B[A\n",
      "Depth=1, working on node 1:  75%|███████▌  | 3/4 [00:00<00:00, 22.48it/s]  \u001B[A\n",
      "Depth=1, working on node 2:  75%|███████▌  | 3/4 [00:00<00:00, 22.48it/s]\u001B[A\n",
      "Depth=1, working on node 3: 100%|██████████| 4/4 [00:00<00:00, 22.48it/s]\u001B[A\n",
      "Depth=1, working on node 3: 100%|██████████| 4/4 [00:00<00:00, 16.08it/s]\u001B[A\n"
     ]
    },
    {
     "name": "stdout",
     "output_type": "stream",
     "text": [
      "Processing shot...\n",
      "\n"
     ]
    },
    {
     "name": "stderr",
     "output_type": "stream",
     "text": [
      "\n",
      "  0%|          | 0/4 [00:00<?, ?it/s]\u001B[A\n",
      "  0%|          | 0/4 [00:00<?, ?it/s]\u001B[A\n",
      "Depth=0, working on node 0:  25%|██▌       | 1/4 [00:00<00:00, 1088.58it/s]\u001B[A\n",
      "Depth=0, working on node 0:  50%|█████     | 2/4 [00:00<00:00,  7.93it/s]  \u001B[A\n",
      "Depth=0, working on node 1:  50%|█████     | 2/4 [00:00<00:00,  7.93it/s]\u001B[A\n",
      "Depth=0, working on node 1:  75%|███████▌  | 3/4 [00:00<00:00,  6.94it/s]\u001B[A\n",
      "Depth=0, working on node 2:  75%|███████▌  | 3/4 [00:00<00:00,  6.94it/s]\u001B[A\n",
      "Depth=0, working on node 3: 100%|██████████| 4/4 [00:00<00:00,  6.94it/s]\u001B[A\n",
      "Depth=0, working on node 3: 100%|██████████| 4/4 [00:00<00:00,  6.94it/s]\u001B[A\n",
      "Depth=0, working on node 3:   0%|          | 0/4 [00:00<?, ?it/s]        \u001B[A\n",
      "Depth=1, working on node 0:  25%|██▌       | 1/4 [00:00<00:00, 1021.51it/s]\u001B[A\n",
      "Depth=1, working on node 0:  50%|█████     | 2/4 [00:00<00:00, 17.68it/s]  \u001B[A\n",
      "Depth=1, working on node 1:  50%|█████     | 2/4 [00:00<00:00, 17.68it/s]\u001B[A\n",
      "Depth=1, working on node 2:  75%|███████▌  | 3/4 [00:00<00:00, 17.68it/s]\u001B[A\n",
      "Depth=1, working on node 3: 100%|██████████| 4/4 [00:00<00:00, 17.68it/s]\u001B[A\n",
      "Depth=1, working on node 3: 100%|██████████| 4/4 [00:00<00:00, 17.68it/s]\u001B[A\n",
      "Depth=1, working on node 3:   0%|          | 0/4 [00:00<?, ?it/s]        \u001B[A\n",
      "Depth=2, working on node 0:  25%|██▌       | 1/4 [00:00<00:00, 1046.22it/s]\u001B[A\n",
      "Depth=2, working on node 1:  50%|█████     | 2/4 [00:00<00:00, 1128.87it/s]\u001B[A\n",
      "Depth=2, working on node 2:  75%|███████▌  | 3/4 [00:00<00:00, 1284.23it/s]\u001B[A\n",
      "Depth=2, working on node 3: 100%|██████████| 4/4 [00:00<00:00, 1271.87it/s]\u001B[A\n",
      "Depth=2, working on node 3: 100%|██████████| 4/4 [00:00<00:00, 21.18it/s]  \u001B[A\n"
     ]
    },
    {
     "name": "stdout",
     "output_type": "stream",
     "text": [
      "Processing dribble...\n",
      "\n"
     ]
    },
    {
     "name": "stderr",
     "output_type": "stream",
     "text": [
      "\n",
      "  0%|          | 0/4 [00:00<?, ?it/s]\u001B[A\n",
      "  0%|          | 0/4 [00:00<?, ?it/s]\u001B[A\n",
      "Depth=0, working on node 0:  25%|██▌       | 1/4 [00:00<00:00, 1153.55it/s]\u001B[A\n",
      "Depth=0, working on node 0:  50%|█████     | 2/4 [00:01<00:01,  1.10it/s]  \u001B[A\n",
      "Depth=0, working on node 1:  50%|█████     | 2/4 [00:01<00:01,  1.10it/s]\u001B[A\n",
      "Depth=0, working on node 1:  75%|███████▌  | 3/4 [00:03<00:01,  1.12s/it]\u001B[A\n",
      "Depth=0, working on node 2:  75%|███████▌  | 3/4 [00:03<00:01,  1.12s/it]\u001B[A\n",
      "Depth=0, working on node 2: 100%|██████████| 4/4 [00:03<00:00,  1.18it/s]\u001B[A\n",
      "Depth=0, working on node 3: 100%|██████████| 4/4 [00:03<00:00,  1.18it/s]\u001B[A\n",
      "Depth=0, working on node 3: 100%|██████████| 4/4 [00:03<00:00,  1.18it/s]\u001B[A\n",
      "Depth=0, working on node 3:   0%|          | 0/4 [00:00<?, ?it/s]        \u001B[A\n",
      "Depth=1, working on node 0:  25%|██▌       | 1/4 [00:00<00:00, 1236.16it/s]\u001B[A\n",
      "Depth=1, working on node 0:  50%|█████     | 2/4 [00:08<00:08,  4.17s/it]  \u001B[A\n",
      "Depth=1, working on node 1:  50%|█████     | 2/4 [00:08<00:08,  4.17s/it]\u001B[A\n",
      "Depth=1, working on node 1:  75%|███████▌  | 3/4 [00:14<00:04,  4.85s/it]\u001B[A\n",
      "Depth=1, working on node 2:  75%|███████▌  | 3/4 [00:14<00:04,  4.85s/it]\u001B[A\n",
      "Depth=1, working on node 2: 100%|██████████| 4/4 [00:18<00:00,  4.54s/it]\u001B[A\n",
      "Depth=1, working on node 3: 100%|██████████| 4/4 [00:18<00:00,  4.54s/it]\u001B[A\n",
      "Depth=1, working on node 3: 100%|██████████| 4/4 [00:18<00:00,  4.54s/it]\u001B[A\n",
      "Depth=1, working on node 3:   0%|          | 0/4 [00:00<?, ?it/s]        \u001B[A\n",
      "Depth=2, working on node 0:  25%|██▌       | 1/4 [00:00<00:00, 1194.28it/s]\u001B[A\n",
      "Depth=2, working on node 1:  50%|█████     | 2/4 [00:00<00:00, 1103.62it/s]\u001B[A\n",
      "Depth=2, working on node 1:  75%|███████▌  | 3/4 [00:09<00:03,  3.15s/it]  \u001B[A\n",
      "Depth=2, working on node 2:  75%|███████▌  | 3/4 [00:09<00:03,  3.15s/it]\u001B[A/Users/jgv/PycharmProjects/soccer-infogeo/.venv/lib/python3.11/site-packages/joblib/externals/loky/process_executor.py:782: UserWarning: A worker stopped while some jobs were given to the executor. This can be caused by a too short worker timeout or by a memory leak.\n",
      "  warnings.warn(\n",
      "\n",
      "Depth=2, working on node 2: 100%|██████████| 4/4 [00:15<00:00,  4.13s/it]\u001B[A\n",
      "Depth=2, working on node 3: 100%|██████████| 4/4 [00:15<00:00,  4.13s/it]\u001B[A\n",
      "Depth=2, working on node 3: 100%|██████████| 4/4 [00:15<00:00,  3.91s/it]\u001B[A\n"
     ]
    },
    {
     "name": "stdout",
     "output_type": "stream",
     "text": [
      "Processing clearance...\n",
      "\n"
     ]
    },
    {
     "name": "stderr",
     "output_type": "stream",
     "text": [
      "\n",
      "  0%|          | 0/4 [00:00<?, ?it/s]\u001B[A\n",
      "  0%|          | 0/4 [00:00<?, ?it/s]\u001B[A\n",
      "Depth=0, working on node 0:  25%|██▌       | 1/4 [00:00<00:00, 938.11it/s]\u001B[A\n",
      "Depth=0, working on node 0:  50%|█████     | 2/4 [00:00<00:00,  2.01it/s] \u001B[A\n",
      "Depth=0, working on node 1:  50%|█████     | 2/4 [00:00<00:00,  2.01it/s]\u001B[A\n",
      "Depth=0, working on node 1:  75%|███████▌  | 3/4 [00:01<00:00,  2.59it/s]\u001B[A\n",
      "Depth=0, working on node 2:  75%|███████▌  | 3/4 [00:01<00:00,  2.59it/s]\u001B[A\n",
      "Depth=0, working on node 3: 100%|██████████| 4/4 [00:01<00:00,  2.59it/s]\u001B[A\n",
      "Depth=0, working on node 3: 100%|██████████| 4/4 [00:01<00:00,  2.59it/s]\u001B[A\n",
      "Depth=0, working on node 3:   0%|          | 0/4 [00:00<?, ?it/s]        \u001B[A\n",
      "Depth=1, working on node 0:  25%|██▌       | 1/4 [00:00<00:00, 1093.98it/s]\u001B[A\n",
      "Depth=1, working on node 1:  50%|█████     | 2/4 [00:00<00:00, 1325.42it/s]\u001B[A\n",
      "Depth=1, working on node 1:  75%|███████▌  | 3/4 [00:00<00:00,  6.82it/s]  \u001B[A\n",
      "Depth=1, working on node 2:  75%|███████▌  | 3/4 [00:00<00:00,  6.82it/s]\u001B[A\n",
      "Depth=1, working on node 3: 100%|██████████| 4/4 [00:00<00:00,  6.82it/s]\u001B[A\n",
      "Depth=1, working on node 3: 100%|██████████| 4/4 [00:00<00:00,  7.75it/s]\u001B[A\n"
     ]
    }
   ],
   "execution_count": 21
  }
 ],
 "metadata": {
  "kernelspec": {
   "display_name": "Python 3",
   "language": "python",
   "name": "python3"
  },
  "language_info": {
   "codemirror_mode": {
    "name": "ipython",
    "version": 2
   },
   "file_extension": ".py",
   "mimetype": "text/x-python",
   "name": "python",
   "nbconvert_exporter": "python",
   "pygments_lexer": "ipython2",
   "version": "2.7.6"
  }
 },
 "nbformat": 4,
 "nbformat_minor": 5
}
