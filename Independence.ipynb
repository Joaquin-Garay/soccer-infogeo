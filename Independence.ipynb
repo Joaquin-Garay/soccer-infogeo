{
 "cells": [
  {
   "cell_type": "code",
   "id": "initial_id",
   "metadata": {
    "collapsed": true,
    "ExecuteTime": {
     "end_time": "2025-10-24T16:55:05.481647Z",
     "start_time": "2025-10-24T16:55:04.017767Z"
    }
   },
   "source": [
    "%load_ext autoreload\n",
    "%autoreload 2\n",
    "\n",
    "import os\n",
    "from time import time\n",
    "from tqdm import tqdm\n",
    "import numpy as np\n",
    "import pandas as pd\n",
    "import matplotlib.pyplot as plt\n",
    "\n",
    "from causallearn.search.ConstraintBased.PC import pc\n",
    "from causallearn.utils.GraphUtils import GraphUtils\n",
    "from causallearn.utils.cit import CIT\n",
    "\n",
    "import vis\n",
    "import softclustering as sc\n",
    "import socceraction.spadl as spadl"
   ],
   "outputs": [
    {
     "name": "stderr",
     "output_type": "stream",
     "text": [
      "/Users/jgv/PycharmProjects/soccer-infogeo/.venv/lib/python3.11/site-packages/tqdm/auto.py:21: TqdmWarning: IProgress not found. Please update jupyter and ipywidgets. See https://ipywidgets.readthedocs.io/en/stable/user_install.html\n",
      "  from .autonotebook import tqdm as notebook_tqdm\n"
     ]
    }
   ],
   "execution_count": 1
  },
  {
   "metadata": {
    "ExecuteTime": {
     "end_time": "2025-10-24T16:55:07.164310Z",
     "start_time": "2025-10-24T16:55:05.487078Z"
    }
   },
   "cell_type": "code",
   "source": [
    "datafolder = \"data\"\n",
    "fifa2018h5 = os.path.join(datafolder, \"spadl-fifa2018.h5\")\n",
    "games = pd.read_hdf(fifa2018h5, key=\"games\")\n",
    "with pd.HDFStore(fifa2018h5) as store:\n",
    "    actions = []  #list of DataFrames\n",
    "    for game in tqdm(games.itertuples()):\n",
    "        game_action = store[f\"actions/game_{game.game_id}\"]\n",
    "        game_action = spadl.play_left_to_right(game_action, game.home_team_id)\n",
    "        game_action[\"is_home\"] = game_action[\"team_id\"] == game.home_team_id\n",
    "        actions.append(game_action)\n",
    "    actions = pd.concat(actions)\n",
    "    actions.drop(\"original_event_id\", axis=1, inplace=True)\n",
    "    actions = pd.merge(actions, spadl.config.actiontypes_df(), how=\"left\")\n",
    "    actions = sc.consolidate(actions)\n",
    "    actions = sc.add_noise(actions)\n",
    "    actions = sc.remove_outliers(actions, True)\n",
    "    actions[\"angle\"] = np.arctan2(actions.end_y - actions.start_y, actions.end_x - actions.start_x)\n",
    "    actions[\"cos_angle\"] = np.cos(actions[\"angle\"])\n",
    "    actions[\"sin_angle\"] = np.sin(actions[\"angle\"])"
   ],
   "id": "6af1b4aae97d131e",
   "outputs": [
    {
     "name": "stderr",
     "output_type": "stream",
     "text": [
      "64it [00:00, 185.40it/s]\n"
     ]
    },
    {
     "name": "stdout",
     "output_type": "stream",
     "text": [
      "Remove 522 out of 128484 datapoints.\n"
     ]
    }
   ],
   "execution_count": 2
  },
  {
   "metadata": {
    "ExecuteTime": {
     "end_time": "2025-10-24T16:59:48.994450Z",
     "start_time": "2025-10-24T16:55:07.292813Z"
    }
   },
   "cell_type": "code",
   "source": [
    "no_dir_action_types = set(actions[actions[\"angle\"] == 0.0][\"type_name\"])\n",
    "action_types = set(actions[\"type_name\"]) - no_dir_action_types - {\"shot_penalty\"}\n",
    "\n",
    "for alpha in [0.01, 0.05, 0.10, 0.15]:\n",
    "    for action in action_types:\n",
    "        print(f\"Processing {action} with alpha={alpha}\")\n",
    "        mask = (actions[\"type_name\"]==action) & (actions[\"team_id\"]==771)\n",
    "        columns = [\"start_x\", \"start_y\",\"cos_angle\", \"sin_angle\"]\n",
    "        #columns = [\"start_x\", \"start_y\",\"angle\"]\n",
    "        data = actions[mask][columns]\n",
    "        cg = pc(data.to_numpy(),\n",
    "                    alpha=alpha,\n",
    "                    indep_test=\"fastkci\",\n",
    "                    kernelX='Gaussian',\n",
    "                    kernelY='Gaussian',\n",
    "                    est_width='empirical',\n",
    "                    show_progress=False,\n",
    "                )\n",
    "        pyd = GraphUtils.to_pydot(cg.G, labels=columns)\n",
    "        pyd.write_pdf(f'plots/DAG_{action}_{str(alpha)}.pdf')"
   ],
   "id": "621bdc677ed02bbd",
   "outputs": [
    {
     "name": "stdout",
     "output_type": "stream",
     "text": [
      "Processing clearance with alpha=0.01\n",
      "\n",
      "Processing shot with alpha=0.01\n",
      "\n",
      "Processing dribble with alpha=0.01\n",
      "\n"
     ]
    },
    {
     "name": "stderr",
     "output_type": "stream",
     "text": [
      "/Users/jgv/PycharmProjects/soccer-infogeo/.venv/lib/python3.11/site-packages/joblib/externals/loky/process_executor.py:782: UserWarning: A worker stopped while some jobs were given to the executor. This can be caused by a too short worker timeout or by a memory leak.\n",
      "  warnings.warn(\n"
     ]
    },
    {
     "name": "stdout",
     "output_type": "stream",
     "text": [
      "Processing throw_in with alpha=0.01\n",
      "\n"
     ]
    },
    {
     "name": "stderr",
     "output_type": "stream",
     "text": [
      "/Users/jgv/PycharmProjects/soccer-infogeo/.venv/lib/python3.11/site-packages/causallearn/utils/FastKCI/FastKCI.py:164: RuntimeWarning: Precision loss occurred in moment calculation due to catastrophic cancellation. This occurs when the data are nearly identical. Results may be unreliable.\n",
      "  data_z = stats.zscore(data_z, ddof=1, axis=0)\n",
      "/Users/jgv/PycharmProjects/soccer-infogeo/.venv/lib/python3.11/site-packages/causallearn/utils/FastKCI/FastKCI.py:164: RuntimeWarning: Precision loss occurred in moment calculation due to catastrophic cancellation. This occurs when the data are nearly identical. Results may be unreliable.\n",
      "  data_z = stats.zscore(data_z, ddof=1, axis=0)\n",
      "/Users/jgv/PycharmProjects/soccer-infogeo/.venv/lib/python3.11/site-packages/causallearn/utils/FastKCI/FastKCI.py:164: RuntimeWarning: Precision loss occurred in moment calculation due to catastrophic cancellation. This occurs when the data are nearly identical. Results may be unreliable.\n",
      "  data_z = stats.zscore(data_z, ddof=1, axis=0)\n",
      "/Users/jgv/PycharmProjects/soccer-infogeo/.venv/lib/python3.11/site-packages/causallearn/utils/FastKCI/FastKCI.py:470: RuntimeWarning: Precision loss occurred in moment calculation due to catastrophic cancellation. This occurs when the data are nearly identical. Results may be unreliable.\n",
      "  data = stats.zscore(data, ddof=1, axis=0)\n",
      "/Users/jgv/PycharmProjects/soccer-infogeo/.venv/lib/python3.11/site-packages/causallearn/utils/FastKCI/FastKCI.py:470: RuntimeWarning: Precision loss occurred in moment calculation due to catastrophic cancellation. This occurs when the data are nearly identical. Results may be unreliable.\n",
      "  data = stats.zscore(data, ddof=1, axis=0)\n",
      "/Users/jgv/PycharmProjects/soccer-infogeo/.venv/lib/python3.11/site-packages/causallearn/utils/FastKCI/FastKCI.py:470: RuntimeWarning: Precision loss occurred in moment calculation due to catastrophic cancellation. This occurs when the data are nearly identical. Results may be unreliable.\n",
      "  data = stats.zscore(data, ddof=1, axis=0)\n",
      "/Users/jgv/PycharmProjects/soccer-infogeo/.venv/lib/python3.11/site-packages/causallearn/utils/FastKCI/FastKCI.py:470: RuntimeWarning: Precision loss occurred in moment calculation due to catastrophic cancellation. This occurs when the data are nearly identical. Results may be unreliable.\n",
      "  data = stats.zscore(data, ddof=1, axis=0)\n",
      "/Users/jgv/PycharmProjects/soccer-infogeo/.venv/lib/python3.11/site-packages/causallearn/utils/FastKCI/FastKCI.py:470: RuntimeWarning: Precision loss occurred in moment calculation due to catastrophic cancellation. This occurs when the data are nearly identical. Results may be unreliable.\n",
      "  data = stats.zscore(data, ddof=1, axis=0)\n"
     ]
    },
    {
     "name": "stdout",
     "output_type": "stream",
     "text": [
      "Processing freekick with alpha=0.01\n",
      "\n",
      "Processing cross with alpha=0.01\n",
      "\n",
      "Processing corner with alpha=0.01\n",
      "\n"
     ]
    },
    {
     "name": "stderr",
     "output_type": "stream",
     "text": [
      "/Users/jgv/PycharmProjects/soccer-infogeo/.venv/lib/python3.11/site-packages/causallearn/utils/FastKCI/FastKCI.py:470: RuntimeWarning: Precision loss occurred in moment calculation due to catastrophic cancellation. This occurs when the data are nearly identical. Results may be unreliable.\n",
      "  data = stats.zscore(data, ddof=1, axis=0)\n",
      "/Users/jgv/PycharmProjects/soccer-infogeo/.venv/lib/python3.11/site-packages/causallearn/utils/FastKCI/FastKCI.py:470: RuntimeWarning: Precision loss occurred in moment calculation due to catastrophic cancellation. This occurs when the data are nearly identical. Results may be unreliable.\n",
      "  data = stats.zscore(data, ddof=1, axis=0)\n",
      "/Users/jgv/PycharmProjects/soccer-infogeo/.venv/lib/python3.11/site-packages/causallearn/utils/FastKCI/FastKCI.py:470: RuntimeWarning: Precision loss occurred in moment calculation due to catastrophic cancellation. This occurs when the data are nearly identical. Results may be unreliable.\n",
      "  data = stats.zscore(data, ddof=1, axis=0)\n",
      "/Users/jgv/PycharmProjects/soccer-infogeo/.venv/lib/python3.11/site-packages/causallearn/utils/FastKCI/FastKCI.py:470: RuntimeWarning: Precision loss occurred in moment calculation due to catastrophic cancellation. This occurs when the data are nearly identical. Results may be unreliable.\n",
      "  data = stats.zscore(data, ddof=1, axis=0)\n",
      "/Users/jgv/PycharmProjects/soccer-infogeo/.venv/lib/python3.11/site-packages/causallearn/utils/FastKCI/FastKCI.py:470: RuntimeWarning: Precision loss occurred in moment calculation due to catastrophic cancellation. This occurs when the data are nearly identical. Results may be unreliable.\n",
      "  data = stats.zscore(data, ddof=1, axis=0)\n",
      "/Users/jgv/PycharmProjects/soccer-infogeo/.venv/lib/python3.11/site-packages/causallearn/utils/FastKCI/FastKCI.py:470: RuntimeWarning: Precision loss occurred in moment calculation due to catastrophic cancellation. This occurs when the data are nearly identical. Results may be unreliable.\n",
      "  data = stats.zscore(data, ddof=1, axis=0)\n",
      "/Users/jgv/PycharmProjects/soccer-infogeo/.venv/lib/python3.11/site-packages/causallearn/utils/FastKCI/FastKCI.py:470: RuntimeWarning: Precision loss occurred in moment calculation due to catastrophic cancellation. This occurs when the data are nearly identical. Results may be unreliable.\n",
      "  data = stats.zscore(data, ddof=1, axis=0)\n",
      "/Users/jgv/PycharmProjects/soccer-infogeo/.venv/lib/python3.11/site-packages/causallearn/utils/FastKCI/FastKCI.py:470: RuntimeWarning: Precision loss occurred in moment calculation due to catastrophic cancellation. This occurs when the data are nearly identical. Results may be unreliable.\n",
      "  data = stats.zscore(data, ddof=1, axis=0)\n",
      "/Users/jgv/PycharmProjects/soccer-infogeo/.venv/lib/python3.11/site-packages/causallearn/utils/FastKCI/FastKCI.py:470: RuntimeWarning: Precision loss occurred in moment calculation due to catastrophic cancellation. This occurs when the data are nearly identical. Results may be unreliable.\n",
      "  data = stats.zscore(data, ddof=1, axis=0)\n",
      "/Users/jgv/PycharmProjects/soccer-infogeo/.venv/lib/python3.11/site-packages/causallearn/utils/FastKCI/FastKCI.py:470: RuntimeWarning: Precision loss occurred in moment calculation due to catastrophic cancellation. This occurs when the data are nearly identical. Results may be unreliable.\n",
      "  data = stats.zscore(data, ddof=1, axis=0)\n",
      "/Users/jgv/PycharmProjects/soccer-infogeo/.venv/lib/python3.11/site-packages/causallearn/utils/FastKCI/FastKCI.py:470: RuntimeWarning: Precision loss occurred in moment calculation due to catastrophic cancellation. This occurs when the data are nearly identical. Results may be unreliable.\n",
      "  data = stats.zscore(data, ddof=1, axis=0)\n",
      "/Users/jgv/PycharmProjects/soccer-infogeo/.venv/lib/python3.11/site-packages/causallearn/utils/FastKCI/FastKCI.py:470: RuntimeWarning: Precision loss occurred in moment calculation due to catastrophic cancellation. This occurs when the data are nearly identical. Results may be unreliable.\n",
      "  data = stats.zscore(data, ddof=1, axis=0)\n",
      "/Users/jgv/PycharmProjects/soccer-infogeo/.venv/lib/python3.11/site-packages/causallearn/utils/FastKCI/FastKCI.py:470: RuntimeWarning: Precision loss occurred in moment calculation due to catastrophic cancellation. This occurs when the data are nearly identical. Results may be unreliable.\n",
      "  data = stats.zscore(data, ddof=1, axis=0)\n",
      "/Users/jgv/PycharmProjects/soccer-infogeo/.venv/lib/python3.11/site-packages/causallearn/utils/FastKCI/FastKCI.py:470: RuntimeWarning: Precision loss occurred in moment calculation due to catastrophic cancellation. This occurs when the data are nearly identical. Results may be unreliable.\n",
      "  data = stats.zscore(data, ddof=1, axis=0)\n",
      "/Users/jgv/PycharmProjects/soccer-infogeo/.venv/lib/python3.11/site-packages/causallearn/utils/FastKCI/FastKCI.py:470: RuntimeWarning: Precision loss occurred in moment calculation due to catastrophic cancellation. This occurs when the data are nearly identical. Results may be unreliable.\n",
      "  data = stats.zscore(data, ddof=1, axis=0)\n",
      "/Users/jgv/PycharmProjects/soccer-infogeo/.venv/lib/python3.11/site-packages/causallearn/utils/FastKCI/FastKCI.py:470: RuntimeWarning: Precision loss occurred in moment calculation due to catastrophic cancellation. This occurs when the data are nearly identical. Results may be unreliable.\n",
      "  data = stats.zscore(data, ddof=1, axis=0)\n",
      "/Users/jgv/PycharmProjects/soccer-infogeo/.venv/lib/python3.11/site-packages/causallearn/utils/FastKCI/FastKCI.py:470: RuntimeWarning: Precision loss occurred in moment calculation due to catastrophic cancellation. This occurs when the data are nearly identical. Results may be unreliable.\n",
      "  data = stats.zscore(data, ddof=1, axis=0)\n",
      "/Users/jgv/PycharmProjects/soccer-infogeo/.venv/lib/python3.11/site-packages/causallearn/utils/FastKCI/FastKCI.py:470: RuntimeWarning: Precision loss occurred in moment calculation due to catastrophic cancellation. This occurs when the data are nearly identical. Results may be unreliable.\n",
      "  data = stats.zscore(data, ddof=1, axis=0)\n",
      "/Users/jgv/PycharmProjects/soccer-infogeo/.venv/lib/python3.11/site-packages/causallearn/utils/FastKCI/FastKCI.py:470: RuntimeWarning: Precision loss occurred in moment calculation due to catastrophic cancellation. This occurs when the data are nearly identical. Results may be unreliable.\n",
      "  data = stats.zscore(data, ddof=1, axis=0)\n",
      "/Users/jgv/PycharmProjects/soccer-infogeo/.venv/lib/python3.11/site-packages/causallearn/utils/FastKCI/FastKCI.py:470: RuntimeWarning: Precision loss occurred in moment calculation due to catastrophic cancellation. This occurs when the data are nearly identical. Results may be unreliable.\n",
      "  data = stats.zscore(data, ddof=1, axis=0)\n",
      "/Users/jgv/PycharmProjects/soccer-infogeo/.venv/lib/python3.11/site-packages/causallearn/utils/FastKCI/FastKCI.py:470: RuntimeWarning: Precision loss occurred in moment calculation due to catastrophic cancellation. This occurs when the data are nearly identical. Results may be unreliable.\n",
      "  data = stats.zscore(data, ddof=1, axis=0)\n",
      "/Users/jgv/PycharmProjects/soccer-infogeo/.venv/lib/python3.11/site-packages/causallearn/utils/FastKCI/FastKCI.py:470: RuntimeWarning: Precision loss occurred in moment calculation due to catastrophic cancellation. This occurs when the data are nearly identical. Results may be unreliable.\n",
      "  data = stats.zscore(data, ddof=1, axis=0)\n",
      "/Users/jgv/PycharmProjects/soccer-infogeo/.venv/lib/python3.11/site-packages/causallearn/utils/FastKCI/FastKCI.py:470: RuntimeWarning: Precision loss occurred in moment calculation due to catastrophic cancellation. This occurs when the data are nearly identical. Results may be unreliable.\n",
      "  data = stats.zscore(data, ddof=1, axis=0)\n",
      "/Users/jgv/PycharmProjects/soccer-infogeo/.venv/lib/python3.11/site-packages/causallearn/utils/FastKCI/FastKCI.py:470: RuntimeWarning: Precision loss occurred in moment calculation due to catastrophic cancellation. This occurs when the data are nearly identical. Results may be unreliable.\n",
      "  data = stats.zscore(data, ddof=1, axis=0)\n",
      "/Users/jgv/PycharmProjects/soccer-infogeo/.venv/lib/python3.11/site-packages/causallearn/utils/FastKCI/FastKCI.py:470: RuntimeWarning: Precision loss occurred in moment calculation due to catastrophic cancellation. This occurs when the data are nearly identical. Results may be unreliable.\n",
      "  data = stats.zscore(data, ddof=1, axis=0)\n",
      "/Users/jgv/PycharmProjects/soccer-infogeo/.venv/lib/python3.11/site-packages/causallearn/utils/FastKCI/FastKCI.py:470: RuntimeWarning: Precision loss occurred in moment calculation due to catastrophic cancellation. This occurs when the data are nearly identical. Results may be unreliable.\n",
      "  data = stats.zscore(data, ddof=1, axis=0)\n",
      "/Users/jgv/PycharmProjects/soccer-infogeo/.venv/lib/python3.11/site-packages/causallearn/utils/FastKCI/FastKCI.py:470: RuntimeWarning: Precision loss occurred in moment calculation due to catastrophic cancellation. This occurs when the data are nearly identical. Results may be unreliable.\n",
      "  data = stats.zscore(data, ddof=1, axis=0)\n",
      "/Users/jgv/PycharmProjects/soccer-infogeo/.venv/lib/python3.11/site-packages/causallearn/utils/FastKCI/FastKCI.py:470: RuntimeWarning: Precision loss occurred in moment calculation due to catastrophic cancellation. This occurs when the data are nearly identical. Results may be unreliable.\n",
      "  data = stats.zscore(data, ddof=1, axis=0)\n",
      "/Users/jgv/PycharmProjects/soccer-infogeo/.venv/lib/python3.11/site-packages/causallearn/utils/FastKCI/FastKCI.py:470: RuntimeWarning: Precision loss occurred in moment calculation due to catastrophic cancellation. This occurs when the data are nearly identical. Results may be unreliable.\n",
      "  data = stats.zscore(data, ddof=1, axis=0)\n",
      "/Users/jgv/PycharmProjects/soccer-infogeo/.venv/lib/python3.11/site-packages/causallearn/utils/FastKCI/FastKCI.py:470: RuntimeWarning: Precision loss occurred in moment calculation due to catastrophic cancellation. This occurs when the data are nearly identical. Results may be unreliable.\n",
      "  data = stats.zscore(data, ddof=1, axis=0)\n",
      "/Users/jgv/PycharmProjects/soccer-infogeo/.venv/lib/python3.11/site-packages/causallearn/utils/FastKCI/FastKCI.py:470: RuntimeWarning: Precision loss occurred in moment calculation due to catastrophic cancellation. This occurs when the data are nearly identical. Results may be unreliable.\n",
      "  data = stats.zscore(data, ddof=1, axis=0)\n",
      "/Users/jgv/PycharmProjects/soccer-infogeo/.venv/lib/python3.11/site-packages/causallearn/utils/FastKCI/FastKCI.py:470: RuntimeWarning: Precision loss occurred in moment calculation due to catastrophic cancellation. This occurs when the data are nearly identical. Results may be unreliable.\n",
      "  data = stats.zscore(data, ddof=1, axis=0)\n",
      "/Users/jgv/PycharmProjects/soccer-infogeo/.venv/lib/python3.11/site-packages/causallearn/utils/FastKCI/FastKCI.py:470: RuntimeWarning: Precision loss occurred in moment calculation due to catastrophic cancellation. This occurs when the data are nearly identical. Results may be unreliable.\n",
      "  data = stats.zscore(data, ddof=1, axis=0)\n",
      "/Users/jgv/PycharmProjects/soccer-infogeo/.venv/lib/python3.11/site-packages/causallearn/utils/FastKCI/FastKCI.py:470: RuntimeWarning: Precision loss occurred in moment calculation due to catastrophic cancellation. This occurs when the data are nearly identical. Results may be unreliable.\n",
      "  data = stats.zscore(data, ddof=1, axis=0)\n",
      "/Users/jgv/PycharmProjects/soccer-infogeo/.venv/lib/python3.11/site-packages/causallearn/utils/FastKCI/FastKCI.py:470: RuntimeWarning: Precision loss occurred in moment calculation due to catastrophic cancellation. This occurs when the data are nearly identical. Results may be unreliable.\n",
      "  data = stats.zscore(data, ddof=1, axis=0)\n",
      "/Users/jgv/PycharmProjects/soccer-infogeo/.venv/lib/python3.11/site-packages/causallearn/utils/FastKCI/FastKCI.py:470: RuntimeWarning: Precision loss occurred in moment calculation due to catastrophic cancellation. This occurs when the data are nearly identical. Results may be unreliable.\n",
      "  data = stats.zscore(data, ddof=1, axis=0)\n",
      "/Users/jgv/PycharmProjects/soccer-infogeo/.venv/lib/python3.11/site-packages/causallearn/utils/FastKCI/FastKCI.py:470: RuntimeWarning: Precision loss occurred in moment calculation due to catastrophic cancellation. This occurs when the data are nearly identical. Results may be unreliable.\n",
      "  data = stats.zscore(data, ddof=1, axis=0)\n",
      "/Users/jgv/PycharmProjects/soccer-infogeo/.venv/lib/python3.11/site-packages/causallearn/utils/FastKCI/FastKCI.py:470: RuntimeWarning: Precision loss occurred in moment calculation due to catastrophic cancellation. This occurs when the data are nearly identical. Results may be unreliable.\n",
      "  data = stats.zscore(data, ddof=1, axis=0)\n",
      "/Users/jgv/PycharmProjects/soccer-infogeo/.venv/lib/python3.11/site-packages/causallearn/utils/FastKCI/FastKCI.py:470: RuntimeWarning: Precision loss occurred in moment calculation due to catastrophic cancellation. This occurs when the data are nearly identical. Results may be unreliable.\n",
      "  data = stats.zscore(data, ddof=1, axis=0)\n",
      "/Users/jgv/PycharmProjects/soccer-infogeo/.venv/lib/python3.11/site-packages/causallearn/utils/FastKCI/FastKCI.py:470: RuntimeWarning: Precision loss occurred in moment calculation due to catastrophic cancellation. This occurs when the data are nearly identical. Results may be unreliable.\n",
      "  data = stats.zscore(data, ddof=1, axis=0)\n",
      "/Users/jgv/PycharmProjects/soccer-infogeo/.venv/lib/python3.11/site-packages/causallearn/utils/FastKCI/FastKCI.py:470: RuntimeWarning: Precision loss occurred in moment calculation due to catastrophic cancellation. This occurs when the data are nearly identical. Results may be unreliable.\n",
      "  data = stats.zscore(data, ddof=1, axis=0)\n",
      "/Users/jgv/PycharmProjects/soccer-infogeo/.venv/lib/python3.11/site-packages/causallearn/utils/FastKCI/FastKCI.py:470: RuntimeWarning: Precision loss occurred in moment calculation due to catastrophic cancellation. This occurs when the data are nearly identical. Results may be unreliable.\n",
      "  data = stats.zscore(data, ddof=1, axis=0)\n",
      "/Users/jgv/PycharmProjects/soccer-infogeo/.venv/lib/python3.11/site-packages/causallearn/utils/FastKCI/FastKCI.py:470: RuntimeWarning: Precision loss occurred in moment calculation due to catastrophic cancellation. This occurs when the data are nearly identical. Results may be unreliable.\n",
      "  data = stats.zscore(data, ddof=1, axis=0)\n"
     ]
    },
    {
     "name": "stdout",
     "output_type": "stream",
     "text": [
      "Processing goalkick with alpha=0.01\n",
      "\n",
      "Processing keeper_action with alpha=0.01\n",
      "\n",
      "Processing pass with alpha=0.01\n",
      "\n"
     ]
    },
    {
     "name": "stderr",
     "output_type": "stream",
     "text": [
      "/Users/jgv/PycharmProjects/soccer-infogeo/.venv/lib/python3.11/site-packages/joblib/externals/loky/process_executor.py:782: UserWarning: A worker stopped while some jobs were given to the executor. This can be caused by a too short worker timeout or by a memory leak.\n",
      "  warnings.warn(\n"
     ]
    },
    {
     "name": "stdout",
     "output_type": "stream",
     "text": [
      "Processing clearance with alpha=0.05\n",
      "\n",
      "Processing shot with alpha=0.05\n",
      "\n",
      "Processing dribble with alpha=0.05\n",
      "\n",
      "Processing throw_in with alpha=0.05\n",
      "\n"
     ]
    },
    {
     "name": "stderr",
     "output_type": "stream",
     "text": [
      "/Users/jgv/PycharmProjects/soccer-infogeo/.venv/lib/python3.11/site-packages/causallearn/utils/FastKCI/FastKCI.py:470: RuntimeWarning: Precision loss occurred in moment calculation due to catastrophic cancellation. This occurs when the data are nearly identical. Results may be unreliable.\n",
      "  data = stats.zscore(data, ddof=1, axis=0)\n"
     ]
    },
    {
     "name": "stdout",
     "output_type": "stream",
     "text": [
      "Processing freekick with alpha=0.05\n",
      "\n"
     ]
    },
    {
     "name": "stderr",
     "output_type": "stream",
     "text": [
      "/Users/jgv/PycharmProjects/soccer-infogeo/.venv/lib/python3.11/site-packages/causallearn/utils/FastKCI/FastKCI.py:470: RuntimeWarning: Precision loss occurred in moment calculation due to catastrophic cancellation. This occurs when the data are nearly identical. Results may be unreliable.\n",
      "  data = stats.zscore(data, ddof=1, axis=0)\n",
      "/Users/jgv/PycharmProjects/soccer-infogeo/.venv/lib/python3.11/site-packages/causallearn/utils/FastKCI/FastKCI.py:470: RuntimeWarning: Precision loss occurred in moment calculation due to catastrophic cancellation. This occurs when the data are nearly identical. Results may be unreliable.\n",
      "  data = stats.zscore(data, ddof=1, axis=0)\n",
      "/Users/jgv/PycharmProjects/soccer-infogeo/.venv/lib/python3.11/site-packages/causallearn/utils/FastKCI/FastKCI.py:470: RuntimeWarning: Precision loss occurred in moment calculation due to catastrophic cancellation. This occurs when the data are nearly identical. Results may be unreliable.\n",
      "  data = stats.zscore(data, ddof=1, axis=0)\n",
      "/Users/jgv/PycharmProjects/soccer-infogeo/.venv/lib/python3.11/site-packages/causallearn/utils/FastKCI/FastKCI.py:470: RuntimeWarning: Precision loss occurred in moment calculation due to catastrophic cancellation. This occurs when the data are nearly identical. Results may be unreliable.\n",
      "  data = stats.zscore(data, ddof=1, axis=0)\n"
     ]
    },
    {
     "name": "stdout",
     "output_type": "stream",
     "text": [
      "Processing cross with alpha=0.05\n",
      "\n",
      "Processing corner with alpha=0.05\n",
      "\n"
     ]
    },
    {
     "name": "stderr",
     "output_type": "stream",
     "text": [
      "/Users/jgv/PycharmProjects/soccer-infogeo/.venv/lib/python3.11/site-packages/causallearn/utils/FastKCI/FastKCI.py:470: RuntimeWarning: Precision loss occurred in moment calculation due to catastrophic cancellation. This occurs when the data are nearly identical. Results may be unreliable.\n",
      "  data = stats.zscore(data, ddof=1, axis=0)\n",
      "/Users/jgv/PycharmProjects/soccer-infogeo/.venv/lib/python3.11/site-packages/causallearn/utils/FastKCI/FastKCI.py:470: RuntimeWarning: Precision loss occurred in moment calculation due to catastrophic cancellation. This occurs when the data are nearly identical. Results may be unreliable.\n",
      "  data = stats.zscore(data, ddof=1, axis=0)\n",
      "/Users/jgv/PycharmProjects/soccer-infogeo/.venv/lib/python3.11/site-packages/causallearn/utils/FastKCI/FastKCI.py:470: RuntimeWarning: Precision loss occurred in moment calculation due to catastrophic cancellation. This occurs when the data are nearly identical. Results may be unreliable.\n",
      "  data = stats.zscore(data, ddof=1, axis=0)\n",
      "/Users/jgv/PycharmProjects/soccer-infogeo/.venv/lib/python3.11/site-packages/causallearn/utils/FastKCI/FastKCI.py:470: RuntimeWarning: Precision loss occurred in moment calculation due to catastrophic cancellation. This occurs when the data are nearly identical. Results may be unreliable.\n",
      "  data = stats.zscore(data, ddof=1, axis=0)\n",
      "/Users/jgv/PycharmProjects/soccer-infogeo/.venv/lib/python3.11/site-packages/causallearn/utils/FastKCI/FastKCI.py:470: RuntimeWarning: Precision loss occurred in moment calculation due to catastrophic cancellation. This occurs when the data are nearly identical. Results may be unreliable.\n",
      "  data = stats.zscore(data, ddof=1, axis=0)\n",
      "/Users/jgv/PycharmProjects/soccer-infogeo/.venv/lib/python3.11/site-packages/causallearn/utils/FastKCI/FastKCI.py:470: RuntimeWarning: Precision loss occurred in moment calculation due to catastrophic cancellation. This occurs when the data are nearly identical. Results may be unreliable.\n",
      "  data = stats.zscore(data, ddof=1, axis=0)\n",
      "/Users/jgv/PycharmProjects/soccer-infogeo/.venv/lib/python3.11/site-packages/causallearn/utils/FastKCI/FastKCI.py:470: RuntimeWarning: Precision loss occurred in moment calculation due to catastrophic cancellation. This occurs when the data are nearly identical. Results may be unreliable.\n",
      "  data = stats.zscore(data, ddof=1, axis=0)\n",
      "/Users/jgv/PycharmProjects/soccer-infogeo/.venv/lib/python3.11/site-packages/causallearn/utils/FastKCI/FastKCI.py:470: RuntimeWarning: Precision loss occurred in moment calculation due to catastrophic cancellation. This occurs when the data are nearly identical. Results may be unreliable.\n",
      "  data = stats.zscore(data, ddof=1, axis=0)\n",
      "/Users/jgv/PycharmProjects/soccer-infogeo/.venv/lib/python3.11/site-packages/causallearn/utils/FastKCI/FastKCI.py:470: RuntimeWarning: Precision loss occurred in moment calculation due to catastrophic cancellation. This occurs when the data are nearly identical. Results may be unreliable.\n",
      "  data = stats.zscore(data, ddof=1, axis=0)\n",
      "/Users/jgv/PycharmProjects/soccer-infogeo/.venv/lib/python3.11/site-packages/causallearn/utils/FastKCI/FastKCI.py:470: RuntimeWarning: Precision loss occurred in moment calculation due to catastrophic cancellation. This occurs when the data are nearly identical. Results may be unreliable.\n",
      "  data = stats.zscore(data, ddof=1, axis=0)\n",
      "/Users/jgv/PycharmProjects/soccer-infogeo/.venv/lib/python3.11/site-packages/causallearn/utils/FastKCI/FastKCI.py:470: RuntimeWarning: Precision loss occurred in moment calculation due to catastrophic cancellation. This occurs when the data are nearly identical. Results may be unreliable.\n",
      "  data = stats.zscore(data, ddof=1, axis=0)\n",
      "/Users/jgv/PycharmProjects/soccer-infogeo/.venv/lib/python3.11/site-packages/causallearn/utils/FastKCI/FastKCI.py:470: RuntimeWarning: Precision loss occurred in moment calculation due to catastrophic cancellation. This occurs when the data are nearly identical. Results may be unreliable.\n",
      "  data = stats.zscore(data, ddof=1, axis=0)\n",
      "/Users/jgv/PycharmProjects/soccer-infogeo/.venv/lib/python3.11/site-packages/causallearn/utils/FastKCI/FastKCI.py:470: RuntimeWarning: Precision loss occurred in moment calculation due to catastrophic cancellation. This occurs when the data are nearly identical. Results may be unreliable.\n",
      "  data = stats.zscore(data, ddof=1, axis=0)\n",
      "/Users/jgv/PycharmProjects/soccer-infogeo/.venv/lib/python3.11/site-packages/causallearn/utils/FastKCI/FastKCI.py:470: RuntimeWarning: Precision loss occurred in moment calculation due to catastrophic cancellation. This occurs when the data are nearly identical. Results may be unreliable.\n",
      "  data = stats.zscore(data, ddof=1, axis=0)\n",
      "/Users/jgv/PycharmProjects/soccer-infogeo/.venv/lib/python3.11/site-packages/causallearn/utils/FastKCI/FastKCI.py:470: RuntimeWarning: Precision loss occurred in moment calculation due to catastrophic cancellation. This occurs when the data are nearly identical. Results may be unreliable.\n",
      "  data = stats.zscore(data, ddof=1, axis=0)\n",
      "/Users/jgv/PycharmProjects/soccer-infogeo/.venv/lib/python3.11/site-packages/causallearn/utils/FastKCI/FastKCI.py:470: RuntimeWarning: Precision loss occurred in moment calculation due to catastrophic cancellation. This occurs when the data are nearly identical. Results may be unreliable.\n",
      "  data = stats.zscore(data, ddof=1, axis=0)\n",
      "/Users/jgv/PycharmProjects/soccer-infogeo/.venv/lib/python3.11/site-packages/causallearn/utils/FastKCI/FastKCI.py:470: RuntimeWarning: Precision loss occurred in moment calculation due to catastrophic cancellation. This occurs when the data are nearly identical. Results may be unreliable.\n",
      "  data = stats.zscore(data, ddof=1, axis=0)\n",
      "/Users/jgv/PycharmProjects/soccer-infogeo/.venv/lib/python3.11/site-packages/causallearn/utils/FastKCI/FastKCI.py:470: RuntimeWarning: Precision loss occurred in moment calculation due to catastrophic cancellation. This occurs when the data are nearly identical. Results may be unreliable.\n",
      "  data = stats.zscore(data, ddof=1, axis=0)\n",
      "/Users/jgv/PycharmProjects/soccer-infogeo/.venv/lib/python3.11/site-packages/causallearn/utils/FastKCI/FastKCI.py:470: RuntimeWarning: Precision loss occurred in moment calculation due to catastrophic cancellation. This occurs when the data are nearly identical. Results may be unreliable.\n",
      "  data = stats.zscore(data, ddof=1, axis=0)\n",
      "/Users/jgv/PycharmProjects/soccer-infogeo/.venv/lib/python3.11/site-packages/causallearn/utils/FastKCI/FastKCI.py:470: RuntimeWarning: Precision loss occurred in moment calculation due to catastrophic cancellation. This occurs when the data are nearly identical. Results may be unreliable.\n",
      "  data = stats.zscore(data, ddof=1, axis=0)\n",
      "/Users/jgv/PycharmProjects/soccer-infogeo/.venv/lib/python3.11/site-packages/causallearn/utils/FastKCI/FastKCI.py:470: RuntimeWarning: Precision loss occurred in moment calculation due to catastrophic cancellation. This occurs when the data are nearly identical. Results may be unreliable.\n",
      "  data = stats.zscore(data, ddof=1, axis=0)\n",
      "/Users/jgv/PycharmProjects/soccer-infogeo/.venv/lib/python3.11/site-packages/causallearn/utils/FastKCI/FastKCI.py:470: RuntimeWarning: Precision loss occurred in moment calculation due to catastrophic cancellation. This occurs when the data are nearly identical. Results may be unreliable.\n",
      "  data = stats.zscore(data, ddof=1, axis=0)\n",
      "/Users/jgv/PycharmProjects/soccer-infogeo/.venv/lib/python3.11/site-packages/causallearn/utils/FastKCI/FastKCI.py:470: RuntimeWarning: Precision loss occurred in moment calculation due to catastrophic cancellation. This occurs when the data are nearly identical. Results may be unreliable.\n",
      "  data = stats.zscore(data, ddof=1, axis=0)\n",
      "/Users/jgv/PycharmProjects/soccer-infogeo/.venv/lib/python3.11/site-packages/causallearn/utils/FastKCI/FastKCI.py:470: RuntimeWarning: Precision loss occurred in moment calculation due to catastrophic cancellation. This occurs when the data are nearly identical. Results may be unreliable.\n",
      "  data = stats.zscore(data, ddof=1, axis=0)\n",
      "/Users/jgv/PycharmProjects/soccer-infogeo/.venv/lib/python3.11/site-packages/causallearn/utils/FastKCI/FastKCI.py:470: RuntimeWarning: Precision loss occurred in moment calculation due to catastrophic cancellation. This occurs when the data are nearly identical. Results may be unreliable.\n",
      "  data = stats.zscore(data, ddof=1, axis=0)\n",
      "/Users/jgv/PycharmProjects/soccer-infogeo/.venv/lib/python3.11/site-packages/causallearn/utils/FastKCI/FastKCI.py:470: RuntimeWarning: Precision loss occurred in moment calculation due to catastrophic cancellation. This occurs when the data are nearly identical. Results may be unreliable.\n",
      "  data = stats.zscore(data, ddof=1, axis=0)\n",
      "/Users/jgv/PycharmProjects/soccer-infogeo/.venv/lib/python3.11/site-packages/causallearn/utils/FastKCI/FastKCI.py:470: RuntimeWarning: Precision loss occurred in moment calculation due to catastrophic cancellation. This occurs when the data are nearly identical. Results may be unreliable.\n",
      "  data = stats.zscore(data, ddof=1, axis=0)\n",
      "/Users/jgv/PycharmProjects/soccer-infogeo/.venv/lib/python3.11/site-packages/causallearn/utils/FastKCI/FastKCI.py:470: RuntimeWarning: Precision loss occurred in moment calculation due to catastrophic cancellation. This occurs when the data are nearly identical. Results may be unreliable.\n",
      "  data = stats.zscore(data, ddof=1, axis=0)\n",
      "/Users/jgv/PycharmProjects/soccer-infogeo/.venv/lib/python3.11/site-packages/causallearn/utils/FastKCI/FastKCI.py:470: RuntimeWarning: Precision loss occurred in moment calculation due to catastrophic cancellation. This occurs when the data are nearly identical. Results may be unreliable.\n",
      "  data = stats.zscore(data, ddof=1, axis=0)\n",
      "/Users/jgv/PycharmProjects/soccer-infogeo/.venv/lib/python3.11/site-packages/causallearn/utils/FastKCI/FastKCI.py:470: RuntimeWarning: Precision loss occurred in moment calculation due to catastrophic cancellation. This occurs when the data are nearly identical. Results may be unreliable.\n",
      "  data = stats.zscore(data, ddof=1, axis=0)\n",
      "/Users/jgv/PycharmProjects/soccer-infogeo/.venv/lib/python3.11/site-packages/causallearn/utils/FastKCI/FastKCI.py:470: RuntimeWarning: Precision loss occurred in moment calculation due to catastrophic cancellation. This occurs when the data are nearly identical. Results may be unreliable.\n",
      "  data = stats.zscore(data, ddof=1, axis=0)\n",
      "/Users/jgv/PycharmProjects/soccer-infogeo/.venv/lib/python3.11/site-packages/causallearn/utils/FastKCI/FastKCI.py:470: RuntimeWarning: Precision loss occurred in moment calculation due to catastrophic cancellation. This occurs when the data are nearly identical. Results may be unreliable.\n",
      "  data = stats.zscore(data, ddof=1, axis=0)\n",
      "/Users/jgv/PycharmProjects/soccer-infogeo/.venv/lib/python3.11/site-packages/causallearn/utils/FastKCI/FastKCI.py:470: RuntimeWarning: Precision loss occurred in moment calculation due to catastrophic cancellation. This occurs when the data are nearly identical. Results may be unreliable.\n",
      "  data = stats.zscore(data, ddof=1, axis=0)\n",
      "/Users/jgv/PycharmProjects/soccer-infogeo/.venv/lib/python3.11/site-packages/causallearn/utils/FastKCI/FastKCI.py:470: RuntimeWarning: Precision loss occurred in moment calculation due to catastrophic cancellation. This occurs when the data are nearly identical. Results may be unreliable.\n",
      "  data = stats.zscore(data, ddof=1, axis=0)\n",
      "/Users/jgv/PycharmProjects/soccer-infogeo/.venv/lib/python3.11/site-packages/causallearn/utils/FastKCI/FastKCI.py:470: RuntimeWarning: Precision loss occurred in moment calculation due to catastrophic cancellation. This occurs when the data are nearly identical. Results may be unreliable.\n",
      "  data = stats.zscore(data, ddof=1, axis=0)\n",
      "/Users/jgv/PycharmProjects/soccer-infogeo/.venv/lib/python3.11/site-packages/causallearn/utils/FastKCI/FastKCI.py:470: RuntimeWarning: Precision loss occurred in moment calculation due to catastrophic cancellation. This occurs when the data are nearly identical. Results may be unreliable.\n",
      "  data = stats.zscore(data, ddof=1, axis=0)\n",
      "/Users/jgv/PycharmProjects/soccer-infogeo/.venv/lib/python3.11/site-packages/causallearn/utils/FastKCI/FastKCI.py:470: RuntimeWarning: Precision loss occurred in moment calculation due to catastrophic cancellation. This occurs when the data are nearly identical. Results may be unreliable.\n",
      "  data = stats.zscore(data, ddof=1, axis=0)\n",
      "/Users/jgv/PycharmProjects/soccer-infogeo/.venv/lib/python3.11/site-packages/causallearn/utils/FastKCI/FastKCI.py:470: RuntimeWarning: Precision loss occurred in moment calculation due to catastrophic cancellation. This occurs when the data are nearly identical. Results may be unreliable.\n",
      "  data = stats.zscore(data, ddof=1, axis=0)\n",
      "/Users/jgv/PycharmProjects/soccer-infogeo/.venv/lib/python3.11/site-packages/causallearn/utils/FastKCI/FastKCI.py:470: RuntimeWarning: Precision loss occurred in moment calculation due to catastrophic cancellation. This occurs when the data are nearly identical. Results may be unreliable.\n",
      "  data = stats.zscore(data, ddof=1, axis=0)\n",
      "/Users/jgv/PycharmProjects/soccer-infogeo/.venv/lib/python3.11/site-packages/causallearn/utils/FastKCI/FastKCI.py:470: RuntimeWarning: Precision loss occurred in moment calculation due to catastrophic cancellation. This occurs when the data are nearly identical. Results may be unreliable.\n",
      "  data = stats.zscore(data, ddof=1, axis=0)\n",
      "/Users/jgv/PycharmProjects/soccer-infogeo/.venv/lib/python3.11/site-packages/causallearn/utils/FastKCI/FastKCI.py:470: RuntimeWarning: Precision loss occurred in moment calculation due to catastrophic cancellation. This occurs when the data are nearly identical. Results may be unreliable.\n",
      "  data = stats.zscore(data, ddof=1, axis=0)\n",
      "/Users/jgv/PycharmProjects/soccer-infogeo/.venv/lib/python3.11/site-packages/causallearn/utils/FastKCI/FastKCI.py:470: RuntimeWarning: Precision loss occurred in moment calculation due to catastrophic cancellation. This occurs when the data are nearly identical. Results may be unreliable.\n",
      "  data = stats.zscore(data, ddof=1, axis=0)\n",
      "/Users/jgv/PycharmProjects/soccer-infogeo/.venv/lib/python3.11/site-packages/causallearn/utils/FastKCI/FastKCI.py:470: RuntimeWarning: Precision loss occurred in moment calculation due to catastrophic cancellation. This occurs when the data are nearly identical. Results may be unreliable.\n",
      "  data = stats.zscore(data, ddof=1, axis=0)\n",
      "/Users/jgv/PycharmProjects/soccer-infogeo/.venv/lib/python3.11/site-packages/causallearn/utils/FastKCI/FastKCI.py:470: RuntimeWarning: Precision loss occurred in moment calculation due to catastrophic cancellation. This occurs when the data are nearly identical. Results may be unreliable.\n",
      "  data = stats.zscore(data, ddof=1, axis=0)\n",
      "/Users/jgv/PycharmProjects/soccer-infogeo/.venv/lib/python3.11/site-packages/causallearn/utils/FastKCI/FastKCI.py:470: RuntimeWarning: Precision loss occurred in moment calculation due to catastrophic cancellation. This occurs when the data are nearly identical. Results may be unreliable.\n",
      "  data = stats.zscore(data, ddof=1, axis=0)\n"
     ]
    },
    {
     "name": "stdout",
     "output_type": "stream",
     "text": [
      "Processing goalkick with alpha=0.05\n",
      "\n",
      "Processing keeper_action with alpha=0.05\n",
      "\n",
      "Processing pass with alpha=0.05\n",
      "\n",
      "Processing clearance with alpha=0.1\n",
      "\n",
      "Processing shot with alpha=0.1\n",
      "\n",
      "Processing dribble with alpha=0.1\n",
      "\n"
     ]
    },
    {
     "name": "stderr",
     "output_type": "stream",
     "text": [
      "/Users/jgv/PycharmProjects/soccer-infogeo/.venv/lib/python3.11/site-packages/joblib/externals/loky/process_executor.py:782: UserWarning: A worker stopped while some jobs were given to the executor. This can be caused by a too short worker timeout or by a memory leak.\n",
      "  warnings.warn(\n"
     ]
    },
    {
     "name": "stdout",
     "output_type": "stream",
     "text": [
      "Processing throw_in with alpha=0.1\n",
      "\n"
     ]
    },
    {
     "name": "stderr",
     "output_type": "stream",
     "text": [
      "/Users/jgv/PycharmProjects/soccer-infogeo/.venv/lib/python3.11/site-packages/causallearn/utils/FastKCI/FastKCI.py:164: RuntimeWarning: Precision loss occurred in moment calculation due to catastrophic cancellation. This occurs when the data are nearly identical. Results may be unreliable.\n",
      "  data_z = stats.zscore(data_z, ddof=1, axis=0)\n",
      "/Users/jgv/PycharmProjects/soccer-infogeo/.venv/lib/python3.11/site-packages/causallearn/utils/FastKCI/FastKCI.py:164: RuntimeWarning: Precision loss occurred in moment calculation due to catastrophic cancellation. This occurs when the data are nearly identical. Results may be unreliable.\n",
      "  data_z = stats.zscore(data_z, ddof=1, axis=0)\n"
     ]
    },
    {
     "name": "stdout",
     "output_type": "stream",
     "text": [
      "Processing freekick with alpha=0.1\n",
      "\n"
     ]
    },
    {
     "name": "stderr",
     "output_type": "stream",
     "text": [
      "/Users/jgv/PycharmProjects/soccer-infogeo/.venv/lib/python3.11/site-packages/causallearn/utils/FastKCI/FastKCI.py:470: RuntimeWarning: Precision loss occurred in moment calculation due to catastrophic cancellation. This occurs when the data are nearly identical. Results may be unreliable.\n",
      "  data = stats.zscore(data, ddof=1, axis=0)\n"
     ]
    },
    {
     "name": "stdout",
     "output_type": "stream",
     "text": [
      "Processing cross with alpha=0.1\n",
      "\n",
      "Processing corner with alpha=0.1\n",
      "\n"
     ]
    },
    {
     "name": "stderr",
     "output_type": "stream",
     "text": [
      "/Users/jgv/PycharmProjects/soccer-infogeo/.venv/lib/python3.11/site-packages/causallearn/utils/FastKCI/FastKCI.py:470: RuntimeWarning: Precision loss occurred in moment calculation due to catastrophic cancellation. This occurs when the data are nearly identical. Results may be unreliable.\n",
      "  data = stats.zscore(data, ddof=1, axis=0)\n",
      "/Users/jgv/PycharmProjects/soccer-infogeo/.venv/lib/python3.11/site-packages/causallearn/utils/FastKCI/FastKCI.py:470: RuntimeWarning: Precision loss occurred in moment calculation due to catastrophic cancellation. This occurs when the data are nearly identical. Results may be unreliable.\n",
      "  data = stats.zscore(data, ddof=1, axis=0)\n",
      "/Users/jgv/PycharmProjects/soccer-infogeo/.venv/lib/python3.11/site-packages/causallearn/utils/FastKCI/FastKCI.py:470: RuntimeWarning: Precision loss occurred in moment calculation due to catastrophic cancellation. This occurs when the data are nearly identical. Results may be unreliable.\n",
      "  data = stats.zscore(data, ddof=1, axis=0)\n",
      "/Users/jgv/PycharmProjects/soccer-infogeo/.venv/lib/python3.11/site-packages/causallearn/utils/FastKCI/FastKCI.py:470: RuntimeWarning: Precision loss occurred in moment calculation due to catastrophic cancellation. This occurs when the data are nearly identical. Results may be unreliable.\n",
      "  data = stats.zscore(data, ddof=1, axis=0)\n",
      "/Users/jgv/PycharmProjects/soccer-infogeo/.venv/lib/python3.11/site-packages/causallearn/utils/FastKCI/FastKCI.py:470: RuntimeWarning: Precision loss occurred in moment calculation due to catastrophic cancellation. This occurs when the data are nearly identical. Results may be unreliable.\n",
      "  data = stats.zscore(data, ddof=1, axis=0)\n",
      "/Users/jgv/PycharmProjects/soccer-infogeo/.venv/lib/python3.11/site-packages/causallearn/utils/FastKCI/FastKCI.py:470: RuntimeWarning: Precision loss occurred in moment calculation due to catastrophic cancellation. This occurs when the data are nearly identical. Results may be unreliable.\n",
      "  data = stats.zscore(data, ddof=1, axis=0)\n",
      "/Users/jgv/PycharmProjects/soccer-infogeo/.venv/lib/python3.11/site-packages/causallearn/utils/FastKCI/FastKCI.py:470: RuntimeWarning: Precision loss occurred in moment calculation due to catastrophic cancellation. This occurs when the data are nearly identical. Results may be unreliable.\n",
      "  data = stats.zscore(data, ddof=1, axis=0)\n",
      "/Users/jgv/PycharmProjects/soccer-infogeo/.venv/lib/python3.11/site-packages/causallearn/utils/FastKCI/FastKCI.py:470: RuntimeWarning: Precision loss occurred in moment calculation due to catastrophic cancellation. This occurs when the data are nearly identical. Results may be unreliable.\n",
      "  data = stats.zscore(data, ddof=1, axis=0)\n",
      "/Users/jgv/PycharmProjects/soccer-infogeo/.venv/lib/python3.11/site-packages/causallearn/utils/FastKCI/FastKCI.py:470: RuntimeWarning: Precision loss occurred in moment calculation due to catastrophic cancellation. This occurs when the data are nearly identical. Results may be unreliable.\n",
      "  data = stats.zscore(data, ddof=1, axis=0)\n",
      "/Users/jgv/PycharmProjects/soccer-infogeo/.venv/lib/python3.11/site-packages/causallearn/utils/FastKCI/FastKCI.py:470: RuntimeWarning: Precision loss occurred in moment calculation due to catastrophic cancellation. This occurs when the data are nearly identical. Results may be unreliable.\n",
      "  data = stats.zscore(data, ddof=1, axis=0)\n",
      "/Users/jgv/PycharmProjects/soccer-infogeo/.venv/lib/python3.11/site-packages/causallearn/utils/FastKCI/FastKCI.py:470: RuntimeWarning: Precision loss occurred in moment calculation due to catastrophic cancellation. This occurs when the data are nearly identical. Results may be unreliable.\n",
      "  data = stats.zscore(data, ddof=1, axis=0)\n",
      "/Users/jgv/PycharmProjects/soccer-infogeo/.venv/lib/python3.11/site-packages/causallearn/utils/FastKCI/FastKCI.py:470: RuntimeWarning: Precision loss occurred in moment calculation due to catastrophic cancellation. This occurs when the data are nearly identical. Results may be unreliable.\n",
      "  data = stats.zscore(data, ddof=1, axis=0)\n",
      "/Users/jgv/PycharmProjects/soccer-infogeo/.venv/lib/python3.11/site-packages/causallearn/utils/FastKCI/FastKCI.py:470: RuntimeWarning: Precision loss occurred in moment calculation due to catastrophic cancellation. This occurs when the data are nearly identical. Results may be unreliable.\n",
      "  data = stats.zscore(data, ddof=1, axis=0)\n",
      "/Users/jgv/PycharmProjects/soccer-infogeo/.venv/lib/python3.11/site-packages/causallearn/utils/FastKCI/FastKCI.py:470: RuntimeWarning: Precision loss occurred in moment calculation due to catastrophic cancellation. This occurs when the data are nearly identical. Results may be unreliable.\n",
      "  data = stats.zscore(data, ddof=1, axis=0)\n",
      "/Users/jgv/PycharmProjects/soccer-infogeo/.venv/lib/python3.11/site-packages/causallearn/utils/FastKCI/FastKCI.py:470: RuntimeWarning: Precision loss occurred in moment calculation due to catastrophic cancellation. This occurs when the data are nearly identical. Results may be unreliable.\n",
      "  data = stats.zscore(data, ddof=1, axis=0)\n",
      "/Users/jgv/PycharmProjects/soccer-infogeo/.venv/lib/python3.11/site-packages/causallearn/utils/FastKCI/FastKCI.py:470: RuntimeWarning: Precision loss occurred in moment calculation due to catastrophic cancellation. This occurs when the data are nearly identical. Results may be unreliable.\n",
      "  data = stats.zscore(data, ddof=1, axis=0)\n",
      "/Users/jgv/PycharmProjects/soccer-infogeo/.venv/lib/python3.11/site-packages/causallearn/utils/FastKCI/FastKCI.py:470: RuntimeWarning: Precision loss occurred in moment calculation due to catastrophic cancellation. This occurs when the data are nearly identical. Results may be unreliable.\n",
      "  data = stats.zscore(data, ddof=1, axis=0)\n",
      "/Users/jgv/PycharmProjects/soccer-infogeo/.venv/lib/python3.11/site-packages/causallearn/utils/FastKCI/FastKCI.py:470: RuntimeWarning: Precision loss occurred in moment calculation due to catastrophic cancellation. This occurs when the data are nearly identical. Results may be unreliable.\n",
      "  data = stats.zscore(data, ddof=1, axis=0)\n",
      "/Users/jgv/PycharmProjects/soccer-infogeo/.venv/lib/python3.11/site-packages/causallearn/utils/FastKCI/FastKCI.py:470: RuntimeWarning: Precision loss occurred in moment calculation due to catastrophic cancellation. This occurs when the data are nearly identical. Results may be unreliable.\n",
      "  data = stats.zscore(data, ddof=1, axis=0)\n",
      "/Users/jgv/PycharmProjects/soccer-infogeo/.venv/lib/python3.11/site-packages/causallearn/utils/FastKCI/FastKCI.py:470: RuntimeWarning: Precision loss occurred in moment calculation due to catastrophic cancellation. This occurs when the data are nearly identical. Results may be unreliable.\n",
      "  data = stats.zscore(data, ddof=1, axis=0)\n",
      "/Users/jgv/PycharmProjects/soccer-infogeo/.venv/lib/python3.11/site-packages/causallearn/utils/FastKCI/FastKCI.py:470: RuntimeWarning: Precision loss occurred in moment calculation due to catastrophic cancellation. This occurs when the data are nearly identical. Results may be unreliable.\n",
      "  data = stats.zscore(data, ddof=1, axis=0)\n",
      "/Users/jgv/PycharmProjects/soccer-infogeo/.venv/lib/python3.11/site-packages/causallearn/utils/FastKCI/FastKCI.py:470: RuntimeWarning: Precision loss occurred in moment calculation due to catastrophic cancellation. This occurs when the data are nearly identical. Results may be unreliable.\n",
      "  data = stats.zscore(data, ddof=1, axis=0)\n",
      "/Users/jgv/PycharmProjects/soccer-infogeo/.venv/lib/python3.11/site-packages/causallearn/utils/FastKCI/FastKCI.py:470: RuntimeWarning: Precision loss occurred in moment calculation due to catastrophic cancellation. This occurs when the data are nearly identical. Results may be unreliable.\n",
      "  data = stats.zscore(data, ddof=1, axis=0)\n",
      "/Users/jgv/PycharmProjects/soccer-infogeo/.venv/lib/python3.11/site-packages/causallearn/utils/FastKCI/FastKCI.py:470: RuntimeWarning: Precision loss occurred in moment calculation due to catastrophic cancellation. This occurs when the data are nearly identical. Results may be unreliable.\n",
      "  data = stats.zscore(data, ddof=1, axis=0)\n",
      "/Users/jgv/PycharmProjects/soccer-infogeo/.venv/lib/python3.11/site-packages/causallearn/utils/FastKCI/FastKCI.py:470: RuntimeWarning: Precision loss occurred in moment calculation due to catastrophic cancellation. This occurs when the data are nearly identical. Results may be unreliable.\n",
      "  data = stats.zscore(data, ddof=1, axis=0)\n",
      "/Users/jgv/PycharmProjects/soccer-infogeo/.venv/lib/python3.11/site-packages/causallearn/utils/FastKCI/FastKCI.py:470: RuntimeWarning: Precision loss occurred in moment calculation due to catastrophic cancellation. This occurs when the data are nearly identical. Results may be unreliable.\n",
      "  data = stats.zscore(data, ddof=1, axis=0)\n",
      "/Users/jgv/PycharmProjects/soccer-infogeo/.venv/lib/python3.11/site-packages/causallearn/utils/FastKCI/FastKCI.py:470: RuntimeWarning: Precision loss occurred in moment calculation due to catastrophic cancellation. This occurs when the data are nearly identical. Results may be unreliable.\n",
      "  data = stats.zscore(data, ddof=1, axis=0)\n",
      "/Users/jgv/PycharmProjects/soccer-infogeo/.venv/lib/python3.11/site-packages/causallearn/utils/FastKCI/FastKCI.py:470: RuntimeWarning: Precision loss occurred in moment calculation due to catastrophic cancellation. This occurs when the data are nearly identical. Results may be unreliable.\n",
      "  data = stats.zscore(data, ddof=1, axis=0)\n",
      "/Users/jgv/PycharmProjects/soccer-infogeo/.venv/lib/python3.11/site-packages/causallearn/utils/FastKCI/FastKCI.py:470: RuntimeWarning: Precision loss occurred in moment calculation due to catastrophic cancellation. This occurs when the data are nearly identical. Results may be unreliable.\n",
      "  data = stats.zscore(data, ddof=1, axis=0)\n",
      "/Users/jgv/PycharmProjects/soccer-infogeo/.venv/lib/python3.11/site-packages/causallearn/utils/FastKCI/FastKCI.py:470: RuntimeWarning: Precision loss occurred in moment calculation due to catastrophic cancellation. This occurs when the data are nearly identical. Results may be unreliable.\n",
      "  data = stats.zscore(data, ddof=1, axis=0)\n",
      "/Users/jgv/PycharmProjects/soccer-infogeo/.venv/lib/python3.11/site-packages/causallearn/utils/FastKCI/FastKCI.py:470: RuntimeWarning: Precision loss occurred in moment calculation due to catastrophic cancellation. This occurs when the data are nearly identical. Results may be unreliable.\n",
      "  data = stats.zscore(data, ddof=1, axis=0)\n",
      "/Users/jgv/PycharmProjects/soccer-infogeo/.venv/lib/python3.11/site-packages/causallearn/utils/FastKCI/FastKCI.py:470: RuntimeWarning: Precision loss occurred in moment calculation due to catastrophic cancellation. This occurs when the data are nearly identical. Results may be unreliable.\n",
      "  data = stats.zscore(data, ddof=1, axis=0)\n",
      "/Users/jgv/PycharmProjects/soccer-infogeo/.venv/lib/python3.11/site-packages/causallearn/utils/FastKCI/FastKCI.py:470: RuntimeWarning: Precision loss occurred in moment calculation due to catastrophic cancellation. This occurs when the data are nearly identical. Results may be unreliable.\n",
      "  data = stats.zscore(data, ddof=1, axis=0)\n",
      "/Users/jgv/PycharmProjects/soccer-infogeo/.venv/lib/python3.11/site-packages/causallearn/utils/FastKCI/FastKCI.py:470: RuntimeWarning: Precision loss occurred in moment calculation due to catastrophic cancellation. This occurs when the data are nearly identical. Results may be unreliable.\n",
      "  data = stats.zscore(data, ddof=1, axis=0)\n",
      "/Users/jgv/PycharmProjects/soccer-infogeo/.venv/lib/python3.11/site-packages/causallearn/utils/FastKCI/FastKCI.py:470: RuntimeWarning: Precision loss occurred in moment calculation due to catastrophic cancellation. This occurs when the data are nearly identical. Results may be unreliable.\n",
      "  data = stats.zscore(data, ddof=1, axis=0)\n",
      "/Users/jgv/PycharmProjects/soccer-infogeo/.venv/lib/python3.11/site-packages/causallearn/utils/FastKCI/FastKCI.py:470: RuntimeWarning: Precision loss occurred in moment calculation due to catastrophic cancellation. This occurs when the data are nearly identical. Results may be unreliable.\n",
      "  data = stats.zscore(data, ddof=1, axis=0)\n",
      "/Users/jgv/PycharmProjects/soccer-infogeo/.venv/lib/python3.11/site-packages/causallearn/utils/FastKCI/FastKCI.py:470: RuntimeWarning: Precision loss occurred in moment calculation due to catastrophic cancellation. This occurs when the data are nearly identical. Results may be unreliable.\n",
      "  data = stats.zscore(data, ddof=1, axis=0)\n",
      "/Users/jgv/PycharmProjects/soccer-infogeo/.venv/lib/python3.11/site-packages/causallearn/utils/FastKCI/FastKCI.py:470: RuntimeWarning: Precision loss occurred in moment calculation due to catastrophic cancellation. This occurs when the data are nearly identical. Results may be unreliable.\n",
      "  data = stats.zscore(data, ddof=1, axis=0)\n",
      "/Users/jgv/PycharmProjects/soccer-infogeo/.venv/lib/python3.11/site-packages/causallearn/utils/FastKCI/FastKCI.py:470: RuntimeWarning: Precision loss occurred in moment calculation due to catastrophic cancellation. This occurs when the data are nearly identical. Results may be unreliable.\n",
      "  data = stats.zscore(data, ddof=1, axis=0)\n",
      "/Users/jgv/PycharmProjects/soccer-infogeo/.venv/lib/python3.11/site-packages/causallearn/utils/FastKCI/FastKCI.py:470: RuntimeWarning: Precision loss occurred in moment calculation due to catastrophic cancellation. This occurs when the data are nearly identical. Results may be unreliable.\n",
      "  data = stats.zscore(data, ddof=1, axis=0)\n",
      "/Users/jgv/PycharmProjects/soccer-infogeo/.venv/lib/python3.11/site-packages/causallearn/utils/FastKCI/FastKCI.py:470: RuntimeWarning: Precision loss occurred in moment calculation due to catastrophic cancellation. This occurs when the data are nearly identical. Results may be unreliable.\n",
      "  data = stats.zscore(data, ddof=1, axis=0)\n",
      "/Users/jgv/PycharmProjects/soccer-infogeo/.venv/lib/python3.11/site-packages/causallearn/utils/FastKCI/FastKCI.py:470: RuntimeWarning: Precision loss occurred in moment calculation due to catastrophic cancellation. This occurs when the data are nearly identical. Results may be unreliable.\n",
      "  data = stats.zscore(data, ddof=1, axis=0)\n",
      "/Users/jgv/PycharmProjects/soccer-infogeo/.venv/lib/python3.11/site-packages/causallearn/utils/FastKCI/FastKCI.py:470: RuntimeWarning: Precision loss occurred in moment calculation due to catastrophic cancellation. This occurs when the data are nearly identical. Results may be unreliable.\n",
      "  data = stats.zscore(data, ddof=1, axis=0)\n",
      "/Users/jgv/PycharmProjects/soccer-infogeo/.venv/lib/python3.11/site-packages/causallearn/utils/FastKCI/FastKCI.py:470: RuntimeWarning: Precision loss occurred in moment calculation due to catastrophic cancellation. This occurs when the data are nearly identical. Results may be unreliable.\n",
      "  data = stats.zscore(data, ddof=1, axis=0)\n",
      "/Users/jgv/PycharmProjects/soccer-infogeo/.venv/lib/python3.11/site-packages/causallearn/utils/FastKCI/FastKCI.py:470: RuntimeWarning: Precision loss occurred in moment calculation due to catastrophic cancellation. This occurs when the data are nearly identical. Results may be unreliable.\n",
      "  data = stats.zscore(data, ddof=1, axis=0)\n",
      "/Users/jgv/PycharmProjects/soccer-infogeo/.venv/lib/python3.11/site-packages/causallearn/utils/FastKCI/FastKCI.py:470: RuntimeWarning: Precision loss occurred in moment calculation due to catastrophic cancellation. This occurs when the data are nearly identical. Results may be unreliable.\n",
      "  data = stats.zscore(data, ddof=1, axis=0)\n",
      "/Users/jgv/PycharmProjects/soccer-infogeo/.venv/lib/python3.11/site-packages/causallearn/utils/FastKCI/FastKCI.py:470: RuntimeWarning: Precision loss occurred in moment calculation due to catastrophic cancellation. This occurs when the data are nearly identical. Results may be unreliable.\n",
      "  data = stats.zscore(data, ddof=1, axis=0)\n",
      "/Users/jgv/PycharmProjects/soccer-infogeo/.venv/lib/python3.11/site-packages/causallearn/utils/FastKCI/FastKCI.py:470: RuntimeWarning: Precision loss occurred in moment calculation due to catastrophic cancellation. This occurs when the data are nearly identical. Results may be unreliable.\n",
      "  data = stats.zscore(data, ddof=1, axis=0)\n",
      "/Users/jgv/PycharmProjects/soccer-infogeo/.venv/lib/python3.11/site-packages/causallearn/utils/FastKCI/FastKCI.py:470: RuntimeWarning: Precision loss occurred in moment calculation due to catastrophic cancellation. This occurs when the data are nearly identical. Results may be unreliable.\n",
      "  data = stats.zscore(data, ddof=1, axis=0)\n",
      "/Users/jgv/PycharmProjects/soccer-infogeo/.venv/lib/python3.11/site-packages/causallearn/utils/FastKCI/FastKCI.py:470: RuntimeWarning: Precision loss occurred in moment calculation due to catastrophic cancellation. This occurs when the data are nearly identical. Results may be unreliable.\n",
      "  data = stats.zscore(data, ddof=1, axis=0)\n"
     ]
    },
    {
     "name": "stdout",
     "output_type": "stream",
     "text": [
      "Processing goalkick with alpha=0.1\n",
      "\n",
      "Processing keeper_action with alpha=0.1\n",
      "\n",
      "Processing pass with alpha=0.1\n",
      "\n"
     ]
    },
    {
     "name": "stderr",
     "output_type": "stream",
     "text": [
      "/Users/jgv/PycharmProjects/soccer-infogeo/.venv/lib/python3.11/site-packages/joblib/externals/loky/process_executor.py:782: UserWarning: A worker stopped while some jobs were given to the executor. This can be caused by a too short worker timeout or by a memory leak.\n",
      "  warnings.warn(\n"
     ]
    },
    {
     "name": "stdout",
     "output_type": "stream",
     "text": [
      "Processing clearance with alpha=0.15\n",
      "\n",
      "Processing shot with alpha=0.15\n",
      "\n",
      "Processing dribble with alpha=0.15\n",
      "\n",
      "Processing throw_in with alpha=0.15\n",
      "\n"
     ]
    },
    {
     "name": "stderr",
     "output_type": "stream",
     "text": [
      "/Users/jgv/PycharmProjects/soccer-infogeo/.venv/lib/python3.11/site-packages/causallearn/utils/FastKCI/FastKCI.py:470: RuntimeWarning: Precision loss occurred in moment calculation due to catastrophic cancellation. This occurs when the data are nearly identical. Results may be unreliable.\n",
      "  data = stats.zscore(data, ddof=1, axis=0)\n",
      "/Users/jgv/PycharmProjects/soccer-infogeo/.venv/lib/python3.11/site-packages/causallearn/utils/FastKCI/FastKCI.py:164: RuntimeWarning: Precision loss occurred in moment calculation due to catastrophic cancellation. This occurs when the data are nearly identical. Results may be unreliable.\n",
      "  data_z = stats.zscore(data_z, ddof=1, axis=0)\n",
      "/Users/jgv/PycharmProjects/soccer-infogeo/.venv/lib/python3.11/site-packages/causallearn/utils/FastKCI/FastKCI.py:164: RuntimeWarning: Precision loss occurred in moment calculation due to catastrophic cancellation. This occurs when the data are nearly identical. Results may be unreliable.\n",
      "  data_z = stats.zscore(data_z, ddof=1, axis=0)\n",
      "/Users/jgv/PycharmProjects/soccer-infogeo/.venv/lib/python3.11/site-packages/causallearn/utils/FastKCI/FastKCI.py:164: RuntimeWarning: Precision loss occurred in moment calculation due to catastrophic cancellation. This occurs when the data are nearly identical. Results may be unreliable.\n",
      "  data_z = stats.zscore(data_z, ddof=1, axis=0)\n"
     ]
    },
    {
     "name": "stdout",
     "output_type": "stream",
     "text": [
      "Processing freekick with alpha=0.15\n",
      "\n"
     ]
    },
    {
     "name": "stderr",
     "output_type": "stream",
     "text": [
      "/Users/jgv/PycharmProjects/soccer-infogeo/.venv/lib/python3.11/site-packages/causallearn/utils/FastKCI/FastKCI.py:470: RuntimeWarning: Precision loss occurred in moment calculation due to catastrophic cancellation. This occurs when the data are nearly identical. Results may be unreliable.\n",
      "  data = stats.zscore(data, ddof=1, axis=0)\n",
      "/Users/jgv/PycharmProjects/soccer-infogeo/.venv/lib/python3.11/site-packages/causallearn/utils/FastKCI/FastKCI.py:470: RuntimeWarning: Precision loss occurred in moment calculation due to catastrophic cancellation. This occurs when the data are nearly identical. Results may be unreliable.\n",
      "  data = stats.zscore(data, ddof=1, axis=0)\n",
      "/Users/jgv/PycharmProjects/soccer-infogeo/.venv/lib/python3.11/site-packages/causallearn/utils/FastKCI/FastKCI.py:470: RuntimeWarning: Precision loss occurred in moment calculation due to catastrophic cancellation. This occurs when the data are nearly identical. Results may be unreliable.\n",
      "  data = stats.zscore(data, ddof=1, axis=0)\n",
      "/Users/jgv/PycharmProjects/soccer-infogeo/.venv/lib/python3.11/site-packages/causallearn/utils/FastKCI/FastKCI.py:470: RuntimeWarning: Precision loss occurred in moment calculation due to catastrophic cancellation. This occurs when the data are nearly identical. Results may be unreliable.\n",
      "  data = stats.zscore(data, ddof=1, axis=0)\n"
     ]
    },
    {
     "name": "stdout",
     "output_type": "stream",
     "text": [
      "Processing cross with alpha=0.15\n",
      "\n",
      "Processing corner with alpha=0.15\n",
      "\n"
     ]
    },
    {
     "name": "stderr",
     "output_type": "stream",
     "text": [
      "/Users/jgv/PycharmProjects/soccer-infogeo/.venv/lib/python3.11/site-packages/causallearn/utils/FastKCI/FastKCI.py:470: RuntimeWarning: Precision loss occurred in moment calculation due to catastrophic cancellation. This occurs when the data are nearly identical. Results may be unreliable.\n",
      "  data = stats.zscore(data, ddof=1, axis=0)\n",
      "/Users/jgv/PycharmProjects/soccer-infogeo/.venv/lib/python3.11/site-packages/causallearn/utils/FastKCI/FastKCI.py:470: RuntimeWarning: Precision loss occurred in moment calculation due to catastrophic cancellation. This occurs when the data are nearly identical. Results may be unreliable.\n",
      "  data = stats.zscore(data, ddof=1, axis=0)\n",
      "/Users/jgv/PycharmProjects/soccer-infogeo/.venv/lib/python3.11/site-packages/causallearn/utils/FastKCI/FastKCI.py:470: RuntimeWarning: Precision loss occurred in moment calculation due to catastrophic cancellation. This occurs when the data are nearly identical. Results may be unreliable.\n",
      "  data = stats.zscore(data, ddof=1, axis=0)\n",
      "/Users/jgv/PycharmProjects/soccer-infogeo/.venv/lib/python3.11/site-packages/causallearn/utils/FastKCI/FastKCI.py:470: RuntimeWarning: Precision loss occurred in moment calculation due to catastrophic cancellation. This occurs when the data are nearly identical. Results may be unreliable.\n",
      "  data = stats.zscore(data, ddof=1, axis=0)\n",
      "/Users/jgv/PycharmProjects/soccer-infogeo/.venv/lib/python3.11/site-packages/causallearn/utils/FastKCI/FastKCI.py:470: RuntimeWarning: Precision loss occurred in moment calculation due to catastrophic cancellation. This occurs when the data are nearly identical. Results may be unreliable.\n",
      "  data = stats.zscore(data, ddof=1, axis=0)\n",
      "/Users/jgv/PycharmProjects/soccer-infogeo/.venv/lib/python3.11/site-packages/causallearn/utils/FastKCI/FastKCI.py:470: RuntimeWarning: Precision loss occurred in moment calculation due to catastrophic cancellation. This occurs when the data are nearly identical. Results may be unreliable.\n",
      "  data = stats.zscore(data, ddof=1, axis=0)\n",
      "/Users/jgv/PycharmProjects/soccer-infogeo/.venv/lib/python3.11/site-packages/causallearn/utils/FastKCI/FastKCI.py:470: RuntimeWarning: Precision loss occurred in moment calculation due to catastrophic cancellation. This occurs when the data are nearly identical. Results may be unreliable.\n",
      "  data = stats.zscore(data, ddof=1, axis=0)\n",
      "/Users/jgv/PycharmProjects/soccer-infogeo/.venv/lib/python3.11/site-packages/causallearn/utils/FastKCI/FastKCI.py:470: RuntimeWarning: Precision loss occurred in moment calculation due to catastrophic cancellation. This occurs when the data are nearly identical. Results may be unreliable.\n",
      "  data = stats.zscore(data, ddof=1, axis=0)\n",
      "/Users/jgv/PycharmProjects/soccer-infogeo/.venv/lib/python3.11/site-packages/causallearn/utils/FastKCI/FastKCI.py:470: RuntimeWarning: Precision loss occurred in moment calculation due to catastrophic cancellation. This occurs when the data are nearly identical. Results may be unreliable.\n",
      "  data = stats.zscore(data, ddof=1, axis=0)\n",
      "/Users/jgv/PycharmProjects/soccer-infogeo/.venv/lib/python3.11/site-packages/causallearn/utils/FastKCI/FastKCI.py:470: RuntimeWarning: Precision loss occurred in moment calculation due to catastrophic cancellation. This occurs when the data are nearly identical. Results may be unreliable.\n",
      "  data = stats.zscore(data, ddof=1, axis=0)\n",
      "/Users/jgv/PycharmProjects/soccer-infogeo/.venv/lib/python3.11/site-packages/causallearn/utils/FastKCI/FastKCI.py:470: RuntimeWarning: Precision loss occurred in moment calculation due to catastrophic cancellation. This occurs when the data are nearly identical. Results may be unreliable.\n",
      "  data = stats.zscore(data, ddof=1, axis=0)\n",
      "/Users/jgv/PycharmProjects/soccer-infogeo/.venv/lib/python3.11/site-packages/causallearn/utils/FastKCI/FastKCI.py:470: RuntimeWarning: Precision loss occurred in moment calculation due to catastrophic cancellation. This occurs when the data are nearly identical. Results may be unreliable.\n",
      "  data = stats.zscore(data, ddof=1, axis=0)\n",
      "/Users/jgv/PycharmProjects/soccer-infogeo/.venv/lib/python3.11/site-packages/causallearn/utils/FastKCI/FastKCI.py:470: RuntimeWarning: Precision loss occurred in moment calculation due to catastrophic cancellation. This occurs when the data are nearly identical. Results may be unreliable.\n",
      "  data = stats.zscore(data, ddof=1, axis=0)\n",
      "/Users/jgv/PycharmProjects/soccer-infogeo/.venv/lib/python3.11/site-packages/causallearn/utils/FastKCI/FastKCI.py:470: RuntimeWarning: Precision loss occurred in moment calculation due to catastrophic cancellation. This occurs when the data are nearly identical. Results may be unreliable.\n",
      "  data = stats.zscore(data, ddof=1, axis=0)\n",
      "/Users/jgv/PycharmProjects/soccer-infogeo/.venv/lib/python3.11/site-packages/causallearn/utils/FastKCI/FastKCI.py:470: RuntimeWarning: Precision loss occurred in moment calculation due to catastrophic cancellation. This occurs when the data are nearly identical. Results may be unreliable.\n",
      "  data = stats.zscore(data, ddof=1, axis=0)\n",
      "/Users/jgv/PycharmProjects/soccer-infogeo/.venv/lib/python3.11/site-packages/causallearn/utils/FastKCI/FastKCI.py:470: RuntimeWarning: Precision loss occurred in moment calculation due to catastrophic cancellation. This occurs when the data are nearly identical. Results may be unreliable.\n",
      "  data = stats.zscore(data, ddof=1, axis=0)\n",
      "/Users/jgv/PycharmProjects/soccer-infogeo/.venv/lib/python3.11/site-packages/causallearn/utils/FastKCI/FastKCI.py:470: RuntimeWarning: Precision loss occurred in moment calculation due to catastrophic cancellation. This occurs when the data are nearly identical. Results may be unreliable.\n",
      "  data = stats.zscore(data, ddof=1, axis=0)\n",
      "/Users/jgv/PycharmProjects/soccer-infogeo/.venv/lib/python3.11/site-packages/causallearn/utils/FastKCI/FastKCI.py:470: RuntimeWarning: Precision loss occurred in moment calculation due to catastrophic cancellation. This occurs when the data are nearly identical. Results may be unreliable.\n",
      "  data = stats.zscore(data, ddof=1, axis=0)\n",
      "/Users/jgv/PycharmProjects/soccer-infogeo/.venv/lib/python3.11/site-packages/causallearn/utils/FastKCI/FastKCI.py:470: RuntimeWarning: Precision loss occurred in moment calculation due to catastrophic cancellation. This occurs when the data are nearly identical. Results may be unreliable.\n",
      "  data = stats.zscore(data, ddof=1, axis=0)\n",
      "/Users/jgv/PycharmProjects/soccer-infogeo/.venv/lib/python3.11/site-packages/causallearn/utils/FastKCI/FastKCI.py:470: RuntimeWarning: Precision loss occurred in moment calculation due to catastrophic cancellation. This occurs when the data are nearly identical. Results may be unreliable.\n",
      "  data = stats.zscore(data, ddof=1, axis=0)\n",
      "/Users/jgv/PycharmProjects/soccer-infogeo/.venv/lib/python3.11/site-packages/causallearn/utils/FastKCI/FastKCI.py:470: RuntimeWarning: Precision loss occurred in moment calculation due to catastrophic cancellation. This occurs when the data are nearly identical. Results may be unreliable.\n",
      "  data = stats.zscore(data, ddof=1, axis=0)\n",
      "/Users/jgv/PycharmProjects/soccer-infogeo/.venv/lib/python3.11/site-packages/causallearn/utils/FastKCI/FastKCI.py:470: RuntimeWarning: Precision loss occurred in moment calculation due to catastrophic cancellation. This occurs when the data are nearly identical. Results may be unreliable.\n",
      "  data = stats.zscore(data, ddof=1, axis=0)\n",
      "/Users/jgv/PycharmProjects/soccer-infogeo/.venv/lib/python3.11/site-packages/causallearn/utils/FastKCI/FastKCI.py:470: RuntimeWarning: Precision loss occurred in moment calculation due to catastrophic cancellation. This occurs when the data are nearly identical. Results may be unreliable.\n",
      "  data = stats.zscore(data, ddof=1, axis=0)\n",
      "/Users/jgv/PycharmProjects/soccer-infogeo/.venv/lib/python3.11/site-packages/causallearn/utils/FastKCI/FastKCI.py:470: RuntimeWarning: Precision loss occurred in moment calculation due to catastrophic cancellation. This occurs when the data are nearly identical. Results may be unreliable.\n",
      "  data = stats.zscore(data, ddof=1, axis=0)\n",
      "/Users/jgv/PycharmProjects/soccer-infogeo/.venv/lib/python3.11/site-packages/causallearn/utils/FastKCI/FastKCI.py:470: RuntimeWarning: Precision loss occurred in moment calculation due to catastrophic cancellation. This occurs when the data are nearly identical. Results may be unreliable.\n",
      "  data = stats.zscore(data, ddof=1, axis=0)\n",
      "/Users/jgv/PycharmProjects/soccer-infogeo/.venv/lib/python3.11/site-packages/causallearn/utils/FastKCI/FastKCI.py:470: RuntimeWarning: Precision loss occurred in moment calculation due to catastrophic cancellation. This occurs when the data are nearly identical. Results may be unreliable.\n",
      "  data = stats.zscore(data, ddof=1, axis=0)\n",
      "/Users/jgv/PycharmProjects/soccer-infogeo/.venv/lib/python3.11/site-packages/causallearn/utils/FastKCI/FastKCI.py:470: RuntimeWarning: Precision loss occurred in moment calculation due to catastrophic cancellation. This occurs when the data are nearly identical. Results may be unreliable.\n",
      "  data = stats.zscore(data, ddof=1, axis=0)\n",
      "/Users/jgv/PycharmProjects/soccer-infogeo/.venv/lib/python3.11/site-packages/causallearn/utils/FastKCI/FastKCI.py:470: RuntimeWarning: Precision loss occurred in moment calculation due to catastrophic cancellation. This occurs when the data are nearly identical. Results may be unreliable.\n",
      "  data = stats.zscore(data, ddof=1, axis=0)\n",
      "/Users/jgv/PycharmProjects/soccer-infogeo/.venv/lib/python3.11/site-packages/causallearn/utils/FastKCI/FastKCI.py:470: RuntimeWarning: Precision loss occurred in moment calculation due to catastrophic cancellation. This occurs when the data are nearly identical. Results may be unreliable.\n",
      "  data = stats.zscore(data, ddof=1, axis=0)\n",
      "/Users/jgv/PycharmProjects/soccer-infogeo/.venv/lib/python3.11/site-packages/causallearn/utils/FastKCI/FastKCI.py:470: RuntimeWarning: Precision loss occurred in moment calculation due to catastrophic cancellation. This occurs when the data are nearly identical. Results may be unreliable.\n",
      "  data = stats.zscore(data, ddof=1, axis=0)\n",
      "/Users/jgv/PycharmProjects/soccer-infogeo/.venv/lib/python3.11/site-packages/causallearn/utils/FastKCI/FastKCI.py:470: RuntimeWarning: Precision loss occurred in moment calculation due to catastrophic cancellation. This occurs when the data are nearly identical. Results may be unreliable.\n",
      "  data = stats.zscore(data, ddof=1, axis=0)\n",
      "/Users/jgv/PycharmProjects/soccer-infogeo/.venv/lib/python3.11/site-packages/causallearn/utils/FastKCI/FastKCI.py:470: RuntimeWarning: Precision loss occurred in moment calculation due to catastrophic cancellation. This occurs when the data are nearly identical. Results may be unreliable.\n",
      "  data = stats.zscore(data, ddof=1, axis=0)\n",
      "/Users/jgv/PycharmProjects/soccer-infogeo/.venv/lib/python3.11/site-packages/causallearn/utils/FastKCI/FastKCI.py:470: RuntimeWarning: Precision loss occurred in moment calculation due to catastrophic cancellation. This occurs when the data are nearly identical. Results may be unreliable.\n",
      "  data = stats.zscore(data, ddof=1, axis=0)\n",
      "/Users/jgv/PycharmProjects/soccer-infogeo/.venv/lib/python3.11/site-packages/causallearn/utils/FastKCI/FastKCI.py:470: RuntimeWarning: Precision loss occurred in moment calculation due to catastrophic cancellation. This occurs when the data are nearly identical. Results may be unreliable.\n",
      "  data = stats.zscore(data, ddof=1, axis=0)\n",
      "/Users/jgv/PycharmProjects/soccer-infogeo/.venv/lib/python3.11/site-packages/causallearn/utils/FastKCI/FastKCI.py:470: RuntimeWarning: Precision loss occurred in moment calculation due to catastrophic cancellation. This occurs when the data are nearly identical. Results may be unreliable.\n",
      "  data = stats.zscore(data, ddof=1, axis=0)\n",
      "/Users/jgv/PycharmProjects/soccer-infogeo/.venv/lib/python3.11/site-packages/causallearn/utils/FastKCI/FastKCI.py:470: RuntimeWarning: Precision loss occurred in moment calculation due to catastrophic cancellation. This occurs when the data are nearly identical. Results may be unreliable.\n",
      "  data = stats.zscore(data, ddof=1, axis=0)\n",
      "/Users/jgv/PycharmProjects/soccer-infogeo/.venv/lib/python3.11/site-packages/causallearn/utils/FastKCI/FastKCI.py:470: RuntimeWarning: Precision loss occurred in moment calculation due to catastrophic cancellation. This occurs when the data are nearly identical. Results may be unreliable.\n",
      "  data = stats.zscore(data, ddof=1, axis=0)\n",
      "/Users/jgv/PycharmProjects/soccer-infogeo/.venv/lib/python3.11/site-packages/causallearn/utils/FastKCI/FastKCI.py:470: RuntimeWarning: Precision loss occurred in moment calculation due to catastrophic cancellation. This occurs when the data are nearly identical. Results may be unreliable.\n",
      "  data = stats.zscore(data, ddof=1, axis=0)\n",
      "/Users/jgv/PycharmProjects/soccer-infogeo/.venv/lib/python3.11/site-packages/causallearn/utils/FastKCI/FastKCI.py:470: RuntimeWarning: Precision loss occurred in moment calculation due to catastrophic cancellation. This occurs when the data are nearly identical. Results may be unreliable.\n",
      "  data = stats.zscore(data, ddof=1, axis=0)\n",
      "/Users/jgv/PycharmProjects/soccer-infogeo/.venv/lib/python3.11/site-packages/causallearn/utils/FastKCI/FastKCI.py:470: RuntimeWarning: Precision loss occurred in moment calculation due to catastrophic cancellation. This occurs when the data are nearly identical. Results may be unreliable.\n",
      "  data = stats.zscore(data, ddof=1, axis=0)\n",
      "/Users/jgv/PycharmProjects/soccer-infogeo/.venv/lib/python3.11/site-packages/causallearn/utils/FastKCI/FastKCI.py:470: RuntimeWarning: Precision loss occurred in moment calculation due to catastrophic cancellation. This occurs when the data are nearly identical. Results may be unreliable.\n",
      "  data = stats.zscore(data, ddof=1, axis=0)\n",
      "/Users/jgv/PycharmProjects/soccer-infogeo/.venv/lib/python3.11/site-packages/causallearn/utils/FastKCI/FastKCI.py:470: RuntimeWarning: Precision loss occurred in moment calculation due to catastrophic cancellation. This occurs when the data are nearly identical. Results may be unreliable.\n",
      "  data = stats.zscore(data, ddof=1, axis=0)\n",
      "/Users/jgv/PycharmProjects/soccer-infogeo/.venv/lib/python3.11/site-packages/causallearn/utils/FastKCI/FastKCI.py:470: RuntimeWarning: Precision loss occurred in moment calculation due to catastrophic cancellation. This occurs when the data are nearly identical. Results may be unreliable.\n",
      "  data = stats.zscore(data, ddof=1, axis=0)\n",
      "/Users/jgv/PycharmProjects/soccer-infogeo/.venv/lib/python3.11/site-packages/causallearn/utils/FastKCI/FastKCI.py:470: RuntimeWarning: Precision loss occurred in moment calculation due to catastrophic cancellation. This occurs when the data are nearly identical. Results may be unreliable.\n",
      "  data = stats.zscore(data, ddof=1, axis=0)\n",
      "/Users/jgv/PycharmProjects/soccer-infogeo/.venv/lib/python3.11/site-packages/causallearn/utils/FastKCI/FastKCI.py:470: RuntimeWarning: Precision loss occurred in moment calculation due to catastrophic cancellation. This occurs when the data are nearly identical. Results may be unreliable.\n",
      "  data = stats.zscore(data, ddof=1, axis=0)\n",
      "/Users/jgv/PycharmProjects/soccer-infogeo/.venv/lib/python3.11/site-packages/causallearn/utils/FastKCI/FastKCI.py:470: RuntimeWarning: Precision loss occurred in moment calculation due to catastrophic cancellation. This occurs when the data are nearly identical. Results may be unreliable.\n",
      "  data = stats.zscore(data, ddof=1, axis=0)\n",
      "/Users/jgv/PycharmProjects/soccer-infogeo/.venv/lib/python3.11/site-packages/causallearn/utils/FastKCI/FastKCI.py:470: RuntimeWarning: Precision loss occurred in moment calculation due to catastrophic cancellation. This occurs when the data are nearly identical. Results may be unreliable.\n",
      "  data = stats.zscore(data, ddof=1, axis=0)\n"
     ]
    },
    {
     "name": "stdout",
     "output_type": "stream",
     "text": [
      "Processing goalkick with alpha=0.15\n",
      "\n",
      "Processing keeper_action with alpha=0.15\n",
      "\n",
      "Processing pass with alpha=0.15\n",
      "\n"
     ]
    }
   ],
   "execution_count": 3
  }
 ],
 "metadata": {
  "kernelspec": {
   "display_name": "Python 3",
   "language": "python",
   "name": "python3"
  },
  "language_info": {
   "codemirror_mode": {
    "name": "ipython",
    "version": 2
   },
   "file_extension": ".py",
   "mimetype": "text/x-python",
   "name": "python",
   "nbconvert_exporter": "python",
   "pygments_lexer": "ipython2",
   "version": "2.7.6"
  }
 },
 "nbformat": 4,
 "nbformat_minor": 5
}
