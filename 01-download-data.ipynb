{
 "cells": [
  {
   "metadata": {},
   "cell_type": "markdown",
   "source": [
    "# Data Extraction\n",
    "Information Geometry Soft Clustering for Sport Analytics\n",
    "\n",
    "Joaquin Garay"
   ],
   "id": "353fbb7da3a6587e"
  },
  {
   "metadata": {
    "ExecuteTime": {
     "end_time": "2025-06-26T22:23:24.769495Z",
     "start_time": "2025-06-26T22:23:24.755576Z"
    }
   },
   "cell_type": "code",
   "outputs": [],
   "execution_count": 18,
   "source": "#!pip install socceraction==1.5.3 pandera==0.15.2 multimethod==1.9.1 jupyter notebook ipykernel",
   "id": "4151f9f58e38a326"
  },
  {
   "metadata": {
    "collapsed": true,
    "ExecuteTime": {
     "end_time": "2025-06-26T22:23:24.785309Z",
     "start_time": "2025-06-26T22:23:24.773556Z"
    }
   },
   "cell_type": "code",
   "outputs": [],
   "execution_count": 19,
   "source": [
    "import os\n",
    "import warnings\n",
    "import pandas as pd\n",
    "pd.set_option('display.max_columns', None)\n",
    "warnings.simplefilter(action='ignore', category=FutureWarning)\n",
    "warnings.simplefilter(action='ignore', category=pd.errors.PerformanceWarning)\n",
    "warnings.filterwarnings(action=\"ignore\", message=\"credentials were not supplied. open data access only\")\n",
    "import tqdm"
   ],
   "id": "initial_id"
  },
  {
   "metadata": {
    "ExecuteTime": {
     "end_time": "2025-06-26T22:23:24.810523Z",
     "start_time": "2025-06-26T22:23:24.799965Z"
    }
   },
   "cell_type": "code",
   "outputs": [
    {
     "name": "stdout",
     "output_type": "stream",
     "text": [
      "The autoreload extension is already loaded. To reload it, use:\n",
      "  %reload_ext autoreload\n"
     ]
    }
   ],
   "execution_count": 20,
   "source": [
    "%load_ext autoreload\n",
    "%autoreload 2\n",
    "\n",
    "#socceraction version==1.5.3\n",
    "#pandera version==0.15.2\n",
    "#multimethod version==1.9.1\n",
    "\n",
    "from socceraction.data.statsbomb import StatsBombLoader\n",
    "import socceraction.spadl as spadl"
   ],
   "id": "5ff9df1a8157e7b8"
  },
  {
   "metadata": {
    "ExecuteTime": {
     "end_time": "2025-06-26T22:23:24.832775Z",
     "start_time": "2025-06-26T22:23:24.823360Z"
    }
   },
   "cell_type": "code",
   "outputs": [],
   "execution_count": 21,
   "source": "SBL = StatsBombLoader(getter=\"remote\", creds={\"user\": None, \"passwd\": None})",
   "id": "b364593885ca94fd"
  },
  {
   "metadata": {},
   "cell_type": "markdown",
   "source": "",
   "id": "a416fbc95520fa61"
  },
  {
   "metadata": {
    "ExecuteTime": {
     "end_time": "2025-06-26T22:23:24.964636Z",
     "start_time": "2025-06-26T22:23:24.845616Z"
    }
   },
   "cell_type": "code",
   "outputs": [
    {
     "data": {
      "text/plain": [
       "{'1. Bundesliga',\n",
       " 'African Cup of Nations',\n",
       " 'Champions League',\n",
       " 'Copa America',\n",
       " 'Copa del Rey',\n",
       " \"FA Women's Super League\",\n",
       " 'FIFA U20 World Cup',\n",
       " 'FIFA World Cup',\n",
       " 'Indian Super league',\n",
       " 'La Liga',\n",
       " 'Liga Profesional',\n",
       " 'Ligue 1',\n",
       " 'Major League Soccer',\n",
       " 'NWSL',\n",
       " 'North American League',\n",
       " 'Premier League',\n",
       " 'Serie A',\n",
       " 'UEFA Euro',\n",
       " 'UEFA Europa League',\n",
       " \"UEFA Women's Euro\",\n",
       " \"Women's World Cup\"}"
      ]
     },
     "execution_count": 22,
     "metadata": {},
     "output_type": "execute_result"
    }
   ],
   "execution_count": 22,
   "source": [
    "# View all available competitions\n",
    "competitions = SBL.competitions()\n",
    "set(competitions.competition_name)"
   ],
   "id": "70ba99fd637d07d9"
  },
  {
   "metadata": {
    "ExecuteTime": {
     "end_time": "2025-06-26T22:23:24.988086Z",
     "start_time": "2025-06-26T22:23:24.978265Z"
    }
   },
   "cell_type": "code",
   "outputs": [],
   "execution_count": 23,
   "source": [
    "# Fifa world cup\n",
    "selected_competitions = competitions[\n",
    "    (competitions.competition_name == \"FIFA World Cup\")\n",
    "    & (competitions.season_name == \"2018\")\n",
    "]\n",
    "\n",
    "#Premier League\n",
    "#selected_competitions = competitions[competitions.competition_name == \"Premier League\"]"
   ],
   "id": "7cb337ba63ab4c33"
  },
  {
   "metadata": {
    "ExecuteTime": {
     "end_time": "2025-06-26T22:23:25.013106Z",
     "start_time": "2025-06-26T22:23:25.001845Z"
    }
   },
   "cell_type": "code",
   "outputs": [
    {
     "data": {
      "text/plain": [
       "    season_id  competition_id competition_name   country_name  \\\n",
       "30          3              43   FIFA World Cup  International   \n",
       "\n",
       "   competition_gender season_name  \n",
       "30               male        2018  "
      ],
      "text/html": [
       "<div>\n",
       "<style scoped>\n",
       "    .dataframe tbody tr th:only-of-type {\n",
       "        vertical-align: middle;\n",
       "    }\n",
       "\n",
       "    .dataframe tbody tr th {\n",
       "        vertical-align: top;\n",
       "    }\n",
       "\n",
       "    .dataframe thead th {\n",
       "        text-align: right;\n",
       "    }\n",
       "</style>\n",
       "<table border=\"1\" class=\"dataframe\">\n",
       "  <thead>\n",
       "    <tr style=\"text-align: right;\">\n",
       "      <th></th>\n",
       "      <th>season_id</th>\n",
       "      <th>competition_id</th>\n",
       "      <th>competition_name</th>\n",
       "      <th>country_name</th>\n",
       "      <th>competition_gender</th>\n",
       "      <th>season_name</th>\n",
       "    </tr>\n",
       "  </thead>\n",
       "  <tbody>\n",
       "    <tr>\n",
       "      <th>30</th>\n",
       "      <td>3</td>\n",
       "      <td>43</td>\n",
       "      <td>FIFA World Cup</td>\n",
       "      <td>International</td>\n",
       "      <td>male</td>\n",
       "      <td>2018</td>\n",
       "    </tr>\n",
       "  </tbody>\n",
       "</table>\n",
       "</div>"
      ]
     },
     "execution_count": 24,
     "metadata": {},
     "output_type": "execute_result"
    }
   ],
   "execution_count": 24,
   "source": "selected_competitions.head()",
   "id": "1eca7a3aac77a6a6"
  },
  {
   "metadata": {
    "ExecuteTime": {
     "end_time": "2025-06-26T22:23:25.175520Z",
     "start_time": "2025-06-26T22:23:25.045319Z"
    }
   },
   "cell_type": "code",
   "outputs": [
    {
     "data": {
      "text/plain": [
       "           game_id  season_id  competition_id   game_day  \\\n",
       "count    64.000000       64.0            64.0  64.000000   \n",
       "mean   7693.218750        3.0            43.0   2.718750   \n",
       "min    7525.000000        3.0            43.0   1.000000   \n",
       "25%    7543.750000        3.0            43.0   1.750000   \n",
       "50%    7559.500000        3.0            43.0   2.500000   \n",
       "75%    7578.250000        3.0            43.0   3.250000   \n",
       "max    8658.000000        3.0            43.0   7.000000   \n",
       "std     366.178223        0.0             0.0   1.537559   \n",
       "\n",
       "                           game_date  home_team_id  away_team_id  home_score  \\\n",
       "count                             64      64.00000     64.000000   64.000000   \n",
       "mean   2018-06-25 20:06:33.750000128     782.28125    782.734375    1.421875   \n",
       "min              2018-06-14 17:00:00     768.00000    768.000000    0.000000   \n",
       "25%              2018-06-19 19:15:00     775.00000    774.000000    0.000000   \n",
       "50%              2018-06-25 06:00:00     782.00000    782.500000    1.000000   \n",
       "75%              2018-06-29 07:00:00     789.25000    791.250000    2.000000   \n",
       "max              2018-07-15 17:00:00     799.00000    799.000000    6.000000   \n",
       "std                              NaN       8.83440      9.620154    1.354647   \n",
       "\n",
       "       away_score  \n",
       "count   64.000000  \n",
       "mean     1.218750  \n",
       "min      0.000000  \n",
       "25%      0.750000  \n",
       "50%      1.000000  \n",
       "75%      2.000000  \n",
       "max      3.000000  \n",
       "std      0.916667  "
      ],
      "text/html": [
       "<div>\n",
       "<style scoped>\n",
       "    .dataframe tbody tr th:only-of-type {\n",
       "        vertical-align: middle;\n",
       "    }\n",
       "\n",
       "    .dataframe tbody tr th {\n",
       "        vertical-align: top;\n",
       "    }\n",
       "\n",
       "    .dataframe thead th {\n",
       "        text-align: right;\n",
       "    }\n",
       "</style>\n",
       "<table border=\"1\" class=\"dataframe\">\n",
       "  <thead>\n",
       "    <tr style=\"text-align: right;\">\n",
       "      <th></th>\n",
       "      <th>game_id</th>\n",
       "      <th>season_id</th>\n",
       "      <th>competition_id</th>\n",
       "      <th>game_day</th>\n",
       "      <th>game_date</th>\n",
       "      <th>home_team_id</th>\n",
       "      <th>away_team_id</th>\n",
       "      <th>home_score</th>\n",
       "      <th>away_score</th>\n",
       "    </tr>\n",
       "  </thead>\n",
       "  <tbody>\n",
       "    <tr>\n",
       "      <th>count</th>\n",
       "      <td>64.000000</td>\n",
       "      <td>64.0</td>\n",
       "      <td>64.0</td>\n",
       "      <td>64.000000</td>\n",
       "      <td>64</td>\n",
       "      <td>64.00000</td>\n",
       "      <td>64.000000</td>\n",
       "      <td>64.000000</td>\n",
       "      <td>64.000000</td>\n",
       "    </tr>\n",
       "    <tr>\n",
       "      <th>mean</th>\n",
       "      <td>7693.218750</td>\n",
       "      <td>3.0</td>\n",
       "      <td>43.0</td>\n",
       "      <td>2.718750</td>\n",
       "      <td>2018-06-25 20:06:33.750000128</td>\n",
       "      <td>782.28125</td>\n",
       "      <td>782.734375</td>\n",
       "      <td>1.421875</td>\n",
       "      <td>1.218750</td>\n",
       "    </tr>\n",
       "    <tr>\n",
       "      <th>min</th>\n",
       "      <td>7525.000000</td>\n",
       "      <td>3.0</td>\n",
       "      <td>43.0</td>\n",
       "      <td>1.000000</td>\n",
       "      <td>2018-06-14 17:00:00</td>\n",
       "      <td>768.00000</td>\n",
       "      <td>768.000000</td>\n",
       "      <td>0.000000</td>\n",
       "      <td>0.000000</td>\n",
       "    </tr>\n",
       "    <tr>\n",
       "      <th>25%</th>\n",
       "      <td>7543.750000</td>\n",
       "      <td>3.0</td>\n",
       "      <td>43.0</td>\n",
       "      <td>1.750000</td>\n",
       "      <td>2018-06-19 19:15:00</td>\n",
       "      <td>775.00000</td>\n",
       "      <td>774.000000</td>\n",
       "      <td>0.000000</td>\n",
       "      <td>0.750000</td>\n",
       "    </tr>\n",
       "    <tr>\n",
       "      <th>50%</th>\n",
       "      <td>7559.500000</td>\n",
       "      <td>3.0</td>\n",
       "      <td>43.0</td>\n",
       "      <td>2.500000</td>\n",
       "      <td>2018-06-25 06:00:00</td>\n",
       "      <td>782.00000</td>\n",
       "      <td>782.500000</td>\n",
       "      <td>1.000000</td>\n",
       "      <td>1.000000</td>\n",
       "    </tr>\n",
       "    <tr>\n",
       "      <th>75%</th>\n",
       "      <td>7578.250000</td>\n",
       "      <td>3.0</td>\n",
       "      <td>43.0</td>\n",
       "      <td>3.250000</td>\n",
       "      <td>2018-06-29 07:00:00</td>\n",
       "      <td>789.25000</td>\n",
       "      <td>791.250000</td>\n",
       "      <td>2.000000</td>\n",
       "      <td>2.000000</td>\n",
       "    </tr>\n",
       "    <tr>\n",
       "      <th>max</th>\n",
       "      <td>8658.000000</td>\n",
       "      <td>3.0</td>\n",
       "      <td>43.0</td>\n",
       "      <td>7.000000</td>\n",
       "      <td>2018-07-15 17:00:00</td>\n",
       "      <td>799.00000</td>\n",
       "      <td>799.000000</td>\n",
       "      <td>6.000000</td>\n",
       "      <td>3.000000</td>\n",
       "    </tr>\n",
       "    <tr>\n",
       "      <th>std</th>\n",
       "      <td>366.178223</td>\n",
       "      <td>0.0</td>\n",
       "      <td>0.0</td>\n",
       "      <td>1.537559</td>\n",
       "      <td>NaN</td>\n",
       "      <td>8.83440</td>\n",
       "      <td>9.620154</td>\n",
       "      <td>1.354647</td>\n",
       "      <td>0.916667</td>\n",
       "    </tr>\n",
       "  </tbody>\n",
       "</table>\n",
       "</div>"
      ]
     },
     "execution_count": 25,
     "metadata": {},
     "output_type": "execute_result"
    }
   ],
   "execution_count": 25,
   "source": [
    "# Get games from all selected competitions\n",
    "games = pd.concat([\n",
    "    SBL.games(row.competition_id, row.season_id)\n",
    "    for row in selected_competitions.itertuples()\n",
    "])\n",
    "#games[[\"home_team_id\", \"away_team_id\", \"game_date\", \"home_score\", \"away_score\"]]\n",
    "games.describe()"
   ],
   "id": "c6a0ac705fd15a77"
  },
  {
   "metadata": {},
   "cell_type": "markdown",
   "source": "## Load and Convert data",
   "id": "972ea09cb42be1cc"
  },
  {
   "metadata": {
    "ExecuteTime": {
     "end_time": "2025-06-26T22:24:12.735152Z",
     "start_time": "2025-06-26T22:23:25.212907Z"
    }
   },
   "cell_type": "code",
   "outputs": [
    {
     "name": "stderr",
     "output_type": "stream",
     "text": [
      "Loading game data: 100%|██████████| 64/64 [00:47<00:00,  1.35it/s]\n"
     ]
    }
   ],
   "execution_count": 26,
   "source": [
    "games_verbose = tqdm.tqdm(list(games.itertuples()), desc=\"Loading game data\")\n",
    "teams, players = [], []\n",
    "actions = {}\n",
    "for game in games_verbose:\n",
    "    # load data\n",
    "    teams.append(SBL.teams(game.game_id))\n",
    "    players.append(SBL.players(game.game_id))\n",
    "    events = SBL.events(game.game_id)\n",
    "    # convert data\n",
    "    actions[game.game_id] = spadl.statsbomb.convert_to_actions(\n",
    "        events, #DataFrame containing StatsBomb events from a single game.\n",
    "        home_team_id=game.home_team_id, #ID of the home team in the corresponding game.\n",
    "        xy_fidelity_version=1,\n",
    "        shot_fidelity_version=1\n",
    "    )\n",
    "\n",
    "teams = pd.concat(teams).drop_duplicates(subset=\"team_id\")\n",
    "players = pd.concat(players)"
   ],
   "id": "3eb0a32e5ef978f0"
  },
  {
   "metadata": {
    "ExecuteTime": {
     "end_time": "2025-06-26T22:24:12.765864Z",
     "start_time": "2025-06-26T22:24:12.754536Z"
    }
   },
   "cell_type": "code",
   "outputs": [
    {
     "data": {
      "text/plain": [
       "   team_id    team_name\n",
       "0      768      England\n",
       "1      769     Colombia\n",
       "0      782      Belgium\n",
       "0      773  Switzerland\n",
       "1      790       Sweden"
      ],
      "text/html": [
       "<div>\n",
       "<style scoped>\n",
       "    .dataframe tbody tr th:only-of-type {\n",
       "        vertical-align: middle;\n",
       "    }\n",
       "\n",
       "    .dataframe tbody tr th {\n",
       "        vertical-align: top;\n",
       "    }\n",
       "\n",
       "    .dataframe thead th {\n",
       "        text-align: right;\n",
       "    }\n",
       "</style>\n",
       "<table border=\"1\" class=\"dataframe\">\n",
       "  <thead>\n",
       "    <tr style=\"text-align: right;\">\n",
       "      <th></th>\n",
       "      <th>team_id</th>\n",
       "      <th>team_name</th>\n",
       "    </tr>\n",
       "  </thead>\n",
       "  <tbody>\n",
       "    <tr>\n",
       "      <th>0</th>\n",
       "      <td>768</td>\n",
       "      <td>England</td>\n",
       "    </tr>\n",
       "    <tr>\n",
       "      <th>1</th>\n",
       "      <td>769</td>\n",
       "      <td>Colombia</td>\n",
       "    </tr>\n",
       "    <tr>\n",
       "      <th>0</th>\n",
       "      <td>782</td>\n",
       "      <td>Belgium</td>\n",
       "    </tr>\n",
       "    <tr>\n",
       "      <th>0</th>\n",
       "      <td>773</td>\n",
       "      <td>Switzerland</td>\n",
       "    </tr>\n",
       "    <tr>\n",
       "      <th>1</th>\n",
       "      <td>790</td>\n",
       "      <td>Sweden</td>\n",
       "    </tr>\n",
       "  </tbody>\n",
       "</table>\n",
       "</div>"
      ]
     },
     "execution_count": 27,
     "metadata": {},
     "output_type": "execute_result"
    }
   ],
   "execution_count": 27,
   "source": "teams.head()",
   "id": "7b305810115afa2e"
  },
  {
   "metadata": {
    "ExecuteTime": {
     "end_time": "2025-06-26T22:24:12.818061Z",
     "start_time": "2025-06-26T22:24:12.805578Z"
    }
   },
   "cell_type": "code",
   "outputs": [
    {
     "data": {
      "text/plain": [
       "   game_id  team_id  player_id      player_name         nickname  \\\n",
       "0     7585      768       3094    Bamidele Alli        Dele Alli   \n",
       "1     7585      768       3205      Kyle Walker             None   \n",
       "2     7585      768       3233  Raheem Sterling  Raheem Sterling   \n",
       "3     7585      768       3244      John Stones             None   \n",
       "4     7585      768       3293    Jesse Lingard             None   \n",
       "\n",
       "   jersey_number  is_starter  starting_position_id    starting_position_name  \\\n",
       "0             20        True                    20   Left Attacking Midfield   \n",
       "1              2        True                     3         Right Center Back   \n",
       "2             10        True                    22      Right Center Forward   \n",
       "3              5        True                     4               Center Back   \n",
       "4              7        True                    18  Right Attacking Midfield   \n",
       "\n",
       "   minutes_played  \n",
       "0              84  \n",
       "1             123  \n",
       "2              91  \n",
       "3             132  \n",
       "4             132  "
      ],
      "text/html": [
       "<div>\n",
       "<style scoped>\n",
       "    .dataframe tbody tr th:only-of-type {\n",
       "        vertical-align: middle;\n",
       "    }\n",
       "\n",
       "    .dataframe tbody tr th {\n",
       "        vertical-align: top;\n",
       "    }\n",
       "\n",
       "    .dataframe thead th {\n",
       "        text-align: right;\n",
       "    }\n",
       "</style>\n",
       "<table border=\"1\" class=\"dataframe\">\n",
       "  <thead>\n",
       "    <tr style=\"text-align: right;\">\n",
       "      <th></th>\n",
       "      <th>game_id</th>\n",
       "      <th>team_id</th>\n",
       "      <th>player_id</th>\n",
       "      <th>player_name</th>\n",
       "      <th>nickname</th>\n",
       "      <th>jersey_number</th>\n",
       "      <th>is_starter</th>\n",
       "      <th>starting_position_id</th>\n",
       "      <th>starting_position_name</th>\n",
       "      <th>minutes_played</th>\n",
       "    </tr>\n",
       "  </thead>\n",
       "  <tbody>\n",
       "    <tr>\n",
       "      <th>0</th>\n",
       "      <td>7585</td>\n",
       "      <td>768</td>\n",
       "      <td>3094</td>\n",
       "      <td>Bamidele Alli</td>\n",
       "      <td>Dele Alli</td>\n",
       "      <td>20</td>\n",
       "      <td>True</td>\n",
       "      <td>20</td>\n",
       "      <td>Left Attacking Midfield</td>\n",
       "      <td>84</td>\n",
       "    </tr>\n",
       "    <tr>\n",
       "      <th>1</th>\n",
       "      <td>7585</td>\n",
       "      <td>768</td>\n",
       "      <td>3205</td>\n",
       "      <td>Kyle Walker</td>\n",
       "      <td>None</td>\n",
       "      <td>2</td>\n",
       "      <td>True</td>\n",
       "      <td>3</td>\n",
       "      <td>Right Center Back</td>\n",
       "      <td>123</td>\n",
       "    </tr>\n",
       "    <tr>\n",
       "      <th>2</th>\n",
       "      <td>7585</td>\n",
       "      <td>768</td>\n",
       "      <td>3233</td>\n",
       "      <td>Raheem Sterling</td>\n",
       "      <td>Raheem Sterling</td>\n",
       "      <td>10</td>\n",
       "      <td>True</td>\n",
       "      <td>22</td>\n",
       "      <td>Right Center Forward</td>\n",
       "      <td>91</td>\n",
       "    </tr>\n",
       "    <tr>\n",
       "      <th>3</th>\n",
       "      <td>7585</td>\n",
       "      <td>768</td>\n",
       "      <td>3244</td>\n",
       "      <td>John Stones</td>\n",
       "      <td>None</td>\n",
       "      <td>5</td>\n",
       "      <td>True</td>\n",
       "      <td>4</td>\n",
       "      <td>Center Back</td>\n",
       "      <td>132</td>\n",
       "    </tr>\n",
       "    <tr>\n",
       "      <th>4</th>\n",
       "      <td>7585</td>\n",
       "      <td>768</td>\n",
       "      <td>3293</td>\n",
       "      <td>Jesse Lingard</td>\n",
       "      <td>None</td>\n",
       "      <td>7</td>\n",
       "      <td>True</td>\n",
       "      <td>18</td>\n",
       "      <td>Right Attacking Midfield</td>\n",
       "      <td>132</td>\n",
       "    </tr>\n",
       "  </tbody>\n",
       "</table>\n",
       "</div>"
      ]
     },
     "execution_count": 28,
     "metadata": {},
     "output_type": "execute_result"
    }
   ],
   "execution_count": 28,
   "source": "players.head()",
   "id": "ef22d795746771a2"
  },
  {
   "metadata": {
    "ExecuteTime": {
     "end_time": "2025-06-26T22:24:13.161964Z",
     "start_time": "2025-06-26T22:24:12.860085Z"
    }
   },
   "cell_type": "code",
   "outputs": [],
   "execution_count": 29,
   "source": [
    "datafolder = \"data\"\n",
    "filename = \"spadl-fifa2018\"\n",
    "\n",
    "# Create data folder if it doesn't exist\n",
    "if not os.path.exists(datafolder):\n",
    "    os.mkdir(datafolder)\n",
    "    print(f\"Directory {datafolder} created.\")\n",
    "\n",
    "spadl_h5 = os.path.join(datafolder, f'{filename}.h5')\n",
    "\n",
    "# Store all spadl data in h5-file\n",
    "with pd.HDFStore(spadl_h5) as spadlstore:\n",
    "    spadlstore[\"competitions\"] = selected_competitions\n",
    "    spadlstore[\"games\"] = games\n",
    "    spadlstore[\"teams\"] = teams\n",
    "    spadlstore[\"players\"] = players[['player_id', 'player_name', 'nickname']].drop_duplicates(subset='player_id')\n",
    "    spadlstore[\"player_games\"] = players[['player_id', 'game_id', 'team_id', 'is_starter', 'starting_position_id', 'starting_position_name', 'minutes_played']]\n",
    "    for game_id in actions.keys():\n",
    "        spadlstore[f\"actions/game_{game_id}\"] = actions[game_id]"
   ],
   "id": "8c199f829e114257"
  }
 ],
 "metadata": {
  "kernelspec": {
   "display_name": "Python 3",
   "language": "python",
   "name": "python3"
  },
  "language_info": {
   "codemirror_mode": {
    "name": "ipython",
    "version": 2
   },
   "file_extension": ".py",
   "mimetype": "text/x-python",
   "name": "python",
   "nbconvert_exporter": "python",
   "pygments_lexer": "ipython2",
   "version": "2.7.6"
  }
 },
 "nbformat": 4,
 "nbformat_minor": 5
}
