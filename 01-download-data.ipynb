{
 "cells": [
  {
   "metadata": {},
   "cell_type": "code",
   "outputs": [],
   "execution_count": null,
   "source": "!pip install socceraction==1.5.3 pandera==0.15.2 multimethod==1.9.1 jupyter notebook ipykernel",
   "id": "4151f9f58e38a326"
  },
  {
   "metadata": {
    "collapsed": true,
    "ExecuteTime": {
     "end_time": "2025-06-25T19:28:15.991900Z",
     "start_time": "2025-06-25T19:28:15.684734Z"
    }
   },
   "cell_type": "code",
   "outputs": [],
   "execution_count": 1,
   "source": [
    "import os\n",
    "import warnings\n",
    "import pandas as pd\n",
    "pd.set_option('display.max_columns', None)\n",
    "warnings.simplefilter(action='ignore', category=FutureWarning)\n",
    "warnings.simplefilter(action='ignore', category=pd.errors.PerformanceWarning)\n",
    "warnings.filterwarnings(action=\"ignore\", message=\"credentials were not supplied. open data access only\")\n",
    "import tqdm"
   ],
   "id": "initial_id"
  },
  {
   "metadata": {
    "ExecuteTime": {
     "end_time": "2025-06-25T19:28:16.761673Z",
     "start_time": "2025-06-25T19:28:15.995041Z"
    }
   },
   "cell_type": "code",
   "source": [
    "%load_ext autoreload\n",
    "%autoreload 2\n",
    "\n",
    "#socceraction version==1.5.3\n",
    "#pandera version==0.15.2\n",
    "#multimethod version==1.9.1\n",
    "\n",
    "from socceraction.data.statsbomb import StatsBombLoader\n",
    "import socceraction.spadl as spadl"
   ],
   "id": "5ff9df1a8157e7b8",
   "outputs": [],
   "execution_count": 2
  },
  {
   "metadata": {
    "ExecuteTime": {
     "end_time": "2025-06-25T19:28:16.841845Z",
     "start_time": "2025-06-25T19:28:16.827820Z"
    }
   },
   "cell_type": "code",
   "source": "SBL = StatsBombLoader(getter=\"remote\", creds={\"user\": None, \"passwd\": None})",
   "id": "b364593885ca94fd",
   "outputs": [],
   "execution_count": 3
  },
  {
   "metadata": {},
   "cell_type": "markdown",
   "source": "",
   "id": "a416fbc95520fa61"
  },
  {
   "metadata": {
    "ExecuteTime": {
     "end_time": "2025-06-25T19:28:16.997455Z",
     "start_time": "2025-06-25T19:28:16.851349Z"
    }
   },
   "cell_type": "code",
   "source": [
    "# View all available competitions\n",
    "competitions = SBL.competitions()\n",
    "set(competitions.competition_name)"
   ],
   "id": "70ba99fd637d07d9",
   "outputs": [
    {
     "data": {
      "text/plain": [
       "{'1. Bundesliga',\n",
       " 'African Cup of Nations',\n",
       " 'Champions League',\n",
       " 'Copa America',\n",
       " 'Copa del Rey',\n",
       " \"FA Women's Super League\",\n",
       " 'FIFA U20 World Cup',\n",
       " 'FIFA World Cup',\n",
       " 'Indian Super league',\n",
       " 'La Liga',\n",
       " 'Liga Profesional',\n",
       " 'Ligue 1',\n",
       " 'Major League Soccer',\n",
       " 'NWSL',\n",
       " 'North American League',\n",
       " 'Premier League',\n",
       " 'Serie A',\n",
       " 'UEFA Euro',\n",
       " 'UEFA Europa League',\n",
       " \"UEFA Women's Euro\",\n",
       " \"Women's World Cup\"}"
      ]
     },
     "execution_count": 4,
     "metadata": {},
     "output_type": "execute_result"
    }
   ],
   "execution_count": 4
  },
  {
   "metadata": {
    "ExecuteTime": {
     "end_time": "2025-06-25T19:28:17.013828Z",
     "start_time": "2025-06-25T19:28:17.002791Z"
    }
   },
   "cell_type": "code",
   "source": [
    "# Fifa world cup\n",
    "selected_competitions = competitions[\n",
    "    (competitions.competition_name == \"FIFA World Cup\")\n",
    "    & (competitions.season_name == \"2018\")\n",
    "]"
   ],
   "id": "7cb337ba63ab4c33",
   "outputs": [],
   "execution_count": 5
  },
  {
   "metadata": {
    "ExecuteTime": {
     "end_time": "2025-06-25T19:28:17.032087Z",
     "start_time": "2025-06-25T19:28:17.020432Z"
    }
   },
   "cell_type": "code",
   "source": "selected_competitions.head()",
   "id": "1eca7a3aac77a6a6",
   "outputs": [
    {
     "data": {
      "text/plain": [
       "    season_id  competition_id competition_name   country_name  \\\n",
       "30          3              43   FIFA World Cup  International   \n",
       "\n",
       "   competition_gender season_name  \n",
       "30               male        2018  "
      ],
      "text/html": [
       "<div>\n",
       "<style scoped>\n",
       "    .dataframe tbody tr th:only-of-type {\n",
       "        vertical-align: middle;\n",
       "    }\n",
       "\n",
       "    .dataframe tbody tr th {\n",
       "        vertical-align: top;\n",
       "    }\n",
       "\n",
       "    .dataframe thead th {\n",
       "        text-align: right;\n",
       "    }\n",
       "</style>\n",
       "<table border=\"1\" class=\"dataframe\">\n",
       "  <thead>\n",
       "    <tr style=\"text-align: right;\">\n",
       "      <th></th>\n",
       "      <th>season_id</th>\n",
       "      <th>competition_id</th>\n",
       "      <th>competition_name</th>\n",
       "      <th>country_name</th>\n",
       "      <th>competition_gender</th>\n",
       "      <th>season_name</th>\n",
       "    </tr>\n",
       "  </thead>\n",
       "  <tbody>\n",
       "    <tr>\n",
       "      <th>30</th>\n",
       "      <td>3</td>\n",
       "      <td>43</td>\n",
       "      <td>FIFA World Cup</td>\n",
       "      <td>International</td>\n",
       "      <td>male</td>\n",
       "      <td>2018</td>\n",
       "    </tr>\n",
       "  </tbody>\n",
       "</table>\n",
       "</div>"
      ]
     },
     "execution_count": 6,
     "metadata": {},
     "output_type": "execute_result"
    }
   ],
   "execution_count": 6
  },
  {
   "metadata": {
    "ExecuteTime": {
     "end_time": "2025-06-25T19:28:17.215218Z",
     "start_time": "2025-06-25T19:28:17.055275Z"
    }
   },
   "cell_type": "code",
   "source": [
    "# Get games from all selected competitions\n",
    "games = pd.concat([\n",
    "    SBL.games(row.competition_id, row.season_id)\n",
    "    for row in selected_competitions.itertuples()\n",
    "])\n",
    "#games[[\"home_team_id\", \"away_team_id\", \"game_date\", \"home_score\", \"away_score\"]]\n",
    "games.head()"
   ],
   "id": "c6a0ac705fd15a77",
   "outputs": [
    {
     "data": {
      "text/plain": [
       "   game_id  season_id  competition_id competition_stage  game_day  \\\n",
       "0     7585          3              43       Round of 16         4   \n",
       "1     7570          3              43       Group Stage         3   \n",
       "2     7586          3              43       Round of 16         4   \n",
       "3     7557          3              43       Group Stage         3   \n",
       "4     7542          3              43       Group Stage         2   \n",
       "\n",
       "            game_date  home_team_id  away_team_id  home_score  away_score  \\\n",
       "0 2018-07-03 20:00:00           769           768           1           1   \n",
       "1 2018-06-28 20:00:00           768           782           0           1   \n",
       "2 2018-07-03 16:00:00           790           773           1           0   \n",
       "3 2018-06-25 20:00:00           797           780           1           1   \n",
       "4 2018-06-20 14:00:00           780           788           1           0   \n",
       "\n",
       "                      venue          referee  \n",
       "0       Otkritie Bank Arena      Mark Geiger  \n",
       "1       Stadion Kaliningrad    Damir Skomina  \n",
       "2  Saint-Petersburg Stadium    Damir Skomina  \n",
       "3            Mordovia Arena  Enrique Cáceres  \n",
       "4          Stadion Luzhniki      Mark Geiger  "
      ],
      "text/html": [
       "<div>\n",
       "<style scoped>\n",
       "    .dataframe tbody tr th:only-of-type {\n",
       "        vertical-align: middle;\n",
       "    }\n",
       "\n",
       "    .dataframe tbody tr th {\n",
       "        vertical-align: top;\n",
       "    }\n",
       "\n",
       "    .dataframe thead th {\n",
       "        text-align: right;\n",
       "    }\n",
       "</style>\n",
       "<table border=\"1\" class=\"dataframe\">\n",
       "  <thead>\n",
       "    <tr style=\"text-align: right;\">\n",
       "      <th></th>\n",
       "      <th>game_id</th>\n",
       "      <th>season_id</th>\n",
       "      <th>competition_id</th>\n",
       "      <th>competition_stage</th>\n",
       "      <th>game_day</th>\n",
       "      <th>game_date</th>\n",
       "      <th>home_team_id</th>\n",
       "      <th>away_team_id</th>\n",
       "      <th>home_score</th>\n",
       "      <th>away_score</th>\n",
       "      <th>venue</th>\n",
       "      <th>referee</th>\n",
       "    </tr>\n",
       "  </thead>\n",
       "  <tbody>\n",
       "    <tr>\n",
       "      <th>0</th>\n",
       "      <td>7585</td>\n",
       "      <td>3</td>\n",
       "      <td>43</td>\n",
       "      <td>Round of 16</td>\n",
       "      <td>4</td>\n",
       "      <td>2018-07-03 20:00:00</td>\n",
       "      <td>769</td>\n",
       "      <td>768</td>\n",
       "      <td>1</td>\n",
       "      <td>1</td>\n",
       "      <td>Otkritie Bank Arena</td>\n",
       "      <td>Mark Geiger</td>\n",
       "    </tr>\n",
       "    <tr>\n",
       "      <th>1</th>\n",
       "      <td>7570</td>\n",
       "      <td>3</td>\n",
       "      <td>43</td>\n",
       "      <td>Group Stage</td>\n",
       "      <td>3</td>\n",
       "      <td>2018-06-28 20:00:00</td>\n",
       "      <td>768</td>\n",
       "      <td>782</td>\n",
       "      <td>0</td>\n",
       "      <td>1</td>\n",
       "      <td>Stadion Kaliningrad</td>\n",
       "      <td>Damir Skomina</td>\n",
       "    </tr>\n",
       "    <tr>\n",
       "      <th>2</th>\n",
       "      <td>7586</td>\n",
       "      <td>3</td>\n",
       "      <td>43</td>\n",
       "      <td>Round of 16</td>\n",
       "      <td>4</td>\n",
       "      <td>2018-07-03 16:00:00</td>\n",
       "      <td>790</td>\n",
       "      <td>773</td>\n",
       "      <td>1</td>\n",
       "      <td>0</td>\n",
       "      <td>Saint-Petersburg Stadium</td>\n",
       "      <td>Damir Skomina</td>\n",
       "    </tr>\n",
       "    <tr>\n",
       "      <th>3</th>\n",
       "      <td>7557</td>\n",
       "      <td>3</td>\n",
       "      <td>43</td>\n",
       "      <td>Group Stage</td>\n",
       "      <td>3</td>\n",
       "      <td>2018-06-25 20:00:00</td>\n",
       "      <td>797</td>\n",
       "      <td>780</td>\n",
       "      <td>1</td>\n",
       "      <td>1</td>\n",
       "      <td>Mordovia Arena</td>\n",
       "      <td>Enrique Cáceres</td>\n",
       "    </tr>\n",
       "    <tr>\n",
       "      <th>4</th>\n",
       "      <td>7542</td>\n",
       "      <td>3</td>\n",
       "      <td>43</td>\n",
       "      <td>Group Stage</td>\n",
       "      <td>2</td>\n",
       "      <td>2018-06-20 14:00:00</td>\n",
       "      <td>780</td>\n",
       "      <td>788</td>\n",
       "      <td>1</td>\n",
       "      <td>0</td>\n",
       "      <td>Stadion Luzhniki</td>\n",
       "      <td>Mark Geiger</td>\n",
       "    </tr>\n",
       "  </tbody>\n",
       "</table>\n",
       "</div>"
      ]
     },
     "execution_count": 7,
     "metadata": {},
     "output_type": "execute_result"
    }
   ],
   "execution_count": 7
  },
  {
   "metadata": {},
   "cell_type": "markdown",
   "source": "## Load and Convert data",
   "id": "972ea09cb42be1cc"
  },
  {
   "metadata": {
    "ExecuteTime": {
     "end_time": "2025-06-25T19:29:03.533594Z",
     "start_time": "2025-06-25T19:28:17.270760Z"
    }
   },
   "cell_type": "code",
   "source": [
    "games_verbose = tqdm.tqdm(list(games.itertuples()), desc=\"Loading game data\")\n",
    "teams, players = [], []\n",
    "actions = {}\n",
    "for game in games_verbose:\n",
    "    # load data\n",
    "    teams.append(SBL.teams(game.game_id))\n",
    "    players.append(SBL.players(game.game_id))\n",
    "    events = SBL.events(game.game_id)\n",
    "    # convert data\n",
    "    actions[game.game_id] = spadl.statsbomb.convert_to_actions(\n",
    "        events, #DataFrame containing StatsBomb events from a single game.\n",
    "        home_team_id=game.home_team_id, #ID of the home team in the corresponding game.\n",
    "        xy_fidelity_version=1,\n",
    "        shot_fidelity_version=1\n",
    "    )\n",
    "\n",
    "teams = pd.concat(teams).drop_duplicates(subset=\"team_id\")\n",
    "players = pd.concat(players)"
   ],
   "id": "3eb0a32e5ef978f0",
   "outputs": [
    {
     "name": "stderr",
     "output_type": "stream",
     "text": [
      "Loading game data: 100%|██████████| 64/64 [00:46<00:00,  1.38it/s]\n"
     ]
    }
   ],
   "execution_count": 8
  },
  {
   "metadata": {
    "ExecuteTime": {
     "end_time": "2025-06-25T19:29:03.604938Z",
     "start_time": "2025-06-25T19:29:03.591266Z"
    }
   },
   "cell_type": "code",
   "source": "teams.head()",
   "id": "7b305810115afa2e",
   "outputs": [
    {
     "data": {
      "text/plain": [
       "   team_id    team_name\n",
       "0      768      England\n",
       "1      769     Colombia\n",
       "0      782      Belgium\n",
       "0      773  Switzerland\n",
       "1      790       Sweden"
      ],
      "text/html": [
       "<div>\n",
       "<style scoped>\n",
       "    .dataframe tbody tr th:only-of-type {\n",
       "        vertical-align: middle;\n",
       "    }\n",
       "\n",
       "    .dataframe tbody tr th {\n",
       "        vertical-align: top;\n",
       "    }\n",
       "\n",
       "    .dataframe thead th {\n",
       "        text-align: right;\n",
       "    }\n",
       "</style>\n",
       "<table border=\"1\" class=\"dataframe\">\n",
       "  <thead>\n",
       "    <tr style=\"text-align: right;\">\n",
       "      <th></th>\n",
       "      <th>team_id</th>\n",
       "      <th>team_name</th>\n",
       "    </tr>\n",
       "  </thead>\n",
       "  <tbody>\n",
       "    <tr>\n",
       "      <th>0</th>\n",
       "      <td>768</td>\n",
       "      <td>England</td>\n",
       "    </tr>\n",
       "    <tr>\n",
       "      <th>1</th>\n",
       "      <td>769</td>\n",
       "      <td>Colombia</td>\n",
       "    </tr>\n",
       "    <tr>\n",
       "      <th>0</th>\n",
       "      <td>782</td>\n",
       "      <td>Belgium</td>\n",
       "    </tr>\n",
       "    <tr>\n",
       "      <th>0</th>\n",
       "      <td>773</td>\n",
       "      <td>Switzerland</td>\n",
       "    </tr>\n",
       "    <tr>\n",
       "      <th>1</th>\n",
       "      <td>790</td>\n",
       "      <td>Sweden</td>\n",
       "    </tr>\n",
       "  </tbody>\n",
       "</table>\n",
       "</div>"
      ]
     },
     "execution_count": 9,
     "metadata": {},
     "output_type": "execute_result"
    }
   ],
   "execution_count": 9
  },
  {
   "metadata": {
    "ExecuteTime": {
     "end_time": "2025-06-25T19:29:03.638451Z",
     "start_time": "2025-06-25T19:29:03.627050Z"
    }
   },
   "cell_type": "code",
   "source": "players.head()",
   "id": "ef22d795746771a2",
   "outputs": [
    {
     "data": {
      "text/plain": [
       "   game_id  team_id  player_id      player_name         nickname  \\\n",
       "0     7585      768       3094    Bamidele Alli        Dele Alli   \n",
       "1     7585      768       3205      Kyle Walker             None   \n",
       "2     7585      768       3233  Raheem Sterling  Raheem Sterling   \n",
       "3     7585      768       3244      John Stones             None   \n",
       "4     7585      768       3293    Jesse Lingard             None   \n",
       "\n",
       "   jersey_number  is_starter  starting_position_id    starting_position_name  \\\n",
       "0             20        True                    20   Left Attacking Midfield   \n",
       "1              2        True                     3         Right Center Back   \n",
       "2             10        True                    22      Right Center Forward   \n",
       "3              5        True                     4               Center Back   \n",
       "4              7        True                    18  Right Attacking Midfield   \n",
       "\n",
       "   minutes_played  \n",
       "0              84  \n",
       "1             123  \n",
       "2              91  \n",
       "3             132  \n",
       "4             132  "
      ],
      "text/html": [
       "<div>\n",
       "<style scoped>\n",
       "    .dataframe tbody tr th:only-of-type {\n",
       "        vertical-align: middle;\n",
       "    }\n",
       "\n",
       "    .dataframe tbody tr th {\n",
       "        vertical-align: top;\n",
       "    }\n",
       "\n",
       "    .dataframe thead th {\n",
       "        text-align: right;\n",
       "    }\n",
       "</style>\n",
       "<table border=\"1\" class=\"dataframe\">\n",
       "  <thead>\n",
       "    <tr style=\"text-align: right;\">\n",
       "      <th></th>\n",
       "      <th>game_id</th>\n",
       "      <th>team_id</th>\n",
       "      <th>player_id</th>\n",
       "      <th>player_name</th>\n",
       "      <th>nickname</th>\n",
       "      <th>jersey_number</th>\n",
       "      <th>is_starter</th>\n",
       "      <th>starting_position_id</th>\n",
       "      <th>starting_position_name</th>\n",
       "      <th>minutes_played</th>\n",
       "    </tr>\n",
       "  </thead>\n",
       "  <tbody>\n",
       "    <tr>\n",
       "      <th>0</th>\n",
       "      <td>7585</td>\n",
       "      <td>768</td>\n",
       "      <td>3094</td>\n",
       "      <td>Bamidele Alli</td>\n",
       "      <td>Dele Alli</td>\n",
       "      <td>20</td>\n",
       "      <td>True</td>\n",
       "      <td>20</td>\n",
       "      <td>Left Attacking Midfield</td>\n",
       "      <td>84</td>\n",
       "    </tr>\n",
       "    <tr>\n",
       "      <th>1</th>\n",
       "      <td>7585</td>\n",
       "      <td>768</td>\n",
       "      <td>3205</td>\n",
       "      <td>Kyle Walker</td>\n",
       "      <td>None</td>\n",
       "      <td>2</td>\n",
       "      <td>True</td>\n",
       "      <td>3</td>\n",
       "      <td>Right Center Back</td>\n",
       "      <td>123</td>\n",
       "    </tr>\n",
       "    <tr>\n",
       "      <th>2</th>\n",
       "      <td>7585</td>\n",
       "      <td>768</td>\n",
       "      <td>3233</td>\n",
       "      <td>Raheem Sterling</td>\n",
       "      <td>Raheem Sterling</td>\n",
       "      <td>10</td>\n",
       "      <td>True</td>\n",
       "      <td>22</td>\n",
       "      <td>Right Center Forward</td>\n",
       "      <td>91</td>\n",
       "    </tr>\n",
       "    <tr>\n",
       "      <th>3</th>\n",
       "      <td>7585</td>\n",
       "      <td>768</td>\n",
       "      <td>3244</td>\n",
       "      <td>John Stones</td>\n",
       "      <td>None</td>\n",
       "      <td>5</td>\n",
       "      <td>True</td>\n",
       "      <td>4</td>\n",
       "      <td>Center Back</td>\n",
       "      <td>132</td>\n",
       "    </tr>\n",
       "    <tr>\n",
       "      <th>4</th>\n",
       "      <td>7585</td>\n",
       "      <td>768</td>\n",
       "      <td>3293</td>\n",
       "      <td>Jesse Lingard</td>\n",
       "      <td>None</td>\n",
       "      <td>7</td>\n",
       "      <td>True</td>\n",
       "      <td>18</td>\n",
       "      <td>Right Attacking Midfield</td>\n",
       "      <td>132</td>\n",
       "    </tr>\n",
       "  </tbody>\n",
       "</table>\n",
       "</div>"
      ]
     },
     "execution_count": 10,
     "metadata": {},
     "output_type": "execute_result"
    }
   ],
   "execution_count": 10
  },
  {
   "metadata": {
    "ExecuteTime": {
     "end_time": "2025-06-25T19:29:03.726110Z",
     "start_time": "2025-06-25T19:29:03.714600Z"
    }
   },
   "cell_type": "code",
   "source": [
    "first_match_actions = next(iter(actions.values())) #DataFrame\n",
    "print( first_match_actions )\n"
   ],
   "id": "b2d449e3e710d932",
   "outputs": [
    {
     "name": "stdout",
     "output_type": "stream",
     "text": [
      "      game_id                     original_event_id  period_id  time_seconds  \\\n",
      "0        7585  d4883f20-ce68-4f84-b26a-a049a13cb6be          1          0.24   \n",
      "1        7585  b948f032-4c54-4782-a71a-ffeed8908d00          1          0.48   \n",
      "2        7585  9bdb71f9-c87b-4a66-96f0-def5312ca921          1          2.12   \n",
      "3        7585  2ffa2904-8b47-4817-af26-aa9ac8d2881a          1          3.44   \n",
      "4        7585  6cb0d85d-bd14-42e3-9c2d-7f99ce437796          1          4.20   \n",
      "...       ...                                   ...        ...           ...   \n",
      "2286     7585  fd52691f-c11b-4464-9515-42aab2f0c61d          5        238.64   \n",
      "2287     7585  656b7495-8667-4026-be53-1d5423daeb92          5        290.20   \n",
      "2288     7585  248aad43-431e-40e2-a896-540d5c533e0b          5        337.68   \n",
      "2289     7585  0d5eb466-acfb-4432-a8ca-ea8533f72625          5        385.20   \n",
      "2290     7585  90523b61-4f2c-40bb-ad54-29bf70c0e6ec          5        434.84   \n",
      "\n",
      "      team_id  player_id  start_x  start_y     end_x    end_y  type_id  \\\n",
      "0         769     3445.0  52.0625   34.425   43.3125  33.5750        0   \n",
      "1         769     5692.0  43.3125   33.575   44.1875  34.4250       21   \n",
      "2         769     5692.0  44.1875   34.425   40.6875  22.5250        0   \n",
      "3         769     5685.0  40.6875   22.525   42.4375  21.6750       21   \n",
      "4         769     5685.0  42.4375   21.675   56.4375   1.2750        0   \n",
      "...       ...        ...      ...      ...       ...      ...      ...   \n",
      "2286      768     3532.0  10.0625   34.425    0.4375  37.1875       12   \n",
      "2287      769     6193.0  94.9375   33.575  104.5625  31.1525       12   \n",
      "2288      768     3308.0  10.0625   34.425    1.3125  31.4075       12   \n",
      "2289      769     5688.0  94.9375   33.575  104.5625  34.9775       12   \n",
      "2290      768    10956.0  10.0625   34.425    0.4375  30.8975       12   \n",
      "\n",
      "      result_id  bodypart_id  action_id  \n",
      "0             1            4          0  \n",
      "1             1            0          1  \n",
      "2             1            4          2  \n",
      "3             1            0          3  \n",
      "4             1            5          4  \n",
      "...         ...          ...        ...  \n",
      "2286          0            5       2286  \n",
      "2287          0            5       2287  \n",
      "2288          1            5       2288  \n",
      "2289          0            5       2289  \n",
      "2290          1            5       2290  \n",
      "\n",
      "[2291 rows x 14 columns]\n"
     ]
    }
   ],
   "execution_count": 11
  },
  {
   "metadata": {
    "ExecuteTime": {
     "end_time": "2025-06-25T19:29:04.089891Z",
     "start_time": "2025-06-25T19:29:03.810932Z"
    }
   },
   "cell_type": "code",
   "source": [
    "datafolder = \"data-fifa\"\n",
    "\n",
    "# Create data folder if it doesn't exist\n",
    "if not os.path.exists(datafolder):\n",
    "    os.mkdir(datafolder)\n",
    "    print(f\"Directory {datafolder} created.\")\n",
    "\n",
    "spadl_h5 = os.path.join(datafolder, \"spadl-fifa2018.h5\")\n",
    "\n",
    "# Store all spadl data in h5-file\n",
    "with pd.HDFStore(spadl_h5) as spadlstore:\n",
    "    spadlstore[\"competitions\"] = selected_competitions\n",
    "    spadlstore[\"games\"] = games\n",
    "    spadlstore[\"teams\"] = teams\n",
    "    spadlstore[\"players\"] = players[['player_id', 'player_name', 'nickname']].drop_duplicates(subset='player_id')\n",
    "    spadlstore[\"player_games\"] = players[['player_id', 'game_id', 'team_id', 'is_starter', 'starting_position_id', 'starting_position_name', 'minutes_played']]\n",
    "    for game_id in actions.keys():\n",
    "        spadlstore[f\"actions/game_{game_id}\"] = actions[game_id]"
   ],
   "id": "8c199f829e114257",
   "outputs": [],
   "execution_count": 12
  }
 ],
 "metadata": {
  "kernelspec": {
   "display_name": "Python 3",
   "language": "python",
   "name": "python3"
  },
  "language_info": {
   "codemirror_mode": {
    "name": "ipython",
    "version": 2
   },
   "file_extension": ".py",
   "mimetype": "text/x-python",
   "name": "python",
   "nbconvert_exporter": "python",
   "pygments_lexer": "ipython2",
   "version": "2.7.6"
  }
 },
 "nbformat": 4,
 "nbformat_minor": 5
}
