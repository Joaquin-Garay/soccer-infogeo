{
 "cells": [
  {
   "cell_type": "code",
   "id": "initial_id",
   "metadata": {
    "collapsed": true,
    "ExecuteTime": {
     "end_time": "2025-06-25T18:21:10.746887Z",
     "start_time": "2025-06-25T18:21:10.500227Z"
    }
   },
   "source": [
    "import os\n",
    "import warnings\n",
    "import pandas as pd\n",
    "pd.set_option('display.max_columns', None)\n",
    "warnings.simplefilter(action='ignore', category=FutureWarning)\n",
    "warnings.simplefilter(action='ignore', category=pd.errors.PerformanceWarning)\n",
    "warnings.filterwarnings(action=\"ignore\", message=\"credentials were not supplied. open data access only\")\n",
    "import tqdm"
   ],
   "outputs": [],
   "execution_count": 1
  },
  {
   "metadata": {
    "ExecuteTime": {
     "end_time": "2025-06-25T18:21:11.463516Z",
     "start_time": "2025-06-25T18:21:10.766764Z"
    }
   },
   "cell_type": "code",
   "source": [
    "%load_ext autoreload\n",
    "%autoreload 2\n",
    "\n",
    "#socceraction version==1.5.3\n",
    "#pandera version==0.15.2\n",
    "#multimethod version==1.9.1\n",
    "\n",
    "from socceraction.data.statsbomb import StatsBombLoader\n",
    "import socceraction.spadl as spadl"
   ],
   "id": "5ff9df1a8157e7b8",
   "outputs": [],
   "execution_count": 2
  },
  {
   "metadata": {
    "ExecuteTime": {
     "end_time": "2025-06-25T18:21:11.525034Z",
     "start_time": "2025-06-25T18:21:11.514615Z"
    }
   },
   "cell_type": "code",
   "source": "SBL = StatsBombLoader(getter=\"remote\", creds={\"user\": None, \"passwd\": None})",
   "id": "b364593885ca94fd",
   "outputs": [],
   "execution_count": 3
  },
  {
   "metadata": {
    "ExecuteTime": {
     "end_time": "2025-06-25T18:21:11.644497Z",
     "start_time": "2025-06-25T18:21:11.529263Z"
    }
   },
   "cell_type": "code",
   "source": [
    "# View all available competitions\n",
    "competitions = SBL.competitions()\n",
    "set(competitions.competition_name)"
   ],
   "id": "70ba99fd637d07d9",
   "outputs": [
    {
     "data": {
      "text/plain": [
       "{'1. Bundesliga',\n",
       " 'African Cup of Nations',\n",
       " 'Champions League',\n",
       " 'Copa America',\n",
       " 'Copa del Rey',\n",
       " \"FA Women's Super League\",\n",
       " 'FIFA U20 World Cup',\n",
       " 'FIFA World Cup',\n",
       " 'Indian Super league',\n",
       " 'La Liga',\n",
       " 'Liga Profesional',\n",
       " 'Ligue 1',\n",
       " 'Major League Soccer',\n",
       " 'NWSL',\n",
       " 'North American League',\n",
       " 'Premier League',\n",
       " 'Serie A',\n",
       " 'UEFA Euro',\n",
       " 'UEFA Europa League',\n",
       " \"UEFA Women's Euro\",\n",
       " \"Women's World Cup\"}"
      ]
     },
     "execution_count": 4,
     "metadata": {},
     "output_type": "execute_result"
    }
   ],
   "execution_count": 4
  },
  {
   "metadata": {
    "ExecuteTime": {
     "end_time": "2025-06-25T18:21:11.666350Z",
     "start_time": "2025-06-25T18:21:11.655752Z"
    }
   },
   "cell_type": "code",
   "source": [
    "# Fifa world cup\n",
    "selected_competitions = competitions[\n",
    "    (competitions.competition_name == \"FIFA World Cup\")\n",
    "    & (competitions.season_name == \"2018\")\n",
    "]"
   ],
   "id": "7cb337ba63ab4c33",
   "outputs": [],
   "execution_count": 5
  },
  {
   "metadata": {
    "ExecuteTime": {
     "end_time": "2025-06-25T18:21:11.684255Z",
     "start_time": "2025-06-25T18:21:11.672441Z"
    }
   },
   "cell_type": "code",
   "source": "selected_competitions.head()",
   "id": "1eca7a3aac77a6a6",
   "outputs": [
    {
     "data": {
      "text/plain": [
       "    season_id  competition_id competition_name   country_name  \\\n",
       "30          3              43   FIFA World Cup  International   \n",
       "\n",
       "   competition_gender season_name  \n",
       "30               male        2018  "
      ],
      "text/html": [
       "<div>\n",
       "<style scoped>\n",
       "    .dataframe tbody tr th:only-of-type {\n",
       "        vertical-align: middle;\n",
       "    }\n",
       "\n",
       "    .dataframe tbody tr th {\n",
       "        vertical-align: top;\n",
       "    }\n",
       "\n",
       "    .dataframe thead th {\n",
       "        text-align: right;\n",
       "    }\n",
       "</style>\n",
       "<table border=\"1\" class=\"dataframe\">\n",
       "  <thead>\n",
       "    <tr style=\"text-align: right;\">\n",
       "      <th></th>\n",
       "      <th>season_id</th>\n",
       "      <th>competition_id</th>\n",
       "      <th>competition_name</th>\n",
       "      <th>country_name</th>\n",
       "      <th>competition_gender</th>\n",
       "      <th>season_name</th>\n",
       "    </tr>\n",
       "  </thead>\n",
       "  <tbody>\n",
       "    <tr>\n",
       "      <th>30</th>\n",
       "      <td>3</td>\n",
       "      <td>43</td>\n",
       "      <td>FIFA World Cup</td>\n",
       "      <td>International</td>\n",
       "      <td>male</td>\n",
       "      <td>2018</td>\n",
       "    </tr>\n",
       "  </tbody>\n",
       "</table>\n",
       "</div>"
      ]
     },
     "execution_count": 6,
     "metadata": {},
     "output_type": "execute_result"
    }
   ],
   "execution_count": 6
  },
  {
   "metadata": {
    "ExecuteTime": {
     "end_time": "2025-06-25T18:21:11.834413Z",
     "start_time": "2025-06-25T18:21:11.707143Z"
    }
   },
   "cell_type": "code",
   "source": [
    "# Get games from all selected competitions\n",
    "games = pd.concat([\n",
    "    SBL.games(row.competition_id, row.season_id)\n",
    "    for row in selected_competitions.itertuples()\n",
    "])\n",
    "#games[[\"home_team_id\", \"away_team_id\", \"game_date\", \"home_score\", \"away_score\"]]\n",
    "games.head()"
   ],
   "id": "c6a0ac705fd15a77",
   "outputs": [
    {
     "data": {
      "text/plain": [
       "   game_id  season_id  competition_id competition_stage  game_day  \\\n",
       "0     7585          3              43       Round of 16         4   \n",
       "1     7570          3              43       Group Stage         3   \n",
       "2     7586          3              43       Round of 16         4   \n",
       "3     7557          3              43       Group Stage         3   \n",
       "4     7542          3              43       Group Stage         2   \n",
       "\n",
       "            game_date  home_team_id  away_team_id  home_score  away_score  \\\n",
       "0 2018-07-03 20:00:00           769           768           1           1   \n",
       "1 2018-06-28 20:00:00           768           782           0           1   \n",
       "2 2018-07-03 16:00:00           790           773           1           0   \n",
       "3 2018-06-25 20:00:00           797           780           1           1   \n",
       "4 2018-06-20 14:00:00           780           788           1           0   \n",
       "\n",
       "                      venue          referee  \n",
       "0       Otkritie Bank Arena      Mark Geiger  \n",
       "1       Stadion Kaliningrad    Damir Skomina  \n",
       "2  Saint-Petersburg Stadium    Damir Skomina  \n",
       "3            Mordovia Arena  Enrique Cáceres  \n",
       "4          Stadion Luzhniki      Mark Geiger  "
      ],
      "text/html": [
       "<div>\n",
       "<style scoped>\n",
       "    .dataframe tbody tr th:only-of-type {\n",
       "        vertical-align: middle;\n",
       "    }\n",
       "\n",
       "    .dataframe tbody tr th {\n",
       "        vertical-align: top;\n",
       "    }\n",
       "\n",
       "    .dataframe thead th {\n",
       "        text-align: right;\n",
       "    }\n",
       "</style>\n",
       "<table border=\"1\" class=\"dataframe\">\n",
       "  <thead>\n",
       "    <tr style=\"text-align: right;\">\n",
       "      <th></th>\n",
       "      <th>game_id</th>\n",
       "      <th>season_id</th>\n",
       "      <th>competition_id</th>\n",
       "      <th>competition_stage</th>\n",
       "      <th>game_day</th>\n",
       "      <th>game_date</th>\n",
       "      <th>home_team_id</th>\n",
       "      <th>away_team_id</th>\n",
       "      <th>home_score</th>\n",
       "      <th>away_score</th>\n",
       "      <th>venue</th>\n",
       "      <th>referee</th>\n",
       "    </tr>\n",
       "  </thead>\n",
       "  <tbody>\n",
       "    <tr>\n",
       "      <th>0</th>\n",
       "      <td>7585</td>\n",
       "      <td>3</td>\n",
       "      <td>43</td>\n",
       "      <td>Round of 16</td>\n",
       "      <td>4</td>\n",
       "      <td>2018-07-03 20:00:00</td>\n",
       "      <td>769</td>\n",
       "      <td>768</td>\n",
       "      <td>1</td>\n",
       "      <td>1</td>\n",
       "      <td>Otkritie Bank Arena</td>\n",
       "      <td>Mark Geiger</td>\n",
       "    </tr>\n",
       "    <tr>\n",
       "      <th>1</th>\n",
       "      <td>7570</td>\n",
       "      <td>3</td>\n",
       "      <td>43</td>\n",
       "      <td>Group Stage</td>\n",
       "      <td>3</td>\n",
       "      <td>2018-06-28 20:00:00</td>\n",
       "      <td>768</td>\n",
       "      <td>782</td>\n",
       "      <td>0</td>\n",
       "      <td>1</td>\n",
       "      <td>Stadion Kaliningrad</td>\n",
       "      <td>Damir Skomina</td>\n",
       "    </tr>\n",
       "    <tr>\n",
       "      <th>2</th>\n",
       "      <td>7586</td>\n",
       "      <td>3</td>\n",
       "      <td>43</td>\n",
       "      <td>Round of 16</td>\n",
       "      <td>4</td>\n",
       "      <td>2018-07-03 16:00:00</td>\n",
       "      <td>790</td>\n",
       "      <td>773</td>\n",
       "      <td>1</td>\n",
       "      <td>0</td>\n",
       "      <td>Saint-Petersburg Stadium</td>\n",
       "      <td>Damir Skomina</td>\n",
       "    </tr>\n",
       "    <tr>\n",
       "      <th>3</th>\n",
       "      <td>7557</td>\n",
       "      <td>3</td>\n",
       "      <td>43</td>\n",
       "      <td>Group Stage</td>\n",
       "      <td>3</td>\n",
       "      <td>2018-06-25 20:00:00</td>\n",
       "      <td>797</td>\n",
       "      <td>780</td>\n",
       "      <td>1</td>\n",
       "      <td>1</td>\n",
       "      <td>Mordovia Arena</td>\n",
       "      <td>Enrique Cáceres</td>\n",
       "    </tr>\n",
       "    <tr>\n",
       "      <th>4</th>\n",
       "      <td>7542</td>\n",
       "      <td>3</td>\n",
       "      <td>43</td>\n",
       "      <td>Group Stage</td>\n",
       "      <td>2</td>\n",
       "      <td>2018-06-20 14:00:00</td>\n",
       "      <td>780</td>\n",
       "      <td>788</td>\n",
       "      <td>1</td>\n",
       "      <td>0</td>\n",
       "      <td>Stadion Luzhniki</td>\n",
       "      <td>Mark Geiger</td>\n",
       "    </tr>\n",
       "  </tbody>\n",
       "</table>\n",
       "</div>"
      ]
     },
     "execution_count": 7,
     "metadata": {},
     "output_type": "execute_result"
    }
   ],
   "execution_count": 7
  },
  {
   "metadata": {},
   "cell_type": "markdown",
   "source": "## Load and Convert data",
   "id": "972ea09cb42be1cc"
  },
  {
   "metadata": {
    "ExecuteTime": {
     "end_time": "2025-06-25T18:21:50.708116Z",
     "start_time": "2025-06-25T18:21:11.888054Z"
    }
   },
   "cell_type": "code",
   "source": [
    "games_verbose = tqdm.tqdm(list(games.itertuples()), desc=\"Loading game data\")\n",
    "teams, players = [], []\n",
    "actions = {}\n",
    "for game in games_verbose:\n",
    "    # load data\n",
    "    teams.append(SBL.teams(game.game_id))\n",
    "    players.append(SBL.players(game.game_id))\n",
    "    events = SBL.events(game.game_id)\n",
    "    # convert data\n",
    "    actions[game.game_id] = spadl.statsbomb.convert_to_actions(\n",
    "        events, #DataFrame containing StatsBomb events from a single game.\n",
    "        home_team_id=game.home_team_id, #ID of the home team in the corresponding game.\n",
    "        xy_fidelity_version=1,\n",
    "        shot_fidelity_version=1\n",
    "    )\n",
    "\n",
    "teams = pd.concat(teams).drop_duplicates(subset=\"team_id\")\n",
    "players = pd.concat(players)"
   ],
   "id": "3eb0a32e5ef978f0",
   "outputs": [
    {
     "name": "stderr",
     "output_type": "stream",
     "text": [
      "Loading game data: 100%|██████████| 64/64 [00:38<00:00,  1.65it/s]\n"
     ]
    }
   ],
   "execution_count": 8
  },
  {
   "metadata": {
    "ExecuteTime": {
     "end_time": "2025-06-25T18:23:05.109659Z",
     "start_time": "2025-06-25T18:23:05.092265Z"
    }
   },
   "cell_type": "code",
   "source": "teams.head()",
   "id": "7b305810115afa2e",
   "outputs": [
    {
     "data": {
      "text/plain": [
       "   team_id    team_name\n",
       "0      768      England\n",
       "1      769     Colombia\n",
       "0      782      Belgium\n",
       "0      773  Switzerland\n",
       "1      790       Sweden"
      ],
      "text/html": [
       "<div>\n",
       "<style scoped>\n",
       "    .dataframe tbody tr th:only-of-type {\n",
       "        vertical-align: middle;\n",
       "    }\n",
       "\n",
       "    .dataframe tbody tr th {\n",
       "        vertical-align: top;\n",
       "    }\n",
       "\n",
       "    .dataframe thead th {\n",
       "        text-align: right;\n",
       "    }\n",
       "</style>\n",
       "<table border=\"1\" class=\"dataframe\">\n",
       "  <thead>\n",
       "    <tr style=\"text-align: right;\">\n",
       "      <th></th>\n",
       "      <th>team_id</th>\n",
       "      <th>team_name</th>\n",
       "    </tr>\n",
       "  </thead>\n",
       "  <tbody>\n",
       "    <tr>\n",
       "      <th>0</th>\n",
       "      <td>768</td>\n",
       "      <td>England</td>\n",
       "    </tr>\n",
       "    <tr>\n",
       "      <th>1</th>\n",
       "      <td>769</td>\n",
       "      <td>Colombia</td>\n",
       "    </tr>\n",
       "    <tr>\n",
       "      <th>0</th>\n",
       "      <td>782</td>\n",
       "      <td>Belgium</td>\n",
       "    </tr>\n",
       "    <tr>\n",
       "      <th>0</th>\n",
       "      <td>773</td>\n",
       "      <td>Switzerland</td>\n",
       "    </tr>\n",
       "    <tr>\n",
       "      <th>1</th>\n",
       "      <td>790</td>\n",
       "      <td>Sweden</td>\n",
       "    </tr>\n",
       "  </tbody>\n",
       "</table>\n",
       "</div>"
      ]
     },
     "execution_count": 9,
     "metadata": {},
     "output_type": "execute_result"
    }
   ],
   "execution_count": 9
  },
  {
   "metadata": {
    "ExecuteTime": {
     "end_time": "2025-06-25T18:23:23.882750Z",
     "start_time": "2025-06-25T18:23:23.864338Z"
    }
   },
   "cell_type": "code",
   "source": "players.head()",
   "id": "ef22d795746771a2",
   "outputs": [
    {
     "data": {
      "text/plain": [
       "   game_id  team_id  player_id      player_name         nickname  \\\n",
       "0     7585      768       3094    Bamidele Alli        Dele Alli   \n",
       "1     7585      768       3205      Kyle Walker             None   \n",
       "2     7585      768       3233  Raheem Sterling  Raheem Sterling   \n",
       "3     7585      768       3244      John Stones             None   \n",
       "4     7585      768       3293    Jesse Lingard             None   \n",
       "\n",
       "   jersey_number  is_starter  starting_position_id    starting_position_name  \\\n",
       "0             20        True                    20   Left Attacking Midfield   \n",
       "1              2        True                     3         Right Center Back   \n",
       "2             10        True                    22      Right Center Forward   \n",
       "3              5        True                     4               Center Back   \n",
       "4              7        True                    18  Right Attacking Midfield   \n",
       "\n",
       "   minutes_played  \n",
       "0              84  \n",
       "1             123  \n",
       "2              91  \n",
       "3             132  \n",
       "4             132  "
      ],
      "text/html": [
       "<div>\n",
       "<style scoped>\n",
       "    .dataframe tbody tr th:only-of-type {\n",
       "        vertical-align: middle;\n",
       "    }\n",
       "\n",
       "    .dataframe tbody tr th {\n",
       "        vertical-align: top;\n",
       "    }\n",
       "\n",
       "    .dataframe thead th {\n",
       "        text-align: right;\n",
       "    }\n",
       "</style>\n",
       "<table border=\"1\" class=\"dataframe\">\n",
       "  <thead>\n",
       "    <tr style=\"text-align: right;\">\n",
       "      <th></th>\n",
       "      <th>game_id</th>\n",
       "      <th>team_id</th>\n",
       "      <th>player_id</th>\n",
       "      <th>player_name</th>\n",
       "      <th>nickname</th>\n",
       "      <th>jersey_number</th>\n",
       "      <th>is_starter</th>\n",
       "      <th>starting_position_id</th>\n",
       "      <th>starting_position_name</th>\n",
       "      <th>minutes_played</th>\n",
       "    </tr>\n",
       "  </thead>\n",
       "  <tbody>\n",
       "    <tr>\n",
       "      <th>0</th>\n",
       "      <td>7585</td>\n",
       "      <td>768</td>\n",
       "      <td>3094</td>\n",
       "      <td>Bamidele Alli</td>\n",
       "      <td>Dele Alli</td>\n",
       "      <td>20</td>\n",
       "      <td>True</td>\n",
       "      <td>20</td>\n",
       "      <td>Left Attacking Midfield</td>\n",
       "      <td>84</td>\n",
       "    </tr>\n",
       "    <tr>\n",
       "      <th>1</th>\n",
       "      <td>7585</td>\n",
       "      <td>768</td>\n",
       "      <td>3205</td>\n",
       "      <td>Kyle Walker</td>\n",
       "      <td>None</td>\n",
       "      <td>2</td>\n",
       "      <td>True</td>\n",
       "      <td>3</td>\n",
       "      <td>Right Center Back</td>\n",
       "      <td>123</td>\n",
       "    </tr>\n",
       "    <tr>\n",
       "      <th>2</th>\n",
       "      <td>7585</td>\n",
       "      <td>768</td>\n",
       "      <td>3233</td>\n",
       "      <td>Raheem Sterling</td>\n",
       "      <td>Raheem Sterling</td>\n",
       "      <td>10</td>\n",
       "      <td>True</td>\n",
       "      <td>22</td>\n",
       "      <td>Right Center Forward</td>\n",
       "      <td>91</td>\n",
       "    </tr>\n",
       "    <tr>\n",
       "      <th>3</th>\n",
       "      <td>7585</td>\n",
       "      <td>768</td>\n",
       "      <td>3244</td>\n",
       "      <td>John Stones</td>\n",
       "      <td>None</td>\n",
       "      <td>5</td>\n",
       "      <td>True</td>\n",
       "      <td>4</td>\n",
       "      <td>Center Back</td>\n",
       "      <td>132</td>\n",
       "    </tr>\n",
       "    <tr>\n",
       "      <th>4</th>\n",
       "      <td>7585</td>\n",
       "      <td>768</td>\n",
       "      <td>3293</td>\n",
       "      <td>Jesse Lingard</td>\n",
       "      <td>None</td>\n",
       "      <td>7</td>\n",
       "      <td>True</td>\n",
       "      <td>18</td>\n",
       "      <td>Right Attacking Midfield</td>\n",
       "      <td>132</td>\n",
       "    </tr>\n",
       "  </tbody>\n",
       "</table>\n",
       "</div>"
      ]
     },
     "execution_count": 10,
     "metadata": {},
     "output_type": "execute_result"
    }
   ],
   "execution_count": 10
  },
  {
   "metadata": {
    "ExecuteTime": {
     "end_time": "2025-06-25T18:35:10.408225Z",
     "start_time": "2025-06-25T18:35:10.394639Z"
    }
   },
   "cell_type": "code",
   "source": [
    "first_match_actions = next(iter(actions.values())) #DataFrame\n",
    "print( first_match_action )\n"
   ],
   "id": "b2d449e3e710d932",
   "outputs": [
    {
     "name": "stdout",
     "output_type": "stream",
     "text": [
      "<class 'pandas.core.frame.DataFrame'>\n"
     ]
    }
   ],
   "execution_count": 27
  }
 ],
 "metadata": {
  "kernelspec": {
   "display_name": "Python 3",
   "language": "python",
   "name": "python3"
  },
  "language_info": {
   "codemirror_mode": {
    "name": "ipython",
    "version": 2
   },
   "file_extension": ".py",
   "mimetype": "text/x-python",
   "name": "python",
   "nbconvert_exporter": "python",
   "pygments_lexer": "ipython2",
   "version": "2.7.6"
  }
 },
 "nbformat": 4,
 "nbformat_minor": 5
}
